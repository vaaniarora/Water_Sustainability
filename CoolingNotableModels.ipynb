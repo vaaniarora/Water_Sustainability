{
 "cells": [
  {
   "cell_type": "code",
   "execution_count": 88,
   "id": "d246a8fc",
   "metadata": {},
   "outputs": [],
   "source": [
    "import pandas as pd\n",
    "import matplotlib.pyplot as plt\n",
    "import seaborn as sns\n",
    "import numpy as np\n",
    "from scipy import stats\n",
    "import plotly.graph_objects as go\n",
    "import plotly.express as px"
   ]
  },
  {
   "cell_type": "code",
   "execution_count": 89,
   "id": "6e93bde3",
   "metadata": {},
   "outputs": [],
   "source": [
    "notable_models_df = pd.read_csv(\"notable_ai_models.csv\")\n",
    "cooling_df = pd.read_csv(\"cooling_type_data.csv\")\n",
    "carbon_df = pd.read_csv(\"carbon_intensity_electricity.csv\")\n",
    "chip_df = pd.read_csv(\"chip_dataset.csv\")\n",
    "\n",
    "notable_models_df['Publication date'] = pd.to_datetime(notable_models_df['Publication date'], errors='coerce')\n",
    "notable_models_df['Year'] = notable_models_df['Publication date'].dt.year\n",
    "notable_models_df['Training compute (FLOP)'] = pd.to_numeric(notable_models_df['Training compute (FLOP)'], errors='coerce')\n",
    "notable_models_df = notable_models_df.dropna(subset=['Year', 'Training compute (FLOP)'])\n",
    "\n",
    "notable_models_df = notable_models_df[notable_models_df['Year'].between(2015, 2025)]\n",
    "\n",
    "top_notable_models = notable_models_df.sort_values('Training compute (FLOP)', ascending=False).drop_duplicates(subset=['Year'])\n",
    "top_notable_models = top_notable_models[['Model', 'Year', 'Training compute (FLOP)', 'Training hardware']].copy()\n",
    "top_notable_models['Model (Year)'] = top_notable_models['Model'] + \" (\" + top_notable_models['Year'].astype(str) + \")\"\n",
    "top_notable_models['key'] = 1\n",
    "\n",
    "cooling_df = cooling_df.drop_duplicates(subset=['Cooling System']).copy()\n",
    "cooling_df = cooling_df[cooling_df['Size'] == 'Large-scale'].copy()\n",
    "cooling_df['key'] = 1\n",
    "\n",
    "combined_notable = pd.merge(top_notable_models, cooling_df, on='key').drop(columns='key')\n",
    "\n",
    "chip_df['Release Date'] = pd.to_datetime(chip_df['Release Date'], format=\"%m/%d/%y\", errors='coerce')\n",
    "chip_df['Year'] = chip_df['Release Date'].dt.year\n",
    "chip_df['FP32 GFLOPS'] = pd.to_numeric(chip_df['FP32 GFLOPS'], errors='coerce')\n",
    "chip_df['TDP (W)'] = pd.to_numeric(chip_df['TDP (W)'], errors='coerce')\n",
    "\n",
    "unique_models = top_notable_models['Model (Year)'].dropna().unique()\n",
    "palette = sns.color_palette(\"tab10\", n_colors=len(unique_models))\n",
    "model_color_map = dict(zip(unique_models, palette))"
   ]
  },
  {
   "cell_type": "code",
   "execution_count": 90,
   "id": "78f7ce1e",
   "metadata": {},
   "outputs": [],
   "source": [
    "def find_chip_info(hardware: str, year: int, df: pd.DataFrame):\n",
    "    df['Release Date'] = pd.to_datetime(df['Release Date'], errors='coerce')\n",
    "    df['FP32 GFLOPS'] = pd.to_numeric(df['FP32 GFLOPS'], errors='coerce')\n",
    "    df['TDP (W)'] = pd.to_numeric(df['TDP (W)'], errors='coerce')\n",
    "\n",
    "    if isinstance(hardware, str):\n",
    "        matched = df[df['Product'].str.lower() == hardware.lower()]\n",
    "        if not matched.empty and pd.notna(matched.iloc[0]['FP32 GFLOPS']):\n",
    "            return matched.iloc[0]['FP32 GFLOPS'], matched.iloc[0]['TDP (W)']\n",
    "\n",
    "    # Fallback to best chip in year\n",
    "    chips_year = df[df['Release Date'].dt.year == year]\n",
    "    chips_year = chips_year.dropna(subset=['FP32 GFLOPS'])\n",
    "    if not chips_year.empty:\n",
    "        best_chip = chips_year.loc[chips_year['FP32 GFLOPS'].idxmax()]\n",
    "        return best_chip['FP32 GFLOPS'], best_chip['TDP (W)']\n",
    "\n",
    "    return None, None"
   ]
  },
  {
   "cell_type": "code",
   "execution_count": null,
   "id": "105375e0",
   "metadata": {},
   "outputs": [],
   "source": [
    "def create_scatter_plot(data, y_column, y_label, y_units, plot_title):\n",
    "    df = data.copy()\n",
    "    \n",
    "    unique_models = df['Model (Year)'].unique()\n",
    "    unique_cooling = df['Cooling System'].unique()\n",
    "    \n",
    "    model_color_map = {model: f\"hsl({i * 360 / len(unique_models)},70%,50%)\" \n",
    "                      for i, model in enumerate(unique_models)}\n",
    "    \n",
    "    available_symbols = [\n",
    "        'circle', 'x', 'square', 'diamond', 'cross', 'triangle-up', 'star'\n",
    "    ]\n",
    "    cooling_symbol_map = {cooling: available_symbols[i % len(available_symbols)] \n",
    "                         for i, cooling in enumerate(unique_cooling)}\n",
    "    \n",
    "    fig = go.Figure()\n",
    "    \n",
    "    for model in unique_models:\n",
    "        model_data = df[df['Model (Year)'] == model]\n",
    "        \n",
    "        symbols = [cooling_symbol_map.get(cooling, 'circle') for cooling in model_data['Cooling System']]\n",
    "        \n",
    "        hover_text = []\n",
    "        for _, row in model_data.iterrows():\n",
    "            hover_text.append(f'<b>{model}</b><br>' +\n",
    "                             f'Cooling: {row[\"Cooling System\"]}<br>' +\n",
    "                             f'Training Compute: {row[\"Training compute (FLOP)\"]:.2e} FLOP<br>' +\n",
    "                             f'{y_label}: {row[y_column]:.2e} {y_units}')\n",
    "        \n",
    "        fig.add_trace(go.Scatter(\n",
    "            x=model_data['Training compute (FLOP)'],\n",
    "            y=model_data[y_column],\n",
    "            mode='markers',\n",
    "            marker=dict(\n",
    "                color=model_color_map.get(model, '#000000'),\n",
    "                symbol=symbols,\n",
    "                size=8,\n",
    "                line=dict(width=0.5, color='white')\n",
    "            ),\n",
    "            name=model,\n",
    "            hovertemplate='%{hovertext}<extra></extra>',\n",
    "            hovertext=hover_text,\n",
    "            showlegend=True\n",
    "        ))\n",
    "    \n",
    "    for cooling in unique_cooling:\n",
    "        fig.add_trace(go.Scatter(\n",
    "            x=[None],\n",
    "            y=[None],\n",
    "            mode='markers',\n",
    "            marker=dict(\n",
    "                color='rgba(0,0,0,0.7)',\n",
    "                symbol=cooling_symbol_map.get(cooling, 'circle'),\n",
    "                size=8,\n",
    "                line=dict(width=1, color='white')\n",
    "            ),\n",
    "            name=cooling,\n",
    "            legendgroup=f'cooling_{cooling}',\n",
    "            showlegend=True,\n",
    "            hoverinfo='skip'\n",
    "        ))\n",
    "    \n",
    "    fig.update_layout(\n",
    "        title=plot_title,\n",
    "        xaxis=dict(\n",
    "            title='Training Compute (FLOP) [log scale]',\n",
    "            type='log',\n",
    "            showgrid=True,\n",
    "            gridcolor='lightgray',\n",
    "            gridwidth=1\n",
    "        ),\n",
    "        yaxis=dict(\n",
    "            title=f'{y_label} ({y_units}) [log scale]',\n",
    "            type='log',\n",
    "            showgrid=True,\n",
    "            gridcolor='lightgray',\n",
    "            gridwidth=1\n",
    "        ),\n",
    "        width=1000,\n",
    "        height=600,\n",
    "        legend=dict(\n",
    "            orientation='v',\n",
    "            x=1.02,\n",
    "            y=1,\n",
    "            xanchor='left',\n",
    "            yanchor='top',\n",
    "            bgcolor='rgba(255,255,255,0.8)',\n",
    "            itemsizing='constant',\n",
    "            tracegroupgap=0,\n",
    "            bordercolor='black',\n",
    "            borderwidth=1,\n",
    "            font=dict(size=10)\n",
    "        ),\n",
    "        margin=dict(r=300)  # Make room for legend\n",
    "    )\n",
    "    \n",
    "    fig.update_xaxes(showline=True, linewidth=1, linecolor='black', mirror=True)\n",
    "    fig.update_yaxes(showline=True, linewidth=1, linecolor='black', mirror=True)\n",
    "    \n",
    "    return fig"
   ]
  },
  {
   "cell_type": "code",
   "execution_count": null,
   "id": "de4d3bc0",
   "metadata": {},
   "outputs": [],
   "source": [
    "def create_multi_scatter_plot(data, y_column, y_label, y_units, y_title, plot_title):\n",
    "    df = data.copy()\n",
    "    \n",
    "    unique_models = df['Model (Year)'].unique()\n",
    "    unique_cooling = df['Cooling System'].unique()\n",
    "    \n",
    "    model_color_map = {model: f\"hsl({i * 360 / len(unique_models)},70%,50%)\" \n",
    "                      for i, model in enumerate(unique_models)}\n",
    "    \n",
    "    available_symbols = [\n",
    "        'circle', 'x', 'square', 'diamond', 'cross', 'triangle-up', 'star'\n",
    "    ]\n",
    "    cooling_symbol_map = {cooling: available_symbols[i % len(available_symbols)] \n",
    "                         for i, cooling in enumerate(unique_cooling)}\n",
    "    \n",
    "    fig = go.Figure()\n",
    "\n",
    "    energy_colors = {\n",
    "        'Hydropower': 'blue',\n",
    "        'Nuclear': 'red', \n",
    "        'CSP': 'green'\n",
    "    }\n",
    "    \n",
    "    models_in_legend = set()\n",
    "    \n",
    "    for series_idx, (y_col, y_lab) in enumerate(zip(y_column, y_label)):\n",
    "        for model in unique_models:\n",
    "            model_data = df[df['Model (Year)'] == model]\n",
    "            \n",
    "            symbols = [cooling_symbol_map.get(cooling, 'circle') for cooling in model_data['Cooling System']]\n",
    "            \n",
    "            hover_text = []\n",
    "            for _, row in model_data.iterrows():\n",
    "                hover_text.append(f'<b>{model}</b><br>' +\n",
    "                                f'Series: {y_lab}<br>' +\n",
    "                                f'Cooling: {row[\"Cooling System\"]}<br>' +\n",
    "                                f'Training Compute: {row[\"Training compute (FLOP)\"]:.2e} FLOP<br>' +\n",
    "                                f'{y_lab}: {row[y_col]:.2e} {y_units}')\n",
    "                \n",
    "            if model not in models_in_legend:\n",
    "                trace_name = model\n",
    "                show_in_legend = True\n",
    "                models_in_legend.add(model)\n",
    "            else:\n",
    "                trace_name = f\"{model} - {y_lab}\"\n",
    "                show_in_legend = False\n",
    "            \n",
    "            fig.add_trace(go.Scatter(\n",
    "                x=model_data['Training compute (FLOP)'],\n",
    "                y=model_data[y_col],\n",
    "                mode='markers',\n",
    "                marker=dict(\n",
    "                    color=model_color_map.get(model, '#000000'),\n",
    "                    symbol=symbols,\n",
    "                    size=8,\n",
    "                    line=dict(width=0.5, color='white')\n",
    "                ),\n",
    "                name=trace_name,\n",
    "                legendgroup=f'model_{model}',  # Group all traces for this model\n",
    "                hovertemplate='%{hovertext}<extra></extra>',\n",
    "                hovertext=hover_text,\n",
    "                showlegend=show_in_legend\n",
    "            ))\n",
    "\n",
    "\n",
    "    for series_idx, (y_col, y_lab) in enumerate(zip(y_column, y_label)):\n",
    "        valid_data = df.dropna(subset=[y_col, 'Training compute (FLOP)'])\n",
    "        \n",
    "        if len(valid_data) > 1:  # Need at least 2 points for regression\n",
    "            # Convert to log space for linear regression\n",
    "            log_x = np.log10(valid_data['Training compute (FLOP)'])\n",
    "            log_y = np.log10(valid_data[y_col])\n",
    "            \n",
    "            # Perform linear regression in log space\n",
    "            slope, intercept, r_value, p_value, std_err = stats.linregress(log_x, log_y)\n",
    "            \n",
    "            # Create regression line points\n",
    "            x_range = np.logspace(np.log10(valid_data['Training compute (FLOP)'].min()), \n",
    "                                 np.log10(valid_data['Training compute (FLOP)'].max()), 100)\n",
    "            y_regression = 10**(slope * np.log10(x_range) + intercept)\n",
    "            \n",
    "            # Add regression line\n",
    "            fig.add_trace(go.Scatter(\n",
    "                x=x_range,\n",
    "                y=y_regression,\n",
    "                mode='lines',\n",
    "                line=dict(\n",
    "                    color=energy_colors.get(y_lab, 'black'),\n",
    "                    width=2,\n",
    "                    dash='dash'\n",
    "                ),\n",
    "                name=f'{y_lab} Regression (R²={r_value**2:.3f})',\n",
    "                hovertemplate=f'<b>{y_lab} Regression</b><br>' +\n",
    "                             f'R² = {r_value**2:.3f}<br>' +\n",
    "                             f'Slope = {slope:.3f}<br>' +\n",
    "                             '<extra></extra>',\n",
    "                showlegend=True\n",
    "            ))\n",
    "\n",
    "    \n",
    "    for cooling in unique_cooling:\n",
    "        fig.add_trace(go.Scatter(\n",
    "            x=[None],\n",
    "            y=[None],\n",
    "            mode='markers',\n",
    "            marker=dict(\n",
    "                color='rgba(0,0,0,0.7)',\n",
    "                symbol=cooling_symbol_map.get(cooling, 'circle'),\n",
    "                size=8,\n",
    "                line=dict(width=1, color='white')\n",
    "            ),\n",
    "            name=cooling,\n",
    "            legendgroup=f'cooling_{cooling}',\n",
    "            showlegend=True,\n",
    "            hoverinfo='skip'\n",
    "        ))\n",
    "    \n",
    "    fig.update_layout(\n",
    "        title=plot_title,\n",
    "        xaxis=dict(\n",
    "            title='Training Compute (FLOP) [log scale]',\n",
    "            type='log',\n",
    "            showgrid=True,\n",
    "            gridcolor='lightgray',\n",
    "            gridwidth=1\n",
    "        ),\n",
    "        yaxis=dict(\n",
    "            title=f'{y_title} ({y_units}) [log scale]',\n",
    "            type='log',\n",
    "            showgrid=True,\n",
    "            gridcolor='lightgray',\n",
    "            gridwidth=1\n",
    "        ),\n",
    "        width=1000,\n",
    "        height=600,\n",
    "        legend=dict(\n",
    "            orientation='v',\n",
    "            x=1.02,\n",
    "            y=1,\n",
    "            xanchor='left',\n",
    "            yanchor='top',\n",
    "            bgcolor='rgba(255,255,255,0.8)',\n",
    "            itemsizing='constant',\n",
    "            tracegroupgap=0,\n",
    "            bordercolor='black',\n",
    "            borderwidth=1,\n",
    "            font=dict(size=10)\n",
    "        ),\n",
    "        margin=dict(r=300)  # Make room for legend\n",
    "    )\n",
    "    \n",
    "    # Update axes to match matplotlib style\n",
    "    fig.update_xaxes(showline=True, linewidth=1, linecolor='black', mirror=True)\n",
    "    fig.update_yaxes(showline=True, linewidth=1, linecolor='black', mirror=True)\n",
    "    \n",
    "    return fig"
   ]
  },
  {
   "cell_type": "code",
   "execution_count": 93,
   "id": "0f58a7ee",
   "metadata": {},
   "outputs": [],
   "source": [
    "results = []\n",
    "for _, row in top_notable_models.iterrows():\n",
    "    model = row['Model']\n",
    "    year = row['Year']\n",
    "    hardware = row['Training hardware']\n",
    "    flop = row['Training compute (FLOP)']\n",
    "    fp32_flops, tdp = find_chip_info(hardware, year - 1, chip_df)\n",
    "\n",
    "    results.append({\n",
    "        'Model': model,\n",
    "        'Year': year,\n",
    "        'Training hardware': hardware,\n",
    "        'Training compute (FLOP)' : flop,\n",
    "        'FP32 GFLOPS': fp32_flops,\n",
    "        'TDP (W)': tdp\n",
    "    })\n",
    "\n",
    "final_notable_models = pd.DataFrame(results)\n",
    "final_notable_models.loc[0, ['FP32 GFLOPS', 'TDP (W)']] = [66910, 700]\n",
    "\n",
    "final_notable_models['Energy (J)'] = (final_notable_models['TDP (W)'] / (final_notable_models['FP32 GFLOPS'] * 10**9)) * final_notable_models['Training compute (FLOP)']\n",
    "final_notable_models['Energy (kWh)'] = final_notable_models['Energy (J)'] / (3.6e6)  # Convert Joules to kWh\n",
    "\n",
    "combined_notable = combined_notable.merge(\n",
    "    final_notable_models[['Model', 'Energy (kWh)']],\n",
    "    on='Model',\n",
    "    how='left'\n",
    ")"
   ]
  },
  {
   "cell_type": "code",
   "execution_count": 94,
   "id": "fdeb9da9",
   "metadata": {},
   "outputs": [],
   "source": [
    "combined_notable['Energy Per FLOP'] = combined_notable['Energy (kWh)'] / combined_notable['Training compute (FLOP)']\n",
    "\n",
    "combined_notable['Cooling System Energy (kWh)'] = combined_notable['Energy (kWh)'] * (combined_notable['AvgPUE'] - 1)\n",
    "combined_notable['Total Energy (kWh)'] = combined_notable['Energy (kWh)'] + combined_notable['Cooling System Energy (kWh)']\n",
    "combined_notable['Total Energy Per FLOP'] = combined_notable['Total Energy (kWh)'] / combined_notable['Training compute (FLOP)']\n",
    "\n",
    "combined_notable['Water Usage'] = combined_notable['AvgWUE'] * combined_notable['Energy (kWh)']\n",
    "combined_notable['Water Usage Per FLOP'] = combined_notable['Water Usage'] / combined_notable['Training compute (FLOP)']"
   ]
  },
  {
   "cell_type": "code",
   "execution_count": 118,
   "id": "59519df0",
   "metadata": {},
   "outputs": [
    {
     "data": {
      "application/vnd.plotly.v1+json": {
       "config": {
        "plotlyServerURL": "https://plot.ly"
       },
       "data": [
        {
         "hovertemplate": "%{hovertext}<extra></extra>",
         "hovertext": [
          "<b>Grok-3 (2025)</b><br>Cooling: Dry Cooler with Adiabatic Assist (Air-Cooled Chiller)<br>Training Compute: 4.64e+26 FLOP<br>Energy Usage Per FLOP: 2.91e-18 kWh",
          "<b>Grok-3 (2025)</b><br>Cooling: Airside Economizer & Adiabatic Cooling (Air-Cooled Chiller)<br>Training Compute: 4.64e+26 FLOP<br>Energy Usage Per FLOP: 2.91e-18 kWh",
          "<b>Grok-3 (2025)</b><br>Cooling: Airside Economizer & Adiabatic Cooling (Water-Cooled Chiller)<br>Training Compute: 4.64e+26 FLOP<br>Energy Usage Per FLOP: 2.91e-18 kWh",
          "<b>Grok-3 (2025)</b><br>Cooling: Waterside Economizer & Adiabatic Cooling (Water-Cooled Chiller)<br>Training Compute: 4.64e+26 FLOP<br>Energy Usage Per FLOP: 2.91e-18 kWh",
          "<b>Grok-3 (2025)</b><br>Cooling: IT Liquid Cooling: Waterside Economizer (Water-Cooled Chiller)<br>Training Compute: 4.64e+26 FLOP<br>Energy Usage Per FLOP: 2.91e-18 kWh",
          "<b>Grok-3 (2025)</b><br>Cooling: IT Liquid Cooling: Dry Cooler & Adiabitic Assist (Air-Cooled Chiller)<br>Training Compute: 4.64e+26 FLOP<br>Energy Usage Per FLOP: 2.91e-18 kWh",
          "<b>Grok-3 (2025)</b><br>Cooling: IT Liquid Cooling: Dry Cooler (Air-Cooled Chiller)<br>Training Compute: 4.64e+26 FLOP<br>Energy Usage Per FLOP: 2.91e-18 kWh"
         ],
         "marker": {
          "color": "hsl(0.0,70%,50%)",
          "line": {
           "color": "white",
           "width": 0.5
          },
          "size": 8,
          "symbol": [
           "circle",
           "x",
           "square",
           "diamond",
           "cross",
           "triangle-up",
           "star"
          ]
         },
         "mode": "markers",
         "name": "Grok-3 (2025)",
         "showlegend": true,
         "type": "scatter",
         "x": {
          "bdata": "6zZtJv38d0XrNm0m/fx3Res2bSb9/HdF6zZtJv38d0XrNm0m/fx3Res2bSb9/HdF6zZtJv38d0U=",
          "dtype": "f8"
         },
         "y": {
          "bdata": "a38UNr3NSjxrfxQ2vc1KPGt/FDa9zUo8a38UNr3NSjxrfxQ2vc1KPGt/FDa9zUo8a38UNr3NSjw=",
          "dtype": "f8"
         }
        },
        {
         "hovertemplate": "%{hovertext}<extra></extra>",
         "hovertext": [
          "<b>Gemini 1.0 Ultra (2023)</b><br>Cooling: Dry Cooler with Adiabatic Assist (Air-Cooled Chiller)<br>Training Compute: 5.00e+25 FLOP<br>Energy Usage Per FLOP: 9.10e-19 kWh",
          "<b>Gemini 1.0 Ultra (2023)</b><br>Cooling: Airside Economizer & Adiabatic Cooling (Air-Cooled Chiller)<br>Training Compute: 5.00e+25 FLOP<br>Energy Usage Per FLOP: 9.10e-19 kWh",
          "<b>Gemini 1.0 Ultra (2023)</b><br>Cooling: Airside Economizer & Adiabatic Cooling (Water-Cooled Chiller)<br>Training Compute: 5.00e+25 FLOP<br>Energy Usage Per FLOP: 9.10e-19 kWh",
          "<b>Gemini 1.0 Ultra (2023)</b><br>Cooling: Waterside Economizer & Adiabatic Cooling (Water-Cooled Chiller)<br>Training Compute: 5.00e+25 FLOP<br>Energy Usage Per FLOP: 9.10e-19 kWh",
          "<b>Gemini 1.0 Ultra (2023)</b><br>Cooling: IT Liquid Cooling: Waterside Economizer (Water-Cooled Chiller)<br>Training Compute: 5.00e+25 FLOP<br>Energy Usage Per FLOP: 9.10e-19 kWh",
          "<b>Gemini 1.0 Ultra (2023)</b><br>Cooling: IT Liquid Cooling: Dry Cooler & Adiabitic Assist (Air-Cooled Chiller)<br>Training Compute: 5.00e+25 FLOP<br>Energy Usage Per FLOP: 9.10e-19 kWh",
          "<b>Gemini 1.0 Ultra (2023)</b><br>Cooling: IT Liquid Cooling: Dry Cooler (Air-Cooled Chiller)<br>Training Compute: 5.00e+25 FLOP<br>Energy Usage Per FLOP: 9.10e-19 kWh"
         ],
         "marker": {
          "color": "hsl(32.72727272727273,70%,50%)",
          "line": {
           "color": "white",
           "width": 0.5
          },
          "size": 8,
          "symbol": [
           "circle",
           "x",
           "square",
           "diamond",
           "cross",
           "triangle-up",
           "star"
          ]
         },
         "mode": "markers",
         "name": "Gemini 1.0 Ultra (2023)",
         "showlegend": true,
         "type": "scatter",
         "x": {
          "bdata": "9Mkzt/StREX0yTO39K1ERfTJM7f0rURF9Mkzt/StREX0yTO39K1ERfTJM7f0rURF9Mkzt/StREU=",
          "dtype": "f8"
         },
         "y": {
          "bdata": "5P34SbfHMDzk/fhJt8cwPOT9+Em3xzA85P34SbfHMDzk/fhJt8cwPOT9+Em3xzA85P34SbfHMDw=",
          "dtype": "f8"
         }
        },
        {
         "hovertemplate": "%{hovertext}<extra></extra>",
         "hovertext": [
          "<b>GPT-4o (2024)</b><br>Cooling: Dry Cooler with Adiabatic Assist (Air-Cooled Chiller)<br>Training Compute: 3.81e+25 FLOP<br>Energy Usage Per FLOP: 2.55e-18 kWh",
          "<b>GPT-4o (2024)</b><br>Cooling: Airside Economizer & Adiabatic Cooling (Air-Cooled Chiller)<br>Training Compute: 3.81e+25 FLOP<br>Energy Usage Per FLOP: 2.55e-18 kWh",
          "<b>GPT-4o (2024)</b><br>Cooling: Airside Economizer & Adiabatic Cooling (Water-Cooled Chiller)<br>Training Compute: 3.81e+25 FLOP<br>Energy Usage Per FLOP: 2.55e-18 kWh",
          "<b>GPT-4o (2024)</b><br>Cooling: Waterside Economizer & Adiabatic Cooling (Water-Cooled Chiller)<br>Training Compute: 3.81e+25 FLOP<br>Energy Usage Per FLOP: 2.55e-18 kWh",
          "<b>GPT-4o (2024)</b><br>Cooling: IT Liquid Cooling: Waterside Economizer (Water-Cooled Chiller)<br>Training Compute: 3.81e+25 FLOP<br>Energy Usage Per FLOP: 2.55e-18 kWh",
          "<b>GPT-4o (2024)</b><br>Cooling: IT Liquid Cooling: Dry Cooler & Adiabitic Assist (Air-Cooled Chiller)<br>Training Compute: 3.81e+25 FLOP<br>Energy Usage Per FLOP: 2.55e-18 kWh",
          "<b>GPT-4o (2024)</b><br>Cooling: IT Liquid Cooling: Dry Cooler (Air-Cooled Chiller)<br>Training Compute: 3.81e+25 FLOP<br>Energy Usage Per FLOP: 2.55e-18 kWh"
         ],
         "marker": {
          "color": "hsl(65.45454545454545,70%,50%)",
          "line": {
           "color": "white",
           "width": 0.5
          },
          "size": 8,
          "symbol": [
           "circle",
           "x",
           "square",
           "diamond",
           "cross",
           "triangle-up",
           "star"
          ]
         },
         "mode": "markers",
         "name": "GPT-4o (2024)",
         "showlegend": true,
         "type": "scatter",
         "x": {
          "bdata": "lW9Brv2DP0WVb0Gu/YM/RZVvQa79gz9FlW9Brv2DP0WVb0Gu/YM/RZVvQa79gz9FlW9Brv2DP0U=",
          "dtype": "f8"
         },
         "y": {
          "bdata": "G2yG236DRzwbbIbbfoNHPBtshtt+g0c8G2yG236DRzwbbIbbfoNHPBtshtt+g0c8G2yG236DRzw=",
          "dtype": "f8"
         }
        },
        {
         "hovertemplate": "%{hovertext}<extra></extra>",
         "hovertext": [
          "<b>Minerva (540B) (2022)</b><br>Cooling: Dry Cooler with Adiabatic Assist (Air-Cooled Chiller)<br>Training Compute: 2.74e+24 FLOP<br>Energy Usage Per FLOP: 2.90e-18 kWh",
          "<b>Minerva (540B) (2022)</b><br>Cooling: Airside Economizer & Adiabatic Cooling (Air-Cooled Chiller)<br>Training Compute: 2.74e+24 FLOP<br>Energy Usage Per FLOP: 2.90e-18 kWh",
          "<b>Minerva (540B) (2022)</b><br>Cooling: Airside Economizer & Adiabatic Cooling (Water-Cooled Chiller)<br>Training Compute: 2.74e+24 FLOP<br>Energy Usage Per FLOP: 2.90e-18 kWh",
          "<b>Minerva (540B) (2022)</b><br>Cooling: Waterside Economizer & Adiabatic Cooling (Water-Cooled Chiller)<br>Training Compute: 2.74e+24 FLOP<br>Energy Usage Per FLOP: 2.90e-18 kWh",
          "<b>Minerva (540B) (2022)</b><br>Cooling: IT Liquid Cooling: Waterside Economizer (Water-Cooled Chiller)<br>Training Compute: 2.74e+24 FLOP<br>Energy Usage Per FLOP: 2.90e-18 kWh",
          "<b>Minerva (540B) (2022)</b><br>Cooling: IT Liquid Cooling: Dry Cooler & Adiabitic Assist (Air-Cooled Chiller)<br>Training Compute: 2.74e+24 FLOP<br>Energy Usage Per FLOP: 2.90e-18 kWh",
          "<b>Minerva (540B) (2022)</b><br>Cooling: IT Liquid Cooling: Dry Cooler (Air-Cooled Chiller)<br>Training Compute: 2.74e+24 FLOP<br>Energy Usage Per FLOP: 2.90e-18 kWh"
         ],
         "marker": {
          "color": "hsl(98.18181818181819,70%,50%)",
          "line": {
           "color": "white",
           "width": 0.5
          },
          "size": 8,
          "symbol": [
           "circle",
           "x",
           "square",
           "diamond",
           "cross",
           "triangle-up",
           "star"
          ]
         },
         "mode": "markers",
         "name": "Minerva (540B) (2022)",
         "showlegend": true,
         "type": "scatter",
         "x": {
          "bdata": "3XMzGkgkAkXdczMaSCQCRd1zMxpIJAJF3XMzGkgkAkXdczMaSCQCRd1zMxpIJAJF3XMzGkgkAkU=",
          "dtype": "f8"
         },
         "y": {
          "bdata": "we7Uba7CSjzB7tRtrsJKPMHu1G2uwko8we7Uba7CSjzB7tRtrsJKPMHu1G2uwko8we7Uba7CSjw=",
          "dtype": "f8"
         }
        },
        {
         "hovertemplate": "%{hovertext}<extra></extra>",
         "hovertext": [
          "<b>FLAN 137B (2021)</b><br>Cooling: Dry Cooler with Adiabatic Assist (Air-Cooled Chiller)<br>Training Compute: 2.05e+24 FLOP<br>Energy Usage Per FLOP: 2.15e-18 kWh",
          "<b>FLAN 137B (2021)</b><br>Cooling: Airside Economizer & Adiabatic Cooling (Air-Cooled Chiller)<br>Training Compute: 2.05e+24 FLOP<br>Energy Usage Per FLOP: 2.15e-18 kWh",
          "<b>FLAN 137B (2021)</b><br>Cooling: Airside Economizer & Adiabatic Cooling (Water-Cooled Chiller)<br>Training Compute: 2.05e+24 FLOP<br>Energy Usage Per FLOP: 2.15e-18 kWh",
          "<b>FLAN 137B (2021)</b><br>Cooling: Waterside Economizer & Adiabatic Cooling (Water-Cooled Chiller)<br>Training Compute: 2.05e+24 FLOP<br>Energy Usage Per FLOP: 2.15e-18 kWh",
          "<b>FLAN 137B (2021)</b><br>Cooling: IT Liquid Cooling: Waterside Economizer (Water-Cooled Chiller)<br>Training Compute: 2.05e+24 FLOP<br>Energy Usage Per FLOP: 2.15e-18 kWh",
          "<b>FLAN 137B (2021)</b><br>Cooling: IT Liquid Cooling: Dry Cooler & Adiabitic Assist (Air-Cooled Chiller)<br>Training Compute: 2.05e+24 FLOP<br>Energy Usage Per FLOP: 2.15e-18 kWh",
          "<b>FLAN 137B (2021)</b><br>Cooling: IT Liquid Cooling: Dry Cooler (Air-Cooled Chiller)<br>Training Compute: 2.05e+24 FLOP<br>Energy Usage Per FLOP: 2.15e-18 kWh"
         ],
         "marker": {
          "color": "hsl(130.9090909090909,70%,50%)",
          "line": {
           "color": "white",
           "width": 0.5
          },
          "size": 8,
          "symbol": [
           "circle",
           "x",
           "square",
           "diamond",
           "cross",
           "triangle-up",
           "star"
          ]
         },
         "mode": "markers",
         "name": "FLAN 137B (2021)",
         "showlegend": true,
         "type": "scatter",
         "x": {
          "bdata": "8hJIeoEX+0TyEkh6gRf7RPISSHqBF/tE8hJIeoEX+0TyEkh6gRf7RPISSHqBF/tE8hJIeoEX+0Q=",
          "dtype": "f8"
         },
         "y": {
          "bdata": "5BPSeQ/bQzzkE9J5D9tDPOQT0nkP20M85BPSeQ/bQzzkE9J5D9tDPOQT0nkP20M85BPSeQ/bQzw=",
          "dtype": "f8"
         }
        },
        {
         "hovertemplate": "%{hovertext}<extra></extra>",
         "hovertext": [
          "<b>AlphaGo Zero (2017)</b><br>Cooling: Dry Cooler with Adiabatic Assist (Air-Cooled Chiller)<br>Training Compute: 3.41e+23 FLOP<br>Energy Usage Per FLOP: 5.50e-18 kWh",
          "<b>AlphaGo Zero (2017)</b><br>Cooling: Airside Economizer & Adiabatic Cooling (Air-Cooled Chiller)<br>Training Compute: 3.41e+23 FLOP<br>Energy Usage Per FLOP: 5.50e-18 kWh",
          "<b>AlphaGo Zero (2017)</b><br>Cooling: Airside Economizer & Adiabatic Cooling (Water-Cooled Chiller)<br>Training Compute: 3.41e+23 FLOP<br>Energy Usage Per FLOP: 5.50e-18 kWh",
          "<b>AlphaGo Zero (2017)</b><br>Cooling: Waterside Economizer & Adiabatic Cooling (Water-Cooled Chiller)<br>Training Compute: 3.41e+23 FLOP<br>Energy Usage Per FLOP: 5.50e-18 kWh",
          "<b>AlphaGo Zero (2017)</b><br>Cooling: IT Liquid Cooling: Waterside Economizer (Water-Cooled Chiller)<br>Training Compute: 3.41e+23 FLOP<br>Energy Usage Per FLOP: 5.50e-18 kWh",
          "<b>AlphaGo Zero (2017)</b><br>Cooling: IT Liquid Cooling: Dry Cooler & Adiabitic Assist (Air-Cooled Chiller)<br>Training Compute: 3.41e+23 FLOP<br>Energy Usage Per FLOP: 5.50e-18 kWh",
          "<b>AlphaGo Zero (2017)</b><br>Cooling: IT Liquid Cooling: Dry Cooler (Air-Cooled Chiller)<br>Training Compute: 3.41e+23 FLOP<br>Energy Usage Per FLOP: 5.50e-18 kWh"
         ],
         "marker": {
          "color": "hsl(163.63636363636363,70%,50%)",
          "line": {
           "color": "white",
           "width": 0.5
          },
          "size": 8,
          "symbol": [
           "circle",
           "x",
           "square",
           "diamond",
           "cross",
           "triangle-up",
           "star"
          ]
         },
         "mode": "markers",
         "name": "AlphaGo Zero (2017)",
         "showlegend": true,
         "type": "scatter",
         "x": {
          "bdata": "YyQeaWkN0kRjJB5paQ3SRGMkHmlpDdJEYyQeaWkN0kRjJB5paQ3SRGMkHmlpDdJEYyQeaWkN0kQ=",
          "dtype": "f8"
         },
         "y": {
          "bdata": "w+tgHVVbWTzD62AdVVtZPMPrYB1VW1k8w+tgHVVbWTzD62AdVVtZPMPrYB1VW1k8w+tgHVVbWTw=",
          "dtype": "f8"
         }
        },
        {
         "hovertemplate": "%{hovertext}<extra></extra>",
         "hovertext": [
          "<b>GPT-3 175B (davinci) (2020)</b><br>Cooling: Dry Cooler with Adiabatic Assist (Air-Cooled Chiller)<br>Training Compute: 3.14e+23 FLOP<br>Energy Usage Per FLOP: 4.43e-18 kWh",
          "<b>GPT-3 175B (davinci) (2020)</b><br>Cooling: Airside Economizer & Adiabatic Cooling (Air-Cooled Chiller)<br>Training Compute: 3.14e+23 FLOP<br>Energy Usage Per FLOP: 4.43e-18 kWh",
          "<b>GPT-3 175B (davinci) (2020)</b><br>Cooling: Airside Economizer & Adiabatic Cooling (Water-Cooled Chiller)<br>Training Compute: 3.14e+23 FLOP<br>Energy Usage Per FLOP: 4.43e-18 kWh",
          "<b>GPT-3 175B (davinci) (2020)</b><br>Cooling: Waterside Economizer & Adiabatic Cooling (Water-Cooled Chiller)<br>Training Compute: 3.14e+23 FLOP<br>Energy Usage Per FLOP: 4.43e-18 kWh",
          "<b>GPT-3 175B (davinci) (2020)</b><br>Cooling: IT Liquid Cooling: Waterside Economizer (Water-Cooled Chiller)<br>Training Compute: 3.14e+23 FLOP<br>Energy Usage Per FLOP: 4.43e-18 kWh",
          "<b>GPT-3 175B (davinci) (2020)</b><br>Cooling: IT Liquid Cooling: Dry Cooler & Adiabitic Assist (Air-Cooled Chiller)<br>Training Compute: 3.14e+23 FLOP<br>Energy Usage Per FLOP: 4.43e-18 kWh",
          "<b>GPT-3 175B (davinci) (2020)</b><br>Cooling: IT Liquid Cooling: Dry Cooler (Air-Cooled Chiller)<br>Training Compute: 3.14e+23 FLOP<br>Energy Usage Per FLOP: 4.43e-18 kWh"
         ],
         "marker": {
          "color": "hsl(196.36363636363637,70%,50%)",
          "line": {
           "color": "white",
           "width": 0.5
          },
          "size": 8,
          "symbol": [
           "circle",
           "x",
           "square",
           "diamond",
           "cross",
           "triangle-up",
           "star"
          ]
         },
         "mode": "markers",
         "name": "GPT-3 175B (davinci) (2020)",
         "showlegend": true,
         "type": "scatter",
         "x": {
          "bdata": "xCzJV36f0ETELMlXfp/QRMQsyVd+n9BExCzJV36f0ETELMlXfp/QRMQsyVd+n9BExCzJV36f0EQ=",
          "dtype": "f8"
         },
         "y": {
          "bdata": "618gdQFwVDzrXyB1AXBUPOtfIHUBcFQ8618gdQFwVDzrXyB1AXBUPOtfIHUBcFQ8618gdQFwVDw=",
          "dtype": "f8"
         }
        },
        {
         "hovertemplate": "%{hovertext}<extra></extra>",
         "hovertext": [
          "<b>OpenAI Five (2019)</b><br>Cooling: Dry Cooler with Adiabatic Assist (Air-Cooled Chiller)<br>Training Compute: 6.70e+22 FLOP<br>Energy Usage Per FLOP: 4.17e-18 kWh",
          "<b>OpenAI Five (2019)</b><br>Cooling: Airside Economizer & Adiabatic Cooling (Air-Cooled Chiller)<br>Training Compute: 6.70e+22 FLOP<br>Energy Usage Per FLOP: 4.17e-18 kWh",
          "<b>OpenAI Five (2019)</b><br>Cooling: Airside Economizer & Adiabatic Cooling (Water-Cooled Chiller)<br>Training Compute: 6.70e+22 FLOP<br>Energy Usage Per FLOP: 4.17e-18 kWh",
          "<b>OpenAI Five (2019)</b><br>Cooling: Waterside Economizer & Adiabatic Cooling (Water-Cooled Chiller)<br>Training Compute: 6.70e+22 FLOP<br>Energy Usage Per FLOP: 4.17e-18 kWh",
          "<b>OpenAI Five (2019)</b><br>Cooling: IT Liquid Cooling: Waterside Economizer (Water-Cooled Chiller)<br>Training Compute: 6.70e+22 FLOP<br>Energy Usage Per FLOP: 4.17e-18 kWh",
          "<b>OpenAI Five (2019)</b><br>Cooling: IT Liquid Cooling: Dry Cooler & Adiabitic Assist (Air-Cooled Chiller)<br>Training Compute: 6.70e+22 FLOP<br>Energy Usage Per FLOP: 4.17e-18 kWh",
          "<b>OpenAI Five (2019)</b><br>Cooling: IT Liquid Cooling: Dry Cooler (Air-Cooled Chiller)<br>Training Compute: 6.70e+22 FLOP<br>Energy Usage Per FLOP: 4.17e-18 kWh"
         ],
         "marker": {
          "color": "hsl(229.0909090909091,70%,50%)",
          "line": {
           "color": "white",
           "width": 0.5
          },
          "size": 8,
          "symbol": [
           "circle",
           "x",
           "square",
           "diamond",
           "cross",
           "triangle-up",
           "star"
          ]
         },
         "mode": "markers",
         "name": "OpenAI Five (2019)",
         "showlegend": true,
         "type": "scatter",
         "x": {
          "bdata": "iJL1kCdgrESIkvWQJ2CsRIiS9ZAnYKxEiJL1kCdgrESIkvWQJ2CsRIiS9ZAnYKxEiJL1kCdgrEQ=",
          "dtype": "f8"
         },
         "y": {
          "bdata": "pbdAphk5Uzylt0CmGTlTPKW3QKYZOVM8pbdAphk5Uzylt0CmGTlTPKW3QKYZOVM8pbdAphk5Uzw=",
          "dtype": "f8"
         }
        },
        {
         "hovertemplate": "%{hovertext}<extra></extra>",
         "hovertext": [
          "<b>ResNeXt-101 32x48d (2018)</b><br>Cooling: Dry Cooler with Adiabatic Assist (Air-Cooled Chiller)<br>Training Compute: 8.74e+21 FLOP<br>Energy Usage Per FLOP: 4.43e-18 kWh",
          "<b>ResNeXt-101 32x48d (2018)</b><br>Cooling: Airside Economizer & Adiabatic Cooling (Air-Cooled Chiller)<br>Training Compute: 8.74e+21 FLOP<br>Energy Usage Per FLOP: 4.43e-18 kWh",
          "<b>ResNeXt-101 32x48d (2018)</b><br>Cooling: Airside Economizer & Adiabatic Cooling (Water-Cooled Chiller)<br>Training Compute: 8.74e+21 FLOP<br>Energy Usage Per FLOP: 4.43e-18 kWh",
          "<b>ResNeXt-101 32x48d (2018)</b><br>Cooling: Waterside Economizer & Adiabatic Cooling (Water-Cooled Chiller)<br>Training Compute: 8.74e+21 FLOP<br>Energy Usage Per FLOP: 4.43e-18 kWh",
          "<b>ResNeXt-101 32x48d (2018)</b><br>Cooling: IT Liquid Cooling: Waterside Economizer (Water-Cooled Chiller)<br>Training Compute: 8.74e+21 FLOP<br>Energy Usage Per FLOP: 4.43e-18 kWh",
          "<b>ResNeXt-101 32x48d (2018)</b><br>Cooling: IT Liquid Cooling: Dry Cooler & Adiabitic Assist (Air-Cooled Chiller)<br>Training Compute: 8.74e+21 FLOP<br>Energy Usage Per FLOP: 4.43e-18 kWh",
          "<b>ResNeXt-101 32x48d (2018)</b><br>Cooling: IT Liquid Cooling: Dry Cooler (Air-Cooled Chiller)<br>Training Compute: 8.74e+21 FLOP<br>Energy Usage Per FLOP: 4.43e-18 kWh"
         ],
         "marker": {
          "color": "hsl(261.8181818181818,70%,50%)",
          "line": {
           "color": "white",
           "width": 0.5
          },
          "size": 8,
          "symbol": [
           "circle",
           "x",
           "square",
           "diamond",
           "cross",
           "triangle-up",
           "star"
          ]
         },
         "mode": "markers",
         "name": "ResNeXt-101 32x48d (2018)",
         "showlegend": true,
         "type": "scatter",
         "x": {
          "bdata": "DhRZ7CqgfUQOFFnsKqB9RA4UWewqoH1EDhRZ7CqgfUQOFFnsKqB9RA4UWewqoH1EDhRZ7CqgfUQ=",
          "dtype": "f8"
         },
         "y": {
          "bdata": "618gdQFwVDzrXyB1AXBUPOtfIHUBcFQ8618gdQFwVDzrXyB1AXBUPOtfIHUBcFQ8618gdQFwVDw=",
          "dtype": "f8"
         }
        },
        {
         "hovertemplate": "%{hovertext}<extra></extra>",
         "hovertext": [
          "<b>GNMT (2016)</b><br>Cooling: Dry Cooler with Adiabatic Assist (Air-Cooled Chiller)<br>Training Compute: 6.62e+21 FLOP<br>Energy Usage Per FLOP: 2.03e-17 kWh",
          "<b>GNMT (2016)</b><br>Cooling: Airside Economizer & Adiabatic Cooling (Air-Cooled Chiller)<br>Training Compute: 6.62e+21 FLOP<br>Energy Usage Per FLOP: 2.03e-17 kWh",
          "<b>GNMT (2016)</b><br>Cooling: Airside Economizer & Adiabatic Cooling (Water-Cooled Chiller)<br>Training Compute: 6.62e+21 FLOP<br>Energy Usage Per FLOP: 2.03e-17 kWh",
          "<b>GNMT (2016)</b><br>Cooling: Waterside Economizer & Adiabatic Cooling (Water-Cooled Chiller)<br>Training Compute: 6.62e+21 FLOP<br>Energy Usage Per FLOP: 2.03e-17 kWh",
          "<b>GNMT (2016)</b><br>Cooling: IT Liquid Cooling: Waterside Economizer (Water-Cooled Chiller)<br>Training Compute: 6.62e+21 FLOP<br>Energy Usage Per FLOP: 2.03e-17 kWh",
          "<b>GNMT (2016)</b><br>Cooling: IT Liquid Cooling: Dry Cooler & Adiabitic Assist (Air-Cooled Chiller)<br>Training Compute: 6.62e+21 FLOP<br>Energy Usage Per FLOP: 2.03e-17 kWh",
          "<b>GNMT (2016)</b><br>Cooling: IT Liquid Cooling: Dry Cooler (Air-Cooled Chiller)<br>Training Compute: 6.62e+21 FLOP<br>Energy Usage Per FLOP: 2.03e-17 kWh"
         ],
         "marker": {
          "color": "hsl(294.54545454545456,70%,50%)",
          "line": {
           "color": "white",
           "width": 0.5
          },
          "size": 8,
          "symbol": [
           "circle",
           "x",
           "square",
           "diamond",
           "cross",
           "triangle-up",
           "star"
          ]
         },
         "mode": "markers",
         "name": "GNMT (2016)",
         "showlegend": true,
         "type": "scatter",
         "x": {
          "bdata": "mc3bSO9tdkSZzdtI7212RJnN20jvbXZEmc3bSO9tdkSZzdtI7212RJnN20jvbXZEmc3bSO9tdkQ=",
          "dtype": "f8"
         },
         "y": {
          "bdata": "zYGc8fpbdzzNgZzx+lt3PM2BnPH6W3c8zYGc8fpbdzzNgZzx+lt3PM2BnPH6W3c8zYGc8fpbdzw=",
          "dtype": "f8"
         }
        },
        {
         "hovertemplate": "%{hovertext}<extra></extra>",
         "hovertext": [
          "<b>AlphaGo Fan (2015)</b><br>Cooling: Dry Cooler with Adiabatic Assist (Air-Cooled Chiller)<br>Training Compute: 3.80e+20 FLOP<br>Energy Usage Per FLOP: 2.42e-17 kWh",
          "<b>AlphaGo Fan (2015)</b><br>Cooling: Airside Economizer & Adiabatic Cooling (Air-Cooled Chiller)<br>Training Compute: 3.80e+20 FLOP<br>Energy Usage Per FLOP: 2.42e-17 kWh",
          "<b>AlphaGo Fan (2015)</b><br>Cooling: Airside Economizer & Adiabatic Cooling (Water-Cooled Chiller)<br>Training Compute: 3.80e+20 FLOP<br>Energy Usage Per FLOP: 2.42e-17 kWh",
          "<b>AlphaGo Fan (2015)</b><br>Cooling: Waterside Economizer & Adiabatic Cooling (Water-Cooled Chiller)<br>Training Compute: 3.80e+20 FLOP<br>Energy Usage Per FLOP: 2.42e-17 kWh",
          "<b>AlphaGo Fan (2015)</b><br>Cooling: IT Liquid Cooling: Waterside Economizer (Water-Cooled Chiller)<br>Training Compute: 3.80e+20 FLOP<br>Energy Usage Per FLOP: 2.42e-17 kWh",
          "<b>AlphaGo Fan (2015)</b><br>Cooling: IT Liquid Cooling: Dry Cooler & Adiabitic Assist (Air-Cooled Chiller)<br>Training Compute: 3.80e+20 FLOP<br>Energy Usage Per FLOP: 2.42e-17 kWh",
          "<b>AlphaGo Fan (2015)</b><br>Cooling: IT Liquid Cooling: Dry Cooler (Air-Cooled Chiller)<br>Training Compute: 3.80e+20 FLOP<br>Energy Usage Per FLOP: 2.42e-17 kWh"
         ],
         "marker": {
          "color": "hsl(327.27272727272725,70%,50%)",
          "line": {
           "color": "white",
           "width": 0.5
          },
          "size": 8,
          "symbol": [
           "circle",
           "x",
           "square",
           "diamond",
           "cross",
           "triangle-up",
           "star"
          ]
         },
         "mode": "markers",
         "name": "AlphaGo Fan (2015)",
         "showlegend": true,
         "type": "scatter",
         "x": {
          "bdata": "cHisMo+ZNERweKwyj5k0RHB4rDKPmTREcHisMo+ZNERweKwyj5k0RHB4rDKPmTREcHisMo+ZNEQ=",
          "dtype": "f8"
         },
         "y": {
          "bdata": "4rlxB1HuezziuXEHUe57POK5cQdR7ns84rlxB1HuezziuXEHUe57POK5cQdR7ns84rlxB1Huezw=",
          "dtype": "f8"
         }
        },
        {
         "hoverinfo": "skip",
         "legendgroup": "cooling_Dry Cooler with Adiabatic Assist (Air-Cooled Chiller)",
         "marker": {
          "color": "rgba(0,0,0,0.7)",
          "line": {
           "color": "white",
           "width": 1
          },
          "size": 8,
          "symbol": "circle"
         },
         "mode": "markers",
         "name": "Dry Cooler with Adiabatic Assist (Air-Cooled Chiller)",
         "showlegend": true,
         "type": "scatter",
         "x": [
          null
         ],
         "y": [
          null
         ]
        },
        {
         "hoverinfo": "skip",
         "legendgroup": "cooling_Airside Economizer & Adiabatic Cooling (Air-Cooled Chiller)",
         "marker": {
          "color": "rgba(0,0,0,0.7)",
          "line": {
           "color": "white",
           "width": 1
          },
          "size": 8,
          "symbol": "x"
         },
         "mode": "markers",
         "name": "Airside Economizer & Adiabatic Cooling (Air-Cooled Chiller)",
         "showlegend": true,
         "type": "scatter",
         "x": [
          null
         ],
         "y": [
          null
         ]
        },
        {
         "hoverinfo": "skip",
         "legendgroup": "cooling_Airside Economizer & Adiabatic Cooling (Water-Cooled Chiller)",
         "marker": {
          "color": "rgba(0,0,0,0.7)",
          "line": {
           "color": "white",
           "width": 1
          },
          "size": 8,
          "symbol": "square"
         },
         "mode": "markers",
         "name": "Airside Economizer & Adiabatic Cooling (Water-Cooled Chiller)",
         "showlegend": true,
         "type": "scatter",
         "x": [
          null
         ],
         "y": [
          null
         ]
        },
        {
         "hoverinfo": "skip",
         "legendgroup": "cooling_Waterside Economizer & Adiabatic Cooling (Water-Cooled Chiller)",
         "marker": {
          "color": "rgba(0,0,0,0.7)",
          "line": {
           "color": "white",
           "width": 1
          },
          "size": 8,
          "symbol": "diamond"
         },
         "mode": "markers",
         "name": "Waterside Economizer & Adiabatic Cooling (Water-Cooled Chiller)",
         "showlegend": true,
         "type": "scatter",
         "x": [
          null
         ],
         "y": [
          null
         ]
        },
        {
         "hoverinfo": "skip",
         "legendgroup": "cooling_IT Liquid Cooling: Waterside Economizer (Water-Cooled Chiller)",
         "marker": {
          "color": "rgba(0,0,0,0.7)",
          "line": {
           "color": "white",
           "width": 1
          },
          "size": 8,
          "symbol": "cross"
         },
         "mode": "markers",
         "name": "IT Liquid Cooling: Waterside Economizer (Water-Cooled Chiller)",
         "showlegend": true,
         "type": "scatter",
         "x": [
          null
         ],
         "y": [
          null
         ]
        },
        {
         "hoverinfo": "skip",
         "legendgroup": "cooling_IT Liquid Cooling: Dry Cooler & Adiabitic Assist (Air-Cooled Chiller)",
         "marker": {
          "color": "rgba(0,0,0,0.7)",
          "line": {
           "color": "white",
           "width": 1
          },
          "size": 8,
          "symbol": "triangle-up"
         },
         "mode": "markers",
         "name": "IT Liquid Cooling: Dry Cooler & Adiabitic Assist (Air-Cooled Chiller)",
         "showlegend": true,
         "type": "scatter",
         "x": [
          null
         ],
         "y": [
          null
         ]
        },
        {
         "hoverinfo": "skip",
         "legendgroup": "cooling_IT Liquid Cooling: Dry Cooler (Air-Cooled Chiller)",
         "marker": {
          "color": "rgba(0,0,0,0.7)",
          "line": {
           "color": "white",
           "width": 1
          },
          "size": 8,
          "symbol": "star"
         },
         "mode": "markers",
         "name": "IT Liquid Cooling: Dry Cooler (Air-Cooled Chiller)",
         "showlegend": true,
         "type": "scatter",
         "x": [
          null
         ],
         "y": [
          null
         ]
        }
       ],
       "layout": {
        "height": 600,
        "legend": {
         "bgcolor": "rgba(255,255,255,0.8)",
         "bordercolor": "black",
         "borderwidth": 1,
         "font": {
          "size": 10
         },
         "itemsizing": "constant",
         "orientation": "v",
         "tracegroupgap": 0,
         "x": 1.02,
         "xanchor": "left",
         "y": 1,
         "yanchor": "top"
        },
        "margin": {
         "r": 300
        },
        "template": {
         "data": {
          "bar": [
           {
            "error_x": {
             "color": "#2a3f5f"
            },
            "error_y": {
             "color": "#2a3f5f"
            },
            "marker": {
             "line": {
              "color": "#E5ECF6",
              "width": 0.5
             },
             "pattern": {
              "fillmode": "overlay",
              "size": 10,
              "solidity": 0.2
             }
            },
            "type": "bar"
           }
          ],
          "barpolar": [
           {
            "marker": {
             "line": {
              "color": "#E5ECF6",
              "width": 0.5
             },
             "pattern": {
              "fillmode": "overlay",
              "size": 10,
              "solidity": 0.2
             }
            },
            "type": "barpolar"
           }
          ],
          "carpet": [
           {
            "aaxis": {
             "endlinecolor": "#2a3f5f",
             "gridcolor": "white",
             "linecolor": "white",
             "minorgridcolor": "white",
             "startlinecolor": "#2a3f5f"
            },
            "baxis": {
             "endlinecolor": "#2a3f5f",
             "gridcolor": "white",
             "linecolor": "white",
             "minorgridcolor": "white",
             "startlinecolor": "#2a3f5f"
            },
            "type": "carpet"
           }
          ],
          "choropleth": [
           {
            "colorbar": {
             "outlinewidth": 0,
             "ticks": ""
            },
            "type": "choropleth"
           }
          ],
          "contour": [
           {
            "colorbar": {
             "outlinewidth": 0,
             "ticks": ""
            },
            "colorscale": [
             [
              0,
              "#0d0887"
             ],
             [
              0.1111111111111111,
              "#46039f"
             ],
             [
              0.2222222222222222,
              "#7201a8"
             ],
             [
              0.3333333333333333,
              "#9c179e"
             ],
             [
              0.4444444444444444,
              "#bd3786"
             ],
             [
              0.5555555555555556,
              "#d8576b"
             ],
             [
              0.6666666666666666,
              "#ed7953"
             ],
             [
              0.7777777777777778,
              "#fb9f3a"
             ],
             [
              0.8888888888888888,
              "#fdca26"
             ],
             [
              1,
              "#f0f921"
             ]
            ],
            "type": "contour"
           }
          ],
          "contourcarpet": [
           {
            "colorbar": {
             "outlinewidth": 0,
             "ticks": ""
            },
            "type": "contourcarpet"
           }
          ],
          "heatmap": [
           {
            "colorbar": {
             "outlinewidth": 0,
             "ticks": ""
            },
            "colorscale": [
             [
              0,
              "#0d0887"
             ],
             [
              0.1111111111111111,
              "#46039f"
             ],
             [
              0.2222222222222222,
              "#7201a8"
             ],
             [
              0.3333333333333333,
              "#9c179e"
             ],
             [
              0.4444444444444444,
              "#bd3786"
             ],
             [
              0.5555555555555556,
              "#d8576b"
             ],
             [
              0.6666666666666666,
              "#ed7953"
             ],
             [
              0.7777777777777778,
              "#fb9f3a"
             ],
             [
              0.8888888888888888,
              "#fdca26"
             ],
             [
              1,
              "#f0f921"
             ]
            ],
            "type": "heatmap"
           }
          ],
          "histogram": [
           {
            "marker": {
             "pattern": {
              "fillmode": "overlay",
              "size": 10,
              "solidity": 0.2
             }
            },
            "type": "histogram"
           }
          ],
          "histogram2d": [
           {
            "colorbar": {
             "outlinewidth": 0,
             "ticks": ""
            },
            "colorscale": [
             [
              0,
              "#0d0887"
             ],
             [
              0.1111111111111111,
              "#46039f"
             ],
             [
              0.2222222222222222,
              "#7201a8"
             ],
             [
              0.3333333333333333,
              "#9c179e"
             ],
             [
              0.4444444444444444,
              "#bd3786"
             ],
             [
              0.5555555555555556,
              "#d8576b"
             ],
             [
              0.6666666666666666,
              "#ed7953"
             ],
             [
              0.7777777777777778,
              "#fb9f3a"
             ],
             [
              0.8888888888888888,
              "#fdca26"
             ],
             [
              1,
              "#f0f921"
             ]
            ],
            "type": "histogram2d"
           }
          ],
          "histogram2dcontour": [
           {
            "colorbar": {
             "outlinewidth": 0,
             "ticks": ""
            },
            "colorscale": [
             [
              0,
              "#0d0887"
             ],
             [
              0.1111111111111111,
              "#46039f"
             ],
             [
              0.2222222222222222,
              "#7201a8"
             ],
             [
              0.3333333333333333,
              "#9c179e"
             ],
             [
              0.4444444444444444,
              "#bd3786"
             ],
             [
              0.5555555555555556,
              "#d8576b"
             ],
             [
              0.6666666666666666,
              "#ed7953"
             ],
             [
              0.7777777777777778,
              "#fb9f3a"
             ],
             [
              0.8888888888888888,
              "#fdca26"
             ],
             [
              1,
              "#f0f921"
             ]
            ],
            "type": "histogram2dcontour"
           }
          ],
          "mesh3d": [
           {
            "colorbar": {
             "outlinewidth": 0,
             "ticks": ""
            },
            "type": "mesh3d"
           }
          ],
          "parcoords": [
           {
            "line": {
             "colorbar": {
              "outlinewidth": 0,
              "ticks": ""
             }
            },
            "type": "parcoords"
           }
          ],
          "pie": [
           {
            "automargin": true,
            "type": "pie"
           }
          ],
          "scatter": [
           {
            "fillpattern": {
             "fillmode": "overlay",
             "size": 10,
             "solidity": 0.2
            },
            "type": "scatter"
           }
          ],
          "scatter3d": [
           {
            "line": {
             "colorbar": {
              "outlinewidth": 0,
              "ticks": ""
             }
            },
            "marker": {
             "colorbar": {
              "outlinewidth": 0,
              "ticks": ""
             }
            },
            "type": "scatter3d"
           }
          ],
          "scattercarpet": [
           {
            "marker": {
             "colorbar": {
              "outlinewidth": 0,
              "ticks": ""
             }
            },
            "type": "scattercarpet"
           }
          ],
          "scattergeo": [
           {
            "marker": {
             "colorbar": {
              "outlinewidth": 0,
              "ticks": ""
             }
            },
            "type": "scattergeo"
           }
          ],
          "scattergl": [
           {
            "marker": {
             "colorbar": {
              "outlinewidth": 0,
              "ticks": ""
             }
            },
            "type": "scattergl"
           }
          ],
          "scattermap": [
           {
            "marker": {
             "colorbar": {
              "outlinewidth": 0,
              "ticks": ""
             }
            },
            "type": "scattermap"
           }
          ],
          "scattermapbox": [
           {
            "marker": {
             "colorbar": {
              "outlinewidth": 0,
              "ticks": ""
             }
            },
            "type": "scattermapbox"
           }
          ],
          "scatterpolar": [
           {
            "marker": {
             "colorbar": {
              "outlinewidth": 0,
              "ticks": ""
             }
            },
            "type": "scatterpolar"
           }
          ],
          "scatterpolargl": [
           {
            "marker": {
             "colorbar": {
              "outlinewidth": 0,
              "ticks": ""
             }
            },
            "type": "scatterpolargl"
           }
          ],
          "scatterternary": [
           {
            "marker": {
             "colorbar": {
              "outlinewidth": 0,
              "ticks": ""
             }
            },
            "type": "scatterternary"
           }
          ],
          "surface": [
           {
            "colorbar": {
             "outlinewidth": 0,
             "ticks": ""
            },
            "colorscale": [
             [
              0,
              "#0d0887"
             ],
             [
              0.1111111111111111,
              "#46039f"
             ],
             [
              0.2222222222222222,
              "#7201a8"
             ],
             [
              0.3333333333333333,
              "#9c179e"
             ],
             [
              0.4444444444444444,
              "#bd3786"
             ],
             [
              0.5555555555555556,
              "#d8576b"
             ],
             [
              0.6666666666666666,
              "#ed7953"
             ],
             [
              0.7777777777777778,
              "#fb9f3a"
             ],
             [
              0.8888888888888888,
              "#fdca26"
             ],
             [
              1,
              "#f0f921"
             ]
            ],
            "type": "surface"
           }
          ],
          "table": [
           {
            "cells": {
             "fill": {
              "color": "#EBF0F8"
             },
             "line": {
              "color": "white"
             }
            },
            "header": {
             "fill": {
              "color": "#C8D4E3"
             },
             "line": {
              "color": "white"
             }
            },
            "type": "table"
           }
          ]
         },
         "layout": {
          "annotationdefaults": {
           "arrowcolor": "#2a3f5f",
           "arrowhead": 0,
           "arrowwidth": 1
          },
          "autotypenumbers": "strict",
          "coloraxis": {
           "colorbar": {
            "outlinewidth": 0,
            "ticks": ""
           }
          },
          "colorscale": {
           "diverging": [
            [
             0,
             "#8e0152"
            ],
            [
             0.1,
             "#c51b7d"
            ],
            [
             0.2,
             "#de77ae"
            ],
            [
             0.3,
             "#f1b6da"
            ],
            [
             0.4,
             "#fde0ef"
            ],
            [
             0.5,
             "#f7f7f7"
            ],
            [
             0.6,
             "#e6f5d0"
            ],
            [
             0.7,
             "#b8e186"
            ],
            [
             0.8,
             "#7fbc41"
            ],
            [
             0.9,
             "#4d9221"
            ],
            [
             1,
             "#276419"
            ]
           ],
           "sequential": [
            [
             0,
             "#0d0887"
            ],
            [
             0.1111111111111111,
             "#46039f"
            ],
            [
             0.2222222222222222,
             "#7201a8"
            ],
            [
             0.3333333333333333,
             "#9c179e"
            ],
            [
             0.4444444444444444,
             "#bd3786"
            ],
            [
             0.5555555555555556,
             "#d8576b"
            ],
            [
             0.6666666666666666,
             "#ed7953"
            ],
            [
             0.7777777777777778,
             "#fb9f3a"
            ],
            [
             0.8888888888888888,
             "#fdca26"
            ],
            [
             1,
             "#f0f921"
            ]
           ],
           "sequentialminus": [
            [
             0,
             "#0d0887"
            ],
            [
             0.1111111111111111,
             "#46039f"
            ],
            [
             0.2222222222222222,
             "#7201a8"
            ],
            [
             0.3333333333333333,
             "#9c179e"
            ],
            [
             0.4444444444444444,
             "#bd3786"
            ],
            [
             0.5555555555555556,
             "#d8576b"
            ],
            [
             0.6666666666666666,
             "#ed7953"
            ],
            [
             0.7777777777777778,
             "#fb9f3a"
            ],
            [
             0.8888888888888888,
             "#fdca26"
            ],
            [
             1,
             "#f0f921"
            ]
           ]
          },
          "colorway": [
           "#636efa",
           "#EF553B",
           "#00cc96",
           "#ab63fa",
           "#FFA15A",
           "#19d3f3",
           "#FF6692",
           "#B6E880",
           "#FF97FF",
           "#FECB52"
          ],
          "font": {
           "color": "#2a3f5f"
          },
          "geo": {
           "bgcolor": "white",
           "lakecolor": "white",
           "landcolor": "#E5ECF6",
           "showlakes": true,
           "showland": true,
           "subunitcolor": "white"
          },
          "hoverlabel": {
           "align": "left"
          },
          "hovermode": "closest",
          "mapbox": {
           "style": "light"
          },
          "paper_bgcolor": "white",
          "plot_bgcolor": "#E5ECF6",
          "polar": {
           "angularaxis": {
            "gridcolor": "white",
            "linecolor": "white",
            "ticks": ""
           },
           "bgcolor": "#E5ECF6",
           "radialaxis": {
            "gridcolor": "white",
            "linecolor": "white",
            "ticks": ""
           }
          },
          "scene": {
           "xaxis": {
            "backgroundcolor": "#E5ECF6",
            "gridcolor": "white",
            "gridwidth": 2,
            "linecolor": "white",
            "showbackground": true,
            "ticks": "",
            "zerolinecolor": "white"
           },
           "yaxis": {
            "backgroundcolor": "#E5ECF6",
            "gridcolor": "white",
            "gridwidth": 2,
            "linecolor": "white",
            "showbackground": true,
            "ticks": "",
            "zerolinecolor": "white"
           },
           "zaxis": {
            "backgroundcolor": "#E5ECF6",
            "gridcolor": "white",
            "gridwidth": 2,
            "linecolor": "white",
            "showbackground": true,
            "ticks": "",
            "zerolinecolor": "white"
           }
          },
          "shapedefaults": {
           "line": {
            "color": "#2a3f5f"
           }
          },
          "ternary": {
           "aaxis": {
            "gridcolor": "white",
            "linecolor": "white",
            "ticks": ""
           },
           "baxis": {
            "gridcolor": "white",
            "linecolor": "white",
            "ticks": ""
           },
           "bgcolor": "#E5ECF6",
           "caxis": {
            "gridcolor": "white",
            "linecolor": "white",
            "ticks": ""
           }
          },
          "title": {
           "x": 0.05
          },
          "xaxis": {
           "automargin": true,
           "gridcolor": "white",
           "linecolor": "white",
           "ticks": "",
           "title": {
            "standoff": 15
           },
           "zerolinecolor": "white",
           "zerolinewidth": 2
          },
          "yaxis": {
           "automargin": true,
           "gridcolor": "white",
           "linecolor": "white",
           "ticks": "",
           "title": {
            "standoff": 15
           },
           "zerolinecolor": "white",
           "zerolinewidth": 2
          }
         }
        },
        "title": {
         "text": "Compute Energy Usage (kWh) Per FLOP vs FLOP by Cooling System and Model"
        },
        "width": 1000,
        "xaxis": {
         "gridcolor": "lightgray",
         "gridwidth": 1,
         "linecolor": "black",
         "linewidth": 1,
         "mirror": true,
         "showgrid": true,
         "showline": true,
         "title": {
          "text": "Training Compute (FLOP) [log scale]"
         },
         "type": "log"
        },
        "yaxis": {
         "gridcolor": "lightgray",
         "gridwidth": 1,
         "linecolor": "black",
         "linewidth": 1,
         "mirror": true,
         "showgrid": true,
         "showline": true,
         "title": {
          "text": "Energy Usage Per FLOP (kWh) [log scale]"
         },
         "type": "log"
        }
       }
      }
     },
     "metadata": {},
     "output_type": "display_data"
    }
   ],
   "source": [
    "fig = create_scatter_plot(\n",
    "    data=combined_notable,\n",
    "    y_column='Energy Per FLOP',\n",
    "    y_label='Energy Usage Per FLOP',\n",
    "    y_units='kWh',\n",
    "    plot_title='Compute Energy Usage (kWh) Per FLOP vs FLOP by Cooling System and Model'\n",
    ")\n",
    "fig.show()"
   ]
  },
  {
   "cell_type": "code",
   "execution_count": 119,
   "id": "dc612751",
   "metadata": {},
   "outputs": [
    {
     "data": {
      "application/vnd.plotly.v1+json": {
       "config": {
        "plotlyServerURL": "https://plot.ly"
       },
       "data": [
        {
         "hovertemplate": "%{hovertext}<extra></extra>",
         "hovertext": [
          "<b>Grok-3 (2025)</b><br>Cooling: Dry Cooler with Adiabatic Assist (Air-Cooled Chiller)<br>Training Compute: 4.64e+26 FLOP<br>Total Energy Usage Per FLOP: 3.48e-18 kWh",
          "<b>Grok-3 (2025)</b><br>Cooling: Airside Economizer & Adiabatic Cooling (Air-Cooled Chiller)<br>Training Compute: 4.64e+26 FLOP<br>Total Energy Usage Per FLOP: 3.39e-18 kWh",
          "<b>Grok-3 (2025)</b><br>Cooling: Airside Economizer & Adiabatic Cooling (Water-Cooled Chiller)<br>Training Compute: 4.64e+26 FLOP<br>Total Energy Usage Per FLOP: 3.32e-18 kWh",
          "<b>Grok-3 (2025)</b><br>Cooling: Waterside Economizer & Adiabatic Cooling (Water-Cooled Chiller)<br>Training Compute: 4.64e+26 FLOP<br>Total Energy Usage Per FLOP: 3.24e-18 kWh",
          "<b>Grok-3 (2025)</b><br>Cooling: IT Liquid Cooling: Waterside Economizer (Water-Cooled Chiller)<br>Training Compute: 4.64e+26 FLOP<br>Total Energy Usage Per FLOP: 3.29e-18 kWh",
          "<b>Grok-3 (2025)</b><br>Cooling: IT Liquid Cooling: Dry Cooler & Adiabitic Assist (Air-Cooled Chiller)<br>Training Compute: 4.64e+26 FLOP<br>Total Energy Usage Per FLOP: 3.18e-18 kWh",
          "<b>Grok-3 (2025)</b><br>Cooling: IT Liquid Cooling: Dry Cooler (Air-Cooled Chiller)<br>Training Compute: 4.64e+26 FLOP<br>Total Energy Usage Per FLOP: 3.18e-18 kWh"
         ],
         "marker": {
          "color": "hsl(0.0,70%,50%)",
          "line": {
           "color": "white",
           "width": 0.5
          },
          "size": 8,
          "symbol": [
           "circle",
           "x",
           "square",
           "diamond",
           "cross",
           "triangle-up",
           "star"
          ]
         },
         "mode": "markers",
         "name": "Grok-3 (2025)",
         "showlegend": true,
         "type": "scatter",
         "x": {
          "bdata": "6zZtJv38d0XrNm0m/fx3Res2bSb9/HdF6zZtJv38d0XrNm0m/fx3Res2bSb9/HdF6zZtJv38d0U=",
          "dtype": "f8"
         },
         "y": {
          "bdata": "CtHhtWoPUDwGdXUOK05PPAc0kgBNpU48AX35yojoTTwJ8Y2D11VOPHcsCECMSU08dywIQIxJTTw=",
          "dtype": "f8"
         }
        },
        {
         "hovertemplate": "%{hovertext}<extra></extra>",
         "hovertext": [
          "<b>Gemini 1.0 Ultra (2023)</b><br>Cooling: Dry Cooler with Adiabatic Assist (Air-Cooled Chiller)<br>Training Compute: 5.00e+25 FLOP<br>Total Energy Usage Per FLOP: 1.09e-18 kWh",
          "<b>Gemini 1.0 Ultra (2023)</b><br>Cooling: Airside Economizer & Adiabatic Cooling (Air-Cooled Chiller)<br>Training Compute: 5.00e+25 FLOP<br>Total Energy Usage Per FLOP: 1.06e-18 kWh",
          "<b>Gemini 1.0 Ultra (2023)</b><br>Cooling: Airside Economizer & Adiabatic Cooling (Water-Cooled Chiller)<br>Training Compute: 5.00e+25 FLOP<br>Total Energy Usage Per FLOP: 1.04e-18 kWh",
          "<b>Gemini 1.0 Ultra (2023)</b><br>Cooling: Waterside Economizer & Adiabatic Cooling (Water-Cooled Chiller)<br>Training Compute: 5.00e+25 FLOP<br>Total Energy Usage Per FLOP: 1.02e-18 kWh",
          "<b>Gemini 1.0 Ultra (2023)</b><br>Cooling: IT Liquid Cooling: Waterside Economizer (Water-Cooled Chiller)<br>Training Compute: 5.00e+25 FLOP<br>Total Energy Usage Per FLOP: 1.03e-18 kWh",
          "<b>Gemini 1.0 Ultra (2023)</b><br>Cooling: IT Liquid Cooling: Dry Cooler & Adiabitic Assist (Air-Cooled Chiller)<br>Training Compute: 5.00e+25 FLOP<br>Total Energy Usage Per FLOP: 9.94e-19 kWh",
          "<b>Gemini 1.0 Ultra (2023)</b><br>Cooling: IT Liquid Cooling: Dry Cooler (Air-Cooled Chiller)<br>Training Compute: 5.00e+25 FLOP<br>Total Energy Usage Per FLOP: 9.94e-19 kWh"
         ],
         "marker": {
          "color": "hsl(32.72727272727273,70%,50%)",
          "line": {
           "color": "white",
           "width": 0.5
          },
          "size": 8,
          "symbol": [
           "circle",
           "x",
           "square",
           "diamond",
           "cross",
           "triangle-up",
           "star"
          ]
         },
         "mode": "markers",
         "name": "Gemini 1.0 Ultra (2023)",
         "showlegend": true,
         "type": "scatter",
         "x": {
          "bdata": "9Mkzt/StREX0yTO39K1ERfTJM7f0rURF9Mkzt/StREX0yTO39K1ERfTJM7f0rURF9Mkzt/StREU=",
          "dtype": "f8"
         },
         "y": {
          "bdata": "VTXwbtAbNDzDadJ0LpkzPI4jJsJ2LzM8qxrB60m5MjwgMb4xuP0yPKeps8vBVTI8p6mzy8FVMjw=",
          "dtype": "f8"
         }
        },
        {
         "hovertemplate": "%{hovertext}<extra></extra>",
         "hovertext": [
          "<b>GPT-4o (2024)</b><br>Cooling: Dry Cooler with Adiabatic Assist (Air-Cooled Chiller)<br>Training Compute: 3.81e+25 FLOP<br>Total Energy Usage Per FLOP: 3.06e-18 kWh",
          "<b>GPT-4o (2024)</b><br>Cooling: Airside Economizer & Adiabatic Cooling (Air-Cooled Chiller)<br>Training Compute: 3.81e+25 FLOP<br>Total Energy Usage Per FLOP: 2.98e-18 kWh",
          "<b>GPT-4o (2024)</b><br>Cooling: Airside Economizer & Adiabatic Cooling (Water-Cooled Chiller)<br>Training Compute: 3.81e+25 FLOP<br>Total Energy Usage Per FLOP: 2.91e-18 kWh",
          "<b>GPT-4o (2024)</b><br>Cooling: Waterside Economizer & Adiabatic Cooling (Water-Cooled Chiller)<br>Training Compute: 3.81e+25 FLOP<br>Total Energy Usage Per FLOP: 2.84e-18 kWh",
          "<b>GPT-4o (2024)</b><br>Cooling: IT Liquid Cooling: Waterside Economizer (Water-Cooled Chiller)<br>Training Compute: 3.81e+25 FLOP<br>Total Energy Usage Per FLOP: 2.89e-18 kWh",
          "<b>GPT-4o (2024)</b><br>Cooling: IT Liquid Cooling: Dry Cooler & Adiabitic Assist (Air-Cooled Chiller)<br>Training Compute: 3.81e+25 FLOP<br>Total Energy Usage Per FLOP: 2.79e-18 kWh",
          "<b>GPT-4o (2024)</b><br>Cooling: IT Liquid Cooling: Dry Cooler (Air-Cooled Chiller)<br>Training Compute: 3.81e+25 FLOP<br>Total Energy Usage Per FLOP: 2.79e-18 kWh"
         ],
         "marker": {
          "color": "hsl(65.45454545454545,70%,50%)",
          "line": {
           "color": "white",
           "width": 0.5
          },
          "size": 8,
          "symbol": [
           "circle",
           "x",
           "square",
           "diamond",
           "cross",
           "triangle-up",
           "star"
          ]
         },
         "mode": "markers",
         "name": "GPT-4o (2024)",
         "showlegend": true,
         "type": "scatter",
         "x": {
          "bdata": "lW9Brv2DP0WVb0Gu/YM/RZVvQa79gz9FlW9Brv2DP0WVb0Gu/YM/RZVvQa79gz9FlW9Brv2DP0U=",
          "dtype": "f8"
         },
         "y": {
          "bdata": "fBfUzYUtTDxwb6RFeHZLPBZxrnxU4ko8450b1Ls8SjwfpxrQn5xKPD5FBBJDsUk8PkUEEkOxSTw=",
          "dtype": "f8"
         }
        },
        {
         "hovertemplate": "%{hovertext}<extra></extra>",
         "hovertext": [
          "<b>Minerva (540B) (2022)</b><br>Cooling: Dry Cooler with Adiabatic Assist (Air-Cooled Chiller)<br>Training Compute: 2.74e+24 FLOP<br>Total Energy Usage Per FLOP: 3.48e-18 kWh",
          "<b>Minerva (540B) (2022)</b><br>Cooling: Airside Economizer & Adiabatic Cooling (Air-Cooled Chiller)<br>Training Compute: 2.74e+24 FLOP<br>Total Energy Usage Per FLOP: 3.39e-18 kWh",
          "<b>Minerva (540B) (2022)</b><br>Cooling: Airside Economizer & Adiabatic Cooling (Water-Cooled Chiller)<br>Training Compute: 2.74e+24 FLOP<br>Total Energy Usage Per FLOP: 3.32e-18 kWh",
          "<b>Minerva (540B) (2022)</b><br>Cooling: Waterside Economizer & Adiabatic Cooling (Water-Cooled Chiller)<br>Training Compute: 2.74e+24 FLOP<br>Total Energy Usage Per FLOP: 3.24e-18 kWh",
          "<b>Minerva (540B) (2022)</b><br>Cooling: IT Liquid Cooling: Waterside Economizer (Water-Cooled Chiller)<br>Training Compute: 2.74e+24 FLOP<br>Total Energy Usage Per FLOP: 3.28e-18 kWh",
          "<b>Minerva (540B) (2022)</b><br>Cooling: IT Liquid Cooling: Dry Cooler & Adiabitic Assist (Air-Cooled Chiller)<br>Training Compute: 2.74e+24 FLOP<br>Total Energy Usage Per FLOP: 3.17e-18 kWh",
          "<b>Minerva (540B) (2022)</b><br>Cooling: IT Liquid Cooling: Dry Cooler (Air-Cooled Chiller)<br>Training Compute: 2.74e+24 FLOP<br>Total Energy Usage Per FLOP: 3.17e-18 kWh"
         ],
         "marker": {
          "color": "hsl(98.18181818181819,70%,50%)",
          "line": {
           "color": "white",
           "width": 0.5
          },
          "size": 8,
          "symbol": [
           "circle",
           "x",
           "square",
           "diamond",
           "cross",
           "triangle-up",
           "star"
          ]
         },
         "mode": "markers",
         "name": "Minerva (540B) (2022)",
         "showlegend": true,
         "type": "scatter",
         "x": {
          "bdata": "3XMzGkgkAkXdczMaSCQCRd1zMxpIJAJF3XMzGkgkAkXdczMaSCQCRd1zMxpIJAJF3XMzGkgkAkU=",
          "dtype": "f8"
         },
         "y": {
          "bdata": "I474j8oIUDwnrinYQEFPPITwp3SomE48pVoDHzLcTTzEx2+/U0lOPARt6Sp3PU08BG3pKnc9TTw=",
          "dtype": "f8"
         }
        },
        {
         "hovertemplate": "%{hovertext}<extra></extra>",
         "hovertext": [
          "<b>FLAN 137B (2021)</b><br>Cooling: Dry Cooler with Adiabatic Assist (Air-Cooled Chiller)<br>Training Compute: 2.05e+24 FLOP<br>Total Energy Usage Per FLOP: 2.58e-18 kWh",
          "<b>FLAN 137B (2021)</b><br>Cooling: Airside Economizer & Adiabatic Cooling (Air-Cooled Chiller)<br>Training Compute: 2.05e+24 FLOP<br>Total Energy Usage Per FLOP: 2.51e-18 kWh",
          "<b>FLAN 137B (2021)</b><br>Cooling: Airside Economizer & Adiabatic Cooling (Water-Cooled Chiller)<br>Training Compute: 2.05e+24 FLOP<br>Total Energy Usage Per FLOP: 2.46e-18 kWh",
          "<b>FLAN 137B (2021)</b><br>Cooling: Waterside Economizer & Adiabatic Cooling (Water-Cooled Chiller)<br>Training Compute: 2.05e+24 FLOP<br>Total Energy Usage Per FLOP: 2.40e-18 kWh",
          "<b>FLAN 137B (2021)</b><br>Cooling: IT Liquid Cooling: Waterside Economizer (Water-Cooled Chiller)<br>Training Compute: 2.05e+24 FLOP<br>Total Energy Usage Per FLOP: 2.44e-18 kWh",
          "<b>FLAN 137B (2021)</b><br>Cooling: IT Liquid Cooling: Dry Cooler & Adiabitic Assist (Air-Cooled Chiller)<br>Training Compute: 2.05e+24 FLOP<br>Total Energy Usage Per FLOP: 2.35e-18 kWh",
          "<b>FLAN 137B (2021)</b><br>Cooling: IT Liquid Cooling: Dry Cooler (Air-Cooled Chiller)<br>Training Compute: 2.05e+24 FLOP<br>Total Energy Usage Per FLOP: 2.35e-18 kWh"
         ],
         "marker": {
          "color": "hsl(130.9090909090909,70%,50%)",
          "line": {
           "color": "white",
           "width": 0.5
          },
          "size": 8,
          "symbol": [
           "circle",
           "x",
           "square",
           "diamond",
           "cross",
           "triangle-up",
           "star"
          ]
         },
         "mode": "markers",
         "name": "FLAN 137B (2021)",
         "showlegend": true,
         "type": "scatter",
         "x": {
          "bdata": "8hJIeoEX+0TyEkh6gRf7RPISSHqBF/tE8hJIeoEX+0TyEkh6gRf7RPISSHqBF/tE8hJIeoEX+0Q=",
          "dtype": "f8"
         },
         "y": {
          "bdata": "drhTGVbLRzwXzjetwjBHPOUuHpWqs0Y8HmoD09QnRjyzqJHzzXhGPKRVrowOskU8pFWujA6yRTw=",
          "dtype": "f8"
         }
        },
        {
         "hovertemplate": "%{hovertext}<extra></extra>",
         "hovertext": [
          "<b>AlphaGo Zero (2017)</b><br>Cooling: Dry Cooler with Adiabatic Assist (Air-Cooled Chiller)<br>Training Compute: 3.41e+23 FLOP<br>Total Energy Usage Per FLOP: 6.59e-18 kWh",
          "<b>AlphaGo Zero (2017)</b><br>Cooling: Airside Economizer & Adiabatic Cooling (Air-Cooled Chiller)<br>Training Compute: 3.41e+23 FLOP<br>Total Energy Usage Per FLOP: 6.42e-18 kWh",
          "<b>AlphaGo Zero (2017)</b><br>Cooling: Airside Economizer & Adiabatic Cooling (Water-Cooled Chiller)<br>Training Compute: 3.41e+23 FLOP<br>Total Energy Usage Per FLOP: 6.29e-18 kWh",
          "<b>AlphaGo Zero (2017)</b><br>Cooling: Waterside Economizer & Adiabatic Cooling (Water-Cooled Chiller)<br>Training Compute: 3.41e+23 FLOP<br>Total Energy Usage Per FLOP: 6.14e-18 kWh",
          "<b>AlphaGo Zero (2017)</b><br>Cooling: IT Liquid Cooling: Waterside Economizer (Water-Cooled Chiller)<br>Training Compute: 3.41e+23 FLOP<br>Total Energy Usage Per FLOP: 6.22e-18 kWh",
          "<b>AlphaGo Zero (2017)</b><br>Cooling: IT Liquid Cooling: Dry Cooler & Adiabitic Assist (Air-Cooled Chiller)<br>Training Compute: 3.41e+23 FLOP<br>Total Energy Usage Per FLOP: 6.01e-18 kWh",
          "<b>AlphaGo Zero (2017)</b><br>Cooling: IT Liquid Cooling: Dry Cooler (Air-Cooled Chiller)<br>Training Compute: 3.41e+23 FLOP<br>Total Energy Usage Per FLOP: 6.01e-18 kWh"
         ],
         "marker": {
          "color": "hsl(163.63636363636363,70%,50%)",
          "line": {
           "color": "white",
           "width": 0.5
          },
          "size": 8,
          "symbol": [
           "circle",
           "x",
           "square",
           "diamond",
           "cross",
           "triangle-up",
           "star"
          ]
         },
         "mode": "markers",
         "name": "AlphaGo Zero (2017)",
         "showlegend": true,
         "type": "scatter",
         "x": {
          "bdata": "YyQeaWkN0kRjJB5paQ3SRGMkHmlpDdJEYyQeaWkN0kRjJB5paQ3SRGMkHmlpDdJEYyQeaWkN0kQ=",
          "dtype": "f8"
         },
         "y": {
          "bdata": "jWZFBPRiXjwckcNAjZ1dPJAg29HM/Vw8kv2lODlLXDzoFPpkobJcPC4Hu8DRtFs8Lge7wNG0Wzw=",
          "dtype": "f8"
         }
        },
        {
         "hovertemplate": "%{hovertext}<extra></extra>",
         "hovertext": [
          "<b>GPT-3 175B (davinci) (2020)</b><br>Cooling: Dry Cooler with Adiabatic Assist (Air-Cooled Chiller)<br>Training Compute: 3.14e+23 FLOP<br>Total Energy Usage Per FLOP: 5.31e-18 kWh",
          "<b>GPT-3 175B (davinci) (2020)</b><br>Cooling: Airside Economizer & Adiabatic Cooling (Air-Cooled Chiller)<br>Training Compute: 3.14e+23 FLOP<br>Total Energy Usage Per FLOP: 5.18e-18 kWh",
          "<b>GPT-3 175B (davinci) (2020)</b><br>Cooling: Airside Economizer & Adiabatic Cooling (Water-Cooled Chiller)<br>Training Compute: 3.14e+23 FLOP<br>Total Energy Usage Per FLOP: 5.07e-18 kWh",
          "<b>GPT-3 175B (davinci) (2020)</b><br>Cooling: Waterside Economizer & Adiabatic Cooling (Water-Cooled Chiller)<br>Training Compute: 3.14e+23 FLOP<br>Total Energy Usage Per FLOP: 4.95e-18 kWh",
          "<b>GPT-3 175B (davinci) (2020)</b><br>Cooling: IT Liquid Cooling: Waterside Economizer (Water-Cooled Chiller)<br>Training Compute: 3.14e+23 FLOP<br>Total Energy Usage Per FLOP: 5.02e-18 kWh",
          "<b>GPT-3 175B (davinci) (2020)</b><br>Cooling: IT Liquid Cooling: Dry Cooler & Adiabitic Assist (Air-Cooled Chiller)<br>Training Compute: 3.14e+23 FLOP<br>Total Energy Usage Per FLOP: 4.84e-18 kWh",
          "<b>GPT-3 175B (davinci) (2020)</b><br>Cooling: IT Liquid Cooling: Dry Cooler (Air-Cooled Chiller)<br>Training Compute: 3.14e+23 FLOP<br>Total Energy Usage Per FLOP: 4.84e-18 kWh"
         ],
         "marker": {
          "color": "hsl(196.36363636363637,70%,50%)",
          "line": {
           "color": "white",
           "width": 0.5
          },
          "size": 8,
          "symbol": [
           "circle",
           "x",
           "square",
           "diamond",
           "cross",
           "triangle-up",
           "star"
          ]
         },
         "mode": "markers",
         "name": "GPT-3 175B (davinci) (2020)",
         "showlegend": true,
         "type": "scatter",
         "x": {
          "bdata": "xCzJV36f0ETELMlXfp/QRMQsyVd+n9BExCzJV36f0ETELMlXfp/QRMQsyVd+n9BExCzJV36f0EQ=",
          "dtype": "f8"
         },
         "y": {
          "bdata": "P9ozi9N9WDzMIbaWuN5XPH9HoB32XVc8Hn7WZgfOVjwdVoLwXyFXPOS1wafNVFY85LXBp81UVjw=",
          "dtype": "f8"
         }
        },
        {
         "hovertemplate": "%{hovertext}<extra></extra>",
         "hovertext": [
          "<b>OpenAI Five (2019)</b><br>Cooling: Dry Cooler with Adiabatic Assist (Air-Cooled Chiller)<br>Training Compute: 6.70e+22 FLOP<br>Total Energy Usage Per FLOP: 5.00e-18 kWh",
          "<b>OpenAI Five (2019)</b><br>Cooling: Airside Economizer & Adiabatic Cooling (Air-Cooled Chiller)<br>Training Compute: 6.70e+22 FLOP<br>Total Energy Usage Per FLOP: 4.87e-18 kWh",
          "<b>OpenAI Five (2019)</b><br>Cooling: Airside Economizer & Adiabatic Cooling (Water-Cooled Chiller)<br>Training Compute: 6.70e+22 FLOP<br>Total Energy Usage Per FLOP: 4.77e-18 kWh",
          "<b>OpenAI Five (2019)</b><br>Cooling: Waterside Economizer & Adiabatic Cooling (Water-Cooled Chiller)<br>Training Compute: 6.70e+22 FLOP<br>Total Energy Usage Per FLOP: 4.65e-18 kWh",
          "<b>OpenAI Five (2019)</b><br>Cooling: IT Liquid Cooling: Waterside Economizer (Water-Cooled Chiller)<br>Training Compute: 6.70e+22 FLOP<br>Total Energy Usage Per FLOP: 4.72e-18 kWh",
          "<b>OpenAI Five (2019)</b><br>Cooling: IT Liquid Cooling: Dry Cooler & Adiabitic Assist (Air-Cooled Chiller)<br>Training Compute: 6.70e+22 FLOP<br>Total Energy Usage Per FLOP: 4.55e-18 kWh",
          "<b>OpenAI Five (2019)</b><br>Cooling: IT Liquid Cooling: Dry Cooler (Air-Cooled Chiller)<br>Training Compute: 6.70e+22 FLOP<br>Total Energy Usage Per FLOP: 4.55e-18 kWh"
         ],
         "marker": {
          "color": "hsl(229.0909090909091,70%,50%)",
          "line": {
           "color": "white",
           "width": 0.5
          },
          "size": 8,
          "symbol": [
           "circle",
           "x",
           "square",
           "diamond",
           "cross",
           "triangle-up",
           "star"
          ]
         },
         "mode": "markers",
         "name": "OpenAI Five (2019)",
         "showlegend": true,
         "type": "scatter",
         "x": {
          "bdata": "iJL1kCdgrESIkvWQJ2CsRIiS9ZAnYKxEiJL1kCdgrESIkvWQJ2CsRIiS9ZAnYKxEiJL1kCdgrEQ=",
          "dtype": "f8"
         },
         "y": {
          "bdata": "sjCU5z8JVzwwUiFWmXNWPCCnK559+lU8V2J3eRxzVTwHeGAdgcFVPD5oyd4WAVU8PmjJ3hYBVTw=",
          "dtype": "f8"
         }
        },
        {
         "hovertemplate": "%{hovertext}<extra></extra>",
         "hovertext": [
          "<b>ResNeXt-101 32x48d (2018)</b><br>Cooling: Dry Cooler with Adiabatic Assist (Air-Cooled Chiller)<br>Training Compute: 8.74e+21 FLOP<br>Total Energy Usage Per FLOP: 5.31e-18 kWh",
          "<b>ResNeXt-101 32x48d (2018)</b><br>Cooling: Airside Economizer & Adiabatic Cooling (Air-Cooled Chiller)<br>Training Compute: 8.74e+21 FLOP<br>Total Energy Usage Per FLOP: 5.18e-18 kWh",
          "<b>ResNeXt-101 32x48d (2018)</b><br>Cooling: Airside Economizer & Adiabatic Cooling (Water-Cooled Chiller)<br>Training Compute: 8.74e+21 FLOP<br>Total Energy Usage Per FLOP: 5.07e-18 kWh",
          "<b>ResNeXt-101 32x48d (2018)</b><br>Cooling: Waterside Economizer & Adiabatic Cooling (Water-Cooled Chiller)<br>Training Compute: 8.74e+21 FLOP<br>Total Energy Usage Per FLOP: 4.95e-18 kWh",
          "<b>ResNeXt-101 32x48d (2018)</b><br>Cooling: IT Liquid Cooling: Waterside Economizer (Water-Cooled Chiller)<br>Training Compute: 8.74e+21 FLOP<br>Total Energy Usage Per FLOP: 5.02e-18 kWh",
          "<b>ResNeXt-101 32x48d (2018)</b><br>Cooling: IT Liquid Cooling: Dry Cooler & Adiabitic Assist (Air-Cooled Chiller)<br>Training Compute: 8.74e+21 FLOP<br>Total Energy Usage Per FLOP: 4.84e-18 kWh",
          "<b>ResNeXt-101 32x48d (2018)</b><br>Cooling: IT Liquid Cooling: Dry Cooler (Air-Cooled Chiller)<br>Training Compute: 8.74e+21 FLOP<br>Total Energy Usage Per FLOP: 4.84e-18 kWh"
         ],
         "marker": {
          "color": "hsl(261.8181818181818,70%,50%)",
          "line": {
           "color": "white",
           "width": 0.5
          },
          "size": 8,
          "symbol": [
           "circle",
           "x",
           "square",
           "diamond",
           "cross",
           "triangle-up",
           "star"
          ]
         },
         "mode": "markers",
         "name": "ResNeXt-101 32x48d (2018)",
         "showlegend": true,
         "type": "scatter",
         "x": {
          "bdata": "DhRZ7CqgfUQOFFnsKqB9RA4UWewqoH1EDhRZ7CqgfUQOFFnsKqB9RA4UWewqoH1EDhRZ7CqgfUQ=",
          "dtype": "f8"
         },
         "y": {
          "bdata": "P9ozi9N9WDzMIbaWuN5XPH5HoB32XVc8Hn7WZgfOVjwcVoLwXyFXPOW1wafNVFY85bXBp81UVjw=",
          "dtype": "f8"
         }
        },
        {
         "hovertemplate": "%{hovertext}<extra></extra>",
         "hovertext": [
          "<b>GNMT (2016)</b><br>Cooling: Dry Cooler with Adiabatic Assist (Air-Cooled Chiller)<br>Training Compute: 6.62e+21 FLOP<br>Total Energy Usage Per FLOP: 2.43e-17 kWh",
          "<b>GNMT (2016)</b><br>Cooling: Airside Economizer & Adiabatic Cooling (Air-Cooled Chiller)<br>Training Compute: 6.62e+21 FLOP<br>Total Energy Usage Per FLOP: 2.37e-17 kWh",
          "<b>GNMT (2016)</b><br>Cooling: Airside Economizer & Adiabatic Cooling (Water-Cooled Chiller)<br>Training Compute: 6.62e+21 FLOP<br>Total Energy Usage Per FLOP: 2.32e-17 kWh",
          "<b>GNMT (2016)</b><br>Cooling: Waterside Economizer & Adiabatic Cooling (Water-Cooled Chiller)<br>Training Compute: 6.62e+21 FLOP<br>Total Energy Usage Per FLOP: 2.26e-17 kWh",
          "<b>GNMT (2016)</b><br>Cooling: IT Liquid Cooling: Waterside Economizer (Water-Cooled Chiller)<br>Training Compute: 6.62e+21 FLOP<br>Total Energy Usage Per FLOP: 2.29e-17 kWh",
          "<b>GNMT (2016)</b><br>Cooling: IT Liquid Cooling: Dry Cooler & Adiabitic Assist (Air-Cooled Chiller)<br>Training Compute: 6.62e+21 FLOP<br>Total Energy Usage Per FLOP: 2.21e-17 kWh",
          "<b>GNMT (2016)</b><br>Cooling: IT Liquid Cooling: Dry Cooler (Air-Cooled Chiller)<br>Training Compute: 6.62e+21 FLOP<br>Total Energy Usage Per FLOP: 2.21e-17 kWh"
         ],
         "marker": {
          "color": "hsl(294.54545454545456,70%,50%)",
          "line": {
           "color": "white",
           "width": 0.5
          },
          "size": 8,
          "symbol": [
           "circle",
           "x",
           "square",
           "diamond",
           "cross",
           "triangle-up",
           "star"
          ]
         },
         "mode": "markers",
         "name": "GNMT (2016)",
         "showlegend": true,
         "type": "scatter",
         "x": {
          "bdata": "mc3bSO9tdkSZzdtI7212RJnN20jvbXZEmc3bSO9tdkSZzdtI7212RJnN20jvbXZEmc3bSO9tdkQ=",
          "dtype": "f8"
         },
         "y": {
          "bdata": "SH0yTCv+ezwWqv5jUUh7PNes6I4mtXo8n8RDMKQQejz2aMEG5296PNoI69AVhnk82gjr0BWGeTw=",
          "dtype": "f8"
         }
        },
        {
         "hovertemplate": "%{hovertext}<extra></extra>",
         "hovertext": [
          "<b>AlphaGo Fan (2015)</b><br>Cooling: Dry Cooler with Adiabatic Assist (Air-Cooled Chiller)<br>Training Compute: 3.80e+20 FLOP<br>Total Energy Usage Per FLOP: 2.90e-17 kWh",
          "<b>AlphaGo Fan (2015)</b><br>Cooling: Airside Economizer & Adiabatic Cooling (Air-Cooled Chiller)<br>Training Compute: 3.80e+20 FLOP<br>Total Energy Usage Per FLOP: 2.83e-17 kWh",
          "<b>AlphaGo Fan (2015)</b><br>Cooling: Airside Economizer & Adiabatic Cooling (Water-Cooled Chiller)<br>Training Compute: 3.80e+20 FLOP<br>Total Energy Usage Per FLOP: 2.77e-17 kWh",
          "<b>AlphaGo Fan (2015)</b><br>Cooling: Waterside Economizer & Adiabatic Cooling (Water-Cooled Chiller)<br>Training Compute: 3.80e+20 FLOP<br>Total Energy Usage Per FLOP: 2.70e-17 kWh",
          "<b>AlphaGo Fan (2015)</b><br>Cooling: IT Liquid Cooling: Waterside Economizer (Water-Cooled Chiller)<br>Training Compute: 3.80e+20 FLOP<br>Total Energy Usage Per FLOP: 2.74e-17 kWh",
          "<b>AlphaGo Fan (2015)</b><br>Cooling: IT Liquid Cooling: Dry Cooler & Adiabitic Assist (Air-Cooled Chiller)<br>Training Compute: 3.80e+20 FLOP<br>Total Energy Usage Per FLOP: 2.65e-17 kWh",
          "<b>AlphaGo Fan (2015)</b><br>Cooling: IT Liquid Cooling: Dry Cooler (Air-Cooled Chiller)<br>Training Compute: 3.80e+20 FLOP<br>Total Energy Usage Per FLOP: 2.65e-17 kWh"
         ],
         "marker": {
          "color": "hsl(327.27272727272725,70%,50%)",
          "line": {
           "color": "white",
           "width": 0.5
          },
          "size": 8,
          "symbol": [
           "circle",
           "x",
           "square",
           "diamond",
           "cross",
           "triangle-up",
           "star"
          ]
         },
         "mode": "markers",
         "name": "AlphaGo Fan (2015)",
         "showlegend": true,
         "type": "scatter",
         "x": {
          "bdata": "cHisMo+ZNERweKwyj5k0RHB4rDKPmTREcHisMo+ZNERweKwyj5k0RHB4rDKPmTREcHisMo+ZNEQ=",
          "dtype": "f8"
         },
         "y": {
          "bdata": "8yl9n1O8gDy5XrEom0+APNCJBi4+7388x6SMpYkqfzxa3J81cZx/PMI9t2bdhH48wj23Zt2Efjw=",
          "dtype": "f8"
         }
        },
        {
         "hoverinfo": "skip",
         "legendgroup": "cooling_Dry Cooler with Adiabatic Assist (Air-Cooled Chiller)",
         "marker": {
          "color": "rgba(0,0,0,0.7)",
          "line": {
           "color": "white",
           "width": 1
          },
          "size": 8,
          "symbol": "circle"
         },
         "mode": "markers",
         "name": "Dry Cooler with Adiabatic Assist (Air-Cooled Chiller)",
         "showlegend": true,
         "type": "scatter",
         "x": [
          null
         ],
         "y": [
          null
         ]
        },
        {
         "hoverinfo": "skip",
         "legendgroup": "cooling_Airside Economizer & Adiabatic Cooling (Air-Cooled Chiller)",
         "marker": {
          "color": "rgba(0,0,0,0.7)",
          "line": {
           "color": "white",
           "width": 1
          },
          "size": 8,
          "symbol": "x"
         },
         "mode": "markers",
         "name": "Airside Economizer & Adiabatic Cooling (Air-Cooled Chiller)",
         "showlegend": true,
         "type": "scatter",
         "x": [
          null
         ],
         "y": [
          null
         ]
        },
        {
         "hoverinfo": "skip",
         "legendgroup": "cooling_Airside Economizer & Adiabatic Cooling (Water-Cooled Chiller)",
         "marker": {
          "color": "rgba(0,0,0,0.7)",
          "line": {
           "color": "white",
           "width": 1
          },
          "size": 8,
          "symbol": "square"
         },
         "mode": "markers",
         "name": "Airside Economizer & Adiabatic Cooling (Water-Cooled Chiller)",
         "showlegend": true,
         "type": "scatter",
         "x": [
          null
         ],
         "y": [
          null
         ]
        },
        {
         "hoverinfo": "skip",
         "legendgroup": "cooling_Waterside Economizer & Adiabatic Cooling (Water-Cooled Chiller)",
         "marker": {
          "color": "rgba(0,0,0,0.7)",
          "line": {
           "color": "white",
           "width": 1
          },
          "size": 8,
          "symbol": "diamond"
         },
         "mode": "markers",
         "name": "Waterside Economizer & Adiabatic Cooling (Water-Cooled Chiller)",
         "showlegend": true,
         "type": "scatter",
         "x": [
          null
         ],
         "y": [
          null
         ]
        },
        {
         "hoverinfo": "skip",
         "legendgroup": "cooling_IT Liquid Cooling: Waterside Economizer (Water-Cooled Chiller)",
         "marker": {
          "color": "rgba(0,0,0,0.7)",
          "line": {
           "color": "white",
           "width": 1
          },
          "size": 8,
          "symbol": "cross"
         },
         "mode": "markers",
         "name": "IT Liquid Cooling: Waterside Economizer (Water-Cooled Chiller)",
         "showlegend": true,
         "type": "scatter",
         "x": [
          null
         ],
         "y": [
          null
         ]
        },
        {
         "hoverinfo": "skip",
         "legendgroup": "cooling_IT Liquid Cooling: Dry Cooler & Adiabitic Assist (Air-Cooled Chiller)",
         "marker": {
          "color": "rgba(0,0,0,0.7)",
          "line": {
           "color": "white",
           "width": 1
          },
          "size": 8,
          "symbol": "triangle-up"
         },
         "mode": "markers",
         "name": "IT Liquid Cooling: Dry Cooler & Adiabitic Assist (Air-Cooled Chiller)",
         "showlegend": true,
         "type": "scatter",
         "x": [
          null
         ],
         "y": [
          null
         ]
        },
        {
         "hoverinfo": "skip",
         "legendgroup": "cooling_IT Liquid Cooling: Dry Cooler (Air-Cooled Chiller)",
         "marker": {
          "color": "rgba(0,0,0,0.7)",
          "line": {
           "color": "white",
           "width": 1
          },
          "size": 8,
          "symbol": "star"
         },
         "mode": "markers",
         "name": "IT Liquid Cooling: Dry Cooler (Air-Cooled Chiller)",
         "showlegend": true,
         "type": "scatter",
         "x": [
          null
         ],
         "y": [
          null
         ]
        }
       ],
       "layout": {
        "height": 600,
        "legend": {
         "bgcolor": "rgba(255,255,255,0.8)",
         "bordercolor": "black",
         "borderwidth": 1,
         "font": {
          "size": 10
         },
         "itemsizing": "constant",
         "orientation": "v",
         "tracegroupgap": 0,
         "x": 1.02,
         "xanchor": "left",
         "y": 1,
         "yanchor": "top"
        },
        "margin": {
         "r": 300
        },
        "template": {
         "data": {
          "bar": [
           {
            "error_x": {
             "color": "#2a3f5f"
            },
            "error_y": {
             "color": "#2a3f5f"
            },
            "marker": {
             "line": {
              "color": "#E5ECF6",
              "width": 0.5
             },
             "pattern": {
              "fillmode": "overlay",
              "size": 10,
              "solidity": 0.2
             }
            },
            "type": "bar"
           }
          ],
          "barpolar": [
           {
            "marker": {
             "line": {
              "color": "#E5ECF6",
              "width": 0.5
             },
             "pattern": {
              "fillmode": "overlay",
              "size": 10,
              "solidity": 0.2
             }
            },
            "type": "barpolar"
           }
          ],
          "carpet": [
           {
            "aaxis": {
             "endlinecolor": "#2a3f5f",
             "gridcolor": "white",
             "linecolor": "white",
             "minorgridcolor": "white",
             "startlinecolor": "#2a3f5f"
            },
            "baxis": {
             "endlinecolor": "#2a3f5f",
             "gridcolor": "white",
             "linecolor": "white",
             "minorgridcolor": "white",
             "startlinecolor": "#2a3f5f"
            },
            "type": "carpet"
           }
          ],
          "choropleth": [
           {
            "colorbar": {
             "outlinewidth": 0,
             "ticks": ""
            },
            "type": "choropleth"
           }
          ],
          "contour": [
           {
            "colorbar": {
             "outlinewidth": 0,
             "ticks": ""
            },
            "colorscale": [
             [
              0,
              "#0d0887"
             ],
             [
              0.1111111111111111,
              "#46039f"
             ],
             [
              0.2222222222222222,
              "#7201a8"
             ],
             [
              0.3333333333333333,
              "#9c179e"
             ],
             [
              0.4444444444444444,
              "#bd3786"
             ],
             [
              0.5555555555555556,
              "#d8576b"
             ],
             [
              0.6666666666666666,
              "#ed7953"
             ],
             [
              0.7777777777777778,
              "#fb9f3a"
             ],
             [
              0.8888888888888888,
              "#fdca26"
             ],
             [
              1,
              "#f0f921"
             ]
            ],
            "type": "contour"
           }
          ],
          "contourcarpet": [
           {
            "colorbar": {
             "outlinewidth": 0,
             "ticks": ""
            },
            "type": "contourcarpet"
           }
          ],
          "heatmap": [
           {
            "colorbar": {
             "outlinewidth": 0,
             "ticks": ""
            },
            "colorscale": [
             [
              0,
              "#0d0887"
             ],
             [
              0.1111111111111111,
              "#46039f"
             ],
             [
              0.2222222222222222,
              "#7201a8"
             ],
             [
              0.3333333333333333,
              "#9c179e"
             ],
             [
              0.4444444444444444,
              "#bd3786"
             ],
             [
              0.5555555555555556,
              "#d8576b"
             ],
             [
              0.6666666666666666,
              "#ed7953"
             ],
             [
              0.7777777777777778,
              "#fb9f3a"
             ],
             [
              0.8888888888888888,
              "#fdca26"
             ],
             [
              1,
              "#f0f921"
             ]
            ],
            "type": "heatmap"
           }
          ],
          "histogram": [
           {
            "marker": {
             "pattern": {
              "fillmode": "overlay",
              "size": 10,
              "solidity": 0.2
             }
            },
            "type": "histogram"
           }
          ],
          "histogram2d": [
           {
            "colorbar": {
             "outlinewidth": 0,
             "ticks": ""
            },
            "colorscale": [
             [
              0,
              "#0d0887"
             ],
             [
              0.1111111111111111,
              "#46039f"
             ],
             [
              0.2222222222222222,
              "#7201a8"
             ],
             [
              0.3333333333333333,
              "#9c179e"
             ],
             [
              0.4444444444444444,
              "#bd3786"
             ],
             [
              0.5555555555555556,
              "#d8576b"
             ],
             [
              0.6666666666666666,
              "#ed7953"
             ],
             [
              0.7777777777777778,
              "#fb9f3a"
             ],
             [
              0.8888888888888888,
              "#fdca26"
             ],
             [
              1,
              "#f0f921"
             ]
            ],
            "type": "histogram2d"
           }
          ],
          "histogram2dcontour": [
           {
            "colorbar": {
             "outlinewidth": 0,
             "ticks": ""
            },
            "colorscale": [
             [
              0,
              "#0d0887"
             ],
             [
              0.1111111111111111,
              "#46039f"
             ],
             [
              0.2222222222222222,
              "#7201a8"
             ],
             [
              0.3333333333333333,
              "#9c179e"
             ],
             [
              0.4444444444444444,
              "#bd3786"
             ],
             [
              0.5555555555555556,
              "#d8576b"
             ],
             [
              0.6666666666666666,
              "#ed7953"
             ],
             [
              0.7777777777777778,
              "#fb9f3a"
             ],
             [
              0.8888888888888888,
              "#fdca26"
             ],
             [
              1,
              "#f0f921"
             ]
            ],
            "type": "histogram2dcontour"
           }
          ],
          "mesh3d": [
           {
            "colorbar": {
             "outlinewidth": 0,
             "ticks": ""
            },
            "type": "mesh3d"
           }
          ],
          "parcoords": [
           {
            "line": {
             "colorbar": {
              "outlinewidth": 0,
              "ticks": ""
             }
            },
            "type": "parcoords"
           }
          ],
          "pie": [
           {
            "automargin": true,
            "type": "pie"
           }
          ],
          "scatter": [
           {
            "fillpattern": {
             "fillmode": "overlay",
             "size": 10,
             "solidity": 0.2
            },
            "type": "scatter"
           }
          ],
          "scatter3d": [
           {
            "line": {
             "colorbar": {
              "outlinewidth": 0,
              "ticks": ""
             }
            },
            "marker": {
             "colorbar": {
              "outlinewidth": 0,
              "ticks": ""
             }
            },
            "type": "scatter3d"
           }
          ],
          "scattercarpet": [
           {
            "marker": {
             "colorbar": {
              "outlinewidth": 0,
              "ticks": ""
             }
            },
            "type": "scattercarpet"
           }
          ],
          "scattergeo": [
           {
            "marker": {
             "colorbar": {
              "outlinewidth": 0,
              "ticks": ""
             }
            },
            "type": "scattergeo"
           }
          ],
          "scattergl": [
           {
            "marker": {
             "colorbar": {
              "outlinewidth": 0,
              "ticks": ""
             }
            },
            "type": "scattergl"
           }
          ],
          "scattermap": [
           {
            "marker": {
             "colorbar": {
              "outlinewidth": 0,
              "ticks": ""
             }
            },
            "type": "scattermap"
           }
          ],
          "scattermapbox": [
           {
            "marker": {
             "colorbar": {
              "outlinewidth": 0,
              "ticks": ""
             }
            },
            "type": "scattermapbox"
           }
          ],
          "scatterpolar": [
           {
            "marker": {
             "colorbar": {
              "outlinewidth": 0,
              "ticks": ""
             }
            },
            "type": "scatterpolar"
           }
          ],
          "scatterpolargl": [
           {
            "marker": {
             "colorbar": {
              "outlinewidth": 0,
              "ticks": ""
             }
            },
            "type": "scatterpolargl"
           }
          ],
          "scatterternary": [
           {
            "marker": {
             "colorbar": {
              "outlinewidth": 0,
              "ticks": ""
             }
            },
            "type": "scatterternary"
           }
          ],
          "surface": [
           {
            "colorbar": {
             "outlinewidth": 0,
             "ticks": ""
            },
            "colorscale": [
             [
              0,
              "#0d0887"
             ],
             [
              0.1111111111111111,
              "#46039f"
             ],
             [
              0.2222222222222222,
              "#7201a8"
             ],
             [
              0.3333333333333333,
              "#9c179e"
             ],
             [
              0.4444444444444444,
              "#bd3786"
             ],
             [
              0.5555555555555556,
              "#d8576b"
             ],
             [
              0.6666666666666666,
              "#ed7953"
             ],
             [
              0.7777777777777778,
              "#fb9f3a"
             ],
             [
              0.8888888888888888,
              "#fdca26"
             ],
             [
              1,
              "#f0f921"
             ]
            ],
            "type": "surface"
           }
          ],
          "table": [
           {
            "cells": {
             "fill": {
              "color": "#EBF0F8"
             },
             "line": {
              "color": "white"
             }
            },
            "header": {
             "fill": {
              "color": "#C8D4E3"
             },
             "line": {
              "color": "white"
             }
            },
            "type": "table"
           }
          ]
         },
         "layout": {
          "annotationdefaults": {
           "arrowcolor": "#2a3f5f",
           "arrowhead": 0,
           "arrowwidth": 1
          },
          "autotypenumbers": "strict",
          "coloraxis": {
           "colorbar": {
            "outlinewidth": 0,
            "ticks": ""
           }
          },
          "colorscale": {
           "diverging": [
            [
             0,
             "#8e0152"
            ],
            [
             0.1,
             "#c51b7d"
            ],
            [
             0.2,
             "#de77ae"
            ],
            [
             0.3,
             "#f1b6da"
            ],
            [
             0.4,
             "#fde0ef"
            ],
            [
             0.5,
             "#f7f7f7"
            ],
            [
             0.6,
             "#e6f5d0"
            ],
            [
             0.7,
             "#b8e186"
            ],
            [
             0.8,
             "#7fbc41"
            ],
            [
             0.9,
             "#4d9221"
            ],
            [
             1,
             "#276419"
            ]
           ],
           "sequential": [
            [
             0,
             "#0d0887"
            ],
            [
             0.1111111111111111,
             "#46039f"
            ],
            [
             0.2222222222222222,
             "#7201a8"
            ],
            [
             0.3333333333333333,
             "#9c179e"
            ],
            [
             0.4444444444444444,
             "#bd3786"
            ],
            [
             0.5555555555555556,
             "#d8576b"
            ],
            [
             0.6666666666666666,
             "#ed7953"
            ],
            [
             0.7777777777777778,
             "#fb9f3a"
            ],
            [
             0.8888888888888888,
             "#fdca26"
            ],
            [
             1,
             "#f0f921"
            ]
           ],
           "sequentialminus": [
            [
             0,
             "#0d0887"
            ],
            [
             0.1111111111111111,
             "#46039f"
            ],
            [
             0.2222222222222222,
             "#7201a8"
            ],
            [
             0.3333333333333333,
             "#9c179e"
            ],
            [
             0.4444444444444444,
             "#bd3786"
            ],
            [
             0.5555555555555556,
             "#d8576b"
            ],
            [
             0.6666666666666666,
             "#ed7953"
            ],
            [
             0.7777777777777778,
             "#fb9f3a"
            ],
            [
             0.8888888888888888,
             "#fdca26"
            ],
            [
             1,
             "#f0f921"
            ]
           ]
          },
          "colorway": [
           "#636efa",
           "#EF553B",
           "#00cc96",
           "#ab63fa",
           "#FFA15A",
           "#19d3f3",
           "#FF6692",
           "#B6E880",
           "#FF97FF",
           "#FECB52"
          ],
          "font": {
           "color": "#2a3f5f"
          },
          "geo": {
           "bgcolor": "white",
           "lakecolor": "white",
           "landcolor": "#E5ECF6",
           "showlakes": true,
           "showland": true,
           "subunitcolor": "white"
          },
          "hoverlabel": {
           "align": "left"
          },
          "hovermode": "closest",
          "mapbox": {
           "style": "light"
          },
          "paper_bgcolor": "white",
          "plot_bgcolor": "#E5ECF6",
          "polar": {
           "angularaxis": {
            "gridcolor": "white",
            "linecolor": "white",
            "ticks": ""
           },
           "bgcolor": "#E5ECF6",
           "radialaxis": {
            "gridcolor": "white",
            "linecolor": "white",
            "ticks": ""
           }
          },
          "scene": {
           "xaxis": {
            "backgroundcolor": "#E5ECF6",
            "gridcolor": "white",
            "gridwidth": 2,
            "linecolor": "white",
            "showbackground": true,
            "ticks": "",
            "zerolinecolor": "white"
           },
           "yaxis": {
            "backgroundcolor": "#E5ECF6",
            "gridcolor": "white",
            "gridwidth": 2,
            "linecolor": "white",
            "showbackground": true,
            "ticks": "",
            "zerolinecolor": "white"
           },
           "zaxis": {
            "backgroundcolor": "#E5ECF6",
            "gridcolor": "white",
            "gridwidth": 2,
            "linecolor": "white",
            "showbackground": true,
            "ticks": "",
            "zerolinecolor": "white"
           }
          },
          "shapedefaults": {
           "line": {
            "color": "#2a3f5f"
           }
          },
          "ternary": {
           "aaxis": {
            "gridcolor": "white",
            "linecolor": "white",
            "ticks": ""
           },
           "baxis": {
            "gridcolor": "white",
            "linecolor": "white",
            "ticks": ""
           },
           "bgcolor": "#E5ECF6",
           "caxis": {
            "gridcolor": "white",
            "linecolor": "white",
            "ticks": ""
           }
          },
          "title": {
           "x": 0.05
          },
          "xaxis": {
           "automargin": true,
           "gridcolor": "white",
           "linecolor": "white",
           "ticks": "",
           "title": {
            "standoff": 15
           },
           "zerolinecolor": "white",
           "zerolinewidth": 2
          },
          "yaxis": {
           "automargin": true,
           "gridcolor": "white",
           "linecolor": "white",
           "ticks": "",
           "title": {
            "standoff": 15
           },
           "zerolinecolor": "white",
           "zerolinewidth": 2
          }
         }
        },
        "title": {
         "text": "Total Energy Usage (kWh) Per FLOP (liters/FLOP) vs FLOP by Cooling System and Model"
        },
        "width": 1000,
        "xaxis": {
         "gridcolor": "lightgray",
         "gridwidth": 1,
         "linecolor": "black",
         "linewidth": 1,
         "mirror": true,
         "showgrid": true,
         "showline": true,
         "title": {
          "text": "Training Compute (FLOP) [log scale]"
         },
         "type": "log"
        },
        "yaxis": {
         "gridcolor": "lightgray",
         "gridwidth": 1,
         "linecolor": "black",
         "linewidth": 1,
         "mirror": true,
         "showgrid": true,
         "showline": true,
         "title": {
          "text": "Total Energy Usage Per FLOP (kWh) [log scale]"
         },
         "type": "log"
        }
       }
      }
     },
     "metadata": {},
     "output_type": "display_data"
    }
   ],
   "source": [
    "fig = create_scatter_plot(\n",
    "    data=combined_notable,\n",
    "    y_column='Total Energy Per FLOP',\n",
    "    y_label='Total Energy Usage Per FLOP',\n",
    "    y_units='kWh',\n",
    "    plot_title='Total Energy Usage (kWh) Per FLOP (liters/FLOP) vs FLOP by Cooling System and Model'\n",
    ")\n",
    "fig.show()"
   ]
  },
  {
   "cell_type": "code",
   "execution_count": 120,
   "id": "7a7830a1",
   "metadata": {},
   "outputs": [
    {
     "data": {
      "application/vnd.plotly.v1+json": {
       "config": {
        "plotlyServerURL": "https://plot.ly"
       },
       "data": [
        {
         "hovertemplate": "%{hovertext}<extra></extra>",
         "hovertext": [
          "<b>Grok-3 (2025)</b><br>Cooling: Dry Cooler with Adiabatic Assist (Air-Cooled Chiller)<br>Training Compute: 4.64e+26 FLOP<br>Water Usage Per FLOP: 6.81e-19 liters/FLOP",
          "<b>Grok-3 (2025)</b><br>Cooling: Airside Economizer & Adiabatic Cooling (Air-Cooled Chiller)<br>Training Compute: 4.64e+26 FLOP<br>Water Usage Per FLOP: 4.54e-20 liters/FLOP",
          "<b>Grok-3 (2025)</b><br>Cooling: Airside Economizer & Adiabatic Cooling (Water-Cooled Chiller)<br>Training Compute: 4.64e+26 FLOP<br>Water Usage Per FLOP: 1.23e-18 liters/FLOP",
          "<b>Grok-3 (2025)</b><br>Cooling: Waterside Economizer & Adiabatic Cooling (Water-Cooled Chiller)<br>Training Compute: 4.64e+26 FLOP<br>Water Usage Per FLOP: 6.33e-18 liters/FLOP",
          "<b>Grok-3 (2025)</b><br>Cooling: IT Liquid Cooling: Waterside Economizer (Water-Cooled Chiller)<br>Training Compute: 4.64e+26 FLOP<br>Water Usage Per FLOP: 5.71e-18 liters/FLOP",
          "<b>Grok-3 (2025)</b><br>Cooling: IT Liquid Cooling: Dry Cooler & Adiabitic Assist (Air-Cooled Chiller)<br>Training Compute: 4.64e+26 FLOP<br>Water Usage Per FLOP: 3.97e-19 liters/FLOP",
          "<b>Grok-3 (2025)</b><br>Cooling: IT Liquid Cooling: Dry Cooler (Air-Cooled Chiller)<br>Training Compute: 4.64e+26 FLOP<br>Water Usage Per FLOP: 0.00e+00 liters/FLOP"
         ],
         "marker": {
          "color": "hsl(0.0,70%,50%)",
          "line": {
           "color": "white",
           "width": 0.5
          },
          "size": 8,
          "symbol": [
           "circle",
           "x",
           "square",
           "diamond",
           "cross",
           "triangle-up",
           "star"
          ]
         },
         "mode": "markers",
         "name": "Grok-3 (2025)",
         "showlegend": true,
         "type": "scatter",
         "x": {
          "bdata": "6zZtJv38d0XrNm0m/fx3Res2bSb9/HdF6zZtJv38d0XrNm0m/fx3Res2bSb9/HdF6zZtJv38d0U=",
          "dtype": "f8"
         },
         "y": {
          "bdata": "ksyEhAQhKTxM0S1T78/qOxEWijapnTY8LnANaDs2XTwzfXUXHFVaPOw1D4QYUR08AAAAAAAAAAA=",
          "dtype": "f8"
         }
        },
        {
         "hovertemplate": "%{hovertext}<extra></extra>",
         "hovertext": [
          "<b>Gemini 1.0 Ultra (2023)</b><br>Cooling: Dry Cooler with Adiabatic Assist (Air-Cooled Chiller)<br>Training Compute: 5.00e+25 FLOP<br>Water Usage Per FLOP: 2.13e-19 liters/FLOP",
          "<b>Gemini 1.0 Ultra (2023)</b><br>Cooling: Airside Economizer & Adiabatic Cooling (Air-Cooled Chiller)<br>Training Compute: 5.00e+25 FLOP<br>Water Usage Per FLOP: 1.42e-20 liters/FLOP",
          "<b>Gemini 1.0 Ultra (2023)</b><br>Cooling: Airside Economizer & Adiabatic Cooling (Water-Cooled Chiller)<br>Training Compute: 5.00e+25 FLOP<br>Water Usage Per FLOP: 3.84e-19 liters/FLOP",
          "<b>Gemini 1.0 Ultra (2023)</b><br>Cooling: Waterside Economizer & Adiabatic Cooling (Water-Cooled Chiller)<br>Training Compute: 5.00e+25 FLOP<br>Water Usage Per FLOP: 1.98e-18 liters/FLOP",
          "<b>Gemini 1.0 Ultra (2023)</b><br>Cooling: IT Liquid Cooling: Waterside Economizer (Water-Cooled Chiller)<br>Training Compute: 5.00e+25 FLOP<br>Water Usage Per FLOP: 1.79e-18 liters/FLOP",
          "<b>Gemini 1.0 Ultra (2023)</b><br>Cooling: IT Liquid Cooling: Dry Cooler & Adiabitic Assist (Air-Cooled Chiller)<br>Training Compute: 5.00e+25 FLOP<br>Water Usage Per FLOP: 1.24e-19 liters/FLOP",
          "<b>Gemini 1.0 Ultra (2023)</b><br>Cooling: IT Liquid Cooling: Dry Cooler (Air-Cooled Chiller)<br>Training Compute: 5.00e+25 FLOP<br>Water Usage Per FLOP: 0.00e+00 liters/FLOP"
         ],
         "marker": {
          "color": "hsl(32.72727272727273,70%,50%)",
          "line": {
           "color": "white",
           "width": 0.5
          },
          "size": 8,
          "symbol": [
           "circle",
           "x",
           "square",
           "diamond",
           "cross",
           "triangle-up",
           "star"
          ]
         },
         "mode": "markers",
         "name": "Gemini 1.0 Ultra (2023)",
         "showlegend": true,
         "type": "scatter",
         "x": {
          "bdata": "9Mkzt/StREX0yTO39K1ERfTJM7f0rURF9Mkzt/StREX0yTO39K1ERfTJM7f0rURF9Mkzt/StREU=",
          "dtype": "f8"
         },
         "y": {
          "bdata": "owypp6N2DzybgqoxF8nQO7xET0sbURw8OQ6GIapJQjwnk1CBMnxAPNjhJXh7WgI8AAAAAAAAAAA=",
          "dtype": "f8"
         }
        },
        {
         "hovertemplate": "%{hovertext}<extra></extra>",
         "hovertext": [
          "<b>GPT-4o (2024)</b><br>Cooling: Dry Cooler with Adiabatic Assist (Air-Cooled Chiller)<br>Training Compute: 3.81e+25 FLOP<br>Water Usage Per FLOP: 5.98e-19 liters/FLOP",
          "<b>GPT-4o (2024)</b><br>Cooling: Airside Economizer & Adiabatic Cooling (Air-Cooled Chiller)<br>Training Compute: 3.81e+25 FLOP<br>Water Usage Per FLOP: 3.98e-20 liters/FLOP",
          "<b>GPT-4o (2024)</b><br>Cooling: Airside Economizer & Adiabatic Cooling (Water-Cooled Chiller)<br>Training Compute: 3.81e+25 FLOP<br>Water Usage Per FLOP: 1.08e-18 liters/FLOP",
          "<b>GPT-4o (2024)</b><br>Cooling: Waterside Economizer & Adiabatic Cooling (Water-Cooled Chiller)<br>Training Compute: 3.81e+25 FLOP<br>Water Usage Per FLOP: 5.56e-18 liters/FLOP",
          "<b>GPT-4o (2024)</b><br>Cooling: IT Liquid Cooling: Waterside Economizer (Water-Cooled Chiller)<br>Training Compute: 3.81e+25 FLOP<br>Water Usage Per FLOP: 5.01e-18 liters/FLOP",
          "<b>GPT-4o (2024)</b><br>Cooling: IT Liquid Cooling: Dry Cooler & Adiabitic Assist (Air-Cooled Chiller)<br>Training Compute: 3.81e+25 FLOP<br>Water Usage Per FLOP: 3.49e-19 liters/FLOP",
          "<b>GPT-4o (2024)</b><br>Cooling: IT Liquid Cooling: Dry Cooler (Air-Cooled Chiller)<br>Training Compute: 3.81e+25 FLOP<br>Water Usage Per FLOP: 0.00e+00 liters/FLOP"
         ],
         "marker": {
          "color": "hsl(65.45454545454545,70%,50%)",
          "line": {
           "color": "white",
           "width": 0.5
          },
          "size": 8,
          "symbol": [
           "circle",
           "x",
           "square",
           "diamond",
           "cross",
           "triangle-up",
           "star"
          ]
         },
         "mode": "markers",
         "name": "GPT-4o (2024)",
         "showlegend": true,
         "type": "scatter",
         "x": {
          "bdata": "lW9Brv2DP0WVb0Gu/YM/RZVvQa79gz9FlW9Brv2DP0WVb0Gu/YM/RZVvQa79gz9FlW9Brv2DP0U=",
          "dtype": "f8"
         },
         "y": {
          "bdata": "wo6tv2ULJjy2An/5a4XnO+svKXIC1zM8Z3hdLlGgWTxSmv08rBlXPPLKCinitxk8AAAAAAAAAAA=",
          "dtype": "f8"
         }
        },
        {
         "hovertemplate": "%{hovertext}<extra></extra>",
         "hovertext": [
          "<b>Minerva (540B) (2022)</b><br>Cooling: Dry Cooler with Adiabatic Assist (Air-Cooled Chiller)<br>Training Compute: 2.74e+24 FLOP<br>Water Usage Per FLOP: 6.80e-19 liters/FLOP",
          "<b>Minerva (540B) (2022)</b><br>Cooling: Airside Economizer & Adiabatic Cooling (Air-Cooled Chiller)<br>Training Compute: 2.74e+24 FLOP<br>Water Usage Per FLOP: 4.53e-20 liters/FLOP",
          "<b>Minerva (540B) (2022)</b><br>Cooling: Airside Economizer & Adiabatic Cooling (Water-Cooled Chiller)<br>Training Compute: 2.74e+24 FLOP<br>Water Usage Per FLOP: 1.22e-18 liters/FLOP",
          "<b>Minerva (540B) (2022)</b><br>Cooling: Waterside Economizer & Adiabatic Cooling (Water-Cooled Chiller)<br>Training Compute: 2.74e+24 FLOP<br>Water Usage Per FLOP: 6.32e-18 liters/FLOP",
          "<b>Minerva (540B) (2022)</b><br>Cooling: IT Liquid Cooling: Waterside Economizer (Water-Cooled Chiller)<br>Training Compute: 2.74e+24 FLOP<br>Water Usage Per FLOP: 5.70e-18 liters/FLOP",
          "<b>Minerva (540B) (2022)</b><br>Cooling: IT Liquid Cooling: Dry Cooler & Adiabitic Assist (Air-Cooled Chiller)<br>Training Compute: 2.74e+24 FLOP<br>Water Usage Per FLOP: 3.97e-19 liters/FLOP",
          "<b>Minerva (540B) (2022)</b><br>Cooling: IT Liquid Cooling: Dry Cooler (Air-Cooled Chiller)<br>Training Compute: 2.74e+24 FLOP<br>Water Usage Per FLOP: 0.00e+00 liters/FLOP"
         ],
         "marker": {
          "color": "hsl(98.18181818181819,70%,50%)",
          "line": {
           "color": "white",
           "width": 0.5
          },
          "size": 8,
          "symbol": [
           "circle",
           "x",
           "square",
           "diamond",
           "cross",
           "triangle-up",
           "star"
          ]
         },
         "mode": "markers",
         "name": "Minerva (540B) (2022)",
         "showlegend": true,
         "type": "scatter",
         "x": {
          "bdata": "3XMzGkgkAkXdczMaSCQCRd1zMxpIJAJF3XMzGkgkAkXdczMaSCQCRd1zMxpIJAJF3XMzGkgkAkU=",
          "dtype": "f8"
         },
         "y": {
          "bdata": "DthKmqYWKTxRcgij38TqO49FVbZUlDY8uEPoSi4qXTxJ4xYTP0paPECBylEARR08AAAAAAAAAAA=",
          "dtype": "f8"
         }
        },
        {
         "hovertemplate": "%{hovertext}<extra></extra>",
         "hovertext": [
          "<b>FLAN 137B (2021)</b><br>Cooling: Dry Cooler with Adiabatic Assist (Air-Cooled Chiller)<br>Training Compute: 2.05e+24 FLOP<br>Water Usage Per FLOP: 5.05e-19 liters/FLOP",
          "<b>FLAN 137B (2021)</b><br>Cooling: Airside Economizer & Adiabatic Cooling (Air-Cooled Chiller)<br>Training Compute: 2.05e+24 FLOP<br>Water Usage Per FLOP: 3.36e-20 liters/FLOP",
          "<b>FLAN 137B (2021)</b><br>Cooling: Airside Economizer & Adiabatic Cooling (Water-Cooled Chiller)<br>Training Compute: 2.05e+24 FLOP<br>Water Usage Per FLOP: 9.08e-19 liters/FLOP",
          "<b>FLAN 137B (2021)</b><br>Cooling: Waterside Economizer & Adiabatic Cooling (Water-Cooled Chiller)<br>Training Compute: 2.05e+24 FLOP<br>Water Usage Per FLOP: 4.69e-18 liters/FLOP",
          "<b>FLAN 137B (2021)</b><br>Cooling: IT Liquid Cooling: Waterside Economizer (Water-Cooled Chiller)<br>Training Compute: 2.05e+24 FLOP<br>Water Usage Per FLOP: 4.23e-18 liters/FLOP",
          "<b>FLAN 137B (2021)</b><br>Cooling: IT Liquid Cooling: Dry Cooler & Adiabitic Assist (Air-Cooled Chiller)<br>Training Compute: 2.05e+24 FLOP<br>Water Usage Per FLOP: 2.94e-19 liters/FLOP",
          "<b>FLAN 137B (2021)</b><br>Cooling: IT Liquid Cooling: Dry Cooler (Air-Cooled Chiller)<br>Training Compute: 2.05e+24 FLOP<br>Water Usage Per FLOP: 0.00e+00 liters/FLOP"
         ],
         "marker": {
          "color": "hsl(130.9090909090909,70%,50%)",
          "line": {
           "color": "white",
           "width": 0.5
          },
          "size": 8,
          "symbol": [
           "circle",
           "x",
           "square",
           "diamond",
           "cross",
           "triangle-up",
           "star"
          ]
         },
         "mode": "markers",
         "name": "FLAN 137B (2021)",
         "showlegend": true,
         "type": "scatter",
         "x": {
          "bdata": "8hJIeoEX+0TyEkh6gRf7RPISSHqBF/tE8hJIeoEX+0TyEkh6gRf7RPISSHqBF/tE8hJIeoEX+0Q=",
          "dtype": "f8"
         },
         "y": {
          "bdata": "zAKtiHidIjxGFlPhr9zjO9tIBRLiwDA8sHQrfr+jVTwHoZJDs4FTPNXNefCltxU8AAAAAAAAAAA=",
          "dtype": "f8"
         }
        },
        {
         "hovertemplate": "%{hovertext}<extra></extra>",
         "hovertext": [
          "<b>AlphaGo Zero (2017)</b><br>Cooling: Dry Cooler with Adiabatic Assist (Air-Cooled Chiller)<br>Training Compute: 3.41e+23 FLOP<br>Water Usage Per FLOP: 1.29e-18 liters/FLOP",
          "<b>AlphaGo Zero (2017)</b><br>Cooling: Airside Economizer & Adiabatic Cooling (Air-Cooled Chiller)<br>Training Compute: 3.41e+23 FLOP<br>Water Usage Per FLOP: 8.59e-20 liters/FLOP",
          "<b>AlphaGo Zero (2017)</b><br>Cooling: Airside Economizer & Adiabatic Cooling (Water-Cooled Chiller)<br>Training Compute: 3.41e+23 FLOP<br>Water Usage Per FLOP: 2.32e-18 liters/FLOP",
          "<b>AlphaGo Zero (2017)</b><br>Cooling: Waterside Economizer & Adiabatic Cooling (Water-Cooled Chiller)<br>Training Compute: 3.41e+23 FLOP<br>Water Usage Per FLOP: 1.20e-17 liters/FLOP",
          "<b>AlphaGo Zero (2017)</b><br>Cooling: IT Liquid Cooling: Waterside Economizer (Water-Cooled Chiller)<br>Training Compute: 3.41e+23 FLOP<br>Water Usage Per FLOP: 1.08e-17 liters/FLOP",
          "<b>AlphaGo Zero (2017)</b><br>Cooling: IT Liquid Cooling: Dry Cooler & Adiabitic Assist (Air-Cooled Chiller)<br>Training Compute: 3.41e+23 FLOP<br>Water Usage Per FLOP: 7.52e-19 liters/FLOP",
          "<b>AlphaGo Zero (2017)</b><br>Cooling: IT Liquid Cooling: Dry Cooler (Air-Cooled Chiller)<br>Training Compute: 3.41e+23 FLOP<br>Water Usage Per FLOP: 0.00e+00 liters/FLOP"
         ],
         "marker": {
          "color": "hsl(163.63636363636363,70%,50%)",
          "line": {
           "color": "white",
           "width": 0.5
          },
          "size": 8,
          "symbol": [
           "circle",
           "x",
           "square",
           "diamond",
           "cross",
           "triangle-up",
           "star"
          ]
         },
         "mode": "markers",
         "name": "AlphaGo Zero (2017)",
         "showlegend": true,
         "type": "scatter",
         "x": {
          "bdata": "YyQeaWkN0kRjJB5paQ3SRGMkHmlpDdJEYyQeaWkN0kRjJB5paQ3SRGMkHmlpDdJEYyQeaWkN0kQ=",
          "dtype": "f8"
         },
         "y": {
          "bdata": "K5vcB8HFNzwGznziaF35O/6l8m4gZUU81LzJ1ouiazzLDbUAN+loPPDgSrb1uys8AAAAAAAAAAA=",
          "dtype": "f8"
         }
        },
        {
         "hovertemplate": "%{hovertext}<extra></extra>",
         "hovertext": [
          "<b>GPT-3 175B (davinci) (2020)</b><br>Cooling: Dry Cooler with Adiabatic Assist (Air-Cooled Chiller)<br>Training Compute: 3.14e+23 FLOP<br>Water Usage Per FLOP: 1.04e-18 liters/FLOP",
          "<b>GPT-3 175B (davinci) (2020)</b><br>Cooling: Airside Economizer & Adiabatic Cooling (Air-Cooled Chiller)<br>Training Compute: 3.14e+23 FLOP<br>Water Usage Per FLOP: 6.93e-20 liters/FLOP",
          "<b>GPT-3 175B (davinci) (2020)</b><br>Cooling: Airside Economizer & Adiabatic Cooling (Water-Cooled Chiller)<br>Training Compute: 3.14e+23 FLOP<br>Water Usage Per FLOP: 1.87e-18 liters/FLOP",
          "<b>GPT-3 175B (davinci) (2020)</b><br>Cooling: Waterside Economizer & Adiabatic Cooling (Water-Cooled Chiller)<br>Training Compute: 3.14e+23 FLOP<br>Water Usage Per FLOP: 9.66e-18 liters/FLOP",
          "<b>GPT-3 175B (davinci) (2020)</b><br>Cooling: IT Liquid Cooling: Waterside Economizer (Water-Cooled Chiller)<br>Training Compute: 3.14e+23 FLOP<br>Water Usage Per FLOP: 8.71e-18 liters/FLOP",
          "<b>GPT-3 175B (davinci) (2020)</b><br>Cooling: IT Liquid Cooling: Dry Cooler & Adiabitic Assist (Air-Cooled Chiller)<br>Training Compute: 3.14e+23 FLOP<br>Water Usage Per FLOP: 6.06e-19 liters/FLOP",
          "<b>GPT-3 175B (davinci) (2020)</b><br>Cooling: IT Liquid Cooling: Dry Cooler (Air-Cooled Chiller)<br>Training Compute: 3.14e+23 FLOP<br>Water Usage Per FLOP: 0.00e+00 liters/FLOP"
         ],
         "marker": {
          "color": "hsl(196.36363636363637,70%,50%)",
          "line": {
           "color": "white",
           "width": 0.5
          },
          "size": 8,
          "symbol": [
           "circle",
           "x",
           "square",
           "diamond",
           "cross",
           "triangle-up",
           "star"
          ]
         },
         "mode": "markers",
         "name": "GPT-3 175B (davinci) (2020)",
         "showlegend": true,
         "type": "scatter",
         "x": {
          "bdata": "xCzJV36f0ETELMlXfp/QRMQsyVd+n9BExCzJV36f0ETELMlXfp/QRMQsyVd+n9BExCzJV36f0EQ=",
          "dtype": "f8"
         },
         "y": {
          "bdata": "2CSAJxwpMzybDj0QrnH0O2Q2rJ+OPkE8OGVBQxNGZjw2o6jrBhRkPGBO9PyOWiY8AAAAAAAAAAA=",
          "dtype": "f8"
         }
        },
        {
         "hovertemplate": "%{hovertext}<extra></extra>",
         "hovertext": [
          "<b>OpenAI Five (2019)</b><br>Cooling: Dry Cooler with Adiabatic Assist (Air-Cooled Chiller)<br>Training Compute: 6.70e+22 FLOP<br>Water Usage Per FLOP: 9.77e-19 liters/FLOP",
          "<b>OpenAI Five (2019)</b><br>Cooling: Airside Economizer & Adiabatic Cooling (Air-Cooled Chiller)<br>Training Compute: 6.70e+22 FLOP<br>Water Usage Per FLOP: 6.52e-20 liters/FLOP",
          "<b>OpenAI Five (2019)</b><br>Cooling: Airside Economizer & Adiabatic Cooling (Water-Cooled Chiller)<br>Training Compute: 6.70e+22 FLOP<br>Water Usage Per FLOP: 1.76e-18 liters/FLOP",
          "<b>OpenAI Five (2019)</b><br>Cooling: Waterside Economizer & Adiabatic Cooling (Water-Cooled Chiller)<br>Training Compute: 6.70e+22 FLOP<br>Water Usage Per FLOP: 9.09e-18 liters/FLOP",
          "<b>OpenAI Five (2019)</b><br>Cooling: IT Liquid Cooling: Waterside Economizer (Water-Cooled Chiller)<br>Training Compute: 6.70e+22 FLOP<br>Water Usage Per FLOP: 8.19e-18 liters/FLOP",
          "<b>OpenAI Five (2019)</b><br>Cooling: IT Liquid Cooling: Dry Cooler & Adiabitic Assist (Air-Cooled Chiller)<br>Training Compute: 6.70e+22 FLOP<br>Water Usage Per FLOP: 5.70e-19 liters/FLOP",
          "<b>OpenAI Five (2019)</b><br>Cooling: IT Liquid Cooling: Dry Cooler (Air-Cooled Chiller)<br>Training Compute: 6.70e+22 FLOP<br>Water Usage Per FLOP: 0.00e+00 liters/FLOP"
         ],
         "marker": {
          "color": "hsl(229.0909090909091,70%,50%)",
          "line": {
           "color": "white",
           "width": 0.5
          },
          "size": 8,
          "symbol": [
           "circle",
           "x",
           "square",
           "diamond",
           "cross",
           "triangle-up",
           "star"
          ]
         },
         "mode": "markers",
         "name": "OpenAI Five (2019)",
         "showlegend": true,
         "type": "scatter",
         "x": {
          "bdata": "iJL1kCdgrESIkvWQJ2CsRIiS9ZAnYKxEiJL1kCdgrESIkvWQJ2CsRIiS9ZAnYKxEiJL1kCdgrEQ=",
          "dtype": "f8"
         },
         "y": {
          "bdata": "9eMLPqEFMjxPNDTJrDrzO9g2Xj06OEA8oXtThzzzZDwwJyBWluJiPMJk7qaABiU8AAAAAAAAAAA=",
          "dtype": "f8"
         }
        },
        {
         "hovertemplate": "%{hovertext}<extra></extra>",
         "hovertext": [
          "<b>ResNeXt-101 32x48d (2018)</b><br>Cooling: Dry Cooler with Adiabatic Assist (Air-Cooled Chiller)<br>Training Compute: 8.74e+21 FLOP<br>Water Usage Per FLOP: 1.04e-18 liters/FLOP",
          "<b>ResNeXt-101 32x48d (2018)</b><br>Cooling: Airside Economizer & Adiabatic Cooling (Air-Cooled Chiller)<br>Training Compute: 8.74e+21 FLOP<br>Water Usage Per FLOP: 6.93e-20 liters/FLOP",
          "<b>ResNeXt-101 32x48d (2018)</b><br>Cooling: Airside Economizer & Adiabatic Cooling (Water-Cooled Chiller)<br>Training Compute: 8.74e+21 FLOP<br>Water Usage Per FLOP: 1.87e-18 liters/FLOP",
          "<b>ResNeXt-101 32x48d (2018)</b><br>Cooling: Waterside Economizer & Adiabatic Cooling (Water-Cooled Chiller)<br>Training Compute: 8.74e+21 FLOP<br>Water Usage Per FLOP: 9.66e-18 liters/FLOP",
          "<b>ResNeXt-101 32x48d (2018)</b><br>Cooling: IT Liquid Cooling: Waterside Economizer (Water-Cooled Chiller)<br>Training Compute: 8.74e+21 FLOP<br>Water Usage Per FLOP: 8.71e-18 liters/FLOP",
          "<b>ResNeXt-101 32x48d (2018)</b><br>Cooling: IT Liquid Cooling: Dry Cooler & Adiabitic Assist (Air-Cooled Chiller)<br>Training Compute: 8.74e+21 FLOP<br>Water Usage Per FLOP: 6.06e-19 liters/FLOP",
          "<b>ResNeXt-101 32x48d (2018)</b><br>Cooling: IT Liquid Cooling: Dry Cooler (Air-Cooled Chiller)<br>Training Compute: 8.74e+21 FLOP<br>Water Usage Per FLOP: 0.00e+00 liters/FLOP"
         ],
         "marker": {
          "color": "hsl(261.8181818181818,70%,50%)",
          "line": {
           "color": "white",
           "width": 0.5
          },
          "size": 8,
          "symbol": [
           "circle",
           "x",
           "square",
           "diamond",
           "cross",
           "triangle-up",
           "star"
          ]
         },
         "mode": "markers",
         "name": "ResNeXt-101 32x48d (2018)",
         "showlegend": true,
         "type": "scatter",
         "x": {
          "bdata": "DhRZ7CqgfUQOFFnsKqB9RA4UWewqoH1EDhRZ7CqgfUQOFFnsKqB9RA4UWewqoH1EDhRZ7CqgfUQ=",
          "dtype": "f8"
         },
         "y": {
          "bdata": "1ySAJxwpMzyaDj0QrnH0O2M2rJ+OPkE8OGVBQxNGZjw1o6jrBhRkPF9O9PyOWiY8AAAAAAAAAAA=",
          "dtype": "f8"
         }
        },
        {
         "hovertemplate": "%{hovertext}<extra></extra>",
         "hovertext": [
          "<b>GNMT (2016)</b><br>Cooling: Dry Cooler with Adiabatic Assist (Air-Cooled Chiller)<br>Training Compute: 6.62e+21 FLOP<br>Water Usage Per FLOP: 4.75e-18 liters/FLOP",
          "<b>GNMT (2016)</b><br>Cooling: Airside Economizer & Adiabatic Cooling (Air-Cooled Chiller)<br>Training Compute: 6.62e+21 FLOP<br>Water Usage Per FLOP: 3.17e-19 liters/FLOP",
          "<b>GNMT (2016)</b><br>Cooling: Airside Economizer & Adiabatic Cooling (Water-Cooled Chiller)<br>Training Compute: 6.62e+21 FLOP<br>Water Usage Per FLOP: 8.55e-18 liters/FLOP",
          "<b>GNMT (2016)</b><br>Cooling: Waterside Economizer & Adiabatic Cooling (Water-Cooled Chiller)<br>Training Compute: 6.62e+21 FLOP<br>Water Usage Per FLOP: 4.42e-17 liters/FLOP",
          "<b>GNMT (2016)</b><br>Cooling: IT Liquid Cooling: Waterside Economizer (Water-Cooled Chiller)<br>Training Compute: 6.62e+21 FLOP<br>Water Usage Per FLOP: 3.98e-17 liters/FLOP",
          "<b>GNMT (2016)</b><br>Cooling: IT Liquid Cooling: Dry Cooler & Adiabitic Assist (Air-Cooled Chiller)<br>Training Compute: 6.62e+21 FLOP<br>Water Usage Per FLOP: 2.77e-18 liters/FLOP",
          "<b>GNMT (2016)</b><br>Cooling: IT Liquid Cooling: Dry Cooler (Air-Cooled Chiller)<br>Training Compute: 6.62e+21 FLOP<br>Water Usage Per FLOP: 0.00e+00 liters/FLOP"
         ],
         "marker": {
          "color": "hsl(294.54545454545456,70%,50%)",
          "line": {
           "color": "white",
           "width": 0.5
          },
          "size": 8,
          "symbol": [
           "circle",
           "x",
           "square",
           "diamond",
           "cross",
           "triangle-up",
           "star"
          ]
         },
         "mode": "markers",
         "name": "GNMT (2016)",
         "showlegend": true,
         "type": "scatter",
         "x": {
          "bdata": "mc3bSO9tdkSZzdtI7212RJnN20jvbXZEmc3bSO9tdkSZzdtI7212RJnN20jvbXZEmc3bSO9tdkQ=",
          "dtype": "f8"
         },
         "y": {
          "bdata": "tiGX4FnmVTwiAuPS5F0XPIdB5gqrtWM899cyZ0B1iTzFV4sp2vKGPPthTcepjEk8AAAAAAAAAAA=",
          "dtype": "f8"
         }
        },
        {
         "hovertemplate": "%{hovertext}<extra></extra>",
         "hovertext": [
          "<b>AlphaGo Fan (2015)</b><br>Cooling: Dry Cooler with Adiabatic Assist (Air-Cooled Chiller)<br>Training Compute: 3.80e+20 FLOP<br>Water Usage Per FLOP: 5.68e-18 liters/FLOP",
          "<b>AlphaGo Fan (2015)</b><br>Cooling: Airside Economizer & Adiabatic Cooling (Air-Cooled Chiller)<br>Training Compute: 3.80e+20 FLOP<br>Water Usage Per FLOP: 3.79e-19 liters/FLOP",
          "<b>AlphaGo Fan (2015)</b><br>Cooling: Airside Economizer & Adiabatic Cooling (Water-Cooled Chiller)<br>Training Compute: 3.80e+20 FLOP<br>Water Usage Per FLOP: 1.02e-17 liters/FLOP",
          "<b>AlphaGo Fan (2015)</b><br>Cooling: Waterside Economizer & Adiabatic Cooling (Water-Cooled Chiller)<br>Training Compute: 3.80e+20 FLOP<br>Water Usage Per FLOP: 5.28e-17 liters/FLOP",
          "<b>AlphaGo Fan (2015)</b><br>Cooling: IT Liquid Cooling: Waterside Economizer (Water-Cooled Chiller)<br>Training Compute: 3.80e+20 FLOP<br>Water Usage Per FLOP: 4.76e-17 liters/FLOP",
          "<b>AlphaGo Fan (2015)</b><br>Cooling: IT Liquid Cooling: Dry Cooler & Adiabitic Assist (Air-Cooled Chiller)<br>Training Compute: 3.80e+20 FLOP<br>Water Usage Per FLOP: 3.31e-18 liters/FLOP",
          "<b>AlphaGo Fan (2015)</b><br>Cooling: IT Liquid Cooling: Dry Cooler (Air-Cooled Chiller)<br>Training Compute: 3.80e+20 FLOP<br>Water Usage Per FLOP: 0.00e+00 liters/FLOP"
         ],
         "marker": {
          "color": "hsl(327.27272727272725,70%,50%)",
          "line": {
           "color": "white",
           "width": 0.5
          },
          "size": 8,
          "symbol": [
           "circle",
           "x",
           "square",
           "diamond",
           "cross",
           "triangle-up",
           "star"
          ]
         },
         "mode": "markers",
         "name": "AlphaGo Fan (2015)",
         "showlegend": true,
         "type": "scatter",
         "x": {
          "bdata": "cHisMo+ZNERweKwyj5k0RHB4rDKPmTREcHisMo+ZNERweKwyj5k0RHB4rDKPmTREcHisMo+ZNEQ=",
          "dtype": "f8"
         },
         "y": {
          "bdata": "crYKk5AvWjyxPHPImvAbPO0AUKwmkWc8GPPdmLxwjjzaty4snXCLPGdvLO66jE48AAAAAAAAAAA=",
          "dtype": "f8"
         }
        },
        {
         "hoverinfo": "skip",
         "legendgroup": "cooling_Dry Cooler with Adiabatic Assist (Air-Cooled Chiller)",
         "marker": {
          "color": "rgba(0,0,0,0.7)",
          "line": {
           "color": "white",
           "width": 1
          },
          "size": 8,
          "symbol": "circle"
         },
         "mode": "markers",
         "name": "Dry Cooler with Adiabatic Assist (Air-Cooled Chiller)",
         "showlegend": true,
         "type": "scatter",
         "x": [
          null
         ],
         "y": [
          null
         ]
        },
        {
         "hoverinfo": "skip",
         "legendgroup": "cooling_Airside Economizer & Adiabatic Cooling (Air-Cooled Chiller)",
         "marker": {
          "color": "rgba(0,0,0,0.7)",
          "line": {
           "color": "white",
           "width": 1
          },
          "size": 8,
          "symbol": "x"
         },
         "mode": "markers",
         "name": "Airside Economizer & Adiabatic Cooling (Air-Cooled Chiller)",
         "showlegend": true,
         "type": "scatter",
         "x": [
          null
         ],
         "y": [
          null
         ]
        },
        {
         "hoverinfo": "skip",
         "legendgroup": "cooling_Airside Economizer & Adiabatic Cooling (Water-Cooled Chiller)",
         "marker": {
          "color": "rgba(0,0,0,0.7)",
          "line": {
           "color": "white",
           "width": 1
          },
          "size": 8,
          "symbol": "square"
         },
         "mode": "markers",
         "name": "Airside Economizer & Adiabatic Cooling (Water-Cooled Chiller)",
         "showlegend": true,
         "type": "scatter",
         "x": [
          null
         ],
         "y": [
          null
         ]
        },
        {
         "hoverinfo": "skip",
         "legendgroup": "cooling_Waterside Economizer & Adiabatic Cooling (Water-Cooled Chiller)",
         "marker": {
          "color": "rgba(0,0,0,0.7)",
          "line": {
           "color": "white",
           "width": 1
          },
          "size": 8,
          "symbol": "diamond"
         },
         "mode": "markers",
         "name": "Waterside Economizer & Adiabatic Cooling (Water-Cooled Chiller)",
         "showlegend": true,
         "type": "scatter",
         "x": [
          null
         ],
         "y": [
          null
         ]
        },
        {
         "hoverinfo": "skip",
         "legendgroup": "cooling_IT Liquid Cooling: Waterside Economizer (Water-Cooled Chiller)",
         "marker": {
          "color": "rgba(0,0,0,0.7)",
          "line": {
           "color": "white",
           "width": 1
          },
          "size": 8,
          "symbol": "cross"
         },
         "mode": "markers",
         "name": "IT Liquid Cooling: Waterside Economizer (Water-Cooled Chiller)",
         "showlegend": true,
         "type": "scatter",
         "x": [
          null
         ],
         "y": [
          null
         ]
        },
        {
         "hoverinfo": "skip",
         "legendgroup": "cooling_IT Liquid Cooling: Dry Cooler & Adiabitic Assist (Air-Cooled Chiller)",
         "marker": {
          "color": "rgba(0,0,0,0.7)",
          "line": {
           "color": "white",
           "width": 1
          },
          "size": 8,
          "symbol": "triangle-up"
         },
         "mode": "markers",
         "name": "IT Liquid Cooling: Dry Cooler & Adiabitic Assist (Air-Cooled Chiller)",
         "showlegend": true,
         "type": "scatter",
         "x": [
          null
         ],
         "y": [
          null
         ]
        },
        {
         "hoverinfo": "skip",
         "legendgroup": "cooling_IT Liquid Cooling: Dry Cooler (Air-Cooled Chiller)",
         "marker": {
          "color": "rgba(0,0,0,0.7)",
          "line": {
           "color": "white",
           "width": 1
          },
          "size": 8,
          "symbol": "star"
         },
         "mode": "markers",
         "name": "IT Liquid Cooling: Dry Cooler (Air-Cooled Chiller)",
         "showlegend": true,
         "type": "scatter",
         "x": [
          null
         ],
         "y": [
          null
         ]
        }
       ],
       "layout": {
        "height": 600,
        "legend": {
         "bgcolor": "rgba(255,255,255,0.8)",
         "bordercolor": "black",
         "borderwidth": 1,
         "font": {
          "size": 10
         },
         "itemsizing": "constant",
         "orientation": "v",
         "tracegroupgap": 0,
         "x": 1.02,
         "xanchor": "left",
         "y": 1,
         "yanchor": "top"
        },
        "margin": {
         "r": 300
        },
        "template": {
         "data": {
          "bar": [
           {
            "error_x": {
             "color": "#2a3f5f"
            },
            "error_y": {
             "color": "#2a3f5f"
            },
            "marker": {
             "line": {
              "color": "#E5ECF6",
              "width": 0.5
             },
             "pattern": {
              "fillmode": "overlay",
              "size": 10,
              "solidity": 0.2
             }
            },
            "type": "bar"
           }
          ],
          "barpolar": [
           {
            "marker": {
             "line": {
              "color": "#E5ECF6",
              "width": 0.5
             },
             "pattern": {
              "fillmode": "overlay",
              "size": 10,
              "solidity": 0.2
             }
            },
            "type": "barpolar"
           }
          ],
          "carpet": [
           {
            "aaxis": {
             "endlinecolor": "#2a3f5f",
             "gridcolor": "white",
             "linecolor": "white",
             "minorgridcolor": "white",
             "startlinecolor": "#2a3f5f"
            },
            "baxis": {
             "endlinecolor": "#2a3f5f",
             "gridcolor": "white",
             "linecolor": "white",
             "minorgridcolor": "white",
             "startlinecolor": "#2a3f5f"
            },
            "type": "carpet"
           }
          ],
          "choropleth": [
           {
            "colorbar": {
             "outlinewidth": 0,
             "ticks": ""
            },
            "type": "choropleth"
           }
          ],
          "contour": [
           {
            "colorbar": {
             "outlinewidth": 0,
             "ticks": ""
            },
            "colorscale": [
             [
              0,
              "#0d0887"
             ],
             [
              0.1111111111111111,
              "#46039f"
             ],
             [
              0.2222222222222222,
              "#7201a8"
             ],
             [
              0.3333333333333333,
              "#9c179e"
             ],
             [
              0.4444444444444444,
              "#bd3786"
             ],
             [
              0.5555555555555556,
              "#d8576b"
             ],
             [
              0.6666666666666666,
              "#ed7953"
             ],
             [
              0.7777777777777778,
              "#fb9f3a"
             ],
             [
              0.8888888888888888,
              "#fdca26"
             ],
             [
              1,
              "#f0f921"
             ]
            ],
            "type": "contour"
           }
          ],
          "contourcarpet": [
           {
            "colorbar": {
             "outlinewidth": 0,
             "ticks": ""
            },
            "type": "contourcarpet"
           }
          ],
          "heatmap": [
           {
            "colorbar": {
             "outlinewidth": 0,
             "ticks": ""
            },
            "colorscale": [
             [
              0,
              "#0d0887"
             ],
             [
              0.1111111111111111,
              "#46039f"
             ],
             [
              0.2222222222222222,
              "#7201a8"
             ],
             [
              0.3333333333333333,
              "#9c179e"
             ],
             [
              0.4444444444444444,
              "#bd3786"
             ],
             [
              0.5555555555555556,
              "#d8576b"
             ],
             [
              0.6666666666666666,
              "#ed7953"
             ],
             [
              0.7777777777777778,
              "#fb9f3a"
             ],
             [
              0.8888888888888888,
              "#fdca26"
             ],
             [
              1,
              "#f0f921"
             ]
            ],
            "type": "heatmap"
           }
          ],
          "histogram": [
           {
            "marker": {
             "pattern": {
              "fillmode": "overlay",
              "size": 10,
              "solidity": 0.2
             }
            },
            "type": "histogram"
           }
          ],
          "histogram2d": [
           {
            "colorbar": {
             "outlinewidth": 0,
             "ticks": ""
            },
            "colorscale": [
             [
              0,
              "#0d0887"
             ],
             [
              0.1111111111111111,
              "#46039f"
             ],
             [
              0.2222222222222222,
              "#7201a8"
             ],
             [
              0.3333333333333333,
              "#9c179e"
             ],
             [
              0.4444444444444444,
              "#bd3786"
             ],
             [
              0.5555555555555556,
              "#d8576b"
             ],
             [
              0.6666666666666666,
              "#ed7953"
             ],
             [
              0.7777777777777778,
              "#fb9f3a"
             ],
             [
              0.8888888888888888,
              "#fdca26"
             ],
             [
              1,
              "#f0f921"
             ]
            ],
            "type": "histogram2d"
           }
          ],
          "histogram2dcontour": [
           {
            "colorbar": {
             "outlinewidth": 0,
             "ticks": ""
            },
            "colorscale": [
             [
              0,
              "#0d0887"
             ],
             [
              0.1111111111111111,
              "#46039f"
             ],
             [
              0.2222222222222222,
              "#7201a8"
             ],
             [
              0.3333333333333333,
              "#9c179e"
             ],
             [
              0.4444444444444444,
              "#bd3786"
             ],
             [
              0.5555555555555556,
              "#d8576b"
             ],
             [
              0.6666666666666666,
              "#ed7953"
             ],
             [
              0.7777777777777778,
              "#fb9f3a"
             ],
             [
              0.8888888888888888,
              "#fdca26"
             ],
             [
              1,
              "#f0f921"
             ]
            ],
            "type": "histogram2dcontour"
           }
          ],
          "mesh3d": [
           {
            "colorbar": {
             "outlinewidth": 0,
             "ticks": ""
            },
            "type": "mesh3d"
           }
          ],
          "parcoords": [
           {
            "line": {
             "colorbar": {
              "outlinewidth": 0,
              "ticks": ""
             }
            },
            "type": "parcoords"
           }
          ],
          "pie": [
           {
            "automargin": true,
            "type": "pie"
           }
          ],
          "scatter": [
           {
            "fillpattern": {
             "fillmode": "overlay",
             "size": 10,
             "solidity": 0.2
            },
            "type": "scatter"
           }
          ],
          "scatter3d": [
           {
            "line": {
             "colorbar": {
              "outlinewidth": 0,
              "ticks": ""
             }
            },
            "marker": {
             "colorbar": {
              "outlinewidth": 0,
              "ticks": ""
             }
            },
            "type": "scatter3d"
           }
          ],
          "scattercarpet": [
           {
            "marker": {
             "colorbar": {
              "outlinewidth": 0,
              "ticks": ""
             }
            },
            "type": "scattercarpet"
           }
          ],
          "scattergeo": [
           {
            "marker": {
             "colorbar": {
              "outlinewidth": 0,
              "ticks": ""
             }
            },
            "type": "scattergeo"
           }
          ],
          "scattergl": [
           {
            "marker": {
             "colorbar": {
              "outlinewidth": 0,
              "ticks": ""
             }
            },
            "type": "scattergl"
           }
          ],
          "scattermap": [
           {
            "marker": {
             "colorbar": {
              "outlinewidth": 0,
              "ticks": ""
             }
            },
            "type": "scattermap"
           }
          ],
          "scattermapbox": [
           {
            "marker": {
             "colorbar": {
              "outlinewidth": 0,
              "ticks": ""
             }
            },
            "type": "scattermapbox"
           }
          ],
          "scatterpolar": [
           {
            "marker": {
             "colorbar": {
              "outlinewidth": 0,
              "ticks": ""
             }
            },
            "type": "scatterpolar"
           }
          ],
          "scatterpolargl": [
           {
            "marker": {
             "colorbar": {
              "outlinewidth": 0,
              "ticks": ""
             }
            },
            "type": "scatterpolargl"
           }
          ],
          "scatterternary": [
           {
            "marker": {
             "colorbar": {
              "outlinewidth": 0,
              "ticks": ""
             }
            },
            "type": "scatterternary"
           }
          ],
          "surface": [
           {
            "colorbar": {
             "outlinewidth": 0,
             "ticks": ""
            },
            "colorscale": [
             [
              0,
              "#0d0887"
             ],
             [
              0.1111111111111111,
              "#46039f"
             ],
             [
              0.2222222222222222,
              "#7201a8"
             ],
             [
              0.3333333333333333,
              "#9c179e"
             ],
             [
              0.4444444444444444,
              "#bd3786"
             ],
             [
              0.5555555555555556,
              "#d8576b"
             ],
             [
              0.6666666666666666,
              "#ed7953"
             ],
             [
              0.7777777777777778,
              "#fb9f3a"
             ],
             [
              0.8888888888888888,
              "#fdca26"
             ],
             [
              1,
              "#f0f921"
             ]
            ],
            "type": "surface"
           }
          ],
          "table": [
           {
            "cells": {
             "fill": {
              "color": "#EBF0F8"
             },
             "line": {
              "color": "white"
             }
            },
            "header": {
             "fill": {
              "color": "#C8D4E3"
             },
             "line": {
              "color": "white"
             }
            },
            "type": "table"
           }
          ]
         },
         "layout": {
          "annotationdefaults": {
           "arrowcolor": "#2a3f5f",
           "arrowhead": 0,
           "arrowwidth": 1
          },
          "autotypenumbers": "strict",
          "coloraxis": {
           "colorbar": {
            "outlinewidth": 0,
            "ticks": ""
           }
          },
          "colorscale": {
           "diverging": [
            [
             0,
             "#8e0152"
            ],
            [
             0.1,
             "#c51b7d"
            ],
            [
             0.2,
             "#de77ae"
            ],
            [
             0.3,
             "#f1b6da"
            ],
            [
             0.4,
             "#fde0ef"
            ],
            [
             0.5,
             "#f7f7f7"
            ],
            [
             0.6,
             "#e6f5d0"
            ],
            [
             0.7,
             "#b8e186"
            ],
            [
             0.8,
             "#7fbc41"
            ],
            [
             0.9,
             "#4d9221"
            ],
            [
             1,
             "#276419"
            ]
           ],
           "sequential": [
            [
             0,
             "#0d0887"
            ],
            [
             0.1111111111111111,
             "#46039f"
            ],
            [
             0.2222222222222222,
             "#7201a8"
            ],
            [
             0.3333333333333333,
             "#9c179e"
            ],
            [
             0.4444444444444444,
             "#bd3786"
            ],
            [
             0.5555555555555556,
             "#d8576b"
            ],
            [
             0.6666666666666666,
             "#ed7953"
            ],
            [
             0.7777777777777778,
             "#fb9f3a"
            ],
            [
             0.8888888888888888,
             "#fdca26"
            ],
            [
             1,
             "#f0f921"
            ]
           ],
           "sequentialminus": [
            [
             0,
             "#0d0887"
            ],
            [
             0.1111111111111111,
             "#46039f"
            ],
            [
             0.2222222222222222,
             "#7201a8"
            ],
            [
             0.3333333333333333,
             "#9c179e"
            ],
            [
             0.4444444444444444,
             "#bd3786"
            ],
            [
             0.5555555555555556,
             "#d8576b"
            ],
            [
             0.6666666666666666,
             "#ed7953"
            ],
            [
             0.7777777777777778,
             "#fb9f3a"
            ],
            [
             0.8888888888888888,
             "#fdca26"
            ],
            [
             1,
             "#f0f921"
            ]
           ]
          },
          "colorway": [
           "#636efa",
           "#EF553B",
           "#00cc96",
           "#ab63fa",
           "#FFA15A",
           "#19d3f3",
           "#FF6692",
           "#B6E880",
           "#FF97FF",
           "#FECB52"
          ],
          "font": {
           "color": "#2a3f5f"
          },
          "geo": {
           "bgcolor": "white",
           "lakecolor": "white",
           "landcolor": "#E5ECF6",
           "showlakes": true,
           "showland": true,
           "subunitcolor": "white"
          },
          "hoverlabel": {
           "align": "left"
          },
          "hovermode": "closest",
          "mapbox": {
           "style": "light"
          },
          "paper_bgcolor": "white",
          "plot_bgcolor": "#E5ECF6",
          "polar": {
           "angularaxis": {
            "gridcolor": "white",
            "linecolor": "white",
            "ticks": ""
           },
           "bgcolor": "#E5ECF6",
           "radialaxis": {
            "gridcolor": "white",
            "linecolor": "white",
            "ticks": ""
           }
          },
          "scene": {
           "xaxis": {
            "backgroundcolor": "#E5ECF6",
            "gridcolor": "white",
            "gridwidth": 2,
            "linecolor": "white",
            "showbackground": true,
            "ticks": "",
            "zerolinecolor": "white"
           },
           "yaxis": {
            "backgroundcolor": "#E5ECF6",
            "gridcolor": "white",
            "gridwidth": 2,
            "linecolor": "white",
            "showbackground": true,
            "ticks": "",
            "zerolinecolor": "white"
           },
           "zaxis": {
            "backgroundcolor": "#E5ECF6",
            "gridcolor": "white",
            "gridwidth": 2,
            "linecolor": "white",
            "showbackground": true,
            "ticks": "",
            "zerolinecolor": "white"
           }
          },
          "shapedefaults": {
           "line": {
            "color": "#2a3f5f"
           }
          },
          "ternary": {
           "aaxis": {
            "gridcolor": "white",
            "linecolor": "white",
            "ticks": ""
           },
           "baxis": {
            "gridcolor": "white",
            "linecolor": "white",
            "ticks": ""
           },
           "bgcolor": "#E5ECF6",
           "caxis": {
            "gridcolor": "white",
            "linecolor": "white",
            "ticks": ""
           }
          },
          "title": {
           "x": 0.05
          },
          "xaxis": {
           "automargin": true,
           "gridcolor": "white",
           "linecolor": "white",
           "ticks": "",
           "title": {
            "standoff": 15
           },
           "zerolinecolor": "white",
           "zerolinewidth": 2
          },
          "yaxis": {
           "automargin": true,
           "gridcolor": "white",
           "linecolor": "white",
           "ticks": "",
           "title": {
            "standoff": 15
           },
           "zerolinecolor": "white",
           "zerolinewidth": 2
          }
         }
        },
        "title": {
         "text": "Water Usage (liters) (Scope 1) Per FLOP vs FLOP by Cooling System and Model"
        },
        "width": 1000,
        "xaxis": {
         "gridcolor": "lightgray",
         "gridwidth": 1,
         "linecolor": "black",
         "linewidth": 1,
         "mirror": true,
         "showgrid": true,
         "showline": true,
         "title": {
          "text": "Training Compute (FLOP) [log scale]"
         },
         "type": "log"
        },
        "yaxis": {
         "gridcolor": "lightgray",
         "gridwidth": 1,
         "linecolor": "black",
         "linewidth": 1,
         "mirror": true,
         "showgrid": true,
         "showline": true,
         "title": {
          "text": "Water Usage Per FLOP (liters/FLOP) [log scale]"
         },
         "type": "log"
        }
       }
      }
     },
     "metadata": {},
     "output_type": "display_data"
    }
   ],
   "source": [
    "fig = create_scatter_plot(\n",
    "    data=combined_notable,\n",
    "    y_column='Water Usage Per FLOP',\n",
    "    y_label='Water Usage Per FLOP',\n",
    "    y_units='liters/FLOP',\n",
    "    plot_title='Water Usage (liters) (Scope 1) Per FLOP vs FLOP by Cooling System and Model'\n",
    ")\n",
    "fig.show()"
   ]
  },
  {
   "cell_type": "code",
   "execution_count": 98,
   "id": "490520b4",
   "metadata": {},
   "outputs": [],
   "source": [
    "GAL_IN_LITERS = 3.78541\n",
    "\n",
    "combined_notable['Water Usage (Scope 2) - Hydropower'] = 4.491 * combined_notable['Total Energy (kWh)'] * GAL_IN_LITERS\n",
    "combined_notable['Total Water Usage - Hydropower'] = combined_notable['Water Usage'] + combined_notable['Water Usage (Scope 2) - Hydropower']\n",
    "combined_notable['Water Usage (Scope 2) Per FLOP - Hydropower'] = combined_notable['Water Usage (Scope 2) - Hydropower'] / combined_notable['Training compute (FLOP)']\n",
    "combined_notable['Total Water Usage Per FLOP - Hydropower'] = combined_notable['Total Water Usage - Hydropower'] / combined_notable['Training compute (FLOP)']\n",
    "\n",
    "combined_notable['Water Usage (Scope 2) - CSP'] = 0.026 * combined_notable['Total Energy (kWh)'] * GAL_IN_LITERS\n",
    "combined_notable['Total Water Usage - CSP'] = combined_notable['Water Usage'] + combined_notable['Water Usage (Scope 2) - CSP']\n",
    "combined_notable['Water Usage (Scope 2) Per FLOP - CSP'] = combined_notable['Water Usage (Scope 2) - CSP'] / combined_notable['Training compute (FLOP)']\n",
    "combined_notable['Total Water Usage Per FLOP - CSP'] = combined_notable['Total Water Usage - CSP'] / combined_notable['Training compute (FLOP)']\n",
    "\n",
    "combined_notable['Water Usage (Scope 2) - Nuclear'] = 0.269 * combined_notable['Total Energy (kWh)'] * GAL_IN_LITERS\n",
    "combined_notable['Total Water Usage - Nuclear'] = combined_notable['Water Usage'] + combined_notable['Water Usage (Scope 2) - Nuclear']\n",
    "combined_notable['Water Usage (Scope 2) Per FLOP - Nuclear'] = combined_notable['Water Usage (Scope 2) - Nuclear'] / combined_notable['Training compute (FLOP)']\n",
    "combined_notable['Total Water Usage Per FLOP - Nuclear'] = combined_notable['Total Water Usage - Nuclear'] / combined_notable['Training compute (FLOP)']"
   ]
  },
  {
   "cell_type": "code",
   "execution_count": 121,
   "id": "9ddaee58",
   "metadata": {},
   "outputs": [
    {
     "data": {
      "application/vnd.plotly.v1+json": {
       "config": {
        "plotlyServerURL": "https://plot.ly"
       },
       "data": [
        {
         "hovertemplate": "%{hovertext}<extra></extra>",
         "hovertext": [
          "<b>Grok-3 (2025)</b><br>Series: Hydropower<br>Cooling: Dry Cooler with Adiabatic Assist (Air-Cooled Chiller)<br>Training Compute: 4.64e+26 FLOP<br>Hydropower: 5.99e-17 liters",
          "<b>Grok-3 (2025)</b><br>Series: Hydropower<br>Cooling: Airside Economizer & Adiabatic Cooling (Air-Cooled Chiller)<br>Training Compute: 4.64e+26 FLOP<br>Hydropower: 5.77e-17 liters",
          "<b>Grok-3 (2025)</b><br>Series: Hydropower<br>Cooling: Airside Economizer & Adiabatic Cooling (Water-Cooled Chiller)<br>Training Compute: 4.64e+26 FLOP<br>Hydropower: 5.77e-17 liters",
          "<b>Grok-3 (2025)</b><br>Series: Hydropower<br>Cooling: Waterside Economizer & Adiabatic Cooling (Water-Cooled Chiller)<br>Training Compute: 4.64e+26 FLOP<br>Hydropower: 6.15e-17 liters",
          "<b>Grok-3 (2025)</b><br>Series: Hydropower<br>Cooling: IT Liquid Cooling: Waterside Economizer (Water-Cooled Chiller)<br>Training Compute: 4.64e+26 FLOP<br>Hydropower: 6.16e-17 liters",
          "<b>Grok-3 (2025)</b><br>Series: Hydropower<br>Cooling: IT Liquid Cooling: Dry Cooler & Adiabitic Assist (Air-Cooled Chiller)<br>Training Compute: 4.64e+26 FLOP<br>Hydropower: 5.44e-17 liters",
          "<b>Grok-3 (2025)</b><br>Series: Hydropower<br>Cooling: IT Liquid Cooling: Dry Cooler (Air-Cooled Chiller)<br>Training Compute: 4.64e+26 FLOP<br>Hydropower: 5.40e-17 liters"
         ],
         "legendgroup": "model_Grok-3 (2025)",
         "marker": {
          "color": "hsl(0.0,70%,50%)",
          "line": {
           "color": "white",
           "width": 0.5
          },
          "size": 8,
          "symbol": [
           "circle",
           "x",
           "square",
           "diamond",
           "cross",
           "triangle-up",
           "star"
          ]
         },
         "mode": "markers",
         "name": "Grok-3 (2025)",
         "showlegend": true,
         "type": "scatter",
         "x": {
          "bdata": "6zZtJv38d0XrNm0m/fx3Res2bSb9/HdF6zZtJv38d0XrNm0m/fx3Res2bSb9/HdF6zZtJv38d0U=",
          "dtype": "f8"
         },
         "y": {
          "bdata": "ByJyl7VCkTyDbK2U8qSQPNBOreRYopA8gAQJT/22kTxOVOlp/cKRPMWYiFroWI88WXqAKUYejzw=",
          "dtype": "f8"
         }
        },
        {
         "hovertemplate": "%{hovertext}<extra></extra>",
         "hovertext": [
          "<b>Gemini 1.0 Ultra (2023)</b><br>Series: Hydropower<br>Cooling: Dry Cooler with Adiabatic Assist (Air-Cooled Chiller)<br>Training Compute: 5.00e+25 FLOP<br>Hydropower: 1.87e-17 liters",
          "<b>Gemini 1.0 Ultra (2023)</b><br>Series: Hydropower<br>Cooling: Airside Economizer & Adiabatic Cooling (Air-Cooled Chiller)<br>Training Compute: 5.00e+25 FLOP<br>Hydropower: 1.81e-17 liters",
          "<b>Gemini 1.0 Ultra (2023)</b><br>Series: Hydropower<br>Cooling: Airside Economizer & Adiabatic Cooling (Water-Cooled Chiller)<br>Training Compute: 5.00e+25 FLOP<br>Hydropower: 1.81e-17 liters",
          "<b>Gemini 1.0 Ultra (2023)</b><br>Series: Hydropower<br>Cooling: Waterside Economizer & Adiabatic Cooling (Water-Cooled Chiller)<br>Training Compute: 5.00e+25 FLOP<br>Hydropower: 1.92e-17 liters",
          "<b>Gemini 1.0 Ultra (2023)</b><br>Series: Hydropower<br>Cooling: IT Liquid Cooling: Waterside Economizer (Water-Cooled Chiller)<br>Training Compute: 5.00e+25 FLOP<br>Hydropower: 1.93e-17 liters",
          "<b>Gemini 1.0 Ultra (2023)</b><br>Series: Hydropower<br>Cooling: IT Liquid Cooling: Dry Cooler & Adiabitic Assist (Air-Cooled Chiller)<br>Training Compute: 5.00e+25 FLOP<br>Hydropower: 1.70e-17 liters",
          "<b>Gemini 1.0 Ultra (2023)</b><br>Series: Hydropower<br>Cooling: IT Liquid Cooling: Dry Cooler (Air-Cooled Chiller)<br>Training Compute: 5.00e+25 FLOP<br>Hydropower: 1.69e-17 liters"
         ],
         "legendgroup": "model_Gemini 1.0 Ultra (2023)",
         "marker": {
          "color": "hsl(32.72727272727273,70%,50%)",
          "line": {
           "color": "white",
           "width": 0.5
          },
          "size": 8,
          "symbol": [
           "circle",
           "x",
           "square",
           "diamond",
           "cross",
           "triangle-up",
           "star"
          ]
         },
         "mode": "markers",
         "name": "Gemini 1.0 Ultra (2023)",
         "showlegend": true,
         "type": "scatter",
         "x": {
          "bdata": "9Mkzt/StREX0yTO39K1ERfTJM7f0rURF9Mkzt/StREX0yTO39K1ERfTJM7f0rURF9Mkzt/StREU=",
          "dtype": "f8"
         },
         "y": {
          "bdata": "vzhNf5GcdTzxLDLQCdd0PIYwFlLI03Q8oTuP/ygudjwZCViDLz12PAX1mp/nn3M8QqmqqDJ7czw=",
          "dtype": "f8"
         }
        },
        {
         "hovertemplate": "%{hovertext}<extra></extra>",
         "hovertext": [
          "<b>GPT-4o (2024)</b><br>Series: Hydropower<br>Cooling: Dry Cooler with Adiabatic Assist (Air-Cooled Chiller)<br>Training Compute: 3.81e+25 FLOP<br>Hydropower: 5.25e-17 liters",
          "<b>GPT-4o (2024)</b><br>Series: Hydropower<br>Cooling: Airside Economizer & Adiabatic Cooling (Air-Cooled Chiller)<br>Training Compute: 3.81e+25 FLOP<br>Hydropower: 5.07e-17 liters",
          "<b>GPT-4o (2024)</b><br>Series: Hydropower<br>Cooling: Airside Economizer & Adiabatic Cooling (Water-Cooled Chiller)<br>Training Compute: 3.81e+25 FLOP<br>Hydropower: 5.06e-17 liters",
          "<b>GPT-4o (2024)</b><br>Series: Hydropower<br>Cooling: Waterside Economizer & Adiabatic Cooling (Water-Cooled Chiller)<br>Training Compute: 3.81e+25 FLOP<br>Hydropower: 5.39e-17 liters",
          "<b>GPT-4o (2024)</b><br>Series: Hydropower<br>Cooling: IT Liquid Cooling: Waterside Economizer (Water-Cooled Chiller)<br>Training Compute: 3.81e+25 FLOP<br>Hydropower: 5.41e-17 liters",
          "<b>GPT-4o (2024)</b><br>Series: Hydropower<br>Cooling: IT Liquid Cooling: Dry Cooler & Adiabitic Assist (Air-Cooled Chiller)<br>Training Compute: 3.81e+25 FLOP<br>Hydropower: 4.77e-17 liters",
          "<b>GPT-4o (2024)</b><br>Series: Hydropower<br>Cooling: IT Liquid Cooling: Dry Cooler (Air-Cooled Chiller)<br>Training Compute: 3.81e+25 FLOP<br>Hydropower: 4.74e-17 liters"
         ],
         "legendgroup": "model_GPT-4o (2024)",
         "marker": {
          "color": "hsl(65.45454545454545,70%,50%)",
          "line": {
           "color": "white",
           "width": 0.5
          },
          "size": 8,
          "symbol": [
           "circle",
           "x",
           "square",
           "diamond",
           "cross",
           "triangle-up",
           "star"
          ]
         },
         "mode": "markers",
         "name": "GPT-4o (2024)",
         "showlegend": true,
         "type": "scatter",
         "x": {
          "bdata": "lW9Brv2DP0WVb0Gu/YM/RZVvQa79gz9FlW9Brv2DP0WVb0Gu/YM/RZVvQa79gz9FlW9Brv2DP0U=",
          "dtype": "f8"
         },
         "y": {
          "bdata": "zai0patIjjzHaNU54DONPOIcOkVQL4081/LtaK8UjzxYggdzvSmPPPYeYhvkf4s8YQkQV3RMizw=",
          "dtype": "f8"
         }
        },
        {
         "hovertemplate": "%{hovertext}<extra></extra>",
         "hovertext": [
          "<b>Minerva (540B) (2022)</b><br>Series: Hydropower<br>Cooling: Dry Cooler with Adiabatic Assist (Air-Cooled Chiller)<br>Training Compute: 2.74e+24 FLOP<br>Hydropower: 5.98e-17 liters",
          "<b>Minerva (540B) (2022)</b><br>Series: Hydropower<br>Cooling: Airside Economizer & Adiabatic Cooling (Air-Cooled Chiller)<br>Training Compute: 2.74e+24 FLOP<br>Hydropower: 5.77e-17 liters",
          "<b>Minerva (540B) (2022)</b><br>Series: Hydropower<br>Cooling: Airside Economizer & Adiabatic Cooling (Water-Cooled Chiller)<br>Training Compute: 2.74e+24 FLOP<br>Hydropower: 5.76e-17 liters",
          "<b>Minerva (540B) (2022)</b><br>Series: Hydropower<br>Cooling: Waterside Economizer & Adiabatic Cooling (Water-Cooled Chiller)<br>Training Compute: 2.74e+24 FLOP<br>Hydropower: 6.14e-17 liters",
          "<b>Minerva (540B) (2022)</b><br>Series: Hydropower<br>Cooling: IT Liquid Cooling: Waterside Economizer (Water-Cooled Chiller)<br>Training Compute: 2.74e+24 FLOP<br>Hydropower: 6.15e-17 liters",
          "<b>Minerva (540B) (2022)</b><br>Series: Hydropower<br>Cooling: IT Liquid Cooling: Dry Cooler & Adiabitic Assist (Air-Cooled Chiller)<br>Training Compute: 2.74e+24 FLOP<br>Hydropower: 5.43e-17 liters",
          "<b>Minerva (540B) (2022)</b><br>Series: Hydropower<br>Cooling: IT Liquid Cooling: Dry Cooler (Air-Cooled Chiller)<br>Training Compute: 2.74e+24 FLOP<br>Hydropower: 5.39e-17 liters"
         ],
         "legendgroup": "model_Minerva (540B) (2022)",
         "marker": {
          "color": "hsl(98.18181818181819,70%,50%)",
          "line": {
           "color": "white",
           "width": 0.5
          },
          "size": 8,
          "symbol": [
           "circle",
           "x",
           "square",
           "diamond",
           "cross",
           "triangle-up",
           "star"
          ]
         },
         "mode": "markers",
         "name": "Minerva (540B) (2022)",
         "showlegend": true,
         "type": "scatter",
         "x": {
          "bdata": "3XMzGkgkAkXdczMaSCQCRd1zMxpIJAJF3XMzGkgkAkXdczMaSCQCRd1zMxpIJAJF3XMzGkgkAkU=",
          "dtype": "f8"
         },
         "y": {
          "bdata": "mTLWq5Y7kTxpOJC+FJ6QPBWGMCF8m5A8R3/gaq6vkTztb16SqbuRPN6+Brb5S4882yljtW8Rjzw=",
          "dtype": "f8"
         }
        },
        {
         "hovertemplate": "%{hovertext}<extra></extra>",
         "hovertext": [
          "<b>FLAN 137B (2021)</b><br>Series: Hydropower<br>Cooling: Dry Cooler with Adiabatic Assist (Air-Cooled Chiller)<br>Training Compute: 2.05e+24 FLOP<br>Hydropower: 4.44e-17 liters",
          "<b>FLAN 137B (2021)</b><br>Series: Hydropower<br>Cooling: Airside Economizer & Adiabatic Cooling (Air-Cooled Chiller)<br>Training Compute: 2.05e+24 FLOP<br>Hydropower: 4.28e-17 liters",
          "<b>FLAN 137B (2021)</b><br>Series: Hydropower<br>Cooling: Airside Economizer & Adiabatic Cooling (Water-Cooled Chiller)<br>Training Compute: 2.05e+24 FLOP<br>Hydropower: 4.28e-17 liters",
          "<b>FLAN 137B (2021)</b><br>Series: Hydropower<br>Cooling: Waterside Economizer & Adiabatic Cooling (Water-Cooled Chiller)<br>Training Compute: 2.05e+24 FLOP<br>Hydropower: 4.55e-17 liters",
          "<b>FLAN 137B (2021)</b><br>Series: Hydropower<br>Cooling: IT Liquid Cooling: Waterside Economizer (Water-Cooled Chiller)<br>Training Compute: 2.05e+24 FLOP<br>Hydropower: 4.56e-17 liters",
          "<b>FLAN 137B (2021)</b><br>Series: Hydropower<br>Cooling: IT Liquid Cooling: Dry Cooler & Adiabitic Assist (Air-Cooled Chiller)<br>Training Compute: 2.05e+24 FLOP<br>Hydropower: 4.03e-17 liters",
          "<b>FLAN 137B (2021)</b><br>Series: Hydropower<br>Cooling: IT Liquid Cooling: Dry Cooler (Air-Cooled Chiller)<br>Training Compute: 2.05e+24 FLOP<br>Hydropower: 4.00e-17 liters"
         ],
         "legendgroup": "model_FLAN 137B (2021)",
         "marker": {
          "color": "hsl(130.9090909090909,70%,50%)",
          "line": {
           "color": "white",
           "width": 0.5
          },
          "size": 8,
          "symbol": [
           "circle",
           "x",
           "square",
           "diamond",
           "cross",
           "triangle-up",
           "star"
          ]
         },
         "mode": "markers",
         "name": "FLAN 137B (2021)",
         "showlegend": true,
         "type": "scatter",
         "x": {
          "bdata": "8hJIeoEX+0TyEkh6gRf7RPISSHqBF/tE8hJIeoEX+0TyEkh6gRf7RPISSHqBF/tE8hJIeoEX+0Q=",
          "dtype": "f8"
         },
         "y": {
          "bdata": "NewCS5ySiTw6TwlD4KiIPKQlcgAGpYg8jUsoI+M+ijzF1xCqqlCKPGBePk+3OIc8xGpdA0gNhzw=",
          "dtype": "f8"
         }
        },
        {
         "hovertemplate": "%{hovertext}<extra></extra>",
         "hovertext": [
          "<b>AlphaGo Zero (2017)</b><br>Series: Hydropower<br>Cooling: Dry Cooler with Adiabatic Assist (Air-Cooled Chiller)<br>Training Compute: 3.41e+23 FLOP<br>Hydropower: 1.13e-16 liters",
          "<b>AlphaGo Zero (2017)</b><br>Series: Hydropower<br>Cooling: Airside Economizer & Adiabatic Cooling (Air-Cooled Chiller)<br>Training Compute: 3.41e+23 FLOP<br>Hydropower: 1.09e-16 liters",
          "<b>AlphaGo Zero (2017)</b><br>Series: Hydropower<br>Cooling: Airside Economizer & Adiabatic Cooling (Water-Cooled Chiller)<br>Training Compute: 3.41e+23 FLOP<br>Hydropower: 1.09e-16 liters",
          "<b>AlphaGo Zero (2017)</b><br>Series: Hydropower<br>Cooling: Waterside Economizer & Adiabatic Cooling (Water-Cooled Chiller)<br>Training Compute: 3.41e+23 FLOP<br>Hydropower: 1.16e-16 liters",
          "<b>AlphaGo Zero (2017)</b><br>Series: Hydropower<br>Cooling: IT Liquid Cooling: Waterside Economizer (Water-Cooled Chiller)<br>Training Compute: 3.41e+23 FLOP<br>Hydropower: 1.17e-16 liters",
          "<b>AlphaGo Zero (2017)</b><br>Series: Hydropower<br>Cooling: IT Liquid Cooling: Dry Cooler & Adiabitic Assist (Air-Cooled Chiller)<br>Training Compute: 3.41e+23 FLOP<br>Hydropower: 1.03e-16 liters",
          "<b>AlphaGo Zero (2017)</b><br>Series: Hydropower<br>Cooling: IT Liquid Cooling: Dry Cooler (Air-Cooled Chiller)<br>Training Compute: 3.41e+23 FLOP<br>Hydropower: 1.02e-16 liters"
         ],
         "legendgroup": "model_AlphaGo Zero (2017)",
         "marker": {
          "color": "hsl(163.63636363636363,70%,50%)",
          "line": {
           "color": "white",
           "width": 0.5
          },
          "size": 8,
          "symbol": [
           "circle",
           "x",
           "square",
           "diamond",
           "cross",
           "triangle-up",
           "star"
          ]
         },
         "mode": "markers",
         "name": "AlphaGo Zero (2017)",
         "showlegend": true,
         "type": "scatter",
         "x": {
          "bdata": "YyQeaWkN0kRjJB5paQ3SRGMkHmlpDdJEYyQeaWkN0kRjJB5paQ3SRGMkHmlpDdJEYyQeaWkN0kQ=",
          "dtype": "f8"
         },
         "y": {
          "bdata": "UI9OVi5UoDy41JLz3n2fPFCkLXLzeJ88GbxVJi/CoDzaQwVric2gPFFInCO2p508kLIvOD5wnTw=",
          "dtype": "f8"
         }
        },
        {
         "hovertemplate": "%{hovertext}<extra></extra>",
         "hovertext": [
          "<b>GPT-3 175B (davinci) (2020)</b><br>Series: Hydropower<br>Cooling: Dry Cooler with Adiabatic Assist (Air-Cooled Chiller)<br>Training Compute: 3.14e+23 FLOP<br>Hydropower: 9.13e-17 liters",
          "<b>GPT-3 175B (davinci) (2020)</b><br>Series: Hydropower<br>Cooling: Airside Economizer & Adiabatic Cooling (Air-Cooled Chiller)<br>Training Compute: 3.14e+23 FLOP<br>Hydropower: 8.81e-17 liters",
          "<b>GPT-3 175B (davinci) (2020)</b><br>Series: Hydropower<br>Cooling: Airside Economizer & Adiabatic Cooling (Water-Cooled Chiller)<br>Training Compute: 3.14e+23 FLOP<br>Hydropower: 8.80e-17 liters",
          "<b>GPT-3 175B (davinci) (2020)</b><br>Series: Hydropower<br>Cooling: Waterside Economizer & Adiabatic Cooling (Water-Cooled Chiller)<br>Training Compute: 3.14e+23 FLOP<br>Hydropower: 9.37e-17 liters",
          "<b>GPT-3 175B (davinci) (2020)</b><br>Series: Hydropower<br>Cooling: IT Liquid Cooling: Waterside Economizer (Water-Cooled Chiller)<br>Training Compute: 3.14e+23 FLOP<br>Hydropower: 9.40e-17 liters",
          "<b>GPT-3 175B (davinci) (2020)</b><br>Series: Hydropower<br>Cooling: IT Liquid Cooling: Dry Cooler & Adiabitic Assist (Air-Cooled Chiller)<br>Training Compute: 3.14e+23 FLOP<br>Hydropower: 8.29e-17 liters",
          "<b>GPT-3 175B (davinci) (2020)</b><br>Series: Hydropower<br>Cooling: IT Liquid Cooling: Dry Cooler (Air-Cooled Chiller)<br>Training Compute: 3.14e+23 FLOP<br>Hydropower: 8.23e-17 liters"
         ],
         "legendgroup": "model_GPT-3 175B (davinci) (2020)",
         "marker": {
          "color": "hsl(196.36363636363637,70%,50%)",
          "line": {
           "color": "white",
           "width": 0.5
          },
          "size": 8,
          "symbol": [
           "circle",
           "x",
           "square",
           "diamond",
           "cross",
           "triangle-up",
           "star"
          ]
         },
         "mode": "markers",
         "name": "GPT-3 175B (davinci) (2020)",
         "showlegend": true,
         "type": "scatter",
         "x": {
          "bdata": "xCzJV36f0ETELMlXfp/QRMQsyVd+n9BExCzJV36f0ETELMlXfp/QRMQsyVd+n9BExCzJV36f0EQ=",
          "dtype": "f8"
         },
         "y": {
          "bdata": "YaN+7HBSmjydN42P22GZPL2FpWbkXZk8UBH0FMQDmzwPhZv6EBabPAzKTObo5pc8b+FSyDO6lzw=",
          "dtype": "f8"
         }
        },
        {
         "hovertemplate": "%{hovertext}<extra></extra>",
         "hovertext": [
          "<b>OpenAI Five (2019)</b><br>Series: Hydropower<br>Cooling: Dry Cooler with Adiabatic Assist (Air-Cooled Chiller)<br>Training Compute: 6.70e+22 FLOP<br>Hydropower: 8.59e-17 liters",
          "<b>OpenAI Five (2019)</b><br>Series: Hydropower<br>Cooling: Airside Economizer & Adiabatic Cooling (Air-Cooled Chiller)<br>Training Compute: 6.70e+22 FLOP<br>Hydropower: 8.28e-17 liters",
          "<b>OpenAI Five (2019)</b><br>Series: Hydropower<br>Cooling: Airside Economizer & Adiabatic Cooling (Water-Cooled Chiller)<br>Training Compute: 6.70e+22 FLOP<br>Hydropower: 8.28e-17 liters",
          "<b>OpenAI Five (2019)</b><br>Series: Hydropower<br>Cooling: Waterside Economizer & Adiabatic Cooling (Water-Cooled Chiller)<br>Training Compute: 6.70e+22 FLOP<br>Hydropower: 8.82e-17 liters",
          "<b>OpenAI Five (2019)</b><br>Series: Hydropower<br>Cooling: IT Liquid Cooling: Waterside Economizer (Water-Cooled Chiller)<br>Training Compute: 6.70e+22 FLOP<br>Hydropower: 8.84e-17 liters",
          "<b>OpenAI Five (2019)</b><br>Series: Hydropower<br>Cooling: IT Liquid Cooling: Dry Cooler & Adiabitic Assist (Air-Cooled Chiller)<br>Training Compute: 6.70e+22 FLOP<br>Hydropower: 7.80e-17 liters",
          "<b>OpenAI Five (2019)</b><br>Series: Hydropower<br>Cooling: IT Liquid Cooling: Dry Cooler (Air-Cooled Chiller)<br>Training Compute: 6.70e+22 FLOP<br>Hydropower: 7.74e-17 liters"
         ],
         "legendgroup": "model_OpenAI Five (2019)",
         "marker": {
          "color": "hsl(229.0909090909091,70%,50%)",
          "line": {
           "color": "white",
           "width": 0.5
          },
          "size": 8,
          "symbol": [
           "circle",
           "x",
           "square",
           "diamond",
           "cross",
           "triangle-up",
           "star"
          ]
         },
         "mode": "markers",
         "name": "OpenAI Five (2019)",
         "showlegend": true,
         "type": "scatter",
         "x": {
          "bdata": "iJL1kCdgrESIkvWQJ2CsRIiS9ZAnYKxEiJL1kCdgrESIkvWQJ2CsRIiS9ZAnYKxEiJL1kCdgrEQ=",
          "dtype": "f8"
         },
         "y": {
          "bdata": "T8VTfQTCmDyIP6X/ut+XPPfr1ykA3Jc89xugGM5omTxtWFqZBHqZPCXknhNNe5Y8WwdREkBRljw=",
          "dtype": "f8"
         }
        },
        {
         "hovertemplate": "%{hovertext}<extra></extra>",
         "hovertext": [
          "<b>ResNeXt-101 32x48d (2018)</b><br>Series: Hydropower<br>Cooling: Dry Cooler with Adiabatic Assist (Air-Cooled Chiller)<br>Training Compute: 8.74e+21 FLOP<br>Hydropower: 9.13e-17 liters",
          "<b>ResNeXt-101 32x48d (2018)</b><br>Series: Hydropower<br>Cooling: Airside Economizer & Adiabatic Cooling (Air-Cooled Chiller)<br>Training Compute: 8.74e+21 FLOP<br>Hydropower: 8.81e-17 liters",
          "<b>ResNeXt-101 32x48d (2018)</b><br>Series: Hydropower<br>Cooling: Airside Economizer & Adiabatic Cooling (Water-Cooled Chiller)<br>Training Compute: 8.74e+21 FLOP<br>Hydropower: 8.80e-17 liters",
          "<b>ResNeXt-101 32x48d (2018)</b><br>Series: Hydropower<br>Cooling: Waterside Economizer & Adiabatic Cooling (Water-Cooled Chiller)<br>Training Compute: 8.74e+21 FLOP<br>Hydropower: 9.37e-17 liters",
          "<b>ResNeXt-101 32x48d (2018)</b><br>Series: Hydropower<br>Cooling: IT Liquid Cooling: Waterside Economizer (Water-Cooled Chiller)<br>Training Compute: 8.74e+21 FLOP<br>Hydropower: 9.40e-17 liters",
          "<b>ResNeXt-101 32x48d (2018)</b><br>Series: Hydropower<br>Cooling: IT Liquid Cooling: Dry Cooler & Adiabitic Assist (Air-Cooled Chiller)<br>Training Compute: 8.74e+21 FLOP<br>Hydropower: 8.29e-17 liters",
          "<b>ResNeXt-101 32x48d (2018)</b><br>Series: Hydropower<br>Cooling: IT Liquid Cooling: Dry Cooler (Air-Cooled Chiller)<br>Training Compute: 8.74e+21 FLOP<br>Hydropower: 8.23e-17 liters"
         ],
         "legendgroup": "model_ResNeXt-101 32x48d (2018)",
         "marker": {
          "color": "hsl(261.8181818181818,70%,50%)",
          "line": {
           "color": "white",
           "width": 0.5
          },
          "size": 8,
          "symbol": [
           "circle",
           "x",
           "square",
           "diamond",
           "cross",
           "triangle-up",
           "star"
          ]
         },
         "mode": "markers",
         "name": "ResNeXt-101 32x48d (2018)",
         "showlegend": true,
         "type": "scatter",
         "x": {
          "bdata": "DhRZ7CqgfUQOFFnsKqB9RA4UWewqoH1EDhRZ7CqgfUQOFFnsKqB9RA4UWewqoH1EDhRZ7CqgfUQ=",
          "dtype": "f8"
         },
         "y": {
          "bdata": "YaN+7HBSmjydN42P22GZPL2FpWbkXZk8UBH0FMQDmzwOhZv6EBabPAzKTObo5pc8b+FSyDO6lzw=",
          "dtype": "f8"
         }
        },
        {
         "hovertemplate": "%{hovertext}<extra></extra>",
         "hovertext": [
          "<b>GNMT (2016)</b><br>Series: Hydropower<br>Cooling: Dry Cooler with Adiabatic Assist (Air-Cooled Chiller)<br>Training Compute: 6.62e+21 FLOP<br>Hydropower: 4.18e-16 liters",
          "<b>GNMT (2016)</b><br>Series: Hydropower<br>Cooling: Airside Economizer & Adiabatic Cooling (Air-Cooled Chiller)<br>Training Compute: 6.62e+21 FLOP<br>Hydropower: 4.03e-16 liters",
          "<b>GNMT (2016)</b><br>Series: Hydropower<br>Cooling: Airside Economizer & Adiabatic Cooling (Water-Cooled Chiller)<br>Training Compute: 6.62e+21 FLOP<br>Hydropower: 4.02e-16 liters",
          "<b>GNMT (2016)</b><br>Series: Hydropower<br>Cooling: Waterside Economizer & Adiabatic Cooling (Water-Cooled Chiller)<br>Training Compute: 6.62e+21 FLOP<br>Hydropower: 4.29e-16 liters",
          "<b>GNMT (2016)</b><br>Series: Hydropower<br>Cooling: IT Liquid Cooling: Waterside Economizer (Water-Cooled Chiller)<br>Training Compute: 6.62e+21 FLOP<br>Hydropower: 4.30e-16 liters",
          "<b>GNMT (2016)</b><br>Series: Hydropower<br>Cooling: IT Liquid Cooling: Dry Cooler & Adiabitic Assist (Air-Cooled Chiller)<br>Training Compute: 6.62e+21 FLOP<br>Hydropower: 3.79e-16 liters",
          "<b>GNMT (2016)</b><br>Series: Hydropower<br>Cooling: IT Liquid Cooling: Dry Cooler (Air-Cooled Chiller)<br>Training Compute: 6.62e+21 FLOP<br>Hydropower: 3.76e-16 liters"
         ],
         "legendgroup": "model_GNMT (2016)",
         "marker": {
          "color": "hsl(294.54545454545456,70%,50%)",
          "line": {
           "color": "white",
           "width": 0.5
          },
          "size": 8,
          "symbol": [
           "circle",
           "x",
           "square",
           "diamond",
           "cross",
           "triangle-up",
           "star"
          ]
         },
         "mode": "markers",
         "name": "GNMT (2016)",
         "showlegend": true,
         "type": "scatter",
         "x": {
          "bdata": "mc3bSO9tdkSZzdtI7212RJnN20jvbXZEmc3bSO9tdkSZzdtI7212RJnN20jvbXZEmc3bSO9tdkQ=",
          "dtype": "f8"
         },
         "y": {
          "bdata": "0sTkFscVvjx08g/UzAK9PNf4O4pE/rw8C1EMAHTgvjzGDw2oXvW+PB8ilmStUbs8W4cHEZQeuzw=",
          "dtype": "f8"
         }
        },
        {
         "hovertemplate": "%{hovertext}<extra></extra>",
         "hovertext": [
          "<b>AlphaGo Fan (2015)</b><br>Series: Hydropower<br>Cooling: Dry Cooler with Adiabatic Assist (Air-Cooled Chiller)<br>Training Compute: 3.80e+20 FLOP<br>Hydropower: 4.99e-16 liters",
          "<b>AlphaGo Fan (2015)</b><br>Series: Hydropower<br>Cooling: Airside Economizer & Adiabatic Cooling (Air-Cooled Chiller)<br>Training Compute: 3.80e+20 FLOP<br>Hydropower: 4.81e-16 liters",
          "<b>AlphaGo Fan (2015)</b><br>Series: Hydropower<br>Cooling: Airside Economizer & Adiabatic Cooling (Water-Cooled Chiller)<br>Training Compute: 3.80e+20 FLOP<br>Hydropower: 4.81e-16 liters",
          "<b>AlphaGo Fan (2015)</b><br>Series: Hydropower<br>Cooling: Waterside Economizer & Adiabatic Cooling (Water-Cooled Chiller)<br>Training Compute: 3.80e+20 FLOP<br>Hydropower: 5.12e-16 liters",
          "<b>AlphaGo Fan (2015)</b><br>Series: Hydropower<br>Cooling: IT Liquid Cooling: Waterside Economizer (Water-Cooled Chiller)<br>Training Compute: 3.80e+20 FLOP<br>Hydropower: 5.14e-16 liters",
          "<b>AlphaGo Fan (2015)</b><br>Series: Hydropower<br>Cooling: IT Liquid Cooling: Dry Cooler & Adiabitic Assist (Air-Cooled Chiller)<br>Training Compute: 3.80e+20 FLOP<br>Hydropower: 4.53e-16 liters",
          "<b>AlphaGo Fan (2015)</b><br>Series: Hydropower<br>Cooling: IT Liquid Cooling: Dry Cooler (Air-Cooled Chiller)<br>Training Compute: 3.80e+20 FLOP<br>Hydropower: 4.50e-16 liters"
         ],
         "legendgroup": "model_AlphaGo Fan (2015)",
         "marker": {
          "color": "hsl(327.27272727272725,70%,50%)",
          "line": {
           "color": "white",
           "width": 0.5
          },
          "size": 8,
          "symbol": [
           "circle",
           "x",
           "square",
           "diamond",
           "cross",
           "triangle-up",
           "star"
          ]
         },
         "mode": "markers",
         "name": "AlphaGo Fan (2015)",
         "showlegend": true,
         "type": "scatter",
         "x": {
          "bdata": "cHisMo+ZNERweKwyj5k0RHB4rDKPmTREcHisMo+ZNERweKwyj5k0RHB4rDKPmTREcHisMo+ZNEQ=",
          "dtype": "f8"
         },
         "y": {
          "bdata": "fb9164r8wTwaXGRkJVjBPO2ZX7VvVcE8CpFrjLZ1wjyWuJ/aN4LCPHkiqp4zVcA8Cfa746Y2wDw=",
          "dtype": "f8"
         }
        },
        {
         "hovertemplate": "%{hovertext}<extra></extra>",
         "hovertext": [
          "<b>Grok-3 (2025)</b><br>Series: Nuclear<br>Cooling: Dry Cooler with Adiabatic Assist (Air-Cooled Chiller)<br>Training Compute: 4.64e+26 FLOP<br>Nuclear: 4.23e-18 liters",
          "<b>Grok-3 (2025)</b><br>Series: Nuclear<br>Cooling: Airside Economizer & Adiabatic Cooling (Air-Cooled Chiller)<br>Training Compute: 4.64e+26 FLOP<br>Nuclear: 3.50e-18 liters",
          "<b>Grok-3 (2025)</b><br>Series: Nuclear<br>Cooling: Airside Economizer & Adiabatic Cooling (Water-Cooled Chiller)<br>Training Compute: 4.64e+26 FLOP<br>Nuclear: 4.61e-18 liters",
          "<b>Grok-3 (2025)</b><br>Series: Nuclear<br>Cooling: Waterside Economizer & Adiabatic Cooling (Water-Cooled Chiller)<br>Training Compute: 4.64e+26 FLOP<br>Nuclear: 9.64e-18 liters",
          "<b>Grok-3 (2025)</b><br>Series: Nuclear<br>Cooling: IT Liquid Cooling: Waterside Economizer (Water-Cooled Chiller)<br>Training Compute: 4.64e+26 FLOP<br>Nuclear: 9.06e-18 liters",
          "<b>Grok-3 (2025)</b><br>Series: Nuclear<br>Cooling: IT Liquid Cooling: Dry Cooler & Adiabitic Assist (Air-Cooled Chiller)<br>Training Compute: 4.64e+26 FLOP<br>Nuclear: 3.63e-18 liters",
          "<b>Grok-3 (2025)</b><br>Series: Nuclear<br>Cooling: IT Liquid Cooling: Dry Cooler (Air-Cooled Chiller)<br>Training Compute: 4.64e+26 FLOP<br>Nuclear: 3.23e-18 liters"
         ],
         "legendgroup": "model_Grok-3 (2025)",
         "marker": {
          "color": "hsl(0.0,70%,50%)",
          "line": {
           "color": "white",
           "width": 0.5
          },
          "size": 8,
          "symbol": [
           "circle",
           "x",
           "square",
           "diamond",
           "cross",
           "triangle-up",
           "star"
          ]
         },
         "mode": "markers",
         "name": "Grok-3 (2025) - Nuclear",
         "showlegend": false,
         "type": "scatter",
         "x": {
          "bdata": "6zZtJv38d0XrNm0m/fx3Res2bSb9/HdF6zZtJv38d0XrNm0m/fx3Res2bSb9/HdF6zZtJv38d0U=",
          "dtype": "f8"
         },
         "y": {
          "bdata": "W73Vbq5+UzwC0Qtw8CVQPC1evdLAQVU8pJFJIDs4Zjza1D7/fuNkPI6SFTNavlA8Xj6pVZHSTTw=",
          "dtype": "f8"
         }
        },
        {
         "hovertemplate": "%{hovertext}<extra></extra>",
         "hovertext": [
          "<b>Gemini 1.0 Ultra (2023)</b><br>Series: Nuclear<br>Cooling: Dry Cooler with Adiabatic Assist (Air-Cooled Chiller)<br>Training Compute: 5.00e+25 FLOP<br>Nuclear: 1.32e-18 liters",
          "<b>Gemini 1.0 Ultra (2023)</b><br>Series: Nuclear<br>Cooling: Airside Economizer & Adiabatic Cooling (Air-Cooled Chiller)<br>Training Compute: 5.00e+25 FLOP<br>Nuclear: 1.10e-18 liters",
          "<b>Gemini 1.0 Ultra (2023)</b><br>Series: Nuclear<br>Cooling: Airside Economizer & Adiabatic Cooling (Water-Cooled Chiller)<br>Training Compute: 5.00e+25 FLOP<br>Nuclear: 1.44e-18 liters",
          "<b>Gemini 1.0 Ultra (2023)</b><br>Series: Nuclear<br>Cooling: Waterside Economizer & Adiabatic Cooling (Water-Cooled Chiller)<br>Training Compute: 5.00e+25 FLOP<br>Nuclear: 3.02e-18 liters",
          "<b>Gemini 1.0 Ultra (2023)</b><br>Series: Nuclear<br>Cooling: IT Liquid Cooling: Waterside Economizer (Water-Cooled Chiller)<br>Training Compute: 5.00e+25 FLOP<br>Nuclear: 2.84e-18 liters",
          "<b>Gemini 1.0 Ultra (2023)</b><br>Series: Nuclear<br>Cooling: IT Liquid Cooling: Dry Cooler & Adiabitic Assist (Air-Cooled Chiller)<br>Training Compute: 5.00e+25 FLOP<br>Nuclear: 1.14e-18 liters",
          "<b>Gemini 1.0 Ultra (2023)</b><br>Series: Nuclear<br>Cooling: IT Liquid Cooling: Dry Cooler (Air-Cooled Chiller)<br>Training Compute: 5.00e+25 FLOP<br>Nuclear: 1.01e-18 liters"
         ],
         "legendgroup": "model_Gemini 1.0 Ultra (2023)",
         "marker": {
          "color": "hsl(32.72727272727273,70%,50%)",
          "line": {
           "color": "white",
           "width": 0.5
          },
          "size": 8,
          "symbol": [
           "circle",
           "x",
           "square",
           "diamond",
           "cross",
           "triangle-up",
           "star"
          ]
         },
         "mode": "markers",
         "name": "Gemini 1.0 Ultra (2023) - Nuclear",
         "showlegend": false,
         "type": "scatter",
         "x": {
          "bdata": "9Mkzt/StREX0yTO39K1ERfTJM7f0rURF9Mkzt/StREX0yTO39K1ERfTJM7f0rURF9Mkzt/StREU=",
          "dtype": "f8"
         },
         "y": {
          "bdata": "N21qzrhoODwVmLCSAzg0PDEtQb1/nTo8UsD6uhvSSzxdCSlReydKPIGtxNnY9jQ8RvG/aomrMjw=",
          "dtype": "f8"
         }
        },
        {
         "hovertemplate": "%{hovertext}<extra></extra>",
         "hovertext": [
          "<b>GPT-4o (2024)</b><br>Series: Nuclear<br>Cooling: Dry Cooler with Adiabatic Assist (Air-Cooled Chiller)<br>Training Compute: 3.81e+25 FLOP<br>Nuclear: 3.71e-18 liters",
          "<b>GPT-4o (2024)</b><br>Series: Nuclear<br>Cooling: Airside Economizer & Adiabatic Cooling (Air-Cooled Chiller)<br>Training Compute: 3.81e+25 FLOP<br>Nuclear: 3.07e-18 liters",
          "<b>GPT-4o (2024)</b><br>Series: Nuclear<br>Cooling: Airside Economizer & Adiabatic Cooling (Water-Cooled Chiller)<br>Training Compute: 3.81e+25 FLOP<br>Nuclear: 4.04e-18 liters",
          "<b>GPT-4o (2024)</b><br>Series: Nuclear<br>Cooling: Waterside Economizer & Adiabatic Cooling (Water-Cooled Chiller)<br>Training Compute: 3.81e+25 FLOP<br>Nuclear: 8.45e-18 liters",
          "<b>GPT-4o (2024)</b><br>Series: Nuclear<br>Cooling: IT Liquid Cooling: Waterside Economizer (Water-Cooled Chiller)<br>Training Compute: 3.81e+25 FLOP<br>Nuclear: 7.95e-18 liters",
          "<b>GPT-4o (2024)</b><br>Series: Nuclear<br>Cooling: IT Liquid Cooling: Dry Cooler & Adiabitic Assist (Air-Cooled Chiller)<br>Training Compute: 3.81e+25 FLOP<br>Nuclear: 3.19e-18 liters",
          "<b>GPT-4o (2024)</b><br>Series: Nuclear<br>Cooling: IT Liquid Cooling: Dry Cooler (Air-Cooled Chiller)<br>Training Compute: 3.81e+25 FLOP<br>Nuclear: 2.84e-18 liters"
         ],
         "legendgroup": "model_GPT-4o (2024)",
         "marker": {
          "color": "hsl(65.45454545454545,70%,50%)",
          "line": {
           "color": "white",
           "width": 0.5
          },
          "size": 8,
          "symbol": [
           "circle",
           "x",
           "square",
           "diamond",
           "cross",
           "triangle-up",
           "star"
          ]
         },
         "mode": "markers",
         "name": "GPT-4o (2024) - Nuclear",
         "showlegend": false,
         "type": "scatter",
         "x": {
          "bdata": "lW9Brv2DP0WVb0Gu/YM/RZVvQa79gz9FlW9Brv2DP0WVb0Gu/YM/RZVvQa79gz9FlW9Brv2DP0U=",
          "dtype": "f8"
         },
         "y": {
          "bdata": "tcq2whkaUTyOJsDUCVVMPGagwkHOpVI8TbVokAd+YzxWu38+HlNiPAJQJ+RyYE08pPYFn3YpSjw=",
          "dtype": "f8"
         }
        },
        {
         "hovertemplate": "%{hovertext}<extra></extra>",
         "hovertext": [
          "<b>Minerva (540B) (2022)</b><br>Series: Nuclear<br>Cooling: Dry Cooler with Adiabatic Assist (Air-Cooled Chiller)<br>Training Compute: 2.74e+24 FLOP<br>Nuclear: 4.22e-18 liters",
          "<b>Minerva (540B) (2022)</b><br>Series: Nuclear<br>Cooling: Airside Economizer & Adiabatic Cooling (Air-Cooled Chiller)<br>Training Compute: 2.74e+24 FLOP<br>Nuclear: 3.50e-18 liters",
          "<b>Minerva (540B) (2022)</b><br>Series: Nuclear<br>Cooling: Airside Economizer & Adiabatic Cooling (Water-Cooled Chiller)<br>Training Compute: 2.74e+24 FLOP<br>Nuclear: 4.60e-18 liters",
          "<b>Minerva (540B) (2022)</b><br>Series: Nuclear<br>Cooling: Waterside Economizer & Adiabatic Cooling (Water-Cooled Chiller)<br>Training Compute: 2.74e+24 FLOP<br>Nuclear: 9.62e-18 liters",
          "<b>Minerva (540B) (2022)</b><br>Series: Nuclear<br>Cooling: IT Liquid Cooling: Waterside Economizer (Water-Cooled Chiller)<br>Training Compute: 2.74e+24 FLOP<br>Nuclear: 9.04e-18 liters",
          "<b>Minerva (540B) (2022)</b><br>Series: Nuclear<br>Cooling: IT Liquid Cooling: Dry Cooler & Adiabitic Assist (Air-Cooled Chiller)<br>Training Compute: 2.74e+24 FLOP<br>Nuclear: 3.62e-18 liters",
          "<b>Minerva (540B) (2022)</b><br>Series: Nuclear<br>Cooling: IT Liquid Cooling: Dry Cooler (Air-Cooled Chiller)<br>Training Compute: 2.74e+24 FLOP<br>Nuclear: 3.23e-18 liters"
         ],
         "legendgroup": "model_Minerva (540B) (2022)",
         "marker": {
          "color": "hsl(98.18181818181819,70%,50%)",
          "line": {
           "color": "white",
           "width": 0.5
          },
          "size": 8,
          "symbol": [
           "circle",
           "x",
           "square",
           "diamond",
           "cross",
           "triangle-up",
           "star"
          ]
         },
         "mode": "markers",
         "name": "Minerva (540B) (2022) - Nuclear",
         "showlegend": false,
         "type": "scatter",
         "x": {
          "bdata": "3XMzGkgkAkXdczMaSCQCRd1zMxpIJAJF3XMzGkgkAkXdczMaSCQCRd1zMxpIJAJF3XMzGkgkAkU=",
          "dtype": "f8"
         },
         "y": {
          "bdata": "x6JCjKN2UzyjCYL/Rh9QPKFHrtn7OFU8mYhIeBAvZjzs0Njo4NpkPIDV7eFxt1A82FqiuUPGTTw=",
          "dtype": "f8"
         }
        },
        {
         "hovertemplate": "%{hovertext}<extra></extra>",
         "hovertext": [
          "<b>FLAN 137B (2021)</b><br>Series: Nuclear<br>Cooling: Dry Cooler with Adiabatic Assist (Air-Cooled Chiller)<br>Training Compute: 2.05e+24 FLOP<br>Nuclear: 3.13e-18 liters",
          "<b>FLAN 137B (2021)</b><br>Series: Nuclear<br>Cooling: Airside Economizer & Adiabatic Cooling (Air-Cooled Chiller)<br>Training Compute: 2.05e+24 FLOP<br>Nuclear: 2.59e-18 liters",
          "<b>FLAN 137B (2021)</b><br>Series: Nuclear<br>Cooling: Airside Economizer & Adiabatic Cooling (Water-Cooled Chiller)<br>Training Compute: 2.05e+24 FLOP<br>Nuclear: 3.41e-18 liters",
          "<b>FLAN 137B (2021)</b><br>Series: Nuclear<br>Cooling: Waterside Economizer & Adiabatic Cooling (Water-Cooled Chiller)<br>Training Compute: 2.05e+24 FLOP<br>Nuclear: 7.14e-18 liters",
          "<b>FLAN 137B (2021)</b><br>Series: Nuclear<br>Cooling: IT Liquid Cooling: Waterside Economizer (Water-Cooled Chiller)<br>Training Compute: 2.05e+24 FLOP<br>Nuclear: 6.71e-18 liters",
          "<b>FLAN 137B (2021)</b><br>Series: Nuclear<br>Cooling: IT Liquid Cooling: Dry Cooler & Adiabitic Assist (Air-Cooled Chiller)<br>Training Compute: 2.05e+24 FLOP<br>Nuclear: 2.69e-18 liters",
          "<b>FLAN 137B (2021)</b><br>Series: Nuclear<br>Cooling: IT Liquid Cooling: Dry Cooler (Air-Cooled Chiller)<br>Training Compute: 2.05e+24 FLOP<br>Nuclear: 2.40e-18 liters"
         ],
         "legendgroup": "model_FLAN 137B (2021)",
         "marker": {
          "color": "hsl(130.9090909090909,70%,50%)",
          "line": {
           "color": "white",
           "width": 0.5
          },
          "size": 8,
          "symbol": [
           "circle",
           "x",
           "square",
           "diamond",
           "cross",
           "triangle-up",
           "star"
          ]
         },
         "mode": "markers",
         "name": "FLAN 137B (2021) - Nuclear",
         "showlegend": false,
         "type": "scatter",
         "x": {
          "bdata": "8hJIeoEX+0TyEkh6gRf7RPISSHqBF/tE8hJIeoEX+0TyEkh6gRf7RPISSHqBF/tE8hJIeoEX+0Q=",
          "dtype": "f8"
         },
         "y": {
          "bdata": "JeZ5ZAbiTDztx9ZntOxHPFI7VFlRfk88QH7q1L51YDyhR9tpq/JePJ+VxM2Dzkg85Fu1D48XRjw=",
          "dtype": "f8"
         }
        },
        {
         "hovertemplate": "%{hovertext}<extra></extra>",
         "hovertext": [
          "<b>AlphaGo Zero (2017)</b><br>Series: Nuclear<br>Cooling: Dry Cooler with Adiabatic Assist (Air-Cooled Chiller)<br>Training Compute: 3.41e+23 FLOP<br>Nuclear: 8.00e-18 liters",
          "<b>AlphaGo Zero (2017)</b><br>Series: Nuclear<br>Cooling: Airside Economizer & Adiabatic Cooling (Air-Cooled Chiller)<br>Training Compute: 3.41e+23 FLOP<br>Nuclear: 6.63e-18 liters",
          "<b>AlphaGo Zero (2017)</b><br>Series: Nuclear<br>Cooling: Airside Economizer & Adiabatic Cooling (Water-Cooled Chiller)<br>Training Compute: 3.41e+23 FLOP<br>Nuclear: 8.72e-18 liters",
          "<b>AlphaGo Zero (2017)</b><br>Series: Nuclear<br>Cooling: Waterside Economizer & Adiabatic Cooling (Water-Cooled Chiller)<br>Training Compute: 3.41e+23 FLOP<br>Nuclear: 1.82e-17 liters",
          "<b>AlphaGo Zero (2017)</b><br>Series: Nuclear<br>Cooling: IT Liquid Cooling: Waterside Economizer (Water-Cooled Chiller)<br>Training Compute: 3.41e+23 FLOP<br>Nuclear: 1.71e-17 liters",
          "<b>AlphaGo Zero (2017)</b><br>Series: Nuclear<br>Cooling: IT Liquid Cooling: Dry Cooler & Adiabitic Assist (Air-Cooled Chiller)<br>Training Compute: 3.41e+23 FLOP<br>Nuclear: 6.87e-18 liters",
          "<b>AlphaGo Zero (2017)</b><br>Series: Nuclear<br>Cooling: IT Liquid Cooling: Dry Cooler (Air-Cooled Chiller)<br>Training Compute: 3.41e+23 FLOP<br>Nuclear: 6.12e-18 liters"
         ],
         "legendgroup": "model_AlphaGo Zero (2017)",
         "marker": {
          "color": "hsl(163.63636363636363,70%,50%)",
          "line": {
           "color": "white",
           "width": 0.5
          },
          "size": 8,
          "symbol": [
           "circle",
           "x",
           "square",
           "diamond",
           "cross",
           "triangle-up",
           "star"
          ]
         },
         "mode": "markers",
         "name": "AlphaGo Zero (2017) - Nuclear",
         "showlegend": false,
         "type": "scatter",
         "x": {
          "bdata": "YyQeaWkN0kRjJB5paQ3SRGMkHmlpDdJEYyQeaWkN0kRjJB5paQ3SRGMkHmlpDdJEYyQeaWkN0kQ=",
          "dtype": "f8"
         },
         "y": {
          "bdata": "dGYH9EZxYjzsrIj8kI1ePAtnU97/G2Q80PeSCCwFdTxH+/Wa1MJzPIaVGgrwrV88aDlRU3E2XDw=",
          "dtype": "f8"
         }
        },
        {
         "hovertemplate": "%{hovertext}<extra></extra>",
         "hovertext": [
          "<b>GPT-3 175B (davinci) (2020)</b><br>Series: Nuclear<br>Cooling: Dry Cooler with Adiabatic Assist (Air-Cooled Chiller)<br>Training Compute: 3.14e+23 FLOP<br>Nuclear: 6.45e-18 liters",
          "<b>GPT-3 175B (davinci) (2020)</b><br>Series: Nuclear<br>Cooling: Airside Economizer & Adiabatic Cooling (Air-Cooled Chiller)<br>Training Compute: 3.14e+23 FLOP<br>Nuclear: 5.34e-18 liters",
          "<b>GPT-3 175B (davinci) (2020)</b><br>Series: Nuclear<br>Cooling: Airside Economizer & Adiabatic Cooling (Water-Cooled Chiller)<br>Training Compute: 3.14e+23 FLOP<br>Nuclear: 7.03e-18 liters",
          "<b>GPT-3 175B (davinci) (2020)</b><br>Series: Nuclear<br>Cooling: Waterside Economizer & Adiabatic Cooling (Water-Cooled Chiller)<br>Training Compute: 3.14e+23 FLOP<br>Nuclear: 1.47e-17 liters",
          "<b>GPT-3 175B (davinci) (2020)</b><br>Series: Nuclear<br>Cooling: IT Liquid Cooling: Waterside Economizer (Water-Cooled Chiller)<br>Training Compute: 3.14e+23 FLOP<br>Nuclear: 1.38e-17 liters",
          "<b>GPT-3 175B (davinci) (2020)</b><br>Series: Nuclear<br>Cooling: IT Liquid Cooling: Dry Cooler & Adiabitic Assist (Air-Cooled Chiller)<br>Training Compute: 3.14e+23 FLOP<br>Nuclear: 5.54e-18 liters",
          "<b>GPT-3 175B (davinci) (2020)</b><br>Series: Nuclear<br>Cooling: IT Liquid Cooling: Dry Cooler (Air-Cooled Chiller)<br>Training Compute: 3.14e+23 FLOP<br>Nuclear: 4.93e-18 liters"
         ],
         "legendgroup": "model_GPT-3 175B (davinci) (2020)",
         "marker": {
          "color": "hsl(196.36363636363637,70%,50%)",
          "line": {
           "color": "white",
           "width": 0.5
          },
          "size": 8,
          "symbol": [
           "circle",
           "x",
           "square",
           "diamond",
           "cross",
           "triangle-up",
           "star"
          ]
         },
         "mode": "markers",
         "name": "GPT-3 175B (davinci) (2020) - Nuclear",
         "showlegend": false,
         "type": "scatter",
         "x": {
          "bdata": "xCzJV36f0ETELMlXfp/QRMQsyVd+n9BExCzJV36f0ETELMlXfp/QRMQsyVd+n9BExCzJV36f0EQ=",
          "dtype": "f8"
         },
         "y": {
          "bdata": "p5Spza+6XTwHc9MoLKBYPDUJn/BHNWA8432uvzfxcDw+xdJj0tpvPBylK3KZiFk8TxuNkke9Vjw=",
          "dtype": "f8"
         }
        },
        {
         "hovertemplate": "%{hovertext}<extra></extra>",
         "hovertext": [
          "<b>OpenAI Five (2019)</b><br>Series: Nuclear<br>Cooling: Dry Cooler with Adiabatic Assist (Air-Cooled Chiller)<br>Training Compute: 6.70e+22 FLOP<br>Nuclear: 6.06e-18 liters",
          "<b>OpenAI Five (2019)</b><br>Series: Nuclear<br>Cooling: Airside Economizer & Adiabatic Cooling (Air-Cooled Chiller)<br>Training Compute: 6.70e+22 FLOP<br>Nuclear: 5.02e-18 liters",
          "<b>OpenAI Five (2019)</b><br>Series: Nuclear<br>Cooling: Airside Economizer & Adiabatic Cooling (Water-Cooled Chiller)<br>Training Compute: 6.70e+22 FLOP<br>Nuclear: 6.61e-18 liters",
          "<b>OpenAI Five (2019)</b><br>Series: Nuclear<br>Cooling: Waterside Economizer & Adiabatic Cooling (Water-Cooled Chiller)<br>Training Compute: 6.70e+22 FLOP<br>Nuclear: 1.38e-17 liters",
          "<b>OpenAI Five (2019)</b><br>Series: Nuclear<br>Cooling: IT Liquid Cooling: Waterside Economizer (Water-Cooled Chiller)<br>Training Compute: 6.70e+22 FLOP<br>Nuclear: 1.30e-17 liters",
          "<b>OpenAI Five (2019)</b><br>Series: Nuclear<br>Cooling: IT Liquid Cooling: Dry Cooler & Adiabitic Assist (Air-Cooled Chiller)<br>Training Compute: 6.70e+22 FLOP<br>Nuclear: 5.21e-18 liters",
          "<b>OpenAI Five (2019)</b><br>Series: Nuclear<br>Cooling: IT Liquid Cooling: Dry Cooler (Air-Cooled Chiller)<br>Training Compute: 6.70e+22 FLOP<br>Nuclear: 4.64e-18 liters"
         ],
         "legendgroup": "model_OpenAI Five (2019)",
         "marker": {
          "color": "hsl(229.0909090909091,70%,50%)",
          "line": {
           "color": "white",
           "width": 0.5
          },
          "size": 8,
          "symbol": [
           "circle",
           "x",
           "square",
           "diamond",
           "cross",
           "triangle-up",
           "star"
          ]
         },
         "mode": "markers",
         "name": "OpenAI Five (2019) - Nuclear",
         "showlegend": false,
         "type": "scatter",
         "x": {
          "bdata": "iJL1kCdgrESIkvWQJ2CsRIiS9ZAnYKxEiJL1kCdgrESIkvWQJ2CsRIiS9ZAnYKxEiJL1kCdgrEQ=",
          "dtype": "f8"
         },
         "y": {
          "bdata": "W4t9WG72Wzz36qoHjilXPPRAJiFufV48MTPuxvfebzwHVf5IO/ZtPFGJlYYrBFg8uby3cVtjVTw=",
          "dtype": "f8"
         }
        },
        {
         "hovertemplate": "%{hovertext}<extra></extra>",
         "hovertext": [
          "<b>ResNeXt-101 32x48d (2018)</b><br>Series: Nuclear<br>Cooling: Dry Cooler with Adiabatic Assist (Air-Cooled Chiller)<br>Training Compute: 8.74e+21 FLOP<br>Nuclear: 6.45e-18 liters",
          "<b>ResNeXt-101 32x48d (2018)</b><br>Series: Nuclear<br>Cooling: Airside Economizer & Adiabatic Cooling (Air-Cooled Chiller)<br>Training Compute: 8.74e+21 FLOP<br>Nuclear: 5.34e-18 liters",
          "<b>ResNeXt-101 32x48d (2018)</b><br>Series: Nuclear<br>Cooling: Airside Economizer & Adiabatic Cooling (Water-Cooled Chiller)<br>Training Compute: 8.74e+21 FLOP<br>Nuclear: 7.03e-18 liters",
          "<b>ResNeXt-101 32x48d (2018)</b><br>Series: Nuclear<br>Cooling: Waterside Economizer & Adiabatic Cooling (Water-Cooled Chiller)<br>Training Compute: 8.74e+21 FLOP<br>Nuclear: 1.47e-17 liters",
          "<b>ResNeXt-101 32x48d (2018)</b><br>Series: Nuclear<br>Cooling: IT Liquid Cooling: Waterside Economizer (Water-Cooled Chiller)<br>Training Compute: 8.74e+21 FLOP<br>Nuclear: 1.38e-17 liters",
          "<b>ResNeXt-101 32x48d (2018)</b><br>Series: Nuclear<br>Cooling: IT Liquid Cooling: Dry Cooler & Adiabitic Assist (Air-Cooled Chiller)<br>Training Compute: 8.74e+21 FLOP<br>Nuclear: 5.54e-18 liters",
          "<b>ResNeXt-101 32x48d (2018)</b><br>Series: Nuclear<br>Cooling: IT Liquid Cooling: Dry Cooler (Air-Cooled Chiller)<br>Training Compute: 8.74e+21 FLOP<br>Nuclear: 4.93e-18 liters"
         ],
         "legendgroup": "model_ResNeXt-101 32x48d (2018)",
         "marker": {
          "color": "hsl(261.8181818181818,70%,50%)",
          "line": {
           "color": "white",
           "width": 0.5
          },
          "size": 8,
          "symbol": [
           "circle",
           "x",
           "square",
           "diamond",
           "cross",
           "triangle-up",
           "star"
          ]
         },
         "mode": "markers",
         "name": "ResNeXt-101 32x48d (2018) - Nuclear",
         "showlegend": false,
         "type": "scatter",
         "x": {
          "bdata": "DhRZ7CqgfUQOFFnsKqB9RA4UWewqoH1EDhRZ7CqgfUQOFFnsKqB9RA4UWewqoH1EDhRZ7CqgfUQ=",
          "dtype": "f8"
         },
         "y": {
          "bdata": "p5Spza+6XTwGc9MoLKBYPDUJn/BHNWA8432uvzfxcDw9xdJj0tpvPB2lK3KZiFk8URuNkke9Vjw=",
          "dtype": "f8"
         }
        },
        {
         "hovertemplate": "%{hovertext}<extra></extra>",
         "hovertext": [
          "<b>GNMT (2016)</b><br>Series: Nuclear<br>Cooling: Dry Cooler with Adiabatic Assist (Air-Cooled Chiller)<br>Training Compute: 6.62e+21 FLOP<br>Nuclear: 2.95e-17 liters",
          "<b>GNMT (2016)</b><br>Series: Nuclear<br>Cooling: Airside Economizer & Adiabatic Cooling (Air-Cooled Chiller)<br>Training Compute: 6.62e+21 FLOP<br>Nuclear: 2.44e-17 liters",
          "<b>GNMT (2016)</b><br>Series: Nuclear<br>Cooling: Airside Economizer & Adiabatic Cooling (Water-Cooled Chiller)<br>Training Compute: 6.62e+21 FLOP<br>Nuclear: 3.21e-17 liters",
          "<b>GNMT (2016)</b><br>Series: Nuclear<br>Cooling: Waterside Economizer & Adiabatic Cooling (Water-Cooled Chiller)<br>Training Compute: 6.62e+21 FLOP<br>Nuclear: 6.72e-17 liters",
          "<b>GNMT (2016)</b><br>Series: Nuclear<br>Cooling: IT Liquid Cooling: Waterside Economizer (Water-Cooled Chiller)<br>Training Compute: 6.62e+21 FLOP<br>Nuclear: 6.32e-17 liters",
          "<b>GNMT (2016)</b><br>Series: Nuclear<br>Cooling: IT Liquid Cooling: Dry Cooler & Adiabitic Assist (Air-Cooled Chiller)<br>Training Compute: 6.62e+21 FLOP<br>Nuclear: 2.53e-17 liters",
          "<b>GNMT (2016)</b><br>Series: Nuclear<br>Cooling: IT Liquid Cooling: Dry Cooler (Air-Cooled Chiller)<br>Training Compute: 6.62e+21 FLOP<br>Nuclear: 2.25e-17 liters"
         ],
         "legendgroup": "model_GNMT (2016)",
         "marker": {
          "color": "hsl(294.54545454545456,70%,50%)",
          "line": {
           "color": "white",
           "width": 0.5
          },
          "size": 8,
          "symbol": [
           "circle",
           "x",
           "square",
           "diamond",
           "cross",
           "triangle-up",
           "star"
          ]
         },
         "mode": "markers",
         "name": "GNMT (2016) - Nuclear",
         "showlegend": false,
         "type": "scatter",
         "x": {
          "bdata": "mc3bSO9tdkSZzdtI7212RJnN20jvbXZEmc3bSO9tdkSZzdtI7212RJnN20jvbXZEmc3bSO9tdkQ=",
          "dtype": "f8"
         },
         "y": {
          "bdata": "eHaYQFz9gDy8nuHqbCV8PDTRm8F3hoI8CbihsUVdkzwwtrmzUjSSPAzXeJYUL308zCqPXX/9eTw=",
          "dtype": "f8"
         }
        },
        {
         "hovertemplate": "%{hovertext}<extra></extra>",
         "hovertext": [
          "<b>AlphaGo Fan (2015)</b><br>Series: Nuclear<br>Cooling: Dry Cooler with Adiabatic Assist (Air-Cooled Chiller)<br>Training Compute: 3.80e+20 FLOP<br>Nuclear: 3.52e-17 liters",
          "<b>AlphaGo Fan (2015)</b><br>Series: Nuclear<br>Cooling: Airside Economizer & Adiabatic Cooling (Air-Cooled Chiller)<br>Training Compute: 3.80e+20 FLOP<br>Nuclear: 2.92e-17 liters",
          "<b>AlphaGo Fan (2015)</b><br>Series: Nuclear<br>Cooling: Airside Economizer & Adiabatic Cooling (Water-Cooled Chiller)<br>Training Compute: 3.80e+20 FLOP<br>Nuclear: 3.84e-17 liters",
          "<b>AlphaGo Fan (2015)</b><br>Series: Nuclear<br>Cooling: Waterside Economizer & Adiabatic Cooling (Water-Cooled Chiller)<br>Training Compute: 3.80e+20 FLOP<br>Nuclear: 8.03e-17 liters",
          "<b>AlphaGo Fan (2015)</b><br>Series: Nuclear<br>Cooling: IT Liquid Cooling: Waterside Economizer (Water-Cooled Chiller)<br>Training Compute: 3.80e+20 FLOP<br>Nuclear: 7.55e-17 liters",
          "<b>AlphaGo Fan (2015)</b><br>Series: Nuclear<br>Cooling: IT Liquid Cooling: Dry Cooler & Adiabitic Assist (Air-Cooled Chiller)<br>Training Compute: 3.80e+20 FLOP<br>Nuclear: 3.03e-17 liters",
          "<b>AlphaGo Fan (2015)</b><br>Series: Nuclear<br>Cooling: IT Liquid Cooling: Dry Cooler (Air-Cooled Chiller)<br>Training Compute: 3.80e+20 FLOP<br>Nuclear: 2.70e-17 liters"
         ],
         "legendgroup": "model_AlphaGo Fan (2015)",
         "marker": {
          "color": "hsl(327.27272727272725,70%,50%)",
          "line": {
           "color": "white",
           "width": 0.5
          },
          "size": 8,
          "symbol": [
           "circle",
           "x",
           "square",
           "diamond",
           "cross",
           "triangle-up",
           "star"
          ]
         },
         "mode": "markers",
         "name": "AlphaGo Fan (2015) - Nuclear",
         "showlegend": false,
         "type": "scatter",
         "x": {
          "bdata": "cHisMo+ZNERweKwyj5k0RHB4rDKPmTREcHisMo+ZNERweKwyj5k0RHB4rDKPmTREcHisMo+ZNEQ=",
          "dtype": "f8"
         },
         "y": {
          "bdata": "k5eCzpFQhDz6Cm/Vy9OAPKEo/ZacJoY8qIdVjnQnlzwck5P1Y8SVPPir+IaecoE8A8orsKUTfzw=",
          "dtype": "f8"
         }
        },
        {
         "hovertemplate": "%{hovertext}<extra></extra>",
         "hovertext": [
          "<b>Grok-3 (2025)</b><br>Series: CSP<br>Cooling: Dry Cooler with Adiabatic Assist (Air-Cooled Chiller)<br>Training Compute: 4.64e+26 FLOP<br>CSP: 1.02e-18 liters",
          "<b>Grok-3 (2025)</b><br>Series: CSP<br>Cooling: Airside Economizer & Adiabatic Cooling (Air-Cooled Chiller)<br>Training Compute: 4.64e+26 FLOP<br>CSP: 3.79e-19 liters",
          "<b>Grok-3 (2025)</b><br>Series: CSP<br>Cooling: Airside Economizer & Adiabatic Cooling (Water-Cooled Chiller)<br>Training Compute: 4.64e+26 FLOP<br>CSP: 1.55e-18 liters",
          "<b>Grok-3 (2025)</b><br>Series: CSP<br>Cooling: Waterside Economizer & Adiabatic Cooling (Water-Cooled Chiller)<br>Training Compute: 4.64e+26 FLOP<br>CSP: 6.65e-18 liters",
          "<b>Grok-3 (2025)</b><br>Series: CSP<br>Cooling: IT Liquid Cooling: Waterside Economizer (Water-Cooled Chiller)<br>Training Compute: 4.64e+26 FLOP<br>CSP: 6.03e-18 liters",
          "<b>Grok-3 (2025)</b><br>Series: CSP<br>Cooling: IT Liquid Cooling: Dry Cooler & Adiabitic Assist (Air-Cooled Chiller)<br>Training Compute: 4.64e+26 FLOP<br>CSP: 7.10e-19 liters",
          "<b>Grok-3 (2025)</b><br>Series: CSP<br>Cooling: IT Liquid Cooling: Dry Cooler (Air-Cooled Chiller)<br>Training Compute: 4.64e+26 FLOP<br>CSP: 3.13e-19 liters"
         ],
         "legendgroup": "model_Grok-3 (2025)",
         "marker": {
          "color": "hsl(0.0,70%,50%)",
          "line": {
           "color": "white",
           "width": 0.5
          },
          "size": 8,
          "symbol": [
           "circle",
           "x",
           "square",
           "diamond",
           "cross",
           "triangle-up",
           "star"
          ]
         },
         "mode": "markers",
         "name": "Grok-3 (2025) - CSP",
         "showlegend": false,
         "type": "scatter",
         "x": {
          "bdata": "6zZtJv38d0XrNm0m/fx3Res2bSb9/HdF6zZtJv38d0XrNm0m/fx3Res2bSb9/HdF6zZtJv38d0U=",
          "dtype": "f8"
         },
         "y": {
          "bdata": "Kf2aLRrjMjzdMNDTEQAcPO1n5LrwpTw8BTxEPAOvXjyb9aP1RNNbPDJO4cozMCo8eGazEU8PFzw=",
          "dtype": "f8"
         }
        },
        {
         "hovertemplate": "%{hovertext}<extra></extra>",
         "hovertext": [
          "<b>Gemini 1.0 Ultra (2023)</b><br>Series: CSP<br>Cooling: Dry Cooler with Adiabatic Assist (Air-Cooled Chiller)<br>Training Compute: 5.00e+25 FLOP<br>CSP: 3.20e-19 liters",
          "<b>Gemini 1.0 Ultra (2023)</b><br>Series: CSP<br>Cooling: Airside Economizer & Adiabatic Cooling (Air-Cooled Chiller)<br>Training Compute: 5.00e+25 FLOP<br>CSP: 1.19e-19 liters",
          "<b>Gemini 1.0 Ultra (2023)</b><br>Series: CSP<br>Cooling: Airside Economizer & Adiabatic Cooling (Water-Cooled Chiller)<br>Training Compute: 5.00e+25 FLOP<br>CSP: 4.86e-19 liters",
          "<b>Gemini 1.0 Ultra (2023)</b><br>Series: CSP<br>Cooling: Waterside Economizer & Adiabatic Cooling (Water-Cooled Chiller)<br>Training Compute: 5.00e+25 FLOP<br>CSP: 2.08e-18 liters",
          "<b>Gemini 1.0 Ultra (2023)</b><br>Series: CSP<br>Cooling: IT Liquid Cooling: Waterside Economizer (Water-Cooled Chiller)<br>Training Compute: 5.00e+25 FLOP<br>CSP: 1.89e-18 liters",
          "<b>Gemini 1.0 Ultra (2023)</b><br>Series: CSP<br>Cooling: IT Liquid Cooling: Dry Cooler & Adiabitic Assist (Air-Cooled Chiller)<br>Training Compute: 5.00e+25 FLOP<br>CSP: 2.22e-19 liters",
          "<b>Gemini 1.0 Ultra (2023)</b><br>Series: CSP<br>Cooling: IT Liquid Cooling: Dry Cooler (Air-Cooled Chiller)<br>Training Compute: 5.00e+25 FLOP<br>CSP: 9.78e-20 liters"
         ],
         "legendgroup": "model_Gemini 1.0 Ultra (2023)",
         "marker": {
          "color": "hsl(32.72727272727273,70%,50%)",
          "line": {
           "color": "white",
           "width": 0.5
          },
          "size": 8,
          "symbol": [
           "circle",
           "x",
           "square",
           "diamond",
           "cross",
           "triangle-up",
           "star"
          ]
         },
         "mode": "markers",
         "name": "Gemini 1.0 Ultra (2023) - CSP",
         "showlegend": false,
         "type": "scatter",
         "x": {
          "bdata": "9Mkzt/StREX0yTO39K1ERfTJM7f0rURF9Mkzt/StREX0yTO39K1ERfTJM7f0rURF9Mkzt/StREU=",
          "dtype": "f8"
         },
         "y": {
          "bdata": "Kfp1uuylFzyws0KmfYcBPEUUoxRV7yE8skG6PIs1QzyUngCxcWtBPNLLd4AXZRA8mmuTEWff/Ds=",
          "dtype": "f8"
         }
        },
        {
         "hovertemplate": "%{hovertext}<extra></extra>",
         "hovertext": [
          "<b>GPT-4o (2024)</b><br>Series: CSP<br>Cooling: Dry Cooler with Adiabatic Assist (Air-Cooled Chiller)<br>Training Compute: 3.81e+25 FLOP<br>CSP: 8.98e-19 liters",
          "<b>GPT-4o (2024)</b><br>Series: CSP<br>Cooling: Airside Economizer & Adiabatic Cooling (Air-Cooled Chiller)<br>Training Compute: 3.81e+25 FLOP<br>CSP: 3.33e-19 liters",
          "<b>GPT-4o (2024)</b><br>Series: CSP<br>Cooling: Airside Economizer & Adiabatic Cooling (Water-Cooled Chiller)<br>Training Compute: 3.81e+25 FLOP<br>CSP: 1.36e-18 liters",
          "<b>GPT-4o (2024)</b><br>Series: CSP<br>Cooling: Waterside Economizer & Adiabatic Cooling (Water-Cooled Chiller)<br>Training Compute: 3.81e+25 FLOP<br>CSP: 5.84e-18 liters",
          "<b>GPT-4o (2024)</b><br>Series: CSP<br>Cooling: IT Liquid Cooling: Waterside Economizer (Water-Cooled Chiller)<br>Training Compute: 3.81e+25 FLOP<br>CSP: 5.29e-18 liters",
          "<b>GPT-4o (2024)</b><br>Series: CSP<br>Cooling: IT Liquid Cooling: Dry Cooler & Adiabitic Assist (Air-Cooled Chiller)<br>Training Compute: 3.81e+25 FLOP<br>CSP: 6.23e-19 liters",
          "<b>GPT-4o (2024)</b><br>Series: CSP<br>Cooling: IT Liquid Cooling: Dry Cooler (Air-Cooled Chiller)<br>Training Compute: 3.81e+25 FLOP<br>CSP: 2.74e-19 liters"
         ],
         "legendgroup": "model_GPT-4o (2024)",
         "marker": {
          "color": "hsl(65.45454545454545,70%,50%)",
          "line": {
           "color": "white",
           "width": 0.5
          },
          "size": 8,
          "symbol": [
           "circle",
           "x",
           "square",
           "diamond",
           "cross",
           "triangle-up",
           "star"
          ]
         },
         "mode": "markers",
         "name": "GPT-4o (2024) - CSP",
         "showlegend": false,
         "type": "scatter",
         "x": {
          "bdata": "lW9Brv2DP0WVb0Gu/YM/RZVvQa79gz9FlW9Brv2DP0WVb0Gu/YM/RZVvQa79gz9FlW9Brv2DP0U=",
          "dtype": "f8"
         },
         "y": {
          "bdata": "dxayOJ6RMDwzUPG9OZAYPPFIEYq8ITk85xc5jNnqWjy3rYme7GhYPMKedatL+SY8k3LgLbU6FDw=",
          "dtype": "f8"
         }
        },
        {
         "hovertemplate": "%{hovertext}<extra></extra>",
         "hovertext": [
          "<b>Minerva (540B) (2022)</b><br>Series: CSP<br>Cooling: Dry Cooler with Adiabatic Assist (Air-Cooled Chiller)<br>Training Compute: 2.74e+24 FLOP<br>CSP: 1.02e-18 liters",
          "<b>Minerva (540B) (2022)</b><br>Series: CSP<br>Cooling: Airside Economizer & Adiabatic Cooling (Air-Cooled Chiller)<br>Training Compute: 2.74e+24 FLOP<br>CSP: 3.79e-19 liters",
          "<b>Minerva (540B) (2022)</b><br>Series: CSP<br>Cooling: Airside Economizer & Adiabatic Cooling (Water-Cooled Chiller)<br>Training Compute: 2.74e+24 FLOP<br>CSP: 1.55e-18 liters",
          "<b>Minerva (540B) (2022)</b><br>Series: CSP<br>Cooling: Waterside Economizer & Adiabatic Cooling (Water-Cooled Chiller)<br>Training Compute: 2.74e+24 FLOP<br>CSP: 6.64e-18 liters",
          "<b>Minerva (540B) (2022)</b><br>Series: CSP<br>Cooling: IT Liquid Cooling: Waterside Economizer (Water-Cooled Chiller)<br>Training Compute: 2.74e+24 FLOP<br>CSP: 6.02e-18 liters",
          "<b>Minerva (540B) (2022)</b><br>Series: CSP<br>Cooling: IT Liquid Cooling: Dry Cooler & Adiabitic Assist (Air-Cooled Chiller)<br>Training Compute: 2.74e+24 FLOP<br>CSP: 7.09e-19 liters",
          "<b>Minerva (540B) (2022)</b><br>Series: CSP<br>Cooling: IT Liquid Cooling: Dry Cooler (Air-Cooled Chiller)<br>Training Compute: 2.74e+24 FLOP<br>CSP: 3.12e-19 liters"
         ],
         "legendgroup": "model_Minerva (540B) (2022)",
         "marker": {
          "color": "hsl(98.18181818181819,70%,50%)",
          "line": {
           "color": "white",
           "width": 0.5
          },
          "size": 8,
          "symbol": [
           "circle",
           "x",
           "square",
           "diamond",
           "cross",
           "triangle-up",
           "star"
          ]
         },
         "mode": "markers",
         "name": "Minerva (540B) (2022) - CSP",
         "showlegend": false,
         "type": "scatter",
         "x": {
          "bdata": "3XMzGkgkAkXdczMaSCQCRd1zMxpIJAJF3XMzGkgkAkXdczMaSCQCRd1zMxpIJAJF3XMzGkgkAkU=",
          "dtype": "f8"
         },
         "y": {
          "bdata": "OmsDek/bMjy0bHarhPQbPJ9YpSQfmjw8+IqqrlqiXjyUWrlIysdbPNoSXgBmJSo8daTxrssFFzw=",
          "dtype": "f8"
         }
        },
        {
         "hovertemplate": "%{hovertext}<extra></extra>",
         "hovertext": [
          "<b>FLAN 137B (2021)</b><br>Series: CSP<br>Cooling: Dry Cooler with Adiabatic Assist (Air-Cooled Chiller)<br>Training Compute: 2.05e+24 FLOP<br>CSP: 7.58e-19 liters",
          "<b>FLAN 137B (2021)</b><br>Series: CSP<br>Cooling: Airside Economizer & Adiabatic Cooling (Air-Cooled Chiller)<br>Training Compute: 2.05e+24 FLOP<br>CSP: 2.81e-19 liters",
          "<b>FLAN 137B (2021)</b><br>Series: CSP<br>Cooling: Airside Economizer & Adiabatic Cooling (Water-Cooled Chiller)<br>Training Compute: 2.05e+24 FLOP<br>CSP: 1.15e-18 liters",
          "<b>FLAN 137B (2021)</b><br>Series: CSP<br>Cooling: Waterside Economizer & Adiabatic Cooling (Water-Cooled Chiller)<br>Training Compute: 2.05e+24 FLOP<br>CSP: 4.93e-18 liters",
          "<b>FLAN 137B (2021)</b><br>Series: CSP<br>Cooling: IT Liquid Cooling: Waterside Economizer (Water-Cooled Chiller)<br>Training Compute: 2.05e+24 FLOP<br>CSP: 4.47e-18 liters",
          "<b>FLAN 137B (2021)</b><br>Series: CSP<br>Cooling: IT Liquid Cooling: Dry Cooler & Adiabitic Assist (Air-Cooled Chiller)<br>Training Compute: 2.05e+24 FLOP<br>CSP: 5.26e-19 liters",
          "<b>FLAN 137B (2021)</b><br>Series: CSP<br>Cooling: IT Liquid Cooling: Dry Cooler (Air-Cooled Chiller)<br>Training Compute: 2.05e+24 FLOP<br>CSP: 2.32e-19 liters"
         ],
         "legendgroup": "model_FLAN 137B (2021)",
         "marker": {
          "color": "hsl(130.9090909090909,70%,50%)",
          "line": {
           "color": "white",
           "width": 0.5
          },
          "size": 8,
          "symbol": [
           "circle",
           "x",
           "square",
           "diamond",
           "cross",
           "triangle-up",
           "star"
          ]
         },
         "mode": "markers",
         "name": "FLAN 137B (2021) - CSP",
         "showlegend": false,
         "type": "scatter",
         "x": {
          "bdata": "8hJIeoEX+0TyEkh6gRf7RPISSHqBF/tE8hJIeoEX+0TyEkh6gRf7RPISSHqBF/tE8hJIeoEX+0Q=",
          "dtype": "f8"
         },
         "y": {
          "bdata": "zJADMob7KzyCl9sk/L0UPF6a9vHbODU8YIqQV9y6VjzktUkzzJxUPPOdnh9cZiM8Em7DThIVETw=",
          "dtype": "f8"
         }
        },
        {
         "hovertemplate": "%{hovertext}<extra></extra>",
         "hovertext": [
          "<b>AlphaGo Zero (2017)</b><br>Series: CSP<br>Cooling: Dry Cooler with Adiabatic Assist (Air-Cooled Chiller)<br>Training Compute: 3.41e+23 FLOP<br>CSP: 1.94e-18 liters",
          "<b>AlphaGo Zero (2017)</b><br>Series: CSP<br>Cooling: Airside Economizer & Adiabatic Cooling (Air-Cooled Chiller)<br>Training Compute: 3.41e+23 FLOP<br>CSP: 7.18e-19 liters",
          "<b>AlphaGo Zero (2017)</b><br>Series: CSP<br>Cooling: Airside Economizer & Adiabatic Cooling (Water-Cooled Chiller)<br>Training Compute: 3.41e+23 FLOP<br>CSP: 2.94e-18 liters",
          "<b>AlphaGo Zero (2017)</b><br>Series: CSP<br>Cooling: Waterside Economizer & Adiabatic Cooling (Water-Cooled Chiller)<br>Training Compute: 3.41e+23 FLOP<br>CSP: 1.26e-17 liters",
          "<b>AlphaGo Zero (2017)</b><br>Series: CSP<br>Cooling: IT Liquid Cooling: Waterside Economizer (Water-Cooled Chiller)<br>Training Compute: 3.41e+23 FLOP<br>CSP: 1.14e-17 liters",
          "<b>AlphaGo Zero (2017)</b><br>Series: CSP<br>Cooling: IT Liquid Cooling: Dry Cooler & Adiabitic Assist (Air-Cooled Chiller)<br>Training Compute: 3.41e+23 FLOP<br>CSP: 1.34e-18 liters",
          "<b>AlphaGo Zero (2017)</b><br>Series: CSP<br>Cooling: IT Liquid Cooling: Dry Cooler (Air-Cooled Chiller)<br>Training Compute: 3.41e+23 FLOP<br>CSP: 5.91e-19 liters"
         ],
         "legendgroup": "model_AlphaGo Zero (2017)",
         "marker": {
          "color": "hsl(163.63636363636363,70%,50%)",
          "line": {
           "color": "white",
           "width": 0.5
          },
          "size": 8,
          "symbol": [
           "circle",
           "x",
           "square",
           "diamond",
           "cross",
           "triangle-up",
           "star"
          ]
         },
         "mode": "markers",
         "name": "AlphaGo Zero (2017) - CSP",
         "showlegend": false,
         "type": "scatter",
         "x": {
          "bdata": "YyQeaWkN0kRjJB5paQ3SRGMkHmlpDdJEYyQeaWkN0kRjJB5paQ3SRGMkHmlpDdJEYyQeaWkN0kQ=",
          "dtype": "f8"
         },
         "y": {
          "bdata": "+EB1rxjeQTx6sOp4IH0qPEIDeioLGks8YqGr1/wGbTw5/ui1vlJqPKw3jLxMxjg8aI7NwqPQJTw=",
          "dtype": "f8"
         }
        },
        {
         "hovertemplate": "%{hovertext}<extra></extra>",
         "hovertext": [
          "<b>GPT-3 175B (davinci) (2020)</b><br>Series: CSP<br>Cooling: Dry Cooler with Adiabatic Assist (Air-Cooled Chiller)<br>Training Compute: 3.14e+23 FLOP<br>CSP: 1.56e-18 liters",
          "<b>GPT-3 175B (davinci) (2020)</b><br>Series: CSP<br>Cooling: Airside Economizer & Adiabatic Cooling (Air-Cooled Chiller)<br>Training Compute: 3.14e+23 FLOP<br>CSP: 5.79e-19 liters",
          "<b>GPT-3 175B (davinci) (2020)</b><br>Series: CSP<br>Cooling: Airside Economizer & Adiabatic Cooling (Water-Cooled Chiller)<br>Training Compute: 3.14e+23 FLOP<br>CSP: 2.37e-18 liters",
          "<b>GPT-3 175B (davinci) (2020)</b><br>Series: CSP<br>Cooling: Waterside Economizer & Adiabatic Cooling (Water-Cooled Chiller)<br>Training Compute: 3.14e+23 FLOP<br>CSP: 1.01e-17 liters",
          "<b>GPT-3 175B (davinci) (2020)</b><br>Series: CSP<br>Cooling: IT Liquid Cooling: Waterside Economizer (Water-Cooled Chiller)<br>Training Compute: 3.14e+23 FLOP<br>CSP: 9.20e-18 liters",
          "<b>GPT-3 175B (davinci) (2020)</b><br>Series: CSP<br>Cooling: IT Liquid Cooling: Dry Cooler & Adiabitic Assist (Air-Cooled Chiller)<br>Training Compute: 3.14e+23 FLOP<br>CSP: 1.08e-18 liters",
          "<b>GPT-3 175B (davinci) (2020)</b><br>Series: CSP<br>Cooling: IT Liquid Cooling: Dry Cooler (Air-Cooled Chiller)<br>Training Compute: 3.14e+23 FLOP<br>CSP: 4.77e-19 liters"
         ],
         "legendgroup": "model_GPT-3 175B (davinci) (2020)",
         "marker": {
          "color": "hsl(196.36363636363637,70%,50%)",
          "line": {
           "color": "white",
           "width": 0.5
          },
          "size": 8,
          "symbol": [
           "circle",
           "x",
           "square",
           "diamond",
           "cross",
           "triangle-up",
           "star"
          ]
         },
         "mode": "markers",
         "name": "GPT-3 175B (davinci) (2020) - CSP",
         "showlegend": false,
         "type": "scatter",
         "x": {
          "bdata": "xCzJV36f0ETELMlXfp/QRMQsyVd+n9BExCzJV36f0ETELMlXfp/QRMQsyVd+n9BExCzJV36f0EQ=",
          "dtype": "f8"
         },
         "y": {
          "bdata": "zs8hiG7NPDyrkX9flFklPNYxm+YN2EU80+jQ111lZzzKoJp6azdlPKOCebDi9zM857b+YzaVITw=",
          "dtype": "f8"
         }
        },
        {
         "hovertemplate": "%{hovertext}<extra></extra>",
         "hovertext": [
          "<b>OpenAI Five (2019)</b><br>Series: CSP<br>Cooling: Dry Cooler with Adiabatic Assist (Air-Cooled Chiller)<br>Training Compute: 6.70e+22 FLOP<br>CSP: 1.47e-18 liters",
          "<b>OpenAI Five (2019)</b><br>Series: CSP<br>Cooling: Airside Economizer & Adiabatic Cooling (Air-Cooled Chiller)<br>Training Compute: 6.70e+22 FLOP<br>CSP: 5.44e-19 liters",
          "<b>OpenAI Five (2019)</b><br>Series: CSP<br>Cooling: Airside Economizer & Adiabatic Cooling (Water-Cooled Chiller)<br>Training Compute: 6.70e+22 FLOP<br>CSP: 2.23e-18 liters",
          "<b>OpenAI Five (2019)</b><br>Series: CSP<br>Cooling: Waterside Economizer & Adiabatic Cooling (Water-Cooled Chiller)<br>Training Compute: 6.70e+22 FLOP<br>CSP: 9.54e-18 liters",
          "<b>OpenAI Five (2019)</b><br>Series: CSP<br>Cooling: IT Liquid Cooling: Waterside Economizer (Water-Cooled Chiller)<br>Training Compute: 6.70e+22 FLOP<br>CSP: 8.65e-18 liters",
          "<b>OpenAI Five (2019)</b><br>Series: CSP<br>Cooling: IT Liquid Cooling: Dry Cooler & Adiabitic Assist (Air-Cooled Chiller)<br>Training Compute: 6.70e+22 FLOP<br>CSP: 1.02e-18 liters",
          "<b>OpenAI Five (2019)</b><br>Series: CSP<br>Cooling: IT Liquid Cooling: Dry Cooler (Air-Cooled Chiller)<br>Training Compute: 6.70e+22 FLOP<br>CSP: 4.48e-19 liters"
         ],
         "legendgroup": "model_OpenAI Five (2019)",
         "marker": {
          "color": "hsl(229.0909090909091,70%,50%)",
          "line": {
           "color": "white",
           "width": 0.5
          },
          "size": 8,
          "symbol": [
           "circle",
           "x",
           "square",
           "diamond",
           "cross",
           "triangle-up",
           "star"
          ]
         },
         "mode": "markers",
         "name": "OpenAI Five (2019) - CSP",
         "showlegend": false,
         "type": "scatter",
         "x": {
          "bdata": "iJL1kCdgrESIkvWQJ2CsRIiS9ZAnYKxEiJL1kCdgrESIkvWQJ2CsRIiS9ZAnYKxEiJL1kCdgrEQ=",
          "dtype": "f8"
         },
         "y": {
          "bdata": "PPvKT0YXOzxeol5TyxQkPJ+C0tvAi0Q8lyajsXQBZjwHwQsWqvRjPNtJMzUeyDI88y54w7uJIDw=",
          "dtype": "f8"
         }
        },
        {
         "hovertemplate": "%{hovertext}<extra></extra>",
         "hovertext": [
          "<b>ResNeXt-101 32x48d (2018)</b><br>Series: CSP<br>Cooling: Dry Cooler with Adiabatic Assist (Air-Cooled Chiller)<br>Training Compute: 8.74e+21 FLOP<br>CSP: 1.56e-18 liters",
          "<b>ResNeXt-101 32x48d (2018)</b><br>Series: CSP<br>Cooling: Airside Economizer & Adiabatic Cooling (Air-Cooled Chiller)<br>Training Compute: 8.74e+21 FLOP<br>CSP: 5.79e-19 liters",
          "<b>ResNeXt-101 32x48d (2018)</b><br>Series: CSP<br>Cooling: Airside Economizer & Adiabatic Cooling (Water-Cooled Chiller)<br>Training Compute: 8.74e+21 FLOP<br>CSP: 2.37e-18 liters",
          "<b>ResNeXt-101 32x48d (2018)</b><br>Series: CSP<br>Cooling: Waterside Economizer & Adiabatic Cooling (Water-Cooled Chiller)<br>Training Compute: 8.74e+21 FLOP<br>CSP: 1.01e-17 liters",
          "<b>ResNeXt-101 32x48d (2018)</b><br>Series: CSP<br>Cooling: IT Liquid Cooling: Waterside Economizer (Water-Cooled Chiller)<br>Training Compute: 8.74e+21 FLOP<br>CSP: 9.20e-18 liters",
          "<b>ResNeXt-101 32x48d (2018)</b><br>Series: CSP<br>Cooling: IT Liquid Cooling: Dry Cooler & Adiabitic Assist (Air-Cooled Chiller)<br>Training Compute: 8.74e+21 FLOP<br>CSP: 1.08e-18 liters",
          "<b>ResNeXt-101 32x48d (2018)</b><br>Series: CSP<br>Cooling: IT Liquid Cooling: Dry Cooler (Air-Cooled Chiller)<br>Training Compute: 8.74e+21 FLOP<br>CSP: 4.77e-19 liters"
         ],
         "legendgroup": "model_ResNeXt-101 32x48d (2018)",
         "marker": {
          "color": "hsl(261.8181818181818,70%,50%)",
          "line": {
           "color": "white",
           "width": 0.5
          },
          "size": 8,
          "symbol": [
           "circle",
           "x",
           "square",
           "diamond",
           "cross",
           "triangle-up",
           "star"
          ]
         },
         "mode": "markers",
         "name": "ResNeXt-101 32x48d (2018) - CSP",
         "showlegend": false,
         "type": "scatter",
         "x": {
          "bdata": "DhRZ7CqgfUQOFFnsKqB9RA4UWewqoH1EDhRZ7CqgfUQOFFnsKqB9RA4UWewqoH1EDhRZ7CqgfUQ=",
          "dtype": "f8"
         },
         "y": {
          "bdata": "zc8hiG7NPDyrkX9flFklPNYxm+YN2EU80+jQ111lZzzJoJp6azdlPKOCebDi9zM857b+YzaVITw=",
          "dtype": "f8"
         }
        },
        {
         "hovertemplate": "%{hovertext}<extra></extra>",
         "hovertext": [
          "<b>GNMT (2016)</b><br>Series: CSP<br>Cooling: Dry Cooler with Adiabatic Assist (Air-Cooled Chiller)<br>Training Compute: 6.62e+21 FLOP<br>CSP: 7.14e-18 liters",
          "<b>GNMT (2016)</b><br>Series: CSP<br>Cooling: Airside Economizer & Adiabatic Cooling (Air-Cooled Chiller)<br>Training Compute: 6.62e+21 FLOP<br>CSP: 2.65e-18 liters",
          "<b>GNMT (2016)</b><br>Series: CSP<br>Cooling: Airside Economizer & Adiabatic Cooling (Water-Cooled Chiller)<br>Training Compute: 6.62e+21 FLOP<br>CSP: 1.08e-17 liters",
          "<b>GNMT (2016)</b><br>Series: CSP<br>Cooling: Waterside Economizer & Adiabatic Cooling (Water-Cooled Chiller)<br>Training Compute: 6.62e+21 FLOP<br>CSP: 4.64e-17 liters",
          "<b>GNMT (2016)</b><br>Series: CSP<br>Cooling: IT Liquid Cooling: Waterside Economizer (Water-Cooled Chiller)<br>Training Compute: 6.62e+21 FLOP<br>CSP: 4.21e-17 liters",
          "<b>GNMT (2016)</b><br>Series: CSP<br>Cooling: IT Liquid Cooling: Dry Cooler & Adiabitic Assist (Air-Cooled Chiller)<br>Training Compute: 6.62e+21 FLOP<br>CSP: 4.95e-18 liters",
          "<b>GNMT (2016)</b><br>Series: CSP<br>Cooling: IT Liquid Cooling: Dry Cooler (Air-Cooled Chiller)<br>Training Compute: 6.62e+21 FLOP<br>CSP: 2.18e-18 liters"
         ],
         "legendgroup": "model_GNMT (2016)",
         "marker": {
          "color": "hsl(294.54545454545456,70%,50%)",
          "line": {
           "color": "white",
           "width": 0.5
          },
          "size": 8,
          "symbol": [
           "circle",
           "x",
           "square",
           "diamond",
           "cross",
           "triangle-up",
           "star"
          ]
         },
         "mode": "markers",
         "name": "GNMT (2016) - CSP",
         "showlegend": false,
         "type": "scatter",
         "x": {
          "bdata": "mc3bSO9tdkSZzdtI7212RJnN20jvbXZEmc3bSO9tdkSZzdtI7212RJnN20jvbXZEmc3bSO9tdkQ=",
          "dtype": "f8"
         },
         "y": {
          "bdata": "cBdaE8Z1YDzjkn448mZIPCCLt3uA92g8voIfTZ29ijyANw8l5z+IPHI5KQGw0lY86hAFO7YYRDw=",
          "dtype": "f8"
         }
        },
        {
         "hovertemplate": "%{hovertext}<extra></extra>",
         "hovertext": [
          "<b>AlphaGo Fan (2015)</b><br>Series: CSP<br>Cooling: Dry Cooler with Adiabatic Assist (Air-Cooled Chiller)<br>Training Compute: 3.80e+20 FLOP<br>CSP: 8.54e-18 liters",
          "<b>AlphaGo Fan (2015)</b><br>Series: CSP<br>Cooling: Airside Economizer & Adiabatic Cooling (Air-Cooled Chiller)<br>Training Compute: 3.80e+20 FLOP<br>CSP: 3.16e-18 liters",
          "<b>AlphaGo Fan (2015)</b><br>Series: CSP<br>Cooling: Airside Economizer & Adiabatic Cooling (Water-Cooled Chiller)<br>Training Compute: 3.80e+20 FLOP<br>CSP: 1.29e-17 liters",
          "<b>AlphaGo Fan (2015)</b><br>Series: CSP<br>Cooling: Waterside Economizer & Adiabatic Cooling (Water-Cooled Chiller)<br>Training Compute: 3.80e+20 FLOP<br>CSP: 5.55e-17 liters",
          "<b>AlphaGo Fan (2015)</b><br>Series: CSP<br>Cooling: IT Liquid Cooling: Waterside Economizer (Water-Cooled Chiller)<br>Training Compute: 3.80e+20 FLOP<br>CSP: 5.03e-17 liters",
          "<b>AlphaGo Fan (2015)</b><br>Series: CSP<br>Cooling: IT Liquid Cooling: Dry Cooler & Adiabitic Assist (Air-Cooled Chiller)<br>Training Compute: 3.80e+20 FLOP<br>CSP: 5.92e-18 liters",
          "<b>AlphaGo Fan (2015)</b><br>Series: CSP<br>Cooling: IT Liquid Cooling: Dry Cooler (Air-Cooled Chiller)<br>Training Compute: 3.80e+20 FLOP<br>CSP: 2.61e-18 liters"
         ],
         "legendgroup": "model_AlphaGo Fan (2015)",
         "marker": {
          "color": "hsl(327.27272727272725,70%,50%)",
          "line": {
           "color": "white",
           "width": 0.5
          },
          "size": 8,
          "symbol": [
           "circle",
           "x",
           "square",
           "diamond",
           "cross",
           "triangle-up",
           "star"
          ]
         },
         "mode": "markers",
         "name": "AlphaGo Fan (2015) - CSP",
         "showlegend": false,
         "type": "scatter",
         "x": {
          "bdata": "cHisMo+ZNERweKwyj5k0RHB4rDKPmTREcHisMo+ZNERweKwyj5k0RHB4rDKPmTREcHisMo+ZNEQ=",
          "dtype": "f8"
         },
         "y": {
          "bdata": "rAm9iHKuYzyEWza0hy1NPBRBWW1g2m08WXVa+Vz5jzzvV06A2P6MPOwgAIQnSls8ctLTGZQHSDw=",
          "dtype": "f8"
         }
        },
        {
         "hovertemplate": "<b>Hydropower Regression</b><br>R² = 0.667<br>Slope = -0.181<br><extra></extra>",
         "line": {
          "color": "blue",
          "dash": "dash",
          "width": 2
         },
         "mode": "lines",
         "name": "Hydropower Regression (R²=0.667)",
         "showlegend": true,
         "type": "scatter",
         "x": {
          "bdata": "b3isMo+ZNETE6KdAjrs3RLArX8GEVztEpVEWIf9/P0Qwljb3LSVCRDXwTtac50RErNinrHoVSETTzBsYHr9LRGJo0cxZ909E6Py8qO5pUkQky9Y40jZVRDPbkdG7cFhEEsjQ+D8oXEQvM3RaPDhgRJ5Qs9uzr2JEk2LaujOHZUQ8K2e6Vs1oRPHz1DLwkmxEibpxRbF1cEQhZilrgfZyRLT9hc3F2HVEWKlEhVAreURNtoKrNP98RFmt0wwPtIBE0hHLQFs+g0QSqtryjCuGRApDq2OuiolEW26LXhNtjUTayeoiWfOQRD+DF1VFh5NEOALuvY1/lkRTasmadeuZRNEaTF6S3J1E6eoWB5MzoUSCcZmvQ9GjRDDkKtPM1KZEn6XFg6tNqkRXPiPUt02uRJiD+EXAdLFEdx0gZ1octEQBH5PoTiu3REs6CoxVsbpEIQzIAIrAvkRH1qJ55LbBRA8q+aGNaMREExkCxhiDx0S285E1eRbLRC3dojwPNc9EkejOSQP60UR1UiuW4bXURDFxcEUv3NdEWg82Fxx920Rm9ib4TavfRL05D2wgPuJE9fuxiVoE5US6oThTlzboRDNQ/dxD5etE5M8WXqYR8EQbPQSkP4PyRJurudL8U/VE3Kdc7lWS+ESLO2xI9k78RHtMKRWJTgBFx5mRw2TJAkXOX93XzKQFRdKwzChw7whF/ofWMDm6DEXm86h+UowQRco1FKuTEBNFgNNkEM/2FUXX1K4n600ZRR3BsYMSJx1FyoazBAbLIEULDZlJ0FgjRSyrgwQISiZF8+GnI8ytKUXXIelEiJUtRZfRVh6nCjFFDdkUnR6iM0UdlJlNfJ42RYY4JWkYDzpF8q4yj6AFPkWYssFPOUtBRaKJnLKC7ENFulNzljD0RkX/wadY1XFKRf6TZZRhd05FAdh1KsCMUUU+lp6mADhURYPPjJspS1dFLQIQZwjWWkUcxdGd0epeRd08ek0/z2FFyiUdpZyEZEUIDlQrbKNnRUhK6x23O2tFMu+YDPdfb0XeYo5luhJyRcwU6ela0nRFAzdtJv38d0U=",
          "dtype": "f8"
         },
         "y": {
          "bdata": "LWJEE3zdtjwl4OuYf0m2PKsgnOdAubU8cHJtyKcstTwwOTChnKO0PFafdnAIHrQ8Zey3ydSbszx32ozR6xyzPLRIBDo4obI8sawPP6Uosjx2qQajHrOxPJ82QauQQLE8NsXHHOjQsDyz0xg5EmSwPFrNBnb58688sb4rpyslrzxQV0FOmFuuPLKemJQdl60805GEfprXrDxPstDl7hysPFlpW3T7Zqs8v1rTnqG1qjzkwZafwwiqPIL/s3FEYKk8C4AKzAe8qDzpKIsc8huoPCiBl4Pof6c8+M5+z9Dnpjy9Zxh4kVOmPEV1epoRw6U8dnjM9Dg2pTww1jTi76ykPBm/4FYfJ6Q8Qccl3LCkozzjh7yMjiWjPHipExGjqaI8yLe6m9kwojywJeTlHbuhPOnq/StcSKE82ylgKoHYoDx/ThEaemugPBsbn600AaA8YjcYHD4znzy8+KGvT2mePEKD4i98pJ08tslFkqLknDwVthCioimcPKsd+fpcc5s817LgA7PBmjxtEbLphhSaPGUKX5q7a5k8lFX/vzTHmDxd2w681iaYPIDFyqKGipc885GsNiryljxvZwLkp12WPEDqo7zmzJU8INzCc84/lTwY0tZZR7aUPD9Qo1g6MJQ8PKNX75CtkzxszccuNS6TPCDnvbURspI8KVVjrRE5kjwsOMHFIMORPAuBVzIrUJE87hbKph3gkDxVf6NT5XKQPFN/LONvCJA8h1aw7FZBjzxoxIdDDXeOPIBqldXgsY08E3VXibDxjDzlpoUbXDaMPPDbphnEf4s8W5jJ3MnNijyoxF6ETyCKPB61NfE3d4k8UqeYwGbSiDym5YhHwDGIPJO/GY4plYc8rpLpSoj8hjyTILjewmeGPChzGVDA1oU8YplER2hJhTyGhP0Jo7+EPCxYmXdZOYQ8goMcBXW2gzxP+XG53zaDPADnuimEuoI8LUu2dU1BgjxY0D9EJ8uBPMFX5b/9V4E8UJ6Sk73ngDwgblLnU3qAPHzSJF2uD4A81obTG3ZPfzxUjb8M0YR+PCwIbIhLv308+J1iZsT+fDw=",
          "dtype": "f8"
         }
        },
        {
         "hovertemplate": "<b>Nuclear Regression</b><br>R² = 0.550<br>Slope = -0.181<br><extra></extra>",
         "line": {
          "color": "red",
          "dash": "dash",
          "width": 2
         },
         "mode": "lines",
         "name": "Nuclear Regression (R²=0.550)",
         "showlegend": true,
         "type": "scatter",
         "x": {
          "bdata": "b3isMo+ZNETE6KdAjrs3RLArX8GEVztEpVEWIf9/P0Qwljb3LSVCRDXwTtac50RErNinrHoVSETTzBsYHr9LRGJo0cxZ909E6Py8qO5pUkQky9Y40jZVRDPbkdG7cFhEEsjQ+D8oXEQvM3RaPDhgRJ5Qs9uzr2JEk2LaujOHZUQ8K2e6Vs1oRPHz1DLwkmxEibpxRbF1cEQhZilrgfZyRLT9hc3F2HVEWKlEhVAreURNtoKrNP98RFmt0wwPtIBE0hHLQFs+g0QSqtryjCuGRApDq2OuiolEW26LXhNtjUTayeoiWfOQRD+DF1VFh5NEOALuvY1/lkRTasmadeuZRNEaTF6S3J1E6eoWB5MzoUSCcZmvQ9GjRDDkKtPM1KZEn6XFg6tNqkRXPiPUt02uRJiD+EXAdLFEdx0gZ1octEQBH5PoTiu3REs6CoxVsbpEIQzIAIrAvkRH1qJ55LbBRA8q+aGNaMREExkCxhiDx0S285E1eRbLRC3dojwPNc9EkejOSQP60UR1UiuW4bXURDFxcEUv3NdEWg82Fxx920Rm9ib4TavfRL05D2wgPuJE9fuxiVoE5US6oThTlzboRDNQ/dxD5etE5M8WXqYR8EQbPQSkP4PyRJurudL8U/VE3Kdc7lWS+ESLO2xI9k78RHtMKRWJTgBFx5mRw2TJAkXOX93XzKQFRdKwzChw7whF/ofWMDm6DEXm86h+UowQRco1FKuTEBNFgNNkEM/2FUXX1K4n600ZRR3BsYMSJx1FyoazBAbLIEULDZlJ0FgjRSyrgwQISiZF8+GnI8ytKUXXIelEiJUtRZfRVh6nCjFFDdkUnR6iM0UdlJlNfJ42RYY4JWkYDzpF8q4yj6AFPkWYssFPOUtBRaKJnLKC7ENFulNzljD0RkX/wadY1XFKRf6TZZRhd05FAdh1KsCMUUU+lp6mADhURYPPjJspS1dFLQIQZwjWWkUcxdGd0epeRd08ek0/z2FFyiUdpZyEZEUIDlQrbKNnRUhK6x23O2tFMu+YDPdfb0XeYo5luhJyRcwU6ela0nRFAzdtJv38d0U=",
          "dtype": "f8"
         },
         "y": {
          "bdata": "eaqL4DsFfzzUpUM6dzx+PI4+d/nFeH08F65LRAe6fDyRzYMVGwB8PIABIDfiSns8L/EgPT6aejyNJWyAEe55PP+30Rk/Rnk8hzYy3aqieDwd78NUOQN4PNHYdrzPZ3c8cVB2/VPQdjze6seprDx2PNWfBvjArHU8pZQ5v3ggdTwC18VyvJd0POxVeh51EnQ8lHC1YoyQczxId6Nw7BFzPHZ5lQaAlnI8QMZvbDIecjxJhS9w76hxPIzRhmKjNnE85MaOEzvHcDw08Y7Po1pwPLEos7eW4W88RI545z8Tbzw0tgiLIEpuPCgmLd8Whm08tlUz+wHHbDwSa2bLwQxsPKu7rAs3V2s8MCRIQkOmajwHWbi6yPlpPFFVvoCqUWk8qQ2AW8ytaDxZmcvIEg5oPCcFefhicmc8Uwjqx6LaZjxp3aa9uEZmPGZ+FwWMtmU8Xo5YagQqZTw2PytWCqFkPBOB/8mGG2Q8TtQXXGOZYzwBF8YzihpjPKmrwAXmnmI80V2PEGImYjzmZw8Z6rBhPBIGDmdqPmE8kAX5wc/OYDwhv6RtB2JgPNjoTU7+7188jxCMQ0ohXzwNG/gH0FdePN5bGsltk108H9NhjwLUXDx6a5s4bhlcPOgLjXKRY1s8ZJCztU2yWjyWyyJAhQVaPNuzhhAbXVk82+NE4fK4WDzjoL0j8RhYPKeWq/v6fFc81IOhOvbkVjxzF6VbyVBWPC8+5n5bwFU8qiqSZZQzVTxAZMFtXKpUPHMsgI6cJFQ8VpPwUz6iUzwhkYXbKyNTPNSEVtBPp1I8bHuKZ5UuUjyIotpc6LhRPBhTK+80RlE8+iA73WfWUDw9YGdibmlQPAwvC2ds/k88Pqqi91ovTzybyNuzhWVOPNrG9rnKoE08hHV9AwnhTDzi97dfICZMPHNkRW7xb0s8kF3XmV2+SjyBww8TRxFKPLmef8uQaEk8eW3GcB7ESDw5BdFn1CNIPB83N8iXh0c83HO3V07vRjyeq8+F3lpGPOGrcmcvykU8y0XZsig9RTxRhW67srNEPARM1m22LUQ8KaYNTB2rQzw=",
          "dtype": "f8"
         }
        },
        {
         "hovertemplate": "<b>CSP Regression</b><br>R² = 0.259<br>Slope = -0.181<br><extra></extra>",
         "line": {
          "color": "green",
          "dash": "dash",
          "width": 2
         },
         "mode": "lines",
         "name": "CSP Regression (R²=0.259)",
         "showlegend": true,
         "type": "scatter",
         "x": {
          "bdata": "b3isMo+ZNETE6KdAjrs3RLArX8GEVztEpVEWIf9/P0Qwljb3LSVCRDXwTtac50RErNinrHoVSETTzBsYHr9LRGJo0cxZ909E6Py8qO5pUkQky9Y40jZVRDPbkdG7cFhEEsjQ+D8oXEQvM3RaPDhgRJ5Qs9uzr2JEk2LaujOHZUQ8K2e6Vs1oRPHz1DLwkmxEibpxRbF1cEQhZilrgfZyRLT9hc3F2HVEWKlEhVAreURNtoKrNP98RFmt0wwPtIBE0hHLQFs+g0QSqtryjCuGRApDq2OuiolEW26LXhNtjUTayeoiWfOQRD+DF1VFh5NEOALuvY1/lkRTasmadeuZRNEaTF6S3J1E6eoWB5MzoUSCcZmvQ9GjRDDkKtPM1KZEn6XFg6tNqkRXPiPUt02uRJiD+EXAdLFEdx0gZ1octEQBH5PoTiu3REs6CoxVsbpEIQzIAIrAvkRH1qJ55LbBRA8q+aGNaMREExkCxhiDx0S285E1eRbLRC3dojwPNc9EkejOSQP60UR1UiuW4bXURDFxcEUv3NdEWg82Fxx920Rm9ib4TavfRL05D2wgPuJE9fuxiVoE5US6oThTlzboRDNQ/dxD5etE5M8WXqYR8EQbPQSkP4PyRJurudL8U/VE3Kdc7lWS+ESLO2xI9k78RHtMKRWJTgBFx5mRw2TJAkXOX93XzKQFRdKwzChw7whF/ofWMDm6DEXm86h+UowQRco1FKuTEBNFgNNkEM/2FUXX1K4n600ZRR3BsYMSJx1FyoazBAbLIEULDZlJ0FgjRSyrgwQISiZF8+GnI8ytKUXXIelEiJUtRZfRVh6nCjFFDdkUnR6iM0UdlJlNfJ42RYY4JWkYDzpF8q4yj6AFPkWYssFPOUtBRaKJnLKC7ENFulNzljD0RkX/wadY1XFKRf6TZZRhd05FAdh1KsCMUUU+lp6mADhURYPPjJspS1dFLQIQZwjWWkUcxdGd0epeRd08ek0/z2FFyiUdpZyEZEUIDlQrbKNnRUhK6x23O2tFMu+YDPdfb0XeYo5luhJyRcwU6ela0nRFAzdtJv38d0U=",
          "dtype": "f8"
         },
         "y": {
          "bdata": "MHJkm4UHYDztm7U1jj9fPDYodxhQdV48MeGz6y6wXTzjnc2XCfBcPLCQU9u/NFw8hRqYRTJ+Wzwpp2kxQsxaPGCy7b/RHlo83xqd08N1WTwt52AL/NBYPLeszr1eMFg8Ss6D9NCTVzwPxp5nOPtWPP+7VXl7ZlY8AqqpMYHVVTzwUzU6MUhVPGBiF9pzvlQ8mez28TE4VDzWySH4VLVTPJkAxPTGNVM8h7Q3fnK5UjyR8Gy1QkBSPOy1aEIjylE8JLfaUABXUTwzL8mMxuZQPGJCUh9jeVA8J1+Cq8MOUDyDMH6WrE1PPMThixgTg048vzd92pi9TTzkXsC1HP1MPB+kUVp+QUw8u9VOSZ6KSzw3va3PXdhKPFvRFAGfKko8NEXVskSBSTxglwV3MtxIPATTu5dMO0g8/bNmEnieRzxt5USTmgVHPOua+XCacEY8YsI9qF7fRTx8F63XzlFFPNllrjvTx0Q8b0Z2qlRBRDycryOQPL5DPMiv9ep0PkM85K6ZR+jBQjydmpG9gUhCPChfsess0kE8gRez9NVeQTx7Y+F7ae5APDRR16HUgEA8tVBVAQUWQDySUVVY0Vs/PC/PZVDckD48rp/N2AjLPTx5gwC8NQo9PFRMYZtCTjw80srS6Q+XOzxd5GvmfuQ6PDPyTZdxNjo8HYqcxMqMOTx015Xzbec4PDu1ymE/Rjg8Vbd1ACSpNzzRXPBvARA3PPWpRfu9ejY8mmfhk0DpNTzsUVvNcFs1PER/Xdk20TQ8EFKlg3tKNDwoRh4uKMczPD/1Fc0mRzM8Ea2I42HKMjwZ+4V/xFAyPDOPrDY62jE81+C8Iq9mMTyVAkLeD/YwPKMTUIFJiDA80cVXnkkdMDwb2Rx+/GkvPAMj1MKrni48zBxi6X7YLTwhVjmtVBctPHaNHKEMWyw8oyetKYejKzxf4Rx4pfAqPFLaAYVJQio8vBZMC1aYKTxuoVuDrvIoPOB8Nh43USg8MJHdwNSzJzwk0r//bBonPO/WShrmhCY8lSiY9ibzJTzYiDYdF2UlPAWADrWe2iQ8t35hf6ZTJDw=",
          "dtype": "f8"
         }
        },
        {
         "hoverinfo": "skip",
         "legendgroup": "cooling_Dry Cooler with Adiabatic Assist (Air-Cooled Chiller)",
         "marker": {
          "color": "rgba(0,0,0,0.7)",
          "line": {
           "color": "white",
           "width": 1
          },
          "size": 8,
          "symbol": "circle"
         },
         "mode": "markers",
         "name": "Dry Cooler with Adiabatic Assist (Air-Cooled Chiller)",
         "showlegend": true,
         "type": "scatter",
         "x": [
          null
         ],
         "y": [
          null
         ]
        },
        {
         "hoverinfo": "skip",
         "legendgroup": "cooling_Airside Economizer & Adiabatic Cooling (Air-Cooled Chiller)",
         "marker": {
          "color": "rgba(0,0,0,0.7)",
          "line": {
           "color": "white",
           "width": 1
          },
          "size": 8,
          "symbol": "x"
         },
         "mode": "markers",
         "name": "Airside Economizer & Adiabatic Cooling (Air-Cooled Chiller)",
         "showlegend": true,
         "type": "scatter",
         "x": [
          null
         ],
         "y": [
          null
         ]
        },
        {
         "hoverinfo": "skip",
         "legendgroup": "cooling_Airside Economizer & Adiabatic Cooling (Water-Cooled Chiller)",
         "marker": {
          "color": "rgba(0,0,0,0.7)",
          "line": {
           "color": "white",
           "width": 1
          },
          "size": 8,
          "symbol": "square"
         },
         "mode": "markers",
         "name": "Airside Economizer & Adiabatic Cooling (Water-Cooled Chiller)",
         "showlegend": true,
         "type": "scatter",
         "x": [
          null
         ],
         "y": [
          null
         ]
        },
        {
         "hoverinfo": "skip",
         "legendgroup": "cooling_Waterside Economizer & Adiabatic Cooling (Water-Cooled Chiller)",
         "marker": {
          "color": "rgba(0,0,0,0.7)",
          "line": {
           "color": "white",
           "width": 1
          },
          "size": 8,
          "symbol": "diamond"
         },
         "mode": "markers",
         "name": "Waterside Economizer & Adiabatic Cooling (Water-Cooled Chiller)",
         "showlegend": true,
         "type": "scatter",
         "x": [
          null
         ],
         "y": [
          null
         ]
        },
        {
         "hoverinfo": "skip",
         "legendgroup": "cooling_IT Liquid Cooling: Waterside Economizer (Water-Cooled Chiller)",
         "marker": {
          "color": "rgba(0,0,0,0.7)",
          "line": {
           "color": "white",
           "width": 1
          },
          "size": 8,
          "symbol": "cross"
         },
         "mode": "markers",
         "name": "IT Liquid Cooling: Waterside Economizer (Water-Cooled Chiller)",
         "showlegend": true,
         "type": "scatter",
         "x": [
          null
         ],
         "y": [
          null
         ]
        },
        {
         "hoverinfo": "skip",
         "legendgroup": "cooling_IT Liquid Cooling: Dry Cooler & Adiabitic Assist (Air-Cooled Chiller)",
         "marker": {
          "color": "rgba(0,0,0,0.7)",
          "line": {
           "color": "white",
           "width": 1
          },
          "size": 8,
          "symbol": "triangle-up"
         },
         "mode": "markers",
         "name": "IT Liquid Cooling: Dry Cooler & Adiabitic Assist (Air-Cooled Chiller)",
         "showlegend": true,
         "type": "scatter",
         "x": [
          null
         ],
         "y": [
          null
         ]
        },
        {
         "hoverinfo": "skip",
         "legendgroup": "cooling_IT Liquid Cooling: Dry Cooler (Air-Cooled Chiller)",
         "marker": {
          "color": "rgba(0,0,0,0.7)",
          "line": {
           "color": "white",
           "width": 1
          },
          "size": 8,
          "symbol": "star"
         },
         "mode": "markers",
         "name": "IT Liquid Cooling: Dry Cooler (Air-Cooled Chiller)",
         "showlegend": true,
         "type": "scatter",
         "x": [
          null
         ],
         "y": [
          null
         ]
        }
       ],
       "layout": {
        "height": 600,
        "legend": {
         "bgcolor": "rgba(255,255,255,0.8)",
         "bordercolor": "black",
         "borderwidth": 1,
         "font": {
          "size": 10
         },
         "itemsizing": "constant",
         "orientation": "v",
         "tracegroupgap": 0,
         "x": 1.02,
         "xanchor": "left",
         "y": 1,
         "yanchor": "top"
        },
        "margin": {
         "r": 300
        },
        "template": {
         "data": {
          "bar": [
           {
            "error_x": {
             "color": "#2a3f5f"
            },
            "error_y": {
             "color": "#2a3f5f"
            },
            "marker": {
             "line": {
              "color": "#E5ECF6",
              "width": 0.5
             },
             "pattern": {
              "fillmode": "overlay",
              "size": 10,
              "solidity": 0.2
             }
            },
            "type": "bar"
           }
          ],
          "barpolar": [
           {
            "marker": {
             "line": {
              "color": "#E5ECF6",
              "width": 0.5
             },
             "pattern": {
              "fillmode": "overlay",
              "size": 10,
              "solidity": 0.2
             }
            },
            "type": "barpolar"
           }
          ],
          "carpet": [
           {
            "aaxis": {
             "endlinecolor": "#2a3f5f",
             "gridcolor": "white",
             "linecolor": "white",
             "minorgridcolor": "white",
             "startlinecolor": "#2a3f5f"
            },
            "baxis": {
             "endlinecolor": "#2a3f5f",
             "gridcolor": "white",
             "linecolor": "white",
             "minorgridcolor": "white",
             "startlinecolor": "#2a3f5f"
            },
            "type": "carpet"
           }
          ],
          "choropleth": [
           {
            "colorbar": {
             "outlinewidth": 0,
             "ticks": ""
            },
            "type": "choropleth"
           }
          ],
          "contour": [
           {
            "colorbar": {
             "outlinewidth": 0,
             "ticks": ""
            },
            "colorscale": [
             [
              0,
              "#0d0887"
             ],
             [
              0.1111111111111111,
              "#46039f"
             ],
             [
              0.2222222222222222,
              "#7201a8"
             ],
             [
              0.3333333333333333,
              "#9c179e"
             ],
             [
              0.4444444444444444,
              "#bd3786"
             ],
             [
              0.5555555555555556,
              "#d8576b"
             ],
             [
              0.6666666666666666,
              "#ed7953"
             ],
             [
              0.7777777777777778,
              "#fb9f3a"
             ],
             [
              0.8888888888888888,
              "#fdca26"
             ],
             [
              1,
              "#f0f921"
             ]
            ],
            "type": "contour"
           }
          ],
          "contourcarpet": [
           {
            "colorbar": {
             "outlinewidth": 0,
             "ticks": ""
            },
            "type": "contourcarpet"
           }
          ],
          "heatmap": [
           {
            "colorbar": {
             "outlinewidth": 0,
             "ticks": ""
            },
            "colorscale": [
             [
              0,
              "#0d0887"
             ],
             [
              0.1111111111111111,
              "#46039f"
             ],
             [
              0.2222222222222222,
              "#7201a8"
             ],
             [
              0.3333333333333333,
              "#9c179e"
             ],
             [
              0.4444444444444444,
              "#bd3786"
             ],
             [
              0.5555555555555556,
              "#d8576b"
             ],
             [
              0.6666666666666666,
              "#ed7953"
             ],
             [
              0.7777777777777778,
              "#fb9f3a"
             ],
             [
              0.8888888888888888,
              "#fdca26"
             ],
             [
              1,
              "#f0f921"
             ]
            ],
            "type": "heatmap"
           }
          ],
          "histogram": [
           {
            "marker": {
             "pattern": {
              "fillmode": "overlay",
              "size": 10,
              "solidity": 0.2
             }
            },
            "type": "histogram"
           }
          ],
          "histogram2d": [
           {
            "colorbar": {
             "outlinewidth": 0,
             "ticks": ""
            },
            "colorscale": [
             [
              0,
              "#0d0887"
             ],
             [
              0.1111111111111111,
              "#46039f"
             ],
             [
              0.2222222222222222,
              "#7201a8"
             ],
             [
              0.3333333333333333,
              "#9c179e"
             ],
             [
              0.4444444444444444,
              "#bd3786"
             ],
             [
              0.5555555555555556,
              "#d8576b"
             ],
             [
              0.6666666666666666,
              "#ed7953"
             ],
             [
              0.7777777777777778,
              "#fb9f3a"
             ],
             [
              0.8888888888888888,
              "#fdca26"
             ],
             [
              1,
              "#f0f921"
             ]
            ],
            "type": "histogram2d"
           }
          ],
          "histogram2dcontour": [
           {
            "colorbar": {
             "outlinewidth": 0,
             "ticks": ""
            },
            "colorscale": [
             [
              0,
              "#0d0887"
             ],
             [
              0.1111111111111111,
              "#46039f"
             ],
             [
              0.2222222222222222,
              "#7201a8"
             ],
             [
              0.3333333333333333,
              "#9c179e"
             ],
             [
              0.4444444444444444,
              "#bd3786"
             ],
             [
              0.5555555555555556,
              "#d8576b"
             ],
             [
              0.6666666666666666,
              "#ed7953"
             ],
             [
              0.7777777777777778,
              "#fb9f3a"
             ],
             [
              0.8888888888888888,
              "#fdca26"
             ],
             [
              1,
              "#f0f921"
             ]
            ],
            "type": "histogram2dcontour"
           }
          ],
          "mesh3d": [
           {
            "colorbar": {
             "outlinewidth": 0,
             "ticks": ""
            },
            "type": "mesh3d"
           }
          ],
          "parcoords": [
           {
            "line": {
             "colorbar": {
              "outlinewidth": 0,
              "ticks": ""
             }
            },
            "type": "parcoords"
           }
          ],
          "pie": [
           {
            "automargin": true,
            "type": "pie"
           }
          ],
          "scatter": [
           {
            "fillpattern": {
             "fillmode": "overlay",
             "size": 10,
             "solidity": 0.2
            },
            "type": "scatter"
           }
          ],
          "scatter3d": [
           {
            "line": {
             "colorbar": {
              "outlinewidth": 0,
              "ticks": ""
             }
            },
            "marker": {
             "colorbar": {
              "outlinewidth": 0,
              "ticks": ""
             }
            },
            "type": "scatter3d"
           }
          ],
          "scattercarpet": [
           {
            "marker": {
             "colorbar": {
              "outlinewidth": 0,
              "ticks": ""
             }
            },
            "type": "scattercarpet"
           }
          ],
          "scattergeo": [
           {
            "marker": {
             "colorbar": {
              "outlinewidth": 0,
              "ticks": ""
             }
            },
            "type": "scattergeo"
           }
          ],
          "scattergl": [
           {
            "marker": {
             "colorbar": {
              "outlinewidth": 0,
              "ticks": ""
             }
            },
            "type": "scattergl"
           }
          ],
          "scattermap": [
           {
            "marker": {
             "colorbar": {
              "outlinewidth": 0,
              "ticks": ""
             }
            },
            "type": "scattermap"
           }
          ],
          "scattermapbox": [
           {
            "marker": {
             "colorbar": {
              "outlinewidth": 0,
              "ticks": ""
             }
            },
            "type": "scattermapbox"
           }
          ],
          "scatterpolar": [
           {
            "marker": {
             "colorbar": {
              "outlinewidth": 0,
              "ticks": ""
             }
            },
            "type": "scatterpolar"
           }
          ],
          "scatterpolargl": [
           {
            "marker": {
             "colorbar": {
              "outlinewidth": 0,
              "ticks": ""
             }
            },
            "type": "scatterpolargl"
           }
          ],
          "scatterternary": [
           {
            "marker": {
             "colorbar": {
              "outlinewidth": 0,
              "ticks": ""
             }
            },
            "type": "scatterternary"
           }
          ],
          "surface": [
           {
            "colorbar": {
             "outlinewidth": 0,
             "ticks": ""
            },
            "colorscale": [
             [
              0,
              "#0d0887"
             ],
             [
              0.1111111111111111,
              "#46039f"
             ],
             [
              0.2222222222222222,
              "#7201a8"
             ],
             [
              0.3333333333333333,
              "#9c179e"
             ],
             [
              0.4444444444444444,
              "#bd3786"
             ],
             [
              0.5555555555555556,
              "#d8576b"
             ],
             [
              0.6666666666666666,
              "#ed7953"
             ],
             [
              0.7777777777777778,
              "#fb9f3a"
             ],
             [
              0.8888888888888888,
              "#fdca26"
             ],
             [
              1,
              "#f0f921"
             ]
            ],
            "type": "surface"
           }
          ],
          "table": [
           {
            "cells": {
             "fill": {
              "color": "#EBF0F8"
             },
             "line": {
              "color": "white"
             }
            },
            "header": {
             "fill": {
              "color": "#C8D4E3"
             },
             "line": {
              "color": "white"
             }
            },
            "type": "table"
           }
          ]
         },
         "layout": {
          "annotationdefaults": {
           "arrowcolor": "#2a3f5f",
           "arrowhead": 0,
           "arrowwidth": 1
          },
          "autotypenumbers": "strict",
          "coloraxis": {
           "colorbar": {
            "outlinewidth": 0,
            "ticks": ""
           }
          },
          "colorscale": {
           "diverging": [
            [
             0,
             "#8e0152"
            ],
            [
             0.1,
             "#c51b7d"
            ],
            [
             0.2,
             "#de77ae"
            ],
            [
             0.3,
             "#f1b6da"
            ],
            [
             0.4,
             "#fde0ef"
            ],
            [
             0.5,
             "#f7f7f7"
            ],
            [
             0.6,
             "#e6f5d0"
            ],
            [
             0.7,
             "#b8e186"
            ],
            [
             0.8,
             "#7fbc41"
            ],
            [
             0.9,
             "#4d9221"
            ],
            [
             1,
             "#276419"
            ]
           ],
           "sequential": [
            [
             0,
             "#0d0887"
            ],
            [
             0.1111111111111111,
             "#46039f"
            ],
            [
             0.2222222222222222,
             "#7201a8"
            ],
            [
             0.3333333333333333,
             "#9c179e"
            ],
            [
             0.4444444444444444,
             "#bd3786"
            ],
            [
             0.5555555555555556,
             "#d8576b"
            ],
            [
             0.6666666666666666,
             "#ed7953"
            ],
            [
             0.7777777777777778,
             "#fb9f3a"
            ],
            [
             0.8888888888888888,
             "#fdca26"
            ],
            [
             1,
             "#f0f921"
            ]
           ],
           "sequentialminus": [
            [
             0,
             "#0d0887"
            ],
            [
             0.1111111111111111,
             "#46039f"
            ],
            [
             0.2222222222222222,
             "#7201a8"
            ],
            [
             0.3333333333333333,
             "#9c179e"
            ],
            [
             0.4444444444444444,
             "#bd3786"
            ],
            [
             0.5555555555555556,
             "#d8576b"
            ],
            [
             0.6666666666666666,
             "#ed7953"
            ],
            [
             0.7777777777777778,
             "#fb9f3a"
            ],
            [
             0.8888888888888888,
             "#fdca26"
            ],
            [
             1,
             "#f0f921"
            ]
           ]
          },
          "colorway": [
           "#636efa",
           "#EF553B",
           "#00cc96",
           "#ab63fa",
           "#FFA15A",
           "#19d3f3",
           "#FF6692",
           "#B6E880",
           "#FF97FF",
           "#FECB52"
          ],
          "font": {
           "color": "#2a3f5f"
          },
          "geo": {
           "bgcolor": "white",
           "lakecolor": "white",
           "landcolor": "#E5ECF6",
           "showlakes": true,
           "showland": true,
           "subunitcolor": "white"
          },
          "hoverlabel": {
           "align": "left"
          },
          "hovermode": "closest",
          "mapbox": {
           "style": "light"
          },
          "paper_bgcolor": "white",
          "plot_bgcolor": "#E5ECF6",
          "polar": {
           "angularaxis": {
            "gridcolor": "white",
            "linecolor": "white",
            "ticks": ""
           },
           "bgcolor": "#E5ECF6",
           "radialaxis": {
            "gridcolor": "white",
            "linecolor": "white",
            "ticks": ""
           }
          },
          "scene": {
           "xaxis": {
            "backgroundcolor": "#E5ECF6",
            "gridcolor": "white",
            "gridwidth": 2,
            "linecolor": "white",
            "showbackground": true,
            "ticks": "",
            "zerolinecolor": "white"
           },
           "yaxis": {
            "backgroundcolor": "#E5ECF6",
            "gridcolor": "white",
            "gridwidth": 2,
            "linecolor": "white",
            "showbackground": true,
            "ticks": "",
            "zerolinecolor": "white"
           },
           "zaxis": {
            "backgroundcolor": "#E5ECF6",
            "gridcolor": "white",
            "gridwidth": 2,
            "linecolor": "white",
            "showbackground": true,
            "ticks": "",
            "zerolinecolor": "white"
           }
          },
          "shapedefaults": {
           "line": {
            "color": "#2a3f5f"
           }
          },
          "ternary": {
           "aaxis": {
            "gridcolor": "white",
            "linecolor": "white",
            "ticks": ""
           },
           "baxis": {
            "gridcolor": "white",
            "linecolor": "white",
            "ticks": ""
           },
           "bgcolor": "#E5ECF6",
           "caxis": {
            "gridcolor": "white",
            "linecolor": "white",
            "ticks": ""
           }
          },
          "title": {
           "x": 0.05
          },
          "xaxis": {
           "automargin": true,
           "gridcolor": "white",
           "linecolor": "white",
           "ticks": "",
           "title": {
            "standoff": 15
           },
           "zerolinecolor": "white",
           "zerolinewidth": 2
          },
          "yaxis": {
           "automargin": true,
           "gridcolor": "white",
           "linecolor": "white",
           "ticks": "",
           "title": {
            "standoff": 15
           },
           "zerolinecolor": "white",
           "zerolinewidth": 2
          }
         }
        },
        "title": {
         "text": "Total Water Usage (liters) Per FLOP vs FLOP by Energy Source, Cooling System and Model"
        },
        "width": 1000,
        "xaxis": {
         "gridcolor": "lightgray",
         "gridwidth": 1,
         "linecolor": "black",
         "linewidth": 1,
         "mirror": true,
         "showgrid": true,
         "showline": true,
         "title": {
          "text": "Training Compute (FLOP) [log scale]"
         },
         "type": "log"
        },
        "yaxis": {
         "gridcolor": "lightgray",
         "gridwidth": 1,
         "linecolor": "black",
         "linewidth": 1,
         "mirror": true,
         "showgrid": true,
         "showline": true,
         "title": {
          "text": "Total Water Usage Per FLOP (Hydro, Nuclear, CSP) (liters) [log scale]"
         },
         "type": "log"
        }
       }
      }
     },
     "metadata": {},
     "output_type": "display_data"
    }
   ],
   "source": [
    "fig = create_multi_scatter_plot(\n",
    "    data=combined_notable,\n",
    "    y_column=['Total Water Usage Per FLOP - Hydropower', 'Total Water Usage Per FLOP - Nuclear', 'Total Water Usage Per FLOP - CSP'],\n",
    "    y_label=['Hydropower', 'Nuclear', 'CSP'],\n",
    "    y_units='liters',\n",
    "    y_title='Total Water Usage Per FLOP (Hydro, Nuclear, CSP)',\n",
    "    plot_title='Total Water Usage (liters) Per FLOP vs FLOP by Energy Source, Cooling System and Model'\n",
    ")\n",
    "fig.show()"
   ]
  },
  {
   "cell_type": "code",
   "execution_count": 100,
   "id": "389d2a6a",
   "metadata": {},
   "outputs": [],
   "source": [
    "carbon_df = carbon_df.rename(columns={'Carbon intensity of electricity - gCO2/kWh': 'Carbon Intensity (kg CO2 per kWh)'})\n",
    "carbon_df['Carbon Intensity (kg CO2 per kWh)'] = carbon_df['Carbon Intensity (kg CO2 per kWh)'] / 1000\n",
    "carbon_df_usa = carbon_df[carbon_df['Entity'] == 'United States'].copy()\n",
    "\n",
    "intensity_2023 = carbon_df_usa.loc[carbon_df_usa['Year'] == 2023, 'Carbon Intensity (kg CO2 per kWh)'].values[0]\n",
    "intensity_2024 = intensity_2023 * (1 - 0.025)\n",
    "intensity_2025 = intensity_2024 * (1 - 0.025)\n",
    "\n",
    "# Create DataFrame with new values\n",
    "new_rows = pd.DataFrame({\n",
    "    'Year': [2024, 2025],\n",
    "    'Carbon Intensity (kg CO2 per kWh)': [intensity_2024, intensity_2025]\n",
    "})\n",
    "\n",
    "carbon_df_usa = pd.concat([carbon_df_usa, new_rows], ignore_index=True)\n",
    "\n",
    "combined_notable = pd.merge(combined_notable, carbon_df_usa[['Year', 'Carbon Intensity (kg CO2 per kWh)']], on='Year', how='left')\n",
    "\n",
    "combined_notable['Carbon Impact (kg CO2) - US Grid'] = combined_notable['Energy (kWh)'] * combined_notable['Carbon Intensity (kg CO2 per kWh)'] # US grid values\n",
    "combined_notable['Cooling System Carbon Impact (kg CO2)'] = combined_notable['Cooling System Energy (kWh)'] * combined_notable['Carbon Intensity (kg CO2 per kWh)']\n",
    "combined_notable['Total Carbon Impact (kg CO2) - US Grid'] = combined_notable['Total Energy (kWh)'] * combined_notable['Carbon Intensity (kg CO2 per kWh)']\n",
    "\n",
    "combined_notable['Carbon Impact (kg CO2) Per FLOP - US Grid'] = combined_notable['Carbon Impact (kg CO2) - US Grid'] / combined_notable['Training compute (FLOP)']\n",
    "combined_notable['Total Carbon Impact (kg CO2) Per FLOP - US Grid'] = combined_notable['Total Carbon Impact (kg CO2) - US Grid'] / combined_notable['Training compute (FLOP)']"
   ]
  },
  {
   "cell_type": "code",
   "execution_count": 101,
   "id": "ffa6af5d",
   "metadata": {},
   "outputs": [],
   "source": [
    "combined_notable['Carbon Impact (kg CO2) - Hydropower'] = combined_notable['Energy (kWh)'] * 0.024\n",
    "combined_notable['Carbon Impact (kg CO2) Per FLOP - Hydropower'] = combined_notable['Carbon Impact (kg CO2) - Hydropower'] / combined_notable['Training compute (FLOP)']\n",
    "combined_notable['Total Carbon Impact (kg CO2) - Hydropower'] = combined_notable['Total Energy (kWh)'] * 0.024\n",
    "combined_notable['Total Carbon Impact (kg CO2) Per FLOP - Hydropower'] = combined_notable['Total Carbon Impact (kg CO2) - Hydropower'] / combined_notable['Training compute (FLOP)']\n",
    "\n",
    "combined_notable['Carbon Impact (kg CO2) - CSP'] = combined_notable['Energy (kWh)'] * 0.027\n",
    "combined_notable['Carbon Impact (kg CO2) Per FLOP - CSP'] = combined_notable['Carbon Impact (kg CO2) - CSP'] / combined_notable['Training compute (FLOP)']\n",
    "combined_notable['Total Carbon Impact (kg CO2) - CSP'] = combined_notable['Total Energy (kWh)'] * 0.027\n",
    "combined_notable['Total Carbon Impact (kg CO2) Per FLOP - CSP'] = combined_notable['Total Carbon Impact (kg CO2) - CSP'] / combined_notable['Training compute (FLOP)']\n",
    "\n",
    "combined_notable['Carbon Impact (kg CO2) - Nuclear'] = combined_notable['Energy (kWh)'] * 0.012\n",
    "combined_notable['Carbon Impact (kg CO2) Per FLOP - Nuclear'] = combined_notable['Carbon Impact (kg CO2) - Nuclear'] / combined_notable['Training compute (FLOP)']\n",
    "combined_notable['Total Carbon Impact (kg CO2) - Nuclear'] = combined_notable['Total Energy (kWh)'] * 0.012\n",
    "combined_notable['Total Carbon Impact (kg CO2) Per FLOP - Nuclear'] = combined_notable['Total Carbon Impact (kg CO2) - Nuclear'] / combined_notable['Training compute (FLOP)']\n"
   ]
  },
  {
   "cell_type": "code",
   "execution_count": 116,
   "id": "8ce96d3f",
   "metadata": {},
   "outputs": [
    {
     "data": {
      "application/vnd.plotly.v1+json": {
       "config": {
        "plotlyServerURL": "https://plot.ly"
       },
       "data": [
        {
         "hovertemplate": "%{hovertext}<extra></extra>",
         "hovertext": [
          "<b>Grok-3 (2025)</b><br>Series: US Grid<br>Cooling: Dry Cooler with Adiabatic Assist (Air-Cooled Chiller)<br>Training Compute: 4.64e+26 FLOP<br>US Grid: 1.02e-18 kg CO2",
          "<b>Grok-3 (2025)</b><br>Series: US Grid<br>Cooling: Airside Economizer & Adiabatic Cooling (Air-Cooled Chiller)<br>Training Compute: 4.64e+26 FLOP<br>US Grid: 1.02e-18 kg CO2",
          "<b>Grok-3 (2025)</b><br>Series: US Grid<br>Cooling: Airside Economizer & Adiabatic Cooling (Water-Cooled Chiller)<br>Training Compute: 4.64e+26 FLOP<br>US Grid: 1.02e-18 kg CO2",
          "<b>Grok-3 (2025)</b><br>Series: US Grid<br>Cooling: Waterside Economizer & Adiabatic Cooling (Water-Cooled Chiller)<br>Training Compute: 4.64e+26 FLOP<br>US Grid: 1.02e-18 kg CO2",
          "<b>Grok-3 (2025)</b><br>Series: US Grid<br>Cooling: IT Liquid Cooling: Waterside Economizer (Water-Cooled Chiller)<br>Training Compute: 4.64e+26 FLOP<br>US Grid: 1.02e-18 kg CO2",
          "<b>Grok-3 (2025)</b><br>Series: US Grid<br>Cooling: IT Liquid Cooling: Dry Cooler & Adiabitic Assist (Air-Cooled Chiller)<br>Training Compute: 4.64e+26 FLOP<br>US Grid: 1.02e-18 kg CO2",
          "<b>Grok-3 (2025)</b><br>Series: US Grid<br>Cooling: IT Liquid Cooling: Dry Cooler (Air-Cooled Chiller)<br>Training Compute: 4.64e+26 FLOP<br>US Grid: 1.02e-18 kg CO2"
         ],
         "legendgroup": "model_Grok-3 (2025)",
         "marker": {
          "color": "hsl(0.0,70%,50%)",
          "line": {
           "color": "white",
           "width": 0.5
          },
          "size": 8,
          "symbol": [
           "circle",
           "x",
           "square",
           "diamond",
           "cross",
           "triangle-up",
           "star"
          ]
         },
         "mode": "markers",
         "name": "Grok-3 (2025)",
         "showlegend": true,
         "type": "scatter",
         "x": {
          "bdata": "6zZtJv38d0XrNm0m/fx3Res2bSb9/HdF6zZtJv38d0XrNm0m/fx3Res2bSb9/HdF6zZtJv38d0U=",
          "dtype": "f8"
         },
         "y": {
          "bdata": "Tq/xgxrUMjxOr/GDGtQyPE6v8YMa1DI8Tq/xgxrUMjxOr/GDGtQyPE6v8YMa1DI8Tq/xgxrUMjw=",
          "dtype": "f8"
         }
        },
        {
         "hovertemplate": "%{hovertext}<extra></extra>",
         "hovertext": [
          "<b>Gemini 1.0 Ultra (2023)</b><br>Series: US Grid<br>Cooling: Dry Cooler with Adiabatic Assist (Air-Cooled Chiller)<br>Training Compute: 5.00e+25 FLOP<br>US Grid: 3.36e-19 kg CO2",
          "<b>Gemini 1.0 Ultra (2023)</b><br>Series: US Grid<br>Cooling: Airside Economizer & Adiabatic Cooling (Air-Cooled Chiller)<br>Training Compute: 5.00e+25 FLOP<br>US Grid: 3.36e-19 kg CO2",
          "<b>Gemini 1.0 Ultra (2023)</b><br>Series: US Grid<br>Cooling: Airside Economizer & Adiabatic Cooling (Water-Cooled Chiller)<br>Training Compute: 5.00e+25 FLOP<br>US Grid: 3.36e-19 kg CO2",
          "<b>Gemini 1.0 Ultra (2023)</b><br>Series: US Grid<br>Cooling: Waterside Economizer & Adiabatic Cooling (Water-Cooled Chiller)<br>Training Compute: 5.00e+25 FLOP<br>US Grid: 3.36e-19 kg CO2",
          "<b>Gemini 1.0 Ultra (2023)</b><br>Series: US Grid<br>Cooling: IT Liquid Cooling: Waterside Economizer (Water-Cooled Chiller)<br>Training Compute: 5.00e+25 FLOP<br>US Grid: 3.36e-19 kg CO2",
          "<b>Gemini 1.0 Ultra (2023)</b><br>Series: US Grid<br>Cooling: IT Liquid Cooling: Dry Cooler & Adiabitic Assist (Air-Cooled Chiller)<br>Training Compute: 5.00e+25 FLOP<br>US Grid: 3.36e-19 kg CO2",
          "<b>Gemini 1.0 Ultra (2023)</b><br>Series: US Grid<br>Cooling: IT Liquid Cooling: Dry Cooler (Air-Cooled Chiller)<br>Training Compute: 5.00e+25 FLOP<br>US Grid: 3.36e-19 kg CO2"
         ],
         "legendgroup": "model_Gemini 1.0 Ultra (2023)",
         "marker": {
          "color": "hsl(32.72727272727273,70%,50%)",
          "line": {
           "color": "white",
           "width": 0.5
          },
          "size": 8,
          "symbol": [
           "circle",
           "x",
           "square",
           "diamond",
           "cross",
           "triangle-up",
           "star"
          ]
         },
         "mode": "markers",
         "name": "Gemini 1.0 Ultra (2023)",
         "showlegend": true,
         "type": "scatter",
         "x": {
          "bdata": "9Mkzt/StREX0yTO39K1ERfTJM7f0rURF9Mkzt/StREX0yTO39K1ERfTJM7f0rURF9Mkzt/StREU=",
          "dtype": "f8"
         },
         "y": {
          "bdata": "WYKokpvMGDxZgqiSm8wYPFmCqJKbzBg8WYKokpvMGDxZgqiSm8wYPFmCqJKbzBg8WYKokpvMGDw=",
          "dtype": "f8"
         }
        },
        {
         "hovertemplate": "%{hovertext}<extra></extra>",
         "hovertext": [
          "<b>GPT-4o (2024)</b><br>Series: US Grid<br>Cooling: Dry Cooler with Adiabatic Assist (Air-Cooled Chiller)<br>Training Compute: 3.81e+25 FLOP<br>US Grid: 9.18e-19 kg CO2",
          "<b>GPT-4o (2024)</b><br>Series: US Grid<br>Cooling: Airside Economizer & Adiabatic Cooling (Air-Cooled Chiller)<br>Training Compute: 3.81e+25 FLOP<br>US Grid: 9.18e-19 kg CO2",
          "<b>GPT-4o (2024)</b><br>Series: US Grid<br>Cooling: Airside Economizer & Adiabatic Cooling (Water-Cooled Chiller)<br>Training Compute: 3.81e+25 FLOP<br>US Grid: 9.18e-19 kg CO2",
          "<b>GPT-4o (2024)</b><br>Series: US Grid<br>Cooling: Waterside Economizer & Adiabatic Cooling (Water-Cooled Chiller)<br>Training Compute: 3.81e+25 FLOP<br>US Grid: 9.18e-19 kg CO2",
          "<b>GPT-4o (2024)</b><br>Series: US Grid<br>Cooling: IT Liquid Cooling: Waterside Economizer (Water-Cooled Chiller)<br>Training Compute: 3.81e+25 FLOP<br>US Grid: 9.18e-19 kg CO2",
          "<b>GPT-4o (2024)</b><br>Series: US Grid<br>Cooling: IT Liquid Cooling: Dry Cooler & Adiabitic Assist (Air-Cooled Chiller)<br>Training Compute: 3.81e+25 FLOP<br>US Grid: 9.18e-19 kg CO2",
          "<b>GPT-4o (2024)</b><br>Series: US Grid<br>Cooling: IT Liquid Cooling: Dry Cooler (Air-Cooled Chiller)<br>Training Compute: 3.81e+25 FLOP<br>US Grid: 9.18e-19 kg CO2"
         ],
         "legendgroup": "model_GPT-4o (2024)",
         "marker": {
          "color": "hsl(65.45454545454545,70%,50%)",
          "line": {
           "color": "white",
           "width": 0.5
          },
          "size": 8,
          "symbol": [
           "circle",
           "x",
           "square",
           "diamond",
           "cross",
           "triangle-up",
           "star"
          ]
         },
         "mode": "markers",
         "name": "GPT-4o (2024)",
         "showlegend": true,
         "type": "scatter",
         "x": {
          "bdata": "lW9Brv2DP0WVb0Gu/YM/RZVvQa79gz9FlW9Brv2DP0WVb0Gu/YM/RZVvQa79gz9FlW9Brv2DP0U=",
          "dtype": "f8"
         },
         "y": {
          "bdata": "IGnK5+HwMDwgacrn4fAwPCBpyufh8DA8IGnK5+HwMDwgacrn4fAwPCBpyufh8DA8IGnK5+HwMDw=",
          "dtype": "f8"
         }
        },
        {
         "hovertemplate": "%{hovertext}<extra></extra>",
         "hovertext": [
          "<b>Minerva (540B) (2022)</b><br>Series: US Grid<br>Cooling: Dry Cooler with Adiabatic Assist (Air-Cooled Chiller)<br>Training Compute: 2.74e+24 FLOP<br>US Grid: 1.12e-18 kg CO2",
          "<b>Minerva (540B) (2022)</b><br>Series: US Grid<br>Cooling: Airside Economizer & Adiabatic Cooling (Air-Cooled Chiller)<br>Training Compute: 2.74e+24 FLOP<br>US Grid: 1.12e-18 kg CO2",
          "<b>Minerva (540B) (2022)</b><br>Series: US Grid<br>Cooling: Airside Economizer & Adiabatic Cooling (Water-Cooled Chiller)<br>Training Compute: 2.74e+24 FLOP<br>US Grid: 1.12e-18 kg CO2",
          "<b>Minerva (540B) (2022)</b><br>Series: US Grid<br>Cooling: Waterside Economizer & Adiabatic Cooling (Water-Cooled Chiller)<br>Training Compute: 2.74e+24 FLOP<br>US Grid: 1.12e-18 kg CO2",
          "<b>Minerva (540B) (2022)</b><br>Series: US Grid<br>Cooling: IT Liquid Cooling: Waterside Economizer (Water-Cooled Chiller)<br>Training Compute: 2.74e+24 FLOP<br>US Grid: 1.12e-18 kg CO2",
          "<b>Minerva (540B) (2022)</b><br>Series: US Grid<br>Cooling: IT Liquid Cooling: Dry Cooler & Adiabitic Assist (Air-Cooled Chiller)<br>Training Compute: 2.74e+24 FLOP<br>US Grid: 1.12e-18 kg CO2",
          "<b>Minerva (540B) (2022)</b><br>Series: US Grid<br>Cooling: IT Liquid Cooling: Dry Cooler (Air-Cooled Chiller)<br>Training Compute: 2.74e+24 FLOP<br>US Grid: 1.12e-18 kg CO2"
         ],
         "legendgroup": "model_Minerva (540B) (2022)",
         "marker": {
          "color": "hsl(98.18181818181819,70%,50%)",
          "line": {
           "color": "white",
           "width": 0.5
          },
          "size": 8,
          "symbol": [
           "circle",
           "x",
           "square",
           "diamond",
           "cross",
           "triangle-up",
           "star"
          ]
         },
         "mode": "markers",
         "name": "Minerva (540B) (2022)",
         "showlegend": true,
         "type": "scatter",
         "x": {
          "bdata": "3XMzGkgkAkXdczMaSCQCRd1zMxpIJAJF3XMzGkgkAkXdczMaSCQCRd1zMxpIJAJF3XMzGkgkAkU=",
          "dtype": "f8"
         },
         "y": {
          "bdata": "f2ENcnKoNDx/YQ1ycqg0PH9hDXJyqDQ8f2ENcnKoNDx/YQ1ycqg0PH9hDXJyqDQ8f2ENcnKoNDw=",
          "dtype": "f8"
         }
        },
        {
         "hovertemplate": "%{hovertext}<extra></extra>",
         "hovertext": [
          "<b>FLAN 137B (2021)</b><br>Series: US Grid<br>Cooling: Dry Cooler with Adiabatic Assist (Air-Cooled Chiller)<br>Training Compute: 2.05e+24 FLOP<br>US Grid: 8.58e-19 kg CO2",
          "<b>FLAN 137B (2021)</b><br>Series: US Grid<br>Cooling: Airside Economizer & Adiabatic Cooling (Air-Cooled Chiller)<br>Training Compute: 2.05e+24 FLOP<br>US Grid: 8.58e-19 kg CO2",
          "<b>FLAN 137B (2021)</b><br>Series: US Grid<br>Cooling: Airside Economizer & Adiabatic Cooling (Water-Cooled Chiller)<br>Training Compute: 2.05e+24 FLOP<br>US Grid: 8.58e-19 kg CO2",
          "<b>FLAN 137B (2021)</b><br>Series: US Grid<br>Cooling: Waterside Economizer & Adiabatic Cooling (Water-Cooled Chiller)<br>Training Compute: 2.05e+24 FLOP<br>US Grid: 8.58e-19 kg CO2",
          "<b>FLAN 137B (2021)</b><br>Series: US Grid<br>Cooling: IT Liquid Cooling: Waterside Economizer (Water-Cooled Chiller)<br>Training Compute: 2.05e+24 FLOP<br>US Grid: 8.58e-19 kg CO2",
          "<b>FLAN 137B (2021)</b><br>Series: US Grid<br>Cooling: IT Liquid Cooling: Dry Cooler & Adiabitic Assist (Air-Cooled Chiller)<br>Training Compute: 2.05e+24 FLOP<br>US Grid: 8.58e-19 kg CO2",
          "<b>FLAN 137B (2021)</b><br>Series: US Grid<br>Cooling: IT Liquid Cooling: Dry Cooler (Air-Cooled Chiller)<br>Training Compute: 2.05e+24 FLOP<br>US Grid: 8.58e-19 kg CO2"
         ],
         "legendgroup": "model_FLAN 137B (2021)",
         "marker": {
          "color": "hsl(130.9090909090909,70%,50%)",
          "line": {
           "color": "white",
           "width": 0.5
          },
          "size": 8,
          "symbol": [
           "circle",
           "x",
           "square",
           "diamond",
           "cross",
           "triangle-up",
           "star"
          ]
         },
         "mode": "markers",
         "name": "FLAN 137B (2021)",
         "showlegend": true,
         "type": "scatter",
         "x": {
          "bdata": "8hJIeoEX+0TyEkh6gRf7RPISSHqBF/tE8hJIeoEX+0TyEkh6gRf7RPISSHqBF/tE8hJIeoEX+0Q=",
          "dtype": "f8"
         },
         "y": {
          "bdata": "zzlE0AunLzzPOUTQC6cvPM85RNALpy88zzlE0AunLzzPOUTQC6cvPM85RNALpy88zzlE0AunLzw=",
          "dtype": "f8"
         }
        },
        {
         "hovertemplate": "%{hovertext}<extra></extra>",
         "hovertext": [
          "<b>AlphaGo Zero (2017)</b><br>Series: US Grid<br>Cooling: Dry Cooler with Adiabatic Assist (Air-Cooled Chiller)<br>Training Compute: 3.41e+23 FLOP<br>US Grid: 2.43e-18 kg CO2",
          "<b>AlphaGo Zero (2017)</b><br>Series: US Grid<br>Cooling: Airside Economizer & Adiabatic Cooling (Air-Cooled Chiller)<br>Training Compute: 3.41e+23 FLOP<br>US Grid: 2.43e-18 kg CO2",
          "<b>AlphaGo Zero (2017)</b><br>Series: US Grid<br>Cooling: Airside Economizer & Adiabatic Cooling (Water-Cooled Chiller)<br>Training Compute: 3.41e+23 FLOP<br>US Grid: 2.43e-18 kg CO2",
          "<b>AlphaGo Zero (2017)</b><br>Series: US Grid<br>Cooling: Waterside Economizer & Adiabatic Cooling (Water-Cooled Chiller)<br>Training Compute: 3.41e+23 FLOP<br>US Grid: 2.43e-18 kg CO2",
          "<b>AlphaGo Zero (2017)</b><br>Series: US Grid<br>Cooling: IT Liquid Cooling: Waterside Economizer (Water-Cooled Chiller)<br>Training Compute: 3.41e+23 FLOP<br>US Grid: 2.43e-18 kg CO2",
          "<b>AlphaGo Zero (2017)</b><br>Series: US Grid<br>Cooling: IT Liquid Cooling: Dry Cooler & Adiabitic Assist (Air-Cooled Chiller)<br>Training Compute: 3.41e+23 FLOP<br>US Grid: 2.43e-18 kg CO2",
          "<b>AlphaGo Zero (2017)</b><br>Series: US Grid<br>Cooling: IT Liquid Cooling: Dry Cooler (Air-Cooled Chiller)<br>Training Compute: 3.41e+23 FLOP<br>US Grid: 2.43e-18 kg CO2"
         ],
         "legendgroup": "model_AlphaGo Zero (2017)",
         "marker": {
          "color": "hsl(163.63636363636363,70%,50%)",
          "line": {
           "color": "white",
           "width": 0.5
          },
          "size": 8,
          "symbol": [
           "circle",
           "x",
           "square",
           "diamond",
           "cross",
           "triangle-up",
           "star"
          ]
         },
         "mode": "markers",
         "name": "AlphaGo Zero (2017)",
         "showlegend": true,
         "type": "scatter",
         "x": {
          "bdata": "YyQeaWkN0kRjJB5paQ3SRGMkHmlpDdJEYyQeaWkN0kRjJB5paQ3SRGMkHmlpDdJEYyQeaWkN0kQ=",
          "dtype": "f8"
         },
         "y": {
          "bdata": "glPLDgBeRjyCU8sOAF5GPIJTyw4AXkY8glPLDgBeRjyCU8sOAF5GPIJTyw4AXkY8glPLDgBeRjw=",
          "dtype": "f8"
         }
        },
        {
         "hovertemplate": "%{hovertext}<extra></extra>",
         "hovertext": [
          "<b>GPT-3 175B (davinci) (2020)</b><br>Series: US Grid<br>Cooling: Dry Cooler with Adiabatic Assist (Air-Cooled Chiller)<br>Training Compute: 3.14e+23 FLOP<br>US Grid: 1.72e-18 kg CO2",
          "<b>GPT-3 175B (davinci) (2020)</b><br>Series: US Grid<br>Cooling: Airside Economizer & Adiabatic Cooling (Air-Cooled Chiller)<br>Training Compute: 3.14e+23 FLOP<br>US Grid: 1.72e-18 kg CO2",
          "<b>GPT-3 175B (davinci) (2020)</b><br>Series: US Grid<br>Cooling: Airside Economizer & Adiabatic Cooling (Water-Cooled Chiller)<br>Training Compute: 3.14e+23 FLOP<br>US Grid: 1.72e-18 kg CO2",
          "<b>GPT-3 175B (davinci) (2020)</b><br>Series: US Grid<br>Cooling: Waterside Economizer & Adiabatic Cooling (Water-Cooled Chiller)<br>Training Compute: 3.14e+23 FLOP<br>US Grid: 1.72e-18 kg CO2",
          "<b>GPT-3 175B (davinci) (2020)</b><br>Series: US Grid<br>Cooling: IT Liquid Cooling: Waterside Economizer (Water-Cooled Chiller)<br>Training Compute: 3.14e+23 FLOP<br>US Grid: 1.72e-18 kg CO2",
          "<b>GPT-3 175B (davinci) (2020)</b><br>Series: US Grid<br>Cooling: IT Liquid Cooling: Dry Cooler & Adiabitic Assist (Air-Cooled Chiller)<br>Training Compute: 3.14e+23 FLOP<br>US Grid: 1.72e-18 kg CO2",
          "<b>GPT-3 175B (davinci) (2020)</b><br>Series: US Grid<br>Cooling: IT Liquid Cooling: Dry Cooler (Air-Cooled Chiller)<br>Training Compute: 3.14e+23 FLOP<br>US Grid: 1.72e-18 kg CO2"
         ],
         "legendgroup": "model_GPT-3 175B (davinci) (2020)",
         "marker": {
          "color": "hsl(196.36363636363637,70%,50%)",
          "line": {
           "color": "white",
           "width": 0.5
          },
          "size": 8,
          "symbol": [
           "circle",
           "x",
           "square",
           "diamond",
           "cross",
           "triangle-up",
           "star"
          ]
         },
         "mode": "markers",
         "name": "GPT-3 175B (davinci) (2020)",
         "showlegend": true,
         "type": "scatter",
         "x": {
          "bdata": "xCzJV36f0ETELMlXfp/QRMQsyVd+n9BExCzJV36f0ETELMlXfp/QRMQsyVd+n9BExCzJV36f0EQ=",
          "dtype": "f8"
         },
         "y": {
          "bdata": "4mmVqFWnPzziaZWoVac/POJplahVpz884mmVqFWnPzziaZWoVac/POJplahVpz884mmVqFWnPzw=",
          "dtype": "f8"
         }
        },
        {
         "hovertemplate": "%{hovertext}<extra></extra>",
         "hovertext": [
          "<b>OpenAI Five (2019)</b><br>Series: US Grid<br>Cooling: Dry Cooler with Adiabatic Assist (Air-Cooled Chiller)<br>Training Compute: 6.70e+22 FLOP<br>US Grid: 1.72e-18 kg CO2",
          "<b>OpenAI Five (2019)</b><br>Series: US Grid<br>Cooling: Airside Economizer & Adiabatic Cooling (Air-Cooled Chiller)<br>Training Compute: 6.70e+22 FLOP<br>US Grid: 1.72e-18 kg CO2",
          "<b>OpenAI Five (2019)</b><br>Series: US Grid<br>Cooling: Airside Economizer & Adiabatic Cooling (Water-Cooled Chiller)<br>Training Compute: 6.70e+22 FLOP<br>US Grid: 1.72e-18 kg CO2",
          "<b>OpenAI Five (2019)</b><br>Series: US Grid<br>Cooling: Waterside Economizer & Adiabatic Cooling (Water-Cooled Chiller)<br>Training Compute: 6.70e+22 FLOP<br>US Grid: 1.72e-18 kg CO2",
          "<b>OpenAI Five (2019)</b><br>Series: US Grid<br>Cooling: IT Liquid Cooling: Waterside Economizer (Water-Cooled Chiller)<br>Training Compute: 6.70e+22 FLOP<br>US Grid: 1.72e-18 kg CO2",
          "<b>OpenAI Five (2019)</b><br>Series: US Grid<br>Cooling: IT Liquid Cooling: Dry Cooler & Adiabitic Assist (Air-Cooled Chiller)<br>Training Compute: 6.70e+22 FLOP<br>US Grid: 1.72e-18 kg CO2",
          "<b>OpenAI Five (2019)</b><br>Series: US Grid<br>Cooling: IT Liquid Cooling: Dry Cooler (Air-Cooled Chiller)<br>Training Compute: 6.70e+22 FLOP<br>US Grid: 1.72e-18 kg CO2"
         ],
         "legendgroup": "model_OpenAI Five (2019)",
         "marker": {
          "color": "hsl(229.0909090909091,70%,50%)",
          "line": {
           "color": "white",
           "width": 0.5
          },
          "size": 8,
          "symbol": [
           "circle",
           "x",
           "square",
           "diamond",
           "cross",
           "triangle-up",
           "star"
          ]
         },
         "mode": "markers",
         "name": "OpenAI Five (2019)",
         "showlegend": true,
         "type": "scatter",
         "x": {
          "bdata": "iJL1kCdgrESIkvWQJ2CsRIiS9ZAnYKxEiJL1kCdgrESIkvWQJ2CsRIiS9ZAnYKxEiJL1kCdgrEQ=",
          "dtype": "f8"
         },
         "y": {
          "bdata": "MBA0Lw7GPzwwEDQvDsY/PDAQNC8Oxj88MBA0Lw7GPzwwEDQvDsY/PDAQNC8Oxj88MBA0Lw7GPzw=",
          "dtype": "f8"
         }
        },
        {
         "hovertemplate": "%{hovertext}<extra></extra>",
         "hovertext": [
          "<b>ResNeXt-101 32x48d (2018)</b><br>Series: US Grid<br>Cooling: Dry Cooler with Adiabatic Assist (Air-Cooled Chiller)<br>Training Compute: 8.74e+21 FLOP<br>US Grid: 1.93e-18 kg CO2",
          "<b>ResNeXt-101 32x48d (2018)</b><br>Series: US Grid<br>Cooling: Airside Economizer & Adiabatic Cooling (Air-Cooled Chiller)<br>Training Compute: 8.74e+21 FLOP<br>US Grid: 1.93e-18 kg CO2",
          "<b>ResNeXt-101 32x48d (2018)</b><br>Series: US Grid<br>Cooling: Airside Economizer & Adiabatic Cooling (Water-Cooled Chiller)<br>Training Compute: 8.74e+21 FLOP<br>US Grid: 1.93e-18 kg CO2",
          "<b>ResNeXt-101 32x48d (2018)</b><br>Series: US Grid<br>Cooling: Waterside Economizer & Adiabatic Cooling (Water-Cooled Chiller)<br>Training Compute: 8.74e+21 FLOP<br>US Grid: 1.93e-18 kg CO2",
          "<b>ResNeXt-101 32x48d (2018)</b><br>Series: US Grid<br>Cooling: IT Liquid Cooling: Waterside Economizer (Water-Cooled Chiller)<br>Training Compute: 8.74e+21 FLOP<br>US Grid: 1.93e-18 kg CO2",
          "<b>ResNeXt-101 32x48d (2018)</b><br>Series: US Grid<br>Cooling: IT Liquid Cooling: Dry Cooler & Adiabitic Assist (Air-Cooled Chiller)<br>Training Compute: 8.74e+21 FLOP<br>US Grid: 1.93e-18 kg CO2",
          "<b>ResNeXt-101 32x48d (2018)</b><br>Series: US Grid<br>Cooling: IT Liquid Cooling: Dry Cooler (Air-Cooled Chiller)<br>Training Compute: 8.74e+21 FLOP<br>US Grid: 1.93e-18 kg CO2"
         ],
         "legendgroup": "model_ResNeXt-101 32x48d (2018)",
         "marker": {
          "color": "hsl(261.8181818181818,70%,50%)",
          "line": {
           "color": "white",
           "width": 0.5
          },
          "size": 8,
          "symbol": [
           "circle",
           "x",
           "square",
           "diamond",
           "cross",
           "triangle-up",
           "star"
          ]
         },
         "mode": "markers",
         "name": "ResNeXt-101 32x48d (2018)",
         "showlegend": true,
         "type": "scatter",
         "x": {
          "bdata": "DhRZ7CqgfUQOFFnsKqB9RA4UWewqoH1EDhRZ7CqgfUQOFFnsKqB9RA4UWewqoH1EDhRZ7CqgfUQ=",
          "dtype": "f8"
         },
         "y": {
          "bdata": "6HKguujHQTzocqC66MdBPOhyoLrox0E86HKguujHQTzocqC66MdBPOhyoLrox0E86HKguujHQTw=",
          "dtype": "f8"
         }
        },
        {
         "hovertemplate": "%{hovertext}<extra></extra>",
         "hovertext": [
          "<b>GNMT (2016)</b><br>Series: US Grid<br>Cooling: Dry Cooler with Adiabatic Assist (Air-Cooled Chiller)<br>Training Compute: 6.62e+21 FLOP<br>US Grid: 9.21e-18 kg CO2",
          "<b>GNMT (2016)</b><br>Series: US Grid<br>Cooling: Airside Economizer & Adiabatic Cooling (Air-Cooled Chiller)<br>Training Compute: 6.62e+21 FLOP<br>US Grid: 9.21e-18 kg CO2",
          "<b>GNMT (2016)</b><br>Series: US Grid<br>Cooling: Airside Economizer & Adiabatic Cooling (Water-Cooled Chiller)<br>Training Compute: 6.62e+21 FLOP<br>US Grid: 9.21e-18 kg CO2",
          "<b>GNMT (2016)</b><br>Series: US Grid<br>Cooling: Waterside Economizer & Adiabatic Cooling (Water-Cooled Chiller)<br>Training Compute: 6.62e+21 FLOP<br>US Grid: 9.21e-18 kg CO2",
          "<b>GNMT (2016)</b><br>Series: US Grid<br>Cooling: IT Liquid Cooling: Waterside Economizer (Water-Cooled Chiller)<br>Training Compute: 6.62e+21 FLOP<br>US Grid: 9.21e-18 kg CO2",
          "<b>GNMT (2016)</b><br>Series: US Grid<br>Cooling: IT Liquid Cooling: Dry Cooler & Adiabitic Assist (Air-Cooled Chiller)<br>Training Compute: 6.62e+21 FLOP<br>US Grid: 9.21e-18 kg CO2",
          "<b>GNMT (2016)</b><br>Series: US Grid<br>Cooling: IT Liquid Cooling: Dry Cooler (Air-Cooled Chiller)<br>Training Compute: 6.62e+21 FLOP<br>US Grid: 9.21e-18 kg CO2"
         ],
         "legendgroup": "model_GNMT (2016)",
         "marker": {
          "color": "hsl(294.54545454545456,70%,50%)",
          "line": {
           "color": "white",
           "width": 0.5
          },
          "size": 8,
          "symbol": [
           "circle",
           "x",
           "square",
           "diamond",
           "cross",
           "triangle-up",
           "star"
          ]
         },
         "mode": "markers",
         "name": "GNMT (2016)",
         "showlegend": true,
         "type": "scatter",
         "x": {
          "bdata": "mc3bSO9tdkSZzdtI7212RJnN20jvbXZEmc3bSO9tdkSZzdtI7212RJnN20jvbXZEmc3bSO9tdkQ=",
          "dtype": "f8"
         },
         "y": {
          "bdata": "kdMRYsE7ZTyR0xFiwTtlPJHTEWLBO2U8kdMRYsE7ZTyR0xFiwTtlPJHTEWLBO2U8kdMRYsE7ZTw=",
          "dtype": "f8"
         }
        },
        {
         "hovertemplate": "%{hovertext}<extra></extra>",
         "hovertext": [
          "<b>AlphaGo Fan (2015)</b><br>Series: US Grid<br>Cooling: Dry Cooler with Adiabatic Assist (Air-Cooled Chiller)<br>Training Compute: 3.80e+20 FLOP<br>US Grid: 1.15e-17 kg CO2",
          "<b>AlphaGo Fan (2015)</b><br>Series: US Grid<br>Cooling: Airside Economizer & Adiabatic Cooling (Air-Cooled Chiller)<br>Training Compute: 3.80e+20 FLOP<br>US Grid: 1.15e-17 kg CO2",
          "<b>AlphaGo Fan (2015)</b><br>Series: US Grid<br>Cooling: Airside Economizer & Adiabatic Cooling (Water-Cooled Chiller)<br>Training Compute: 3.80e+20 FLOP<br>US Grid: 1.15e-17 kg CO2",
          "<b>AlphaGo Fan (2015)</b><br>Series: US Grid<br>Cooling: Waterside Economizer & Adiabatic Cooling (Water-Cooled Chiller)<br>Training Compute: 3.80e+20 FLOP<br>US Grid: 1.15e-17 kg CO2",
          "<b>AlphaGo Fan (2015)</b><br>Series: US Grid<br>Cooling: IT Liquid Cooling: Waterside Economizer (Water-Cooled Chiller)<br>Training Compute: 3.80e+20 FLOP<br>US Grid: 1.15e-17 kg CO2",
          "<b>AlphaGo Fan (2015)</b><br>Series: US Grid<br>Cooling: IT Liquid Cooling: Dry Cooler & Adiabitic Assist (Air-Cooled Chiller)<br>Training Compute: 3.80e+20 FLOP<br>US Grid: 1.15e-17 kg CO2",
          "<b>AlphaGo Fan (2015)</b><br>Series: US Grid<br>Cooling: IT Liquid Cooling: Dry Cooler (Air-Cooled Chiller)<br>Training Compute: 3.80e+20 FLOP<br>US Grid: 1.15e-17 kg CO2"
         ],
         "legendgroup": "model_AlphaGo Fan (2015)",
         "marker": {
          "color": "hsl(327.27272727272725,70%,50%)",
          "line": {
           "color": "white",
           "width": 0.5
          },
          "size": 8,
          "symbol": [
           "circle",
           "x",
           "square",
           "diamond",
           "cross",
           "triangle-up",
           "star"
          ]
         },
         "mode": "markers",
         "name": "AlphaGo Fan (2015)",
         "showlegend": true,
         "type": "scatter",
         "x": {
          "bdata": "cHisMo+ZNERweKwyj5k0RHB4rDKPmTREcHisMo+ZNERweKwyj5k0RHB4rDKPmTREcHisMo+ZNEQ=",
          "dtype": "f8"
         },
         "y": {
          "bdata": "N1DbCwmFajw3UNsLCYVqPDdQ2wsJhWo8N1DbCwmFajw3UNsLCYVqPDdQ2wsJhWo8N1DbCwmFajw=",
          "dtype": "f8"
         }
        },
        {
         "hovertemplate": "%{hovertext}<extra></extra>",
         "hovertext": [
          "<b>Grok-3 (2025)</b><br>Series: Hydropower<br>Cooling: Dry Cooler with Adiabatic Assist (Air-Cooled Chiller)<br>Training Compute: 4.64e+26 FLOP<br>Hydropower: 6.97e-20 kg CO2",
          "<b>Grok-3 (2025)</b><br>Series: Hydropower<br>Cooling: Airside Economizer & Adiabatic Cooling (Air-Cooled Chiller)<br>Training Compute: 4.64e+26 FLOP<br>Hydropower: 6.97e-20 kg CO2",
          "<b>Grok-3 (2025)</b><br>Series: Hydropower<br>Cooling: Airside Economizer & Adiabatic Cooling (Water-Cooled Chiller)<br>Training Compute: 4.64e+26 FLOP<br>Hydropower: 6.97e-20 kg CO2",
          "<b>Grok-3 (2025)</b><br>Series: Hydropower<br>Cooling: Waterside Economizer & Adiabatic Cooling (Water-Cooled Chiller)<br>Training Compute: 4.64e+26 FLOP<br>Hydropower: 6.97e-20 kg CO2",
          "<b>Grok-3 (2025)</b><br>Series: Hydropower<br>Cooling: IT Liquid Cooling: Waterside Economizer (Water-Cooled Chiller)<br>Training Compute: 4.64e+26 FLOP<br>Hydropower: 6.97e-20 kg CO2",
          "<b>Grok-3 (2025)</b><br>Series: Hydropower<br>Cooling: IT Liquid Cooling: Dry Cooler & Adiabitic Assist (Air-Cooled Chiller)<br>Training Compute: 4.64e+26 FLOP<br>Hydropower: 6.97e-20 kg CO2",
          "<b>Grok-3 (2025)</b><br>Series: Hydropower<br>Cooling: IT Liquid Cooling: Dry Cooler (Air-Cooled Chiller)<br>Training Compute: 4.64e+26 FLOP<br>Hydropower: 6.97e-20 kg CO2"
         ],
         "legendgroup": "model_Grok-3 (2025)",
         "marker": {
          "color": "hsl(0.0,70%,50%)",
          "line": {
           "color": "white",
           "width": 0.5
          },
          "size": 8,
          "symbol": [
           "circle",
           "x",
           "square",
           "diamond",
           "cross",
           "triangle-up",
           "star"
          ]
         },
         "mode": "markers",
         "name": "Grok-3 (2025) - Hydropower",
         "showlegend": false,
         "type": "scatter",
         "x": {
          "bdata": "6zZtJv38d0XrNm0m/fx3Res2bSb9/HdF6zZtJv38d0XrNm0m/fx3Res2bSb9/HdF6zZtJv38d0U=",
          "dtype": "f8"
         },
         "y": {
          "bdata": "P51fzdCV9Ds/nV/N0JX0Oz+dX83QlfQ7P51fzdCV9Ds/nV/N0JX0Oz+dX83QlfQ7P51fzdCV9Ds=",
          "dtype": "f8"
         }
        },
        {
         "hovertemplate": "%{hovertext}<extra></extra>",
         "hovertext": [
          "<b>Gemini 1.0 Ultra (2023)</b><br>Series: Hydropower<br>Cooling: Dry Cooler with Adiabatic Assist (Air-Cooled Chiller)<br>Training Compute: 5.00e+25 FLOP<br>Hydropower: 2.18e-20 kg CO2",
          "<b>Gemini 1.0 Ultra (2023)</b><br>Series: Hydropower<br>Cooling: Airside Economizer & Adiabatic Cooling (Air-Cooled Chiller)<br>Training Compute: 5.00e+25 FLOP<br>Hydropower: 2.18e-20 kg CO2",
          "<b>Gemini 1.0 Ultra (2023)</b><br>Series: Hydropower<br>Cooling: Airside Economizer & Adiabatic Cooling (Water-Cooled Chiller)<br>Training Compute: 5.00e+25 FLOP<br>Hydropower: 2.18e-20 kg CO2",
          "<b>Gemini 1.0 Ultra (2023)</b><br>Series: Hydropower<br>Cooling: Waterside Economizer & Adiabatic Cooling (Water-Cooled Chiller)<br>Training Compute: 5.00e+25 FLOP<br>Hydropower: 2.18e-20 kg CO2",
          "<b>Gemini 1.0 Ultra (2023)</b><br>Series: Hydropower<br>Cooling: IT Liquid Cooling: Waterside Economizer (Water-Cooled Chiller)<br>Training Compute: 5.00e+25 FLOP<br>Hydropower: 2.18e-20 kg CO2",
          "<b>Gemini 1.0 Ultra (2023)</b><br>Series: Hydropower<br>Cooling: IT Liquid Cooling: Dry Cooler & Adiabitic Assist (Air-Cooled Chiller)<br>Training Compute: 5.00e+25 FLOP<br>Hydropower: 2.18e-20 kg CO2",
          "<b>Gemini 1.0 Ultra (2023)</b><br>Series: Hydropower<br>Cooling: IT Liquid Cooling: Dry Cooler (Air-Cooled Chiller)<br>Training Compute: 5.00e+25 FLOP<br>Hydropower: 2.18e-20 kg CO2"
         ],
         "legendgroup": "model_Gemini 1.0 Ultra (2023)",
         "marker": {
          "color": "hsl(32.72727272727273,70%,50%)",
          "line": {
           "color": "white",
           "width": 0.5
          },
          "size": 8,
          "symbol": [
           "circle",
           "x",
           "square",
           "diamond",
           "cross",
           "triangle-up",
           "star"
          ]
         },
         "mode": "markers",
         "name": "Gemini 1.0 Ultra (2023) - Hydropower",
         "showlegend": false,
         "type": "scatter",
         "x": {
          "bdata": "9Mkzt/StREX0yTO39K1ERfTJM7f0rURF9Mkzt/StREX0yTO39K1ERfTJM7f0rURF9Mkzt/StREU=",
          "dtype": "f8"
         },
         "y": {
          "bdata": "r054QDjG2TuvTnhAOMbZO69OeEA4xtk7r054QDjG2TuvTnhAOMbZO69OeEA4xtk7r054QDjG2Ts=",
          "dtype": "f8"
         }
        },
        {
         "hovertemplate": "%{hovertext}<extra></extra>",
         "hovertext": [
          "<b>GPT-4o (2024)</b><br>Series: Hydropower<br>Cooling: Dry Cooler with Adiabatic Assist (Air-Cooled Chiller)<br>Training Compute: 3.81e+25 FLOP<br>Hydropower: 6.12e-20 kg CO2",
          "<b>GPT-4o (2024)</b><br>Series: Hydropower<br>Cooling: Airside Economizer & Adiabatic Cooling (Air-Cooled Chiller)<br>Training Compute: 3.81e+25 FLOP<br>Hydropower: 6.12e-20 kg CO2",
          "<b>GPT-4o (2024)</b><br>Series: Hydropower<br>Cooling: Airside Economizer & Adiabatic Cooling (Water-Cooled Chiller)<br>Training Compute: 3.81e+25 FLOP<br>Hydropower: 6.12e-20 kg CO2",
          "<b>GPT-4o (2024)</b><br>Series: Hydropower<br>Cooling: Waterside Economizer & Adiabatic Cooling (Water-Cooled Chiller)<br>Training Compute: 3.81e+25 FLOP<br>Hydropower: 6.12e-20 kg CO2",
          "<b>GPT-4o (2024)</b><br>Series: Hydropower<br>Cooling: IT Liquid Cooling: Waterside Economizer (Water-Cooled Chiller)<br>Training Compute: 3.81e+25 FLOP<br>Hydropower: 6.12e-20 kg CO2",
          "<b>GPT-4o (2024)</b><br>Series: Hydropower<br>Cooling: IT Liquid Cooling: Dry Cooler & Adiabitic Assist (Air-Cooled Chiller)<br>Training Compute: 3.81e+25 FLOP<br>Hydropower: 6.12e-20 kg CO2",
          "<b>GPT-4o (2024)</b><br>Series: Hydropower<br>Cooling: IT Liquid Cooling: Dry Cooler (Air-Cooled Chiller)<br>Training Compute: 3.81e+25 FLOP<br>Hydropower: 6.12e-20 kg CO2"
         ],
         "legendgroup": "model_GPT-4o (2024)",
         "marker": {
          "color": "hsl(65.45454545454545,70%,50%)",
          "line": {
           "color": "white",
           "width": 0.5
          },
          "size": 8,
          "symbol": [
           "circle",
           "x",
           "square",
           "diamond",
           "cross",
           "triangle-up",
           "star"
          ]
         },
         "mode": "markers",
         "name": "GPT-4o (2024) - Hydropower",
         "showlegend": false,
         "type": "scatter",
         "x": {
          "bdata": "lW9Brv2DP0WVb0Gu/YM/RZVvQa79gz9FlW9Brv2DP0WVb0Gu/YM/RZVvQa79gz9FlW9Brv2DP0U=",
          "dtype": "f8"
         },
         "y": {
          "bdata": "h+iD+vgO8juH6IP6+A7yO4fog/r4DvI7h+iD+vgO8juH6IP6+A7yO4fog/r4DvI7h+iD+vgO8js=",
          "dtype": "f8"
         }
        },
        {
         "hovertemplate": "%{hovertext}<extra></extra>",
         "hovertext": [
          "<b>Minerva (540B) (2022)</b><br>Series: Hydropower<br>Cooling: Dry Cooler with Adiabatic Assist (Air-Cooled Chiller)<br>Training Compute: 2.74e+24 FLOP<br>Hydropower: 6.96e-20 kg CO2",
          "<b>Minerva (540B) (2022)</b><br>Series: Hydropower<br>Cooling: Airside Economizer & Adiabatic Cooling (Air-Cooled Chiller)<br>Training Compute: 2.74e+24 FLOP<br>Hydropower: 6.96e-20 kg CO2",
          "<b>Minerva (540B) (2022)</b><br>Series: Hydropower<br>Cooling: Airside Economizer & Adiabatic Cooling (Water-Cooled Chiller)<br>Training Compute: 2.74e+24 FLOP<br>Hydropower: 6.96e-20 kg CO2",
          "<b>Minerva (540B) (2022)</b><br>Series: Hydropower<br>Cooling: Waterside Economizer & Adiabatic Cooling (Water-Cooled Chiller)<br>Training Compute: 2.74e+24 FLOP<br>Hydropower: 6.96e-20 kg CO2",
          "<b>Minerva (540B) (2022)</b><br>Series: Hydropower<br>Cooling: IT Liquid Cooling: Waterside Economizer (Water-Cooled Chiller)<br>Training Compute: 2.74e+24 FLOP<br>Hydropower: 6.96e-20 kg CO2",
          "<b>Minerva (540B) (2022)</b><br>Series: Hydropower<br>Cooling: IT Liquid Cooling: Dry Cooler & Adiabitic Assist (Air-Cooled Chiller)<br>Training Compute: 2.74e+24 FLOP<br>Hydropower: 6.96e-20 kg CO2",
          "<b>Minerva (540B) (2022)</b><br>Series: Hydropower<br>Cooling: IT Liquid Cooling: Dry Cooler (Air-Cooled Chiller)<br>Training Compute: 2.74e+24 FLOP<br>Hydropower: 6.96e-20 kg CO2"
         ],
         "legendgroup": "model_Minerva (540B) (2022)",
         "marker": {
          "color": "hsl(98.18181818181819,70%,50%)",
          "line": {
           "color": "white",
           "width": 0.5
          },
          "size": 8,
          "symbol": [
           "circle",
           "x",
           "square",
           "diamond",
           "cross",
           "triangle-up",
           "star"
          ]
         },
         "mode": "markers",
         "name": "Minerva (540B) (2022) - Hydropower",
         "showlegend": false,
         "type": "scatter",
         "x": {
          "bdata": "3XMzGkgkAkXdczMaSCQCRd1zMxpIJAJF3XMzGkgkAkXdczMaSCQCRd1zMxpIJAJF3XMzGkgkAkU=",
          "dtype": "f8"
         },
         "y": {
          "bdata": "NFvxwlKN9Ds0W/HCUo30OzRb8cJSjfQ7NFvxwlKN9Ds0W/HCUo30OzRb8cJSjfQ7NFvxwlKN9Ds=",
          "dtype": "f8"
         }
        },
        {
         "hovertemplate": "%{hovertext}<extra></extra>",
         "hovertext": [
          "<b>FLAN 137B (2021)</b><br>Series: Hydropower<br>Cooling: Dry Cooler with Adiabatic Assist (Air-Cooled Chiller)<br>Training Compute: 2.05e+24 FLOP<br>Hydropower: 5.17e-20 kg CO2",
          "<b>FLAN 137B (2021)</b><br>Series: Hydropower<br>Cooling: Airside Economizer & Adiabatic Cooling (Air-Cooled Chiller)<br>Training Compute: 2.05e+24 FLOP<br>Hydropower: 5.17e-20 kg CO2",
          "<b>FLAN 137B (2021)</b><br>Series: Hydropower<br>Cooling: Airside Economizer & Adiabatic Cooling (Water-Cooled Chiller)<br>Training Compute: 2.05e+24 FLOP<br>Hydropower: 5.17e-20 kg CO2",
          "<b>FLAN 137B (2021)</b><br>Series: Hydropower<br>Cooling: Waterside Economizer & Adiabatic Cooling (Water-Cooled Chiller)<br>Training Compute: 2.05e+24 FLOP<br>Hydropower: 5.17e-20 kg CO2",
          "<b>FLAN 137B (2021)</b><br>Series: Hydropower<br>Cooling: IT Liquid Cooling: Waterside Economizer (Water-Cooled Chiller)<br>Training Compute: 2.05e+24 FLOP<br>Hydropower: 5.17e-20 kg CO2",
          "<b>FLAN 137B (2021)</b><br>Series: Hydropower<br>Cooling: IT Liquid Cooling: Dry Cooler & Adiabitic Assist (Air-Cooled Chiller)<br>Training Compute: 2.05e+24 FLOP<br>Hydropower: 5.17e-20 kg CO2",
          "<b>FLAN 137B (2021)</b><br>Series: Hydropower<br>Cooling: IT Liquid Cooling: Dry Cooler (Air-Cooled Chiller)<br>Training Compute: 2.05e+24 FLOP<br>Hydropower: 5.17e-20 kg CO2"
         ],
         "legendgroup": "model_FLAN 137B (2021)",
         "marker": {
          "color": "hsl(130.9090909090909,70%,50%)",
          "line": {
           "color": "white",
           "width": 0.5
          },
          "size": 8,
          "symbol": [
           "circle",
           "x",
           "square",
           "diamond",
           "cross",
           "triangle-up",
           "star"
          ]
         },
         "mode": "markers",
         "name": "FLAN 137B (2021) - Hydropower",
         "showlegend": false,
         "type": "scatter",
         "x": {
          "bdata": "8hJIeoEX+0TyEkh6gRf7RPISSHqBF/tE8hJIeoEX+0TyEkh6gRf7RPISSHqBF/tE8hJIeoEX+0Q=",
          "dtype": "f8"
         },
         "y": {
          "bdata": "0KnsspR/7jvQqeyylH/uO9Cp7LKUf+470KnsspR/7jvQqeyylH/uO9Cp7LKUf+470KnsspR/7js=",
          "dtype": "f8"
         }
        },
        {
         "hovertemplate": "%{hovertext}<extra></extra>",
         "hovertext": [
          "<b>AlphaGo Zero (2017)</b><br>Series: Hydropower<br>Cooling: Dry Cooler with Adiabatic Assist (Air-Cooled Chiller)<br>Training Compute: 3.41e+23 FLOP<br>Hydropower: 1.32e-19 kg CO2",
          "<b>AlphaGo Zero (2017)</b><br>Series: Hydropower<br>Cooling: Airside Economizer & Adiabatic Cooling (Air-Cooled Chiller)<br>Training Compute: 3.41e+23 FLOP<br>Hydropower: 1.32e-19 kg CO2",
          "<b>AlphaGo Zero (2017)</b><br>Series: Hydropower<br>Cooling: Airside Economizer & Adiabatic Cooling (Water-Cooled Chiller)<br>Training Compute: 3.41e+23 FLOP<br>Hydropower: 1.32e-19 kg CO2",
          "<b>AlphaGo Zero (2017)</b><br>Series: Hydropower<br>Cooling: Waterside Economizer & Adiabatic Cooling (Water-Cooled Chiller)<br>Training Compute: 3.41e+23 FLOP<br>Hydropower: 1.32e-19 kg CO2",
          "<b>AlphaGo Zero (2017)</b><br>Series: Hydropower<br>Cooling: IT Liquid Cooling: Waterside Economizer (Water-Cooled Chiller)<br>Training Compute: 3.41e+23 FLOP<br>Hydropower: 1.32e-19 kg CO2",
          "<b>AlphaGo Zero (2017)</b><br>Series: Hydropower<br>Cooling: IT Liquid Cooling: Dry Cooler & Adiabitic Assist (Air-Cooled Chiller)<br>Training Compute: 3.41e+23 FLOP<br>Hydropower: 1.32e-19 kg CO2",
          "<b>AlphaGo Zero (2017)</b><br>Series: Hydropower<br>Cooling: IT Liquid Cooling: Dry Cooler (Air-Cooled Chiller)<br>Training Compute: 3.41e+23 FLOP<br>Hydropower: 1.32e-19 kg CO2"
         ],
         "legendgroup": "model_AlphaGo Zero (2017)",
         "marker": {
          "color": "hsl(163.63636363636363,70%,50%)",
          "line": {
           "color": "white",
           "width": 0.5
          },
          "size": 8,
          "symbol": [
           "circle",
           "x",
           "square",
           "diamond",
           "cross",
           "triangle-up",
           "star"
          ]
         },
         "mode": "markers",
         "name": "AlphaGo Zero (2017) - Hydropower",
         "showlegend": false,
         "type": "scatter",
         "x": {
          "bdata": "YyQeaWkN0kRjJB5paQ3SRGMkHmlpDdJEYyQeaWkN0kRjJB5paQ3SRGMkHmlpDdJEYyQeaWkN0kQ=",
          "dtype": "f8"
         },
         "y": {
          "bdata": "wSdp5Vd5AzzBJ2nlV3kDPMEnaeVXeQM8wSdp5Vd5AzzBJ2nlV3kDPMEnaeVXeQM8wSdp5Vd5Azw=",
          "dtype": "f8"
         }
        },
        {
         "hovertemplate": "%{hovertext}<extra></extra>",
         "hovertext": [
          "<b>GPT-3 175B (davinci) (2020)</b><br>Series: Hydropower<br>Cooling: Dry Cooler with Adiabatic Assist (Air-Cooled Chiller)<br>Training Compute: 3.14e+23 FLOP<br>Hydropower: 1.06e-19 kg CO2",
          "<b>GPT-3 175B (davinci) (2020)</b><br>Series: Hydropower<br>Cooling: Airside Economizer & Adiabatic Cooling (Air-Cooled Chiller)<br>Training Compute: 3.14e+23 FLOP<br>Hydropower: 1.06e-19 kg CO2",
          "<b>GPT-3 175B (davinci) (2020)</b><br>Series: Hydropower<br>Cooling: Airside Economizer & Adiabatic Cooling (Water-Cooled Chiller)<br>Training Compute: 3.14e+23 FLOP<br>Hydropower: 1.06e-19 kg CO2",
          "<b>GPT-3 175B (davinci) (2020)</b><br>Series: Hydropower<br>Cooling: Waterside Economizer & Adiabatic Cooling (Water-Cooled Chiller)<br>Training Compute: 3.14e+23 FLOP<br>Hydropower: 1.06e-19 kg CO2",
          "<b>GPT-3 175B (davinci) (2020)</b><br>Series: Hydropower<br>Cooling: IT Liquid Cooling: Waterside Economizer (Water-Cooled Chiller)<br>Training Compute: 3.14e+23 FLOP<br>Hydropower: 1.06e-19 kg CO2",
          "<b>GPT-3 175B (davinci) (2020)</b><br>Series: Hydropower<br>Cooling: IT Liquid Cooling: Dry Cooler & Adiabitic Assist (Air-Cooled Chiller)<br>Training Compute: 3.14e+23 FLOP<br>Hydropower: 1.06e-19 kg CO2",
          "<b>GPT-3 175B (davinci) (2020)</b><br>Series: Hydropower<br>Cooling: IT Liquid Cooling: Dry Cooler (Air-Cooled Chiller)<br>Training Compute: 3.14e+23 FLOP<br>Hydropower: 1.06e-19 kg CO2"
         ],
         "legendgroup": "model_GPT-3 175B (davinci) (2020)",
         "marker": {
          "color": "hsl(196.36363636363637,70%,50%)",
          "line": {
           "color": "white",
           "width": 0.5
          },
          "size": 8,
          "symbol": [
           "circle",
           "x",
           "square",
           "diamond",
           "cross",
           "triangle-up",
           "star"
          ]
         },
         "mode": "markers",
         "name": "GPT-3 175B (davinci) (2020) - Hydropower",
         "showlegend": false,
         "type": "scatter",
         "x": {
          "bdata": "xCzJV36f0ETELMlXfp/QRMQsyVd+n9BExCzJV36f0ETELMlXfp/QRMQsyVd+n9BExCzJV36f0EQ=",
          "dtype": "f8"
         },
         "y": {
          "bdata": "2VPLWVxk/zvZU8tZXGT/O9lTy1lcZP872VPLWVxk/zvZU8tZXGT/O9lTy1lcZP872VPLWVxk/zs=",
          "dtype": "f8"
         }
        },
        {
         "hovertemplate": "%{hovertext}<extra></extra>",
         "hovertext": [
          "<b>OpenAI Five (2019)</b><br>Series: Hydropower<br>Cooling: Dry Cooler with Adiabatic Assist (Air-Cooled Chiller)<br>Training Compute: 6.70e+22 FLOP<br>Hydropower: 1.00e-19 kg CO2",
          "<b>OpenAI Five (2019)</b><br>Series: Hydropower<br>Cooling: Airside Economizer & Adiabatic Cooling (Air-Cooled Chiller)<br>Training Compute: 6.70e+22 FLOP<br>Hydropower: 1.00e-19 kg CO2",
          "<b>OpenAI Five (2019)</b><br>Series: Hydropower<br>Cooling: Airside Economizer & Adiabatic Cooling (Water-Cooled Chiller)<br>Training Compute: 6.70e+22 FLOP<br>Hydropower: 1.00e-19 kg CO2",
          "<b>OpenAI Five (2019)</b><br>Series: Hydropower<br>Cooling: Waterside Economizer & Adiabatic Cooling (Water-Cooled Chiller)<br>Training Compute: 6.70e+22 FLOP<br>Hydropower: 1.00e-19 kg CO2",
          "<b>OpenAI Five (2019)</b><br>Series: Hydropower<br>Cooling: IT Liquid Cooling: Waterside Economizer (Water-Cooled Chiller)<br>Training Compute: 6.70e+22 FLOP<br>Hydropower: 1.00e-19 kg CO2",
          "<b>OpenAI Five (2019)</b><br>Series: Hydropower<br>Cooling: IT Liquid Cooling: Dry Cooler & Adiabitic Assist (Air-Cooled Chiller)<br>Training Compute: 6.70e+22 FLOP<br>Hydropower: 1.00e-19 kg CO2",
          "<b>OpenAI Five (2019)</b><br>Series: Hydropower<br>Cooling: IT Liquid Cooling: Dry Cooler (Air-Cooled Chiller)<br>Training Compute: 6.70e+22 FLOP<br>Hydropower: 1.00e-19 kg CO2"
         ],
         "legendgroup": "model_OpenAI Five (2019)",
         "marker": {
          "color": "hsl(229.0909090909091,70%,50%)",
          "line": {
           "color": "white",
           "width": 0.5
          },
          "size": 8,
          "symbol": [
           "circle",
           "x",
           "square",
           "diamond",
           "cross",
           "triangle-up",
           "star"
          ]
         },
         "mode": "markers",
         "name": "OpenAI Five (2019) - Hydropower",
         "showlegend": false,
         "type": "scatter",
         "x": {
          "bdata": "iJL1kCdgrESIkvWQJ2CsRIiS9ZAnYKxEiJL1kCdgrESIkvWQJ2CsRIiS9ZAnYKxEiJL1kCdgrEQ=",
          "dtype": "f8"
         },
         "y": {
          "bdata": "nVthVc+G/TudW2FVz4b9O51bYVXPhv07nVthVc+G/TudW2FVz4b9O51bYVXPhv07nVthVc+G/Ts=",
          "dtype": "f8"
         }
        },
        {
         "hovertemplate": "%{hovertext}<extra></extra>",
         "hovertext": [
          "<b>ResNeXt-101 32x48d (2018)</b><br>Series: Hydropower<br>Cooling: Dry Cooler with Adiabatic Assist (Air-Cooled Chiller)<br>Training Compute: 8.74e+21 FLOP<br>Hydropower: 1.06e-19 kg CO2",
          "<b>ResNeXt-101 32x48d (2018)</b><br>Series: Hydropower<br>Cooling: Airside Economizer & Adiabatic Cooling (Air-Cooled Chiller)<br>Training Compute: 8.74e+21 FLOP<br>Hydropower: 1.06e-19 kg CO2",
          "<b>ResNeXt-101 32x48d (2018)</b><br>Series: Hydropower<br>Cooling: Airside Economizer & Adiabatic Cooling (Water-Cooled Chiller)<br>Training Compute: 8.74e+21 FLOP<br>Hydropower: 1.06e-19 kg CO2",
          "<b>ResNeXt-101 32x48d (2018)</b><br>Series: Hydropower<br>Cooling: Waterside Economizer & Adiabatic Cooling (Water-Cooled Chiller)<br>Training Compute: 8.74e+21 FLOP<br>Hydropower: 1.06e-19 kg CO2",
          "<b>ResNeXt-101 32x48d (2018)</b><br>Series: Hydropower<br>Cooling: IT Liquid Cooling: Waterside Economizer (Water-Cooled Chiller)<br>Training Compute: 8.74e+21 FLOP<br>Hydropower: 1.06e-19 kg CO2",
          "<b>ResNeXt-101 32x48d (2018)</b><br>Series: Hydropower<br>Cooling: IT Liquid Cooling: Dry Cooler & Adiabitic Assist (Air-Cooled Chiller)<br>Training Compute: 8.74e+21 FLOP<br>Hydropower: 1.06e-19 kg CO2",
          "<b>ResNeXt-101 32x48d (2018)</b><br>Series: Hydropower<br>Cooling: IT Liquid Cooling: Dry Cooler (Air-Cooled Chiller)<br>Training Compute: 8.74e+21 FLOP<br>Hydropower: 1.06e-19 kg CO2"
         ],
         "legendgroup": "model_ResNeXt-101 32x48d (2018)",
         "marker": {
          "color": "hsl(261.8181818181818,70%,50%)",
          "line": {
           "color": "white",
           "width": 0.5
          },
          "size": 8,
          "symbol": [
           "circle",
           "x",
           "square",
           "diamond",
           "cross",
           "triangle-up",
           "star"
          ]
         },
         "mode": "markers",
         "name": "ResNeXt-101 32x48d (2018) - Hydropower",
         "showlegend": false,
         "type": "scatter",
         "x": {
          "bdata": "DhRZ7CqgfUQOFFnsKqB9RA4UWewqoH1EDhRZ7CqgfUQOFFnsKqB9RA4UWewqoH1EDhRZ7CqgfUQ=",
          "dtype": "f8"
         },
         "y": {
          "bdata": "2FPLWVxk/zvYU8tZXGT/O9hTy1lcZP872FPLWVxk/zvYU8tZXGT/O9hTy1lcZP872FPLWVxk/zs=",
          "dtype": "f8"
         }
        },
        {
         "hovertemplate": "%{hovertext}<extra></extra>",
         "hovertext": [
          "<b>GNMT (2016)</b><br>Series: Hydropower<br>Cooling: Dry Cooler with Adiabatic Assist (Air-Cooled Chiller)<br>Training Compute: 6.62e+21 FLOP<br>Hydropower: 4.86e-19 kg CO2",
          "<b>GNMT (2016)</b><br>Series: Hydropower<br>Cooling: Airside Economizer & Adiabatic Cooling (Air-Cooled Chiller)<br>Training Compute: 6.62e+21 FLOP<br>Hydropower: 4.86e-19 kg CO2",
          "<b>GNMT (2016)</b><br>Series: Hydropower<br>Cooling: Airside Economizer & Adiabatic Cooling (Water-Cooled Chiller)<br>Training Compute: 6.62e+21 FLOP<br>Hydropower: 4.86e-19 kg CO2",
          "<b>GNMT (2016)</b><br>Series: Hydropower<br>Cooling: Waterside Economizer & Adiabatic Cooling (Water-Cooled Chiller)<br>Training Compute: 6.62e+21 FLOP<br>Hydropower: 4.86e-19 kg CO2",
          "<b>GNMT (2016)</b><br>Series: Hydropower<br>Cooling: IT Liquid Cooling: Waterside Economizer (Water-Cooled Chiller)<br>Training Compute: 6.62e+21 FLOP<br>Hydropower: 4.86e-19 kg CO2",
          "<b>GNMT (2016)</b><br>Series: Hydropower<br>Cooling: IT Liquid Cooling: Dry Cooler & Adiabitic Assist (Air-Cooled Chiller)<br>Training Compute: 6.62e+21 FLOP<br>Hydropower: 4.86e-19 kg CO2",
          "<b>GNMT (2016)</b><br>Series: Hydropower<br>Cooling: IT Liquid Cooling: Dry Cooler (Air-Cooled Chiller)<br>Training Compute: 6.62e+21 FLOP<br>Hydropower: 4.86e-19 kg CO2"
         ],
         "legendgroup": "model_GNMT (2016)",
         "marker": {
          "color": "hsl(294.54545454545456,70%,50%)",
          "line": {
           "color": "white",
           "width": 0.5
          },
          "size": 8,
          "symbol": [
           "circle",
           "x",
           "square",
           "diamond",
           "cross",
           "triangle-up",
           "star"
          ]
         },
         "mode": "markers",
         "name": "GNMT (2016) - Hydropower",
         "showlegend": false,
         "type": "scatter",
         "x": {
          "bdata": "mc3bSO9tdkSZzdtI7212RJnN20jvbXZEmc3bSO9tdkSZzdtI7212RJnN20jvbXZEmc3bSO9tdkQ=",
          "dtype": "f8"
         },
         "y": {
          "bdata": "0RPz9J/wITzRE/P0n/AhPNET8/Sf8CE80RPz9J/wITzRE/P0n/AhPNET8/Sf8CE80RPz9J/wITw=",
          "dtype": "f8"
         }
        },
        {
         "hovertemplate": "%{hovertext}<extra></extra>",
         "hovertext": [
          "<b>AlphaGo Fan (2015)</b><br>Series: Hydropower<br>Cooling: Dry Cooler with Adiabatic Assist (Air-Cooled Chiller)<br>Training Compute: 3.80e+20 FLOP<br>Hydropower: 5.81e-19 kg CO2",
          "<b>AlphaGo Fan (2015)</b><br>Series: Hydropower<br>Cooling: Airside Economizer & Adiabatic Cooling (Air-Cooled Chiller)<br>Training Compute: 3.80e+20 FLOP<br>Hydropower: 5.81e-19 kg CO2",
          "<b>AlphaGo Fan (2015)</b><br>Series: Hydropower<br>Cooling: Airside Economizer & Adiabatic Cooling (Water-Cooled Chiller)<br>Training Compute: 3.80e+20 FLOP<br>Hydropower: 5.81e-19 kg CO2",
          "<b>AlphaGo Fan (2015)</b><br>Series: Hydropower<br>Cooling: Waterside Economizer & Adiabatic Cooling (Water-Cooled Chiller)<br>Training Compute: 3.80e+20 FLOP<br>Hydropower: 5.81e-19 kg CO2",
          "<b>AlphaGo Fan (2015)</b><br>Series: Hydropower<br>Cooling: IT Liquid Cooling: Waterside Economizer (Water-Cooled Chiller)<br>Training Compute: 3.80e+20 FLOP<br>Hydropower: 5.81e-19 kg CO2",
          "<b>AlphaGo Fan (2015)</b><br>Series: Hydropower<br>Cooling: IT Liquid Cooling: Dry Cooler & Adiabitic Assist (Air-Cooled Chiller)<br>Training Compute: 3.80e+20 FLOP<br>Hydropower: 5.81e-19 kg CO2",
          "<b>AlphaGo Fan (2015)</b><br>Series: Hydropower<br>Cooling: IT Liquid Cooling: Dry Cooler (Air-Cooled Chiller)<br>Training Compute: 3.80e+20 FLOP<br>Hydropower: 5.81e-19 kg CO2"
         ],
         "legendgroup": "model_AlphaGo Fan (2015)",
         "marker": {
          "color": "hsl(327.27272727272725,70%,50%)",
          "line": {
           "color": "white",
           "width": 0.5
          },
          "size": 8,
          "symbol": [
           "circle",
           "x",
           "square",
           "diamond",
           "cross",
           "triangle-up",
           "star"
          ]
         },
         "mode": "markers",
         "name": "AlphaGo Fan (2015) - Hydropower",
         "showlegend": false,
         "type": "scatter",
         "x": {
          "bdata": "cHisMo+ZNERweKwyj5k0RHB4rDKPmTREcHisMo+ZNERweKwyj5k0RHB4rDKPmTREcHisMo+ZNEQ=",
          "dtype": "f8"
         },
         "y": {
          "bdata": "IUkqbnFzJTwhSSpucXMlPCFJKm5xcyU8IUkqbnFzJTwhSSpucXMlPCFJKm5xcyU8IUkqbnFzJTw=",
          "dtype": "f8"
         }
        },
        {
         "hovertemplate": "%{hovertext}<extra></extra>",
         "hovertext": [
          "<b>Grok-3 (2025)</b><br>Series: Nuclear<br>Cooling: Dry Cooler with Adiabatic Assist (Air-Cooled Chiller)<br>Training Compute: 4.64e+26 FLOP<br>Nuclear: 7.85e-20 kg CO2",
          "<b>Grok-3 (2025)</b><br>Series: Nuclear<br>Cooling: Airside Economizer & Adiabatic Cooling (Air-Cooled Chiller)<br>Training Compute: 4.64e+26 FLOP<br>Nuclear: 7.85e-20 kg CO2",
          "<b>Grok-3 (2025)</b><br>Series: Nuclear<br>Cooling: Airside Economizer & Adiabatic Cooling (Water-Cooled Chiller)<br>Training Compute: 4.64e+26 FLOP<br>Nuclear: 7.85e-20 kg CO2",
          "<b>Grok-3 (2025)</b><br>Series: Nuclear<br>Cooling: Waterside Economizer & Adiabatic Cooling (Water-Cooled Chiller)<br>Training Compute: 4.64e+26 FLOP<br>Nuclear: 7.85e-20 kg CO2",
          "<b>Grok-3 (2025)</b><br>Series: Nuclear<br>Cooling: IT Liquid Cooling: Waterside Economizer (Water-Cooled Chiller)<br>Training Compute: 4.64e+26 FLOP<br>Nuclear: 7.85e-20 kg CO2",
          "<b>Grok-3 (2025)</b><br>Series: Nuclear<br>Cooling: IT Liquid Cooling: Dry Cooler & Adiabitic Assist (Air-Cooled Chiller)<br>Training Compute: 4.64e+26 FLOP<br>Nuclear: 7.85e-20 kg CO2",
          "<b>Grok-3 (2025)</b><br>Series: Nuclear<br>Cooling: IT Liquid Cooling: Dry Cooler (Air-Cooled Chiller)<br>Training Compute: 4.64e+26 FLOP<br>Nuclear: 7.85e-20 kg CO2"
         ],
         "legendgroup": "model_Grok-3 (2025)",
         "marker": {
          "color": "hsl(0.0,70%,50%)",
          "line": {
           "color": "white",
           "width": 0.5
          },
          "size": 8,
          "symbol": [
           "circle",
           "x",
           "square",
           "diamond",
           "cross",
           "triangle-up",
           "star"
          ]
         },
         "mode": "markers",
         "name": "Grok-3 (2025) - Nuclear",
         "showlegend": false,
         "type": "scatter",
         "x": {
          "bdata": "6zZtJv38d0XrNm0m/fx3Res2bSb9/HdF6zZtJv38d0XrNm0m/fx3Res2bSb9/HdF6zZtJv38d0U=",
          "dtype": "f8"
         },
         "y": {
          "bdata": "6JAL54oo9zvokAvniij3O+iQC+eKKPc76JAL54oo9zvokAvniij3O+iQC+eKKPc76JAL54oo9zs=",
          "dtype": "f8"
         }
        },
        {
         "hovertemplate": "%{hovertext}<extra></extra>",
         "hovertext": [
          "<b>Gemini 1.0 Ultra (2023)</b><br>Series: Nuclear<br>Cooling: Dry Cooler with Adiabatic Assist (Air-Cooled Chiller)<br>Training Compute: 5.00e+25 FLOP<br>Nuclear: 2.46e-20 kg CO2",
          "<b>Gemini 1.0 Ultra (2023)</b><br>Series: Nuclear<br>Cooling: Airside Economizer & Adiabatic Cooling (Air-Cooled Chiller)<br>Training Compute: 5.00e+25 FLOP<br>Nuclear: 2.46e-20 kg CO2",
          "<b>Gemini 1.0 Ultra (2023)</b><br>Series: Nuclear<br>Cooling: Airside Economizer & Adiabatic Cooling (Water-Cooled Chiller)<br>Training Compute: 5.00e+25 FLOP<br>Nuclear: 2.46e-20 kg CO2",
          "<b>Gemini 1.0 Ultra (2023)</b><br>Series: Nuclear<br>Cooling: Waterside Economizer & Adiabatic Cooling (Water-Cooled Chiller)<br>Training Compute: 5.00e+25 FLOP<br>Nuclear: 2.46e-20 kg CO2",
          "<b>Gemini 1.0 Ultra (2023)</b><br>Series: Nuclear<br>Cooling: IT Liquid Cooling: Waterside Economizer (Water-Cooled Chiller)<br>Training Compute: 5.00e+25 FLOP<br>Nuclear: 2.46e-20 kg CO2",
          "<b>Gemini 1.0 Ultra (2023)</b><br>Series: Nuclear<br>Cooling: IT Liquid Cooling: Dry Cooler & Adiabitic Assist (Air-Cooled Chiller)<br>Training Compute: 5.00e+25 FLOP<br>Nuclear: 2.46e-20 kg CO2",
          "<b>Gemini 1.0 Ultra (2023)</b><br>Series: Nuclear<br>Cooling: IT Liquid Cooling: Dry Cooler (Air-Cooled Chiller)<br>Training Compute: 5.00e+25 FLOP<br>Nuclear: 2.46e-20 kg CO2"
         ],
         "legendgroup": "model_Gemini 1.0 Ultra (2023)",
         "marker": {
          "color": "hsl(32.72727272727273,70%,50%)",
          "line": {
           "color": "white",
           "width": 0.5
          },
          "size": 8,
          "symbol": [
           "circle",
           "x",
           "square",
           "diamond",
           "cross",
           "triangle-up",
           "star"
          ]
         },
         "mode": "markers",
         "name": "Gemini 1.0 Ultra (2023) - Nuclear",
         "showlegend": false,
         "type": "scatter",
         "x": {
          "bdata": "9Mkzt/StREX0yTO39K1ERfTJM7f0rURF9Mkzt/StREX0yTO39K1ERfTJM7f0rURF9Mkzt/StREU=",
          "dtype": "f8"
         },
         "y": {
          "bdata": "hViHSP/+3DuFWIdI//7cO4VYh0j//tw7hViHSP/+3DuFWIdI//7cO4VYh0j//tw7hViHSP/+3Ds=",
          "dtype": "f8"
         }
        },
        {
         "hovertemplate": "%{hovertext}<extra></extra>",
         "hovertext": [
          "<b>GPT-4o (2024)</b><br>Series: Nuclear<br>Cooling: Dry Cooler with Adiabatic Assist (Air-Cooled Chiller)<br>Training Compute: 3.81e+25 FLOP<br>Nuclear: 6.88e-20 kg CO2",
          "<b>GPT-4o (2024)</b><br>Series: Nuclear<br>Cooling: Airside Economizer & Adiabatic Cooling (Air-Cooled Chiller)<br>Training Compute: 3.81e+25 FLOP<br>Nuclear: 6.88e-20 kg CO2",
          "<b>GPT-4o (2024)</b><br>Series: Nuclear<br>Cooling: Airside Economizer & Adiabatic Cooling (Water-Cooled Chiller)<br>Training Compute: 3.81e+25 FLOP<br>Nuclear: 6.88e-20 kg CO2",
          "<b>GPT-4o (2024)</b><br>Series: Nuclear<br>Cooling: Waterside Economizer & Adiabatic Cooling (Water-Cooled Chiller)<br>Training Compute: 3.81e+25 FLOP<br>Nuclear: 6.88e-20 kg CO2",
          "<b>GPT-4o (2024)</b><br>Series: Nuclear<br>Cooling: IT Liquid Cooling: Waterside Economizer (Water-Cooled Chiller)<br>Training Compute: 3.81e+25 FLOP<br>Nuclear: 6.88e-20 kg CO2",
          "<b>GPT-4o (2024)</b><br>Series: Nuclear<br>Cooling: IT Liquid Cooling: Dry Cooler & Adiabitic Assist (Air-Cooled Chiller)<br>Training Compute: 3.81e+25 FLOP<br>Nuclear: 6.88e-20 kg CO2",
          "<b>GPT-4o (2024)</b><br>Series: Nuclear<br>Cooling: IT Liquid Cooling: Dry Cooler (Air-Cooled Chiller)<br>Training Compute: 3.81e+25 FLOP<br>Nuclear: 6.88e-20 kg CO2"
         ],
         "legendgroup": "model_GPT-4o (2024)",
         "marker": {
          "color": "hsl(65.45454545454545,70%,50%)",
          "line": {
           "color": "white",
           "width": 0.5
          },
          "size": 8,
          "symbol": [
           "circle",
           "x",
           "square",
           "diamond",
           "cross",
           "triangle-up",
           "star"
          ]
         },
         "mode": "markers",
         "name": "GPT-4o (2024) - Nuclear",
         "showlegend": false,
         "type": "scatter",
         "x": {
          "bdata": "lW9Brv2DP0WVb0Gu/YM/RZVvQa79gz9FlW9Brv2DP0WVb0Gu/YM/RZVvQa79gz9FlW9Brv2DP0U=",
          "dtype": "f8"
         },
         "y": {
          "bdata": "mGXUGdhQ9DuYZdQZ2FD0O5hl1BnYUPQ7mGXUGdhQ9DuYZdQZ2FD0O5hl1BnYUPQ7mGXUGdhQ9Ds=",
          "dtype": "f8"
         }
        },
        {
         "hovertemplate": "%{hovertext}<extra></extra>",
         "hovertext": [
          "<b>Minerva (540B) (2022)</b><br>Series: Nuclear<br>Cooling: Dry Cooler with Adiabatic Assist (Air-Cooled Chiller)<br>Training Compute: 2.74e+24 FLOP<br>Nuclear: 7.83e-20 kg CO2",
          "<b>Minerva (540B) (2022)</b><br>Series: Nuclear<br>Cooling: Airside Economizer & Adiabatic Cooling (Air-Cooled Chiller)<br>Training Compute: 2.74e+24 FLOP<br>Nuclear: 7.83e-20 kg CO2",
          "<b>Minerva (540B) (2022)</b><br>Series: Nuclear<br>Cooling: Airside Economizer & Adiabatic Cooling (Water-Cooled Chiller)<br>Training Compute: 2.74e+24 FLOP<br>Nuclear: 7.83e-20 kg CO2",
          "<b>Minerva (540B) (2022)</b><br>Series: Nuclear<br>Cooling: Waterside Economizer & Adiabatic Cooling (Water-Cooled Chiller)<br>Training Compute: 2.74e+24 FLOP<br>Nuclear: 7.83e-20 kg CO2",
          "<b>Minerva (540B) (2022)</b><br>Series: Nuclear<br>Cooling: IT Liquid Cooling: Waterside Economizer (Water-Cooled Chiller)<br>Training Compute: 2.74e+24 FLOP<br>Nuclear: 7.83e-20 kg CO2",
          "<b>Minerva (540B) (2022)</b><br>Series: Nuclear<br>Cooling: IT Liquid Cooling: Dry Cooler & Adiabitic Assist (Air-Cooled Chiller)<br>Training Compute: 2.74e+24 FLOP<br>Nuclear: 7.83e-20 kg CO2",
          "<b>Minerva (540B) (2022)</b><br>Series: Nuclear<br>Cooling: IT Liquid Cooling: Dry Cooler (Air-Cooled Chiller)<br>Training Compute: 2.74e+24 FLOP<br>Nuclear: 7.83e-20 kg CO2"
         ],
         "legendgroup": "model_Minerva (540B) (2022)",
         "marker": {
          "color": "hsl(98.18181818181819,70%,50%)",
          "line": {
           "color": "white",
           "width": 0.5
          },
          "size": 8,
          "symbol": [
           "circle",
           "x",
           "square",
           "diamond",
           "cross",
           "triangle-up",
           "star"
          ]
         },
         "mode": "markers",
         "name": "Minerva (540B) (2022) - Nuclear",
         "showlegend": false,
         "type": "scatter",
         "x": {
          "bdata": "3XMzGkgkAkXdczMaSCQCRd1zMxpIJAJF3XMzGkgkAkXdczMaSCQCRd1zMxpIJAJF3XMzGkgkAkU=",
          "dtype": "f8"
         },
         "y": {
          "bdata": "m4ZPG/0e9zubhk8b/R73O5uGTxv9Hvc7m4ZPG/0e9zubhk8b/R73O5uGTxv9Hvc7m4ZPG/0e9zs=",
          "dtype": "f8"
         }
        },
        {
         "hovertemplate": "%{hovertext}<extra></extra>",
         "hovertext": [
          "<b>FLAN 137B (2021)</b><br>Series: Nuclear<br>Cooling: Dry Cooler with Adiabatic Assist (Air-Cooled Chiller)<br>Training Compute: 2.05e+24 FLOP<br>Nuclear: 5.81e-20 kg CO2",
          "<b>FLAN 137B (2021)</b><br>Series: Nuclear<br>Cooling: Airside Economizer & Adiabatic Cooling (Air-Cooled Chiller)<br>Training Compute: 2.05e+24 FLOP<br>Nuclear: 5.81e-20 kg CO2",
          "<b>FLAN 137B (2021)</b><br>Series: Nuclear<br>Cooling: Airside Economizer & Adiabatic Cooling (Water-Cooled Chiller)<br>Training Compute: 2.05e+24 FLOP<br>Nuclear: 5.81e-20 kg CO2",
          "<b>FLAN 137B (2021)</b><br>Series: Nuclear<br>Cooling: Waterside Economizer & Adiabatic Cooling (Water-Cooled Chiller)<br>Training Compute: 2.05e+24 FLOP<br>Nuclear: 5.81e-20 kg CO2",
          "<b>FLAN 137B (2021)</b><br>Series: Nuclear<br>Cooling: IT Liquid Cooling: Waterside Economizer (Water-Cooled Chiller)<br>Training Compute: 2.05e+24 FLOP<br>Nuclear: 5.81e-20 kg CO2",
          "<b>FLAN 137B (2021)</b><br>Series: Nuclear<br>Cooling: IT Liquid Cooling: Dry Cooler & Adiabitic Assist (Air-Cooled Chiller)<br>Training Compute: 2.05e+24 FLOP<br>Nuclear: 5.81e-20 kg CO2",
          "<b>FLAN 137B (2021)</b><br>Series: Nuclear<br>Cooling: IT Liquid Cooling: Dry Cooler (Air-Cooled Chiller)<br>Training Compute: 2.05e+24 FLOP<br>Nuclear: 5.81e-20 kg CO2"
         ],
         "legendgroup": "model_FLAN 137B (2021)",
         "marker": {
          "color": "hsl(130.9090909090909,70%,50%)",
          "line": {
           "color": "white",
           "width": 0.5
          },
          "size": 8,
          "symbol": [
           "circle",
           "x",
           "square",
           "diamond",
           "cross",
           "triangle-up",
           "star"
          ]
         },
         "mode": "markers",
         "name": "FLAN 137B (2021) - Nuclear",
         "showlegend": false,
         "type": "scatter",
         "x": {
          "bdata": "8hJIeoEX+0TyEkh6gRf7RPISSHqBF/tE8hJIeoEX+0TyEkh6gRf7RPISSHqBF/tE8hJIeoEX+0Q=",
          "dtype": "f8"
         },
         "y": {
          "bdata": "hh+lpMMn8TuGH6WkwyfxO4YfpaTDJ/E7hh+lpMMn8TuGH6WkwyfxO4YfpaTDJ/E7hh+lpMMn8Ts=",
          "dtype": "f8"
         }
        },
        {
         "hovertemplate": "%{hovertext}<extra></extra>",
         "hovertext": [
          "<b>AlphaGo Zero (2017)</b><br>Series: Nuclear<br>Cooling: Dry Cooler with Adiabatic Assist (Air-Cooled Chiller)<br>Training Compute: 3.41e+23 FLOP<br>Nuclear: 1.48e-19 kg CO2",
          "<b>AlphaGo Zero (2017)</b><br>Series: Nuclear<br>Cooling: Airside Economizer & Adiabatic Cooling (Air-Cooled Chiller)<br>Training Compute: 3.41e+23 FLOP<br>Nuclear: 1.48e-19 kg CO2",
          "<b>AlphaGo Zero (2017)</b><br>Series: Nuclear<br>Cooling: Airside Economizer & Adiabatic Cooling (Water-Cooled Chiller)<br>Training Compute: 3.41e+23 FLOP<br>Nuclear: 1.48e-19 kg CO2",
          "<b>AlphaGo Zero (2017)</b><br>Series: Nuclear<br>Cooling: Waterside Economizer & Adiabatic Cooling (Water-Cooled Chiller)<br>Training Compute: 3.41e+23 FLOP<br>Nuclear: 1.48e-19 kg CO2",
          "<b>AlphaGo Zero (2017)</b><br>Series: Nuclear<br>Cooling: IT Liquid Cooling: Waterside Economizer (Water-Cooled Chiller)<br>Training Compute: 3.41e+23 FLOP<br>Nuclear: 1.48e-19 kg CO2",
          "<b>AlphaGo Zero (2017)</b><br>Series: Nuclear<br>Cooling: IT Liquid Cooling: Dry Cooler & Adiabitic Assist (Air-Cooled Chiller)<br>Training Compute: 3.41e+23 FLOP<br>Nuclear: 1.48e-19 kg CO2",
          "<b>AlphaGo Zero (2017)</b><br>Series: Nuclear<br>Cooling: IT Liquid Cooling: Dry Cooler (Air-Cooled Chiller)<br>Training Compute: 3.41e+23 FLOP<br>Nuclear: 1.48e-19 kg CO2"
         ],
         "legendgroup": "model_AlphaGo Zero (2017)",
         "marker": {
          "color": "hsl(163.63636363636363,70%,50%)",
          "line": {
           "color": "white",
           "width": 0.5
          },
          "size": 8,
          "symbol": [
           "circle",
           "x",
           "square",
           "diamond",
           "cross",
           "triangle-up",
           "star"
          ]
         },
         "mode": "markers",
         "name": "AlphaGo Zero (2017) - Nuclear",
         "showlegend": false,
         "type": "scatter",
         "x": {
          "bdata": "YyQeaWkN0kRjJB5paQ3SRGMkHmlpDdJEYyQeaWkN0kRjJB5paQ3SRGMkHmlpDdJEYyQeaWkN0kQ=",
          "dtype": "f8"
         },
         "y": {
          "bdata": "uUwW4oLoBTy5TBbigugFPLlMFuKC6AU8uUwW4oLoBTy5TBbigugFPLlMFuKC6AU8uUwW4oLoBTw=",
          "dtype": "f8"
         }
        },
        {
         "hovertemplate": "%{hovertext}<extra></extra>",
         "hovertext": [
          "<b>GPT-3 175B (davinci) (2020)</b><br>Series: Nuclear<br>Cooling: Dry Cooler with Adiabatic Assist (Air-Cooled Chiller)<br>Training Compute: 3.14e+23 FLOP<br>Nuclear: 1.20e-19 kg CO2",
          "<b>GPT-3 175B (davinci) (2020)</b><br>Series: Nuclear<br>Cooling: Airside Economizer & Adiabatic Cooling (Air-Cooled Chiller)<br>Training Compute: 3.14e+23 FLOP<br>Nuclear: 1.20e-19 kg CO2",
          "<b>GPT-3 175B (davinci) (2020)</b><br>Series: Nuclear<br>Cooling: Airside Economizer & Adiabatic Cooling (Water-Cooled Chiller)<br>Training Compute: 3.14e+23 FLOP<br>Nuclear: 1.20e-19 kg CO2",
          "<b>GPT-3 175B (davinci) (2020)</b><br>Series: Nuclear<br>Cooling: Waterside Economizer & Adiabatic Cooling (Water-Cooled Chiller)<br>Training Compute: 3.14e+23 FLOP<br>Nuclear: 1.20e-19 kg CO2",
          "<b>GPT-3 175B (davinci) (2020)</b><br>Series: Nuclear<br>Cooling: IT Liquid Cooling: Waterside Economizer (Water-Cooled Chiller)<br>Training Compute: 3.14e+23 FLOP<br>Nuclear: 1.20e-19 kg CO2",
          "<b>GPT-3 175B (davinci) (2020)</b><br>Series: Nuclear<br>Cooling: IT Liquid Cooling: Dry Cooler & Adiabitic Assist (Air-Cooled Chiller)<br>Training Compute: 3.14e+23 FLOP<br>Nuclear: 1.20e-19 kg CO2",
          "<b>GPT-3 175B (davinci) (2020)</b><br>Series: Nuclear<br>Cooling: IT Liquid Cooling: Dry Cooler (Air-Cooled Chiller)<br>Training Compute: 3.14e+23 FLOP<br>Nuclear: 1.20e-19 kg CO2"
         ],
         "legendgroup": "model_GPT-3 175B (davinci) (2020)",
         "marker": {
          "color": "hsl(196.36363636363637,70%,50%)",
          "line": {
           "color": "white",
           "width": 0.5
          },
          "size": 8,
          "symbol": [
           "circle",
           "x",
           "square",
           "diamond",
           "cross",
           "triangle-up",
           "star"
          ]
         },
         "mode": "markers",
         "name": "GPT-3 175B (davinci) (2020) - Nuclear",
         "showlegend": false,
         "type": "scatter",
         "x": {
          "bdata": "xCzJV36f0ETELMlXfp/QRMQsyVd+n9BExCzJV36f0ETELMlXfp/QRMQsyVd+n9BExCzJV36f0EQ=",
          "dtype": "f8"
         },
         "y": {
          "bdata": "Kl+C8nOoATwqX4Lyc6gBPCpfgvJzqAE8Kl+C8nOoATwqX4Lyc6gBPCpfgvJzqAE8Kl+C8nOoATw=",
          "dtype": "f8"
         }
        },
        {
         "hovertemplate": "%{hovertext}<extra></extra>",
         "hovertext": [
          "<b>OpenAI Five (2019)</b><br>Series: Nuclear<br>Cooling: Dry Cooler with Adiabatic Assist (Air-Cooled Chiller)<br>Training Compute: 6.70e+22 FLOP<br>Nuclear: 1.13e-19 kg CO2",
          "<b>OpenAI Five (2019)</b><br>Series: Nuclear<br>Cooling: Airside Economizer & Adiabatic Cooling (Air-Cooled Chiller)<br>Training Compute: 6.70e+22 FLOP<br>Nuclear: 1.13e-19 kg CO2",
          "<b>OpenAI Five (2019)</b><br>Series: Nuclear<br>Cooling: Airside Economizer & Adiabatic Cooling (Water-Cooled Chiller)<br>Training Compute: 6.70e+22 FLOP<br>Nuclear: 1.13e-19 kg CO2",
          "<b>OpenAI Five (2019)</b><br>Series: Nuclear<br>Cooling: Waterside Economizer & Adiabatic Cooling (Water-Cooled Chiller)<br>Training Compute: 6.70e+22 FLOP<br>Nuclear: 1.13e-19 kg CO2",
          "<b>OpenAI Five (2019)</b><br>Series: Nuclear<br>Cooling: IT Liquid Cooling: Waterside Economizer (Water-Cooled Chiller)<br>Training Compute: 6.70e+22 FLOP<br>Nuclear: 1.13e-19 kg CO2",
          "<b>OpenAI Five (2019)</b><br>Series: Nuclear<br>Cooling: IT Liquid Cooling: Dry Cooler & Adiabitic Assist (Air-Cooled Chiller)<br>Training Compute: 6.70e+22 FLOP<br>Nuclear: 1.13e-19 kg CO2",
          "<b>OpenAI Five (2019)</b><br>Series: Nuclear<br>Cooling: IT Liquid Cooling: Dry Cooler (Air-Cooled Chiller)<br>Training Compute: 6.70e+22 FLOP<br>Nuclear: 1.13e-19 kg CO2"
         ],
         "legendgroup": "model_OpenAI Five (2019)",
         "marker": {
          "color": "hsl(229.0909090909091,70%,50%)",
          "line": {
           "color": "white",
           "width": 0.5
          },
          "size": 8,
          "symbol": [
           "circle",
           "x",
           "square",
           "diamond",
           "cross",
           "triangle-up",
           "star"
          ]
         },
         "mode": "markers",
         "name": "OpenAI Five (2019) - Nuclear",
         "showlegend": false,
         "type": "scatter",
         "x": {
          "bdata": "iJL1kCdgrESIkvWQJ2CsRIiS9ZAnYKxEiJL1kCdgrESIkvWQJ2CsRIiS9ZAnYKxEiJL1kCdgrEQ=",
          "dtype": "f8"
         },
         "y": {
          "bdata": "icMGoNSbADyJwwag1JsAPInDBqDUmwA8icMGoNSbADyJwwag1JsAPInDBqDUmwA8icMGoNSbADw=",
          "dtype": "f8"
         }
        },
        {
         "hovertemplate": "%{hovertext}<extra></extra>",
         "hovertext": [
          "<b>ResNeXt-101 32x48d (2018)</b><br>Series: Nuclear<br>Cooling: Dry Cooler with Adiabatic Assist (Air-Cooled Chiller)<br>Training Compute: 8.74e+21 FLOP<br>Nuclear: 1.20e-19 kg CO2",
          "<b>ResNeXt-101 32x48d (2018)</b><br>Series: Nuclear<br>Cooling: Airside Economizer & Adiabatic Cooling (Air-Cooled Chiller)<br>Training Compute: 8.74e+21 FLOP<br>Nuclear: 1.20e-19 kg CO2",
          "<b>ResNeXt-101 32x48d (2018)</b><br>Series: Nuclear<br>Cooling: Airside Economizer & Adiabatic Cooling (Water-Cooled Chiller)<br>Training Compute: 8.74e+21 FLOP<br>Nuclear: 1.20e-19 kg CO2",
          "<b>ResNeXt-101 32x48d (2018)</b><br>Series: Nuclear<br>Cooling: Waterside Economizer & Adiabatic Cooling (Water-Cooled Chiller)<br>Training Compute: 8.74e+21 FLOP<br>Nuclear: 1.20e-19 kg CO2",
          "<b>ResNeXt-101 32x48d (2018)</b><br>Series: Nuclear<br>Cooling: IT Liquid Cooling: Waterside Economizer (Water-Cooled Chiller)<br>Training Compute: 8.74e+21 FLOP<br>Nuclear: 1.20e-19 kg CO2",
          "<b>ResNeXt-101 32x48d (2018)</b><br>Series: Nuclear<br>Cooling: IT Liquid Cooling: Dry Cooler & Adiabitic Assist (Air-Cooled Chiller)<br>Training Compute: 8.74e+21 FLOP<br>Nuclear: 1.20e-19 kg CO2",
          "<b>ResNeXt-101 32x48d (2018)</b><br>Series: Nuclear<br>Cooling: IT Liquid Cooling: Dry Cooler (Air-Cooled Chiller)<br>Training Compute: 8.74e+21 FLOP<br>Nuclear: 1.20e-19 kg CO2"
         ],
         "legendgroup": "model_ResNeXt-101 32x48d (2018)",
         "marker": {
          "color": "hsl(261.8181818181818,70%,50%)",
          "line": {
           "color": "white",
           "width": 0.5
          },
          "size": 8,
          "symbol": [
           "circle",
           "x",
           "square",
           "diamond",
           "cross",
           "triangle-up",
           "star"
          ]
         },
         "mode": "markers",
         "name": "ResNeXt-101 32x48d (2018) - Nuclear",
         "showlegend": false,
         "type": "scatter",
         "x": {
          "bdata": "DhRZ7CqgfUQOFFnsKqB9RA4UWewqoH1EDhRZ7CqgfUQOFFnsKqB9RA4UWewqoH1EDhRZ7CqgfUQ=",
          "dtype": "f8"
         },
         "y": {
          "bdata": "KV+C8nOoATwpX4Lyc6gBPClfgvJzqAE8KV+C8nOoATwpX4Lyc6gBPClfgvJzqAE8KV+C8nOoATw=",
          "dtype": "f8"
         }
        },
        {
         "hovertemplate": "%{hovertext}<extra></extra>",
         "hovertext": [
          "<b>GNMT (2016)</b><br>Series: Nuclear<br>Cooling: Dry Cooler with Adiabatic Assist (Air-Cooled Chiller)<br>Training Compute: 6.62e+21 FLOP<br>Nuclear: 5.47e-19 kg CO2",
          "<b>GNMT (2016)</b><br>Series: Nuclear<br>Cooling: Airside Economizer & Adiabatic Cooling (Air-Cooled Chiller)<br>Training Compute: 6.62e+21 FLOP<br>Nuclear: 5.47e-19 kg CO2",
          "<b>GNMT (2016)</b><br>Series: Nuclear<br>Cooling: Airside Economizer & Adiabatic Cooling (Water-Cooled Chiller)<br>Training Compute: 6.62e+21 FLOP<br>Nuclear: 5.47e-19 kg CO2",
          "<b>GNMT (2016)</b><br>Series: Nuclear<br>Cooling: Waterside Economizer & Adiabatic Cooling (Water-Cooled Chiller)<br>Training Compute: 6.62e+21 FLOP<br>Nuclear: 5.47e-19 kg CO2",
          "<b>GNMT (2016)</b><br>Series: Nuclear<br>Cooling: IT Liquid Cooling: Waterside Economizer (Water-Cooled Chiller)<br>Training Compute: 6.62e+21 FLOP<br>Nuclear: 5.47e-19 kg CO2",
          "<b>GNMT (2016)</b><br>Series: Nuclear<br>Cooling: IT Liquid Cooling: Dry Cooler & Adiabitic Assist (Air-Cooled Chiller)<br>Training Compute: 6.62e+21 FLOP<br>Nuclear: 5.47e-19 kg CO2",
          "<b>GNMT (2016)</b><br>Series: Nuclear<br>Cooling: IT Liquid Cooling: Dry Cooler (Air-Cooled Chiller)<br>Training Compute: 6.62e+21 FLOP<br>Nuclear: 5.47e-19 kg CO2"
         ],
         "legendgroup": "model_GNMT (2016)",
         "marker": {
          "color": "hsl(294.54545454545456,70%,50%)",
          "line": {
           "color": "white",
           "width": 0.5
          },
          "size": 8,
          "symbol": [
           "circle",
           "x",
           "square",
           "diamond",
           "cross",
           "triangle-up",
           "star"
          ]
         },
         "mode": "markers",
         "name": "GNMT (2016) - Nuclear",
         "showlegend": false,
         "type": "scatter",
         "x": {
          "bdata": "mc3bSO9tdkSZzdtI7212RJnN20jvbXZEmc3bSO9tdkSZzdtI7212RJnN20jvbXZEmc3bSO9tdkQ=",
          "dtype": "f8"
         },
         "y": {
          "bdata": "S3aR87MuJDxLdpHzsy4kPEt2kfOzLiQ8S3aR87MuJDxLdpHzsy4kPEt2kfOzLiQ8S3aR87MuJDw=",
          "dtype": "f8"
         }
        },
        {
         "hovertemplate": "%{hovertext}<extra></extra>",
         "hovertext": [
          "<b>AlphaGo Fan (2015)</b><br>Series: Nuclear<br>Cooling: Dry Cooler with Adiabatic Assist (Air-Cooled Chiller)<br>Training Compute: 3.80e+20 FLOP<br>Nuclear: 6.54e-19 kg CO2",
          "<b>AlphaGo Fan (2015)</b><br>Series: Nuclear<br>Cooling: Airside Economizer & Adiabatic Cooling (Air-Cooled Chiller)<br>Training Compute: 3.80e+20 FLOP<br>Nuclear: 6.54e-19 kg CO2",
          "<b>AlphaGo Fan (2015)</b><br>Series: Nuclear<br>Cooling: Airside Economizer & Adiabatic Cooling (Water-Cooled Chiller)<br>Training Compute: 3.80e+20 FLOP<br>Nuclear: 6.54e-19 kg CO2",
          "<b>AlphaGo Fan (2015)</b><br>Series: Nuclear<br>Cooling: Waterside Economizer & Adiabatic Cooling (Water-Cooled Chiller)<br>Training Compute: 3.80e+20 FLOP<br>Nuclear: 6.54e-19 kg CO2",
          "<b>AlphaGo Fan (2015)</b><br>Series: Nuclear<br>Cooling: IT Liquid Cooling: Waterside Economizer (Water-Cooled Chiller)<br>Training Compute: 3.80e+20 FLOP<br>Nuclear: 6.54e-19 kg CO2",
          "<b>AlphaGo Fan (2015)</b><br>Series: Nuclear<br>Cooling: IT Liquid Cooling: Dry Cooler & Adiabitic Assist (Air-Cooled Chiller)<br>Training Compute: 3.80e+20 FLOP<br>Nuclear: 6.54e-19 kg CO2",
          "<b>AlphaGo Fan (2015)</b><br>Series: Nuclear<br>Cooling: IT Liquid Cooling: Dry Cooler (Air-Cooled Chiller)<br>Training Compute: 3.80e+20 FLOP<br>Nuclear: 6.54e-19 kg CO2"
         ],
         "legendgroup": "model_AlphaGo Fan (2015)",
         "marker": {
          "color": "hsl(327.27272727272725,70%,50%)",
          "line": {
           "color": "white",
           "width": 0.5
          },
          "size": 8,
          "symbol": [
           "circle",
           "x",
           "square",
           "diamond",
           "cross",
           "triangle-up",
           "star"
          ]
         },
         "mode": "markers",
         "name": "AlphaGo Fan (2015) - Nuclear",
         "showlegend": false,
         "type": "scatter",
         "x": {
          "bdata": "cHisMo+ZNERweKwyj5k0RHB4rDKPmTREcHisMo+ZNERweKwyj5k0RHB4rDKPmTREcHisMo+ZNEQ=",
          "dtype": "f8"
         },
         "y": {
          "bdata": "RJLvm98hKDxEku+b3yEoPESS75vfISg8RJLvm98hKDxEku+b3yEoPESS75vfISg8RJLvm98hKDw=",
          "dtype": "f8"
         }
        },
        {
         "hovertemplate": "%{hovertext}<extra></extra>",
         "hovertext": [
          "<b>Grok-3 (2025)</b><br>Series: CSP<br>Cooling: Dry Cooler with Adiabatic Assist (Air-Cooled Chiller)<br>Training Compute: 4.64e+26 FLOP<br>CSP: 3.49e-20 kg CO2",
          "<b>Grok-3 (2025)</b><br>Series: CSP<br>Cooling: Airside Economizer & Adiabatic Cooling (Air-Cooled Chiller)<br>Training Compute: 4.64e+26 FLOP<br>CSP: 3.49e-20 kg CO2",
          "<b>Grok-3 (2025)</b><br>Series: CSP<br>Cooling: Airside Economizer & Adiabatic Cooling (Water-Cooled Chiller)<br>Training Compute: 4.64e+26 FLOP<br>CSP: 3.49e-20 kg CO2",
          "<b>Grok-3 (2025)</b><br>Series: CSP<br>Cooling: Waterside Economizer & Adiabatic Cooling (Water-Cooled Chiller)<br>Training Compute: 4.64e+26 FLOP<br>CSP: 3.49e-20 kg CO2",
          "<b>Grok-3 (2025)</b><br>Series: CSP<br>Cooling: IT Liquid Cooling: Waterside Economizer (Water-Cooled Chiller)<br>Training Compute: 4.64e+26 FLOP<br>CSP: 3.49e-20 kg CO2",
          "<b>Grok-3 (2025)</b><br>Series: CSP<br>Cooling: IT Liquid Cooling: Dry Cooler & Adiabitic Assist (Air-Cooled Chiller)<br>Training Compute: 4.64e+26 FLOP<br>CSP: 3.49e-20 kg CO2",
          "<b>Grok-3 (2025)</b><br>Series: CSP<br>Cooling: IT Liquid Cooling: Dry Cooler (Air-Cooled Chiller)<br>Training Compute: 4.64e+26 FLOP<br>CSP: 3.49e-20 kg CO2"
         ],
         "legendgroup": "model_Grok-3 (2025)",
         "marker": {
          "color": "hsl(0.0,70%,50%)",
          "line": {
           "color": "white",
           "width": 0.5
          },
          "size": 8,
          "symbol": [
           "circle",
           "x",
           "square",
           "diamond",
           "cross",
           "triangle-up",
           "star"
          ]
         },
         "mode": "markers",
         "name": "Grok-3 (2025) - CSP",
         "showlegend": false,
         "type": "scatter",
         "x": {
          "bdata": "6zZtJv38d0XrNm0m/fx3Res2bSb9/HdF6zZtJv38d0XrNm0m/fx3Res2bSb9/HdF6zZtJv38d0U=",
          "dtype": "f8"
         },
         "y": {
          "bdata": "P51fzdCV5Ds/nV/N0JXkOz+dX83QleQ7P51fzdCV5Ds/nV/N0JXkOz+dX83QleQ7P51fzdCV5Ds=",
          "dtype": "f8"
         }
        },
        {
         "hovertemplate": "%{hovertext}<extra></extra>",
         "hovertext": [
          "<b>Gemini 1.0 Ultra (2023)</b><br>Series: CSP<br>Cooling: Dry Cooler with Adiabatic Assist (Air-Cooled Chiller)<br>Training Compute: 5.00e+25 FLOP<br>CSP: 1.09e-20 kg CO2",
          "<b>Gemini 1.0 Ultra (2023)</b><br>Series: CSP<br>Cooling: Airside Economizer & Adiabatic Cooling (Air-Cooled Chiller)<br>Training Compute: 5.00e+25 FLOP<br>CSP: 1.09e-20 kg CO2",
          "<b>Gemini 1.0 Ultra (2023)</b><br>Series: CSP<br>Cooling: Airside Economizer & Adiabatic Cooling (Water-Cooled Chiller)<br>Training Compute: 5.00e+25 FLOP<br>CSP: 1.09e-20 kg CO2",
          "<b>Gemini 1.0 Ultra (2023)</b><br>Series: CSP<br>Cooling: Waterside Economizer & Adiabatic Cooling (Water-Cooled Chiller)<br>Training Compute: 5.00e+25 FLOP<br>CSP: 1.09e-20 kg CO2",
          "<b>Gemini 1.0 Ultra (2023)</b><br>Series: CSP<br>Cooling: IT Liquid Cooling: Waterside Economizer (Water-Cooled Chiller)<br>Training Compute: 5.00e+25 FLOP<br>CSP: 1.09e-20 kg CO2",
          "<b>Gemini 1.0 Ultra (2023)</b><br>Series: CSP<br>Cooling: IT Liquid Cooling: Dry Cooler & Adiabitic Assist (Air-Cooled Chiller)<br>Training Compute: 5.00e+25 FLOP<br>CSP: 1.09e-20 kg CO2",
          "<b>Gemini 1.0 Ultra (2023)</b><br>Series: CSP<br>Cooling: IT Liquid Cooling: Dry Cooler (Air-Cooled Chiller)<br>Training Compute: 5.00e+25 FLOP<br>CSP: 1.09e-20 kg CO2"
         ],
         "legendgroup": "model_Gemini 1.0 Ultra (2023)",
         "marker": {
          "color": "hsl(32.72727272727273,70%,50%)",
          "line": {
           "color": "white",
           "width": 0.5
          },
          "size": 8,
          "symbol": [
           "circle",
           "x",
           "square",
           "diamond",
           "cross",
           "triangle-up",
           "star"
          ]
         },
         "mode": "markers",
         "name": "Gemini 1.0 Ultra (2023) - CSP",
         "showlegend": false,
         "type": "scatter",
         "x": {
          "bdata": "9Mkzt/StREX0yTO39K1ERfTJM7f0rURF9Mkzt/StREX0yTO39K1ERfTJM7f0rURF9Mkzt/StREU=",
          "dtype": "f8"
         },
         "y": {
          "bdata": "r054QDjGyTuvTnhAOMbJO69OeEA4xsk7r054QDjGyTuvTnhAOMbJO69OeEA4xsk7r054QDjGyTs=",
          "dtype": "f8"
         }
        },
        {
         "hovertemplate": "%{hovertext}<extra></extra>",
         "hovertext": [
          "<b>GPT-4o (2024)</b><br>Series: CSP<br>Cooling: Dry Cooler with Adiabatic Assist (Air-Cooled Chiller)<br>Training Compute: 3.81e+25 FLOP<br>CSP: 3.06e-20 kg CO2",
          "<b>GPT-4o (2024)</b><br>Series: CSP<br>Cooling: Airside Economizer & Adiabatic Cooling (Air-Cooled Chiller)<br>Training Compute: 3.81e+25 FLOP<br>CSP: 3.06e-20 kg CO2",
          "<b>GPT-4o (2024)</b><br>Series: CSP<br>Cooling: Airside Economizer & Adiabatic Cooling (Water-Cooled Chiller)<br>Training Compute: 3.81e+25 FLOP<br>CSP: 3.06e-20 kg CO2",
          "<b>GPT-4o (2024)</b><br>Series: CSP<br>Cooling: Waterside Economizer & Adiabatic Cooling (Water-Cooled Chiller)<br>Training Compute: 3.81e+25 FLOP<br>CSP: 3.06e-20 kg CO2",
          "<b>GPT-4o (2024)</b><br>Series: CSP<br>Cooling: IT Liquid Cooling: Waterside Economizer (Water-Cooled Chiller)<br>Training Compute: 3.81e+25 FLOP<br>CSP: 3.06e-20 kg CO2",
          "<b>GPT-4o (2024)</b><br>Series: CSP<br>Cooling: IT Liquid Cooling: Dry Cooler & Adiabitic Assist (Air-Cooled Chiller)<br>Training Compute: 3.81e+25 FLOP<br>CSP: 3.06e-20 kg CO2",
          "<b>GPT-4o (2024)</b><br>Series: CSP<br>Cooling: IT Liquid Cooling: Dry Cooler (Air-Cooled Chiller)<br>Training Compute: 3.81e+25 FLOP<br>CSP: 3.06e-20 kg CO2"
         ],
         "legendgroup": "model_GPT-4o (2024)",
         "marker": {
          "color": "hsl(65.45454545454545,70%,50%)",
          "line": {
           "color": "white",
           "width": 0.5
          },
          "size": 8,
          "symbol": [
           "circle",
           "x",
           "square",
           "diamond",
           "cross",
           "triangle-up",
           "star"
          ]
         },
         "mode": "markers",
         "name": "GPT-4o (2024) - CSP",
         "showlegend": false,
         "type": "scatter",
         "x": {
          "bdata": "lW9Brv2DP0WVb0Gu/YM/RZVvQa79gz9FlW9Brv2DP0WVb0Gu/YM/RZVvQa79gz9FlW9Brv2DP0U=",
          "dtype": "f8"
         },
         "y": {
          "bdata": "h+iD+vgO4juH6IP6+A7iO4fog/r4DuI7h+iD+vgO4juH6IP6+A7iO4fog/r4DuI7h+iD+vgO4js=",
          "dtype": "f8"
         }
        },
        {
         "hovertemplate": "%{hovertext}<extra></extra>",
         "hovertext": [
          "<b>Minerva (540B) (2022)</b><br>Series: CSP<br>Cooling: Dry Cooler with Adiabatic Assist (Air-Cooled Chiller)<br>Training Compute: 2.74e+24 FLOP<br>CSP: 3.48e-20 kg CO2",
          "<b>Minerva (540B) (2022)</b><br>Series: CSP<br>Cooling: Airside Economizer & Adiabatic Cooling (Air-Cooled Chiller)<br>Training Compute: 2.74e+24 FLOP<br>CSP: 3.48e-20 kg CO2",
          "<b>Minerva (540B) (2022)</b><br>Series: CSP<br>Cooling: Airside Economizer & Adiabatic Cooling (Water-Cooled Chiller)<br>Training Compute: 2.74e+24 FLOP<br>CSP: 3.48e-20 kg CO2",
          "<b>Minerva (540B) (2022)</b><br>Series: CSP<br>Cooling: Waterside Economizer & Adiabatic Cooling (Water-Cooled Chiller)<br>Training Compute: 2.74e+24 FLOP<br>CSP: 3.48e-20 kg CO2",
          "<b>Minerva (540B) (2022)</b><br>Series: CSP<br>Cooling: IT Liquid Cooling: Waterside Economizer (Water-Cooled Chiller)<br>Training Compute: 2.74e+24 FLOP<br>CSP: 3.48e-20 kg CO2",
          "<b>Minerva (540B) (2022)</b><br>Series: CSP<br>Cooling: IT Liquid Cooling: Dry Cooler & Adiabitic Assist (Air-Cooled Chiller)<br>Training Compute: 2.74e+24 FLOP<br>CSP: 3.48e-20 kg CO2",
          "<b>Minerva (540B) (2022)</b><br>Series: CSP<br>Cooling: IT Liquid Cooling: Dry Cooler (Air-Cooled Chiller)<br>Training Compute: 2.74e+24 FLOP<br>CSP: 3.48e-20 kg CO2"
         ],
         "legendgroup": "model_Minerva (540B) (2022)",
         "marker": {
          "color": "hsl(98.18181818181819,70%,50%)",
          "line": {
           "color": "white",
           "width": 0.5
          },
          "size": 8,
          "symbol": [
           "circle",
           "x",
           "square",
           "diamond",
           "cross",
           "triangle-up",
           "star"
          ]
         },
         "mode": "markers",
         "name": "Minerva (540B) (2022) - CSP",
         "showlegend": false,
         "type": "scatter",
         "x": {
          "bdata": "3XMzGkgkAkXdczMaSCQCRd1zMxpIJAJF3XMzGkgkAkXdczMaSCQCRd1zMxpIJAJF3XMzGkgkAkU=",
          "dtype": "f8"
         },
         "y": {
          "bdata": "NFvxwlKN5Ds0W/HCUo3kOzRb8cJSjeQ7NFvxwlKN5Ds0W/HCUo3kOzRb8cJSjeQ7NFvxwlKN5Ds=",
          "dtype": "f8"
         }
        },
        {
         "hovertemplate": "%{hovertext}<extra></extra>",
         "hovertext": [
          "<b>FLAN 137B (2021)</b><br>Series: CSP<br>Cooling: Dry Cooler with Adiabatic Assist (Air-Cooled Chiller)<br>Training Compute: 2.05e+24 FLOP<br>CSP: 2.58e-20 kg CO2",
          "<b>FLAN 137B (2021)</b><br>Series: CSP<br>Cooling: Airside Economizer & Adiabatic Cooling (Air-Cooled Chiller)<br>Training Compute: 2.05e+24 FLOP<br>CSP: 2.58e-20 kg CO2",
          "<b>FLAN 137B (2021)</b><br>Series: CSP<br>Cooling: Airside Economizer & Adiabatic Cooling (Water-Cooled Chiller)<br>Training Compute: 2.05e+24 FLOP<br>CSP: 2.58e-20 kg CO2",
          "<b>FLAN 137B (2021)</b><br>Series: CSP<br>Cooling: Waterside Economizer & Adiabatic Cooling (Water-Cooled Chiller)<br>Training Compute: 2.05e+24 FLOP<br>CSP: 2.58e-20 kg CO2",
          "<b>FLAN 137B (2021)</b><br>Series: CSP<br>Cooling: IT Liquid Cooling: Waterside Economizer (Water-Cooled Chiller)<br>Training Compute: 2.05e+24 FLOP<br>CSP: 2.58e-20 kg CO2",
          "<b>FLAN 137B (2021)</b><br>Series: CSP<br>Cooling: IT Liquid Cooling: Dry Cooler & Adiabitic Assist (Air-Cooled Chiller)<br>Training Compute: 2.05e+24 FLOP<br>CSP: 2.58e-20 kg CO2",
          "<b>FLAN 137B (2021)</b><br>Series: CSP<br>Cooling: IT Liquid Cooling: Dry Cooler (Air-Cooled Chiller)<br>Training Compute: 2.05e+24 FLOP<br>CSP: 2.58e-20 kg CO2"
         ],
         "legendgroup": "model_FLAN 137B (2021)",
         "marker": {
          "color": "hsl(130.9090909090909,70%,50%)",
          "line": {
           "color": "white",
           "width": 0.5
          },
          "size": 8,
          "symbol": [
           "circle",
           "x",
           "square",
           "diamond",
           "cross",
           "triangle-up",
           "star"
          ]
         },
         "mode": "markers",
         "name": "FLAN 137B (2021) - CSP",
         "showlegend": false,
         "type": "scatter",
         "x": {
          "bdata": "8hJIeoEX+0TyEkh6gRf7RPISSHqBF/tE8hJIeoEX+0TyEkh6gRf7RPISSHqBF/tE8hJIeoEX+0Q=",
          "dtype": "f8"
         },
         "y": {
          "bdata": "0KnsspR/3jvQqeyylH/eO9Cp7LKUf9470KnsspR/3jvQqeyylH/eO9Cp7LKUf9470KnsspR/3js=",
          "dtype": "f8"
         }
        },
        {
         "hovertemplate": "%{hovertext}<extra></extra>",
         "hovertext": [
          "<b>AlphaGo Zero (2017)</b><br>Series: CSP<br>Cooling: Dry Cooler with Adiabatic Assist (Air-Cooled Chiller)<br>Training Compute: 3.41e+23 FLOP<br>CSP: 6.60e-20 kg CO2",
          "<b>AlphaGo Zero (2017)</b><br>Series: CSP<br>Cooling: Airside Economizer & Adiabatic Cooling (Air-Cooled Chiller)<br>Training Compute: 3.41e+23 FLOP<br>CSP: 6.60e-20 kg CO2",
          "<b>AlphaGo Zero (2017)</b><br>Series: CSP<br>Cooling: Airside Economizer & Adiabatic Cooling (Water-Cooled Chiller)<br>Training Compute: 3.41e+23 FLOP<br>CSP: 6.60e-20 kg CO2",
          "<b>AlphaGo Zero (2017)</b><br>Series: CSP<br>Cooling: Waterside Economizer & Adiabatic Cooling (Water-Cooled Chiller)<br>Training Compute: 3.41e+23 FLOP<br>CSP: 6.60e-20 kg CO2",
          "<b>AlphaGo Zero (2017)</b><br>Series: CSP<br>Cooling: IT Liquid Cooling: Waterside Economizer (Water-Cooled Chiller)<br>Training Compute: 3.41e+23 FLOP<br>CSP: 6.60e-20 kg CO2",
          "<b>AlphaGo Zero (2017)</b><br>Series: CSP<br>Cooling: IT Liquid Cooling: Dry Cooler & Adiabitic Assist (Air-Cooled Chiller)<br>Training Compute: 3.41e+23 FLOP<br>CSP: 6.60e-20 kg CO2",
          "<b>AlphaGo Zero (2017)</b><br>Series: CSP<br>Cooling: IT Liquid Cooling: Dry Cooler (Air-Cooled Chiller)<br>Training Compute: 3.41e+23 FLOP<br>CSP: 6.60e-20 kg CO2"
         ],
         "legendgroup": "model_AlphaGo Zero (2017)",
         "marker": {
          "color": "hsl(163.63636363636363,70%,50%)",
          "line": {
           "color": "white",
           "width": 0.5
          },
          "size": 8,
          "symbol": [
           "circle",
           "x",
           "square",
           "diamond",
           "cross",
           "triangle-up",
           "star"
          ]
         },
         "mode": "markers",
         "name": "AlphaGo Zero (2017) - CSP",
         "showlegend": false,
         "type": "scatter",
         "x": {
          "bdata": "YyQeaWkN0kRjJB5paQ3SRGMkHmlpDdJEYyQeaWkN0kRjJB5paQ3SRGMkHmlpDdJEYyQeaWkN0kQ=",
          "dtype": "f8"
         },
         "y": {
          "bdata": "wSdp5Vd58zvBJ2nlV3nzO8EnaeVXefM7wSdp5Vd58zvBJ2nlV3nzO8EnaeVXefM7wSdp5Vd58zs=",
          "dtype": "f8"
         }
        },
        {
         "hovertemplate": "%{hovertext}<extra></extra>",
         "hovertext": [
          "<b>GPT-3 175B (davinci) (2020)</b><br>Series: CSP<br>Cooling: Dry Cooler with Adiabatic Assist (Air-Cooled Chiller)<br>Training Compute: 3.14e+23 FLOP<br>CSP: 5.32e-20 kg CO2",
          "<b>GPT-3 175B (davinci) (2020)</b><br>Series: CSP<br>Cooling: Airside Economizer & Adiabatic Cooling (Air-Cooled Chiller)<br>Training Compute: 3.14e+23 FLOP<br>CSP: 5.32e-20 kg CO2",
          "<b>GPT-3 175B (davinci) (2020)</b><br>Series: CSP<br>Cooling: Airside Economizer & Adiabatic Cooling (Water-Cooled Chiller)<br>Training Compute: 3.14e+23 FLOP<br>CSP: 5.32e-20 kg CO2",
          "<b>GPT-3 175B (davinci) (2020)</b><br>Series: CSP<br>Cooling: Waterside Economizer & Adiabatic Cooling (Water-Cooled Chiller)<br>Training Compute: 3.14e+23 FLOP<br>CSP: 5.32e-20 kg CO2",
          "<b>GPT-3 175B (davinci) (2020)</b><br>Series: CSP<br>Cooling: IT Liquid Cooling: Waterside Economizer (Water-Cooled Chiller)<br>Training Compute: 3.14e+23 FLOP<br>CSP: 5.32e-20 kg CO2",
          "<b>GPT-3 175B (davinci) (2020)</b><br>Series: CSP<br>Cooling: IT Liquid Cooling: Dry Cooler & Adiabitic Assist (Air-Cooled Chiller)<br>Training Compute: 3.14e+23 FLOP<br>CSP: 5.32e-20 kg CO2",
          "<b>GPT-3 175B (davinci) (2020)</b><br>Series: CSP<br>Cooling: IT Liquid Cooling: Dry Cooler (Air-Cooled Chiller)<br>Training Compute: 3.14e+23 FLOP<br>CSP: 5.32e-20 kg CO2"
         ],
         "legendgroup": "model_GPT-3 175B (davinci) (2020)",
         "marker": {
          "color": "hsl(196.36363636363637,70%,50%)",
          "line": {
           "color": "white",
           "width": 0.5
          },
          "size": 8,
          "symbol": [
           "circle",
           "x",
           "square",
           "diamond",
           "cross",
           "triangle-up",
           "star"
          ]
         },
         "mode": "markers",
         "name": "GPT-3 175B (davinci) (2020) - CSP",
         "showlegend": false,
         "type": "scatter",
         "x": {
          "bdata": "xCzJV36f0ETELMlXfp/QRMQsyVd+n9BExCzJV36f0ETELMlXfp/QRMQsyVd+n9BExCzJV36f0EQ=",
          "dtype": "f8"
         },
         "y": {
          "bdata": "2VPLWVxk7zvZU8tZXGTvO9lTy1lcZO872VPLWVxk7zvZU8tZXGTvO9lTy1lcZO872VPLWVxk7zs=",
          "dtype": "f8"
         }
        },
        {
         "hovertemplate": "%{hovertext}<extra></extra>",
         "hovertext": [
          "<b>OpenAI Five (2019)</b><br>Series: CSP<br>Cooling: Dry Cooler with Adiabatic Assist (Air-Cooled Chiller)<br>Training Compute: 6.70e+22 FLOP<br>CSP: 5.00e-20 kg CO2",
          "<b>OpenAI Five (2019)</b><br>Series: CSP<br>Cooling: Airside Economizer & Adiabatic Cooling (Air-Cooled Chiller)<br>Training Compute: 6.70e+22 FLOP<br>CSP: 5.00e-20 kg CO2",
          "<b>OpenAI Five (2019)</b><br>Series: CSP<br>Cooling: Airside Economizer & Adiabatic Cooling (Water-Cooled Chiller)<br>Training Compute: 6.70e+22 FLOP<br>CSP: 5.00e-20 kg CO2",
          "<b>OpenAI Five (2019)</b><br>Series: CSP<br>Cooling: Waterside Economizer & Adiabatic Cooling (Water-Cooled Chiller)<br>Training Compute: 6.70e+22 FLOP<br>CSP: 5.00e-20 kg CO2",
          "<b>OpenAI Five (2019)</b><br>Series: CSP<br>Cooling: IT Liquid Cooling: Waterside Economizer (Water-Cooled Chiller)<br>Training Compute: 6.70e+22 FLOP<br>CSP: 5.00e-20 kg CO2",
          "<b>OpenAI Five (2019)</b><br>Series: CSP<br>Cooling: IT Liquid Cooling: Dry Cooler & Adiabitic Assist (Air-Cooled Chiller)<br>Training Compute: 6.70e+22 FLOP<br>CSP: 5.00e-20 kg CO2",
          "<b>OpenAI Five (2019)</b><br>Series: CSP<br>Cooling: IT Liquid Cooling: Dry Cooler (Air-Cooled Chiller)<br>Training Compute: 6.70e+22 FLOP<br>CSP: 5.00e-20 kg CO2"
         ],
         "legendgroup": "model_OpenAI Five (2019)",
         "marker": {
          "color": "hsl(229.0909090909091,70%,50%)",
          "line": {
           "color": "white",
           "width": 0.5
          },
          "size": 8,
          "symbol": [
           "circle",
           "x",
           "square",
           "diamond",
           "cross",
           "triangle-up",
           "star"
          ]
         },
         "mode": "markers",
         "name": "OpenAI Five (2019) - CSP",
         "showlegend": false,
         "type": "scatter",
         "x": {
          "bdata": "iJL1kCdgrESIkvWQJ2CsRIiS9ZAnYKxEiJL1kCdgrESIkvWQJ2CsRIiS9ZAnYKxEiJL1kCdgrEQ=",
          "dtype": "f8"
         },
         "y": {
          "bdata": "nVthVc+G7TudW2FVz4btO51bYVXPhu07nVthVc+G7TudW2FVz4btO51bYVXPhu07nVthVc+G7Ts=",
          "dtype": "f8"
         }
        },
        {
         "hovertemplate": "%{hovertext}<extra></extra>",
         "hovertext": [
          "<b>ResNeXt-101 32x48d (2018)</b><br>Series: CSP<br>Cooling: Dry Cooler with Adiabatic Assist (Air-Cooled Chiller)<br>Training Compute: 8.74e+21 FLOP<br>CSP: 5.32e-20 kg CO2",
          "<b>ResNeXt-101 32x48d (2018)</b><br>Series: CSP<br>Cooling: Airside Economizer & Adiabatic Cooling (Air-Cooled Chiller)<br>Training Compute: 8.74e+21 FLOP<br>CSP: 5.32e-20 kg CO2",
          "<b>ResNeXt-101 32x48d (2018)</b><br>Series: CSP<br>Cooling: Airside Economizer & Adiabatic Cooling (Water-Cooled Chiller)<br>Training Compute: 8.74e+21 FLOP<br>CSP: 5.32e-20 kg CO2",
          "<b>ResNeXt-101 32x48d (2018)</b><br>Series: CSP<br>Cooling: Waterside Economizer & Adiabatic Cooling (Water-Cooled Chiller)<br>Training Compute: 8.74e+21 FLOP<br>CSP: 5.32e-20 kg CO2",
          "<b>ResNeXt-101 32x48d (2018)</b><br>Series: CSP<br>Cooling: IT Liquid Cooling: Waterside Economizer (Water-Cooled Chiller)<br>Training Compute: 8.74e+21 FLOP<br>CSP: 5.32e-20 kg CO2",
          "<b>ResNeXt-101 32x48d (2018)</b><br>Series: CSP<br>Cooling: IT Liquid Cooling: Dry Cooler & Adiabitic Assist (Air-Cooled Chiller)<br>Training Compute: 8.74e+21 FLOP<br>CSP: 5.32e-20 kg CO2",
          "<b>ResNeXt-101 32x48d (2018)</b><br>Series: CSP<br>Cooling: IT Liquid Cooling: Dry Cooler (Air-Cooled Chiller)<br>Training Compute: 8.74e+21 FLOP<br>CSP: 5.32e-20 kg CO2"
         ],
         "legendgroup": "model_ResNeXt-101 32x48d (2018)",
         "marker": {
          "color": "hsl(261.8181818181818,70%,50%)",
          "line": {
           "color": "white",
           "width": 0.5
          },
          "size": 8,
          "symbol": [
           "circle",
           "x",
           "square",
           "diamond",
           "cross",
           "triangle-up",
           "star"
          ]
         },
         "mode": "markers",
         "name": "ResNeXt-101 32x48d (2018) - CSP",
         "showlegend": false,
         "type": "scatter",
         "x": {
          "bdata": "DhRZ7CqgfUQOFFnsKqB9RA4UWewqoH1EDhRZ7CqgfUQOFFnsKqB9RA4UWewqoH1EDhRZ7CqgfUQ=",
          "dtype": "f8"
         },
         "y": {
          "bdata": "2FPLWVxk7zvYU8tZXGTvO9hTy1lcZO872FPLWVxk7zvYU8tZXGTvO9hTy1lcZO872FPLWVxk7zs=",
          "dtype": "f8"
         }
        },
        {
         "hovertemplate": "%{hovertext}<extra></extra>",
         "hovertext": [
          "<b>GNMT (2016)</b><br>Series: CSP<br>Cooling: Dry Cooler with Adiabatic Assist (Air-Cooled Chiller)<br>Training Compute: 6.62e+21 FLOP<br>CSP: 2.43e-19 kg CO2",
          "<b>GNMT (2016)</b><br>Series: CSP<br>Cooling: Airside Economizer & Adiabatic Cooling (Air-Cooled Chiller)<br>Training Compute: 6.62e+21 FLOP<br>CSP: 2.43e-19 kg CO2",
          "<b>GNMT (2016)</b><br>Series: CSP<br>Cooling: Airside Economizer & Adiabatic Cooling (Water-Cooled Chiller)<br>Training Compute: 6.62e+21 FLOP<br>CSP: 2.43e-19 kg CO2",
          "<b>GNMT (2016)</b><br>Series: CSP<br>Cooling: Waterside Economizer & Adiabatic Cooling (Water-Cooled Chiller)<br>Training Compute: 6.62e+21 FLOP<br>CSP: 2.43e-19 kg CO2",
          "<b>GNMT (2016)</b><br>Series: CSP<br>Cooling: IT Liquid Cooling: Waterside Economizer (Water-Cooled Chiller)<br>Training Compute: 6.62e+21 FLOP<br>CSP: 2.43e-19 kg CO2",
          "<b>GNMT (2016)</b><br>Series: CSP<br>Cooling: IT Liquid Cooling: Dry Cooler & Adiabitic Assist (Air-Cooled Chiller)<br>Training Compute: 6.62e+21 FLOP<br>CSP: 2.43e-19 kg CO2",
          "<b>GNMT (2016)</b><br>Series: CSP<br>Cooling: IT Liquid Cooling: Dry Cooler (Air-Cooled Chiller)<br>Training Compute: 6.62e+21 FLOP<br>CSP: 2.43e-19 kg CO2"
         ],
         "legendgroup": "model_GNMT (2016)",
         "marker": {
          "color": "hsl(294.54545454545456,70%,50%)",
          "line": {
           "color": "white",
           "width": 0.5
          },
          "size": 8,
          "symbol": [
           "circle",
           "x",
           "square",
           "diamond",
           "cross",
           "triangle-up",
           "star"
          ]
         },
         "mode": "markers",
         "name": "GNMT (2016) - CSP",
         "showlegend": false,
         "type": "scatter",
         "x": {
          "bdata": "mc3bSO9tdkSZzdtI7212RJnN20jvbXZEmc3bSO9tdkSZzdtI7212RJnN20jvbXZEmc3bSO9tdkQ=",
          "dtype": "f8"
         },
         "y": {
          "bdata": "0RPz9J/wETzRE/P0n/ARPNET8/Sf8BE80RPz9J/wETzRE/P0n/ARPNET8/Sf8BE80RPz9J/wETw=",
          "dtype": "f8"
         }
        },
        {
         "hovertemplate": "%{hovertext}<extra></extra>",
         "hovertext": [
          "<b>AlphaGo Fan (2015)</b><br>Series: CSP<br>Cooling: Dry Cooler with Adiabatic Assist (Air-Cooled Chiller)<br>Training Compute: 3.80e+20 FLOP<br>CSP: 2.91e-19 kg CO2",
          "<b>AlphaGo Fan (2015)</b><br>Series: CSP<br>Cooling: Airside Economizer & Adiabatic Cooling (Air-Cooled Chiller)<br>Training Compute: 3.80e+20 FLOP<br>CSP: 2.91e-19 kg CO2",
          "<b>AlphaGo Fan (2015)</b><br>Series: CSP<br>Cooling: Airside Economizer & Adiabatic Cooling (Water-Cooled Chiller)<br>Training Compute: 3.80e+20 FLOP<br>CSP: 2.91e-19 kg CO2",
          "<b>AlphaGo Fan (2015)</b><br>Series: CSP<br>Cooling: Waterside Economizer & Adiabatic Cooling (Water-Cooled Chiller)<br>Training Compute: 3.80e+20 FLOP<br>CSP: 2.91e-19 kg CO2",
          "<b>AlphaGo Fan (2015)</b><br>Series: CSP<br>Cooling: IT Liquid Cooling: Waterside Economizer (Water-Cooled Chiller)<br>Training Compute: 3.80e+20 FLOP<br>CSP: 2.91e-19 kg CO2",
          "<b>AlphaGo Fan (2015)</b><br>Series: CSP<br>Cooling: IT Liquid Cooling: Dry Cooler & Adiabitic Assist (Air-Cooled Chiller)<br>Training Compute: 3.80e+20 FLOP<br>CSP: 2.91e-19 kg CO2",
          "<b>AlphaGo Fan (2015)</b><br>Series: CSP<br>Cooling: IT Liquid Cooling: Dry Cooler (Air-Cooled Chiller)<br>Training Compute: 3.80e+20 FLOP<br>CSP: 2.91e-19 kg CO2"
         ],
         "legendgroup": "model_AlphaGo Fan (2015)",
         "marker": {
          "color": "hsl(327.27272727272725,70%,50%)",
          "line": {
           "color": "white",
           "width": 0.5
          },
          "size": 8,
          "symbol": [
           "circle",
           "x",
           "square",
           "diamond",
           "cross",
           "triangle-up",
           "star"
          ]
         },
         "mode": "markers",
         "name": "AlphaGo Fan (2015) - CSP",
         "showlegend": false,
         "type": "scatter",
         "x": {
          "bdata": "cHisMo+ZNERweKwyj5k0RHB4rDKPmTREcHisMo+ZNERweKwyj5k0RHB4rDKPmTREcHisMo+ZNEQ=",
          "dtype": "f8"
         },
         "y": {
          "bdata": "IUkqbnFzFTwhSSpucXMVPCFJKm5xcxU8IUkqbnFzFTwhSSpucXMVPCFJKm5xcxU8IUkqbnFzFTw=",
          "dtype": "f8"
         }
        },
        {
         "hovertemplate": "<b>US Grid Regression</b><br>R² = 0.711<br>Slope = -0.203<br><extra></extra>",
         "line": {
          "color": "black",
          "dash": "dash",
          "width": 2
         },
         "mode": "lines",
         "name": "US Grid Regression (R²=0.711)",
         "showlegend": true,
         "type": "scatter",
         "x": {
          "bdata": "b3isMo+ZNETE6KdAjrs3RLArX8GEVztEpVEWIf9/P0Qwljb3LSVCRDXwTtac50RErNinrHoVSETTzBsYHr9LRGJo0cxZ909E6Py8qO5pUkQky9Y40jZVRDPbkdG7cFhEEsjQ+D8oXEQvM3RaPDhgRJ5Qs9uzr2JEk2LaujOHZUQ8K2e6Vs1oRPHz1DLwkmxEibpxRbF1cEQhZilrgfZyRLT9hc3F2HVEWKlEhVAreURNtoKrNP98RFmt0wwPtIBE0hHLQFs+g0QSqtryjCuGRApDq2OuiolEW26LXhNtjUTayeoiWfOQRD+DF1VFh5NEOALuvY1/lkRTasmadeuZRNEaTF6S3J1E6eoWB5MzoUSCcZmvQ9GjRDDkKtPM1KZEn6XFg6tNqkRXPiPUt02uRJiD+EXAdLFEdx0gZ1octEQBH5PoTiu3REs6CoxVsbpEIQzIAIrAvkRH1qJ55LbBRA8q+aGNaMREExkCxhiDx0S285E1eRbLRC3dojwPNc9EkejOSQP60UR1UiuW4bXURDFxcEUv3NdEWg82Fxx920Rm9ib4TavfRL05D2wgPuJE9fuxiVoE5US6oThTlzboRDNQ/dxD5etE5M8WXqYR8EQbPQSkP4PyRJurudL8U/VE3Kdc7lWS+ESLO2xI9k78RHtMKRWJTgBFx5mRw2TJAkXOX93XzKQFRdKwzChw7whF/ofWMDm6DEXm86h+UowQRco1FKuTEBNFgNNkEM/2FUXX1K4n600ZRR3BsYMSJx1FyoazBAbLIEULDZlJ0FgjRSyrgwQISiZF8+GnI8ytKUXXIelEiJUtRZfRVh6nCjFFDdkUnR6iM0UdlJlNfJ42RYY4JWkYDzpF8q4yj6AFPkWYssFPOUtBRaKJnLKC7ENFulNzljD0RkX/wadY1XFKRf6TZZRhd05FAdh1KsCMUUU+lp6mADhURYPPjJspS1dFLQIQZwjWWkUcxdGd0epeRd08ek0/z2FFyiUdpZyEZEUIDlQrbKNnRUhK6x23O2tFMu+YDPdfb0XeYo5luhJyRcwU6ela0nRFAzdtJv38d0U=",
          "dtype": "f8"
         },
         "y": {
          "bdata": "Wp2fLOFbYTzHDcPqJ95gPCAA9Dn9Y2A8yQemro7aXzyZaCl12vNePMTSdCGtE148sUPibdc5XTx+KitrK2ZcPDm6uHZ8mFs8lWc6MZ/QWjyvjYB1aQ5aPEtUmU+yUVk84O8t9FGaWDz2cB64IehXPJVWWgj8Olc8YDH0YbySVjwLqW5KP+9VPP1DQUhiUFU8AV6T2wO2VDyaxyt3AyBUPOSLk3lBjlM8Q3BqJp8AUzwHwOuf/nZSPLsLouBC8VE8toJItU9vUTzlodi2CfFQPJjxwkRWdlA85j6j/jb+Tzz0gGeEgBZPPAgzYD5YNU48V5b8sY5aTTxvn4q89YVMPKpwfIlgt0s8ok70iKPuSjwKCJVmlCtKPCHplAAKbkk8AlERX9y1SDxJHKGr5AJIPJ4WJCn9VEc8S8DNKwGsRjw+s2kRzQdGPNsM2Dk+aEU8XEDA/zLNRDwHznixijZEPP9ZIoolpEM8lbT0quQVQzyIZLwUqotCPJlZh6FYBUI8Xmx//tOCQTz1ZPGlAARBPOJAf9nDiEA8AIR8nAMRQDz9veZcTTk/PBsRowspVz48+kl3lWp7PTw+Uwyk46U8PBFQpTBn1js8lPugeskMOzxMyD/+30g6PLDVrGuBijk85c9HnoXRODwu6y2UxR04PIoqAGYbbzc8zDzlPmLFNjydOcVUdiA2PAaiveA0gDU8bAbMF3zkNDyhzK0jK000PAGP8xsiujM8CqVG/0ErMzwhZN+sbKAyPIO9Kt6EGTI8q9ydIG6WMTx4frbPDBcxPO+3Jg9GmzA8Dfcqxf8iMDzhDRIqQVwvPCDmbbMfeS48M0hRQWucLTwIRYZJ9cUsPILT6JKQ9Ss8DY/dKxErKzwkgw1hTGYqPLwXZbQYpyk8nzBU1E3tKDzQrk2TxDgoPBiDhN9WiSc8d5bkut/eJjyo10UzOzkmPNfH11pGmCU8W+vDQN/7JDymlQXq5GMkPCiIdUo30CM8rPIHPrdAIzyVYjuCRrUiPCNEt6/HLSI80JcYNB6qITxjkutLLiohPE7d0PzcrSA8VEDNDxA1IDw=",
          "dtype": "f8"
         }
        },
        {
         "hovertemplate": "<b>Hydropower Regression</b><br>R² = 0.669<br>Slope = -0.181<br><extra></extra>",
         "line": {
          "color": "blue",
          "dash": "dash",
          "width": 2
         },
         "mode": "lines",
         "name": "Hydropower Regression (R²=0.669)",
         "showlegend": true,
         "type": "scatter",
         "x": {
          "bdata": "b3isMo+ZNETE6KdAjrs3RLArX8GEVztEpVEWIf9/P0Qwljb3LSVCRDXwTtac50RErNinrHoVSETTzBsYHr9LRGJo0cxZ909E6Py8qO5pUkQky9Y40jZVRDPbkdG7cFhEEsjQ+D8oXEQvM3RaPDhgRJ5Qs9uzr2JEk2LaujOHZUQ8K2e6Vs1oRPHz1DLwkmxEibpxRbF1cEQhZilrgfZyRLT9hc3F2HVEWKlEhVAreURNtoKrNP98RFmt0wwPtIBE0hHLQFs+g0QSqtryjCuGRApDq2OuiolEW26LXhNtjUTayeoiWfOQRD+DF1VFh5NEOALuvY1/lkRTasmadeuZRNEaTF6S3J1E6eoWB5MzoUSCcZmvQ9GjRDDkKtPM1KZEn6XFg6tNqkRXPiPUt02uRJiD+EXAdLFEdx0gZ1octEQBH5PoTiu3REs6CoxVsbpEIQzIAIrAvkRH1qJ55LbBRA8q+aGNaMREExkCxhiDx0S285E1eRbLRC3dojwPNc9EkejOSQP60UR1UiuW4bXURDFxcEUv3NdEWg82Fxx920Rm9ib4TavfRL05D2wgPuJE9fuxiVoE5US6oThTlzboRDNQ/dxD5etE5M8WXqYR8EQbPQSkP4PyRJurudL8U/VE3Kdc7lWS+ESLO2xI9k78RHtMKRWJTgBFx5mRw2TJAkXOX93XzKQFRdKwzChw7whF/ofWMDm6DEXm86h+UowQRco1FKuTEBNFgNNkEM/2FUXX1K4n600ZRR3BsYMSJx1FyoazBAbLIEULDZlJ0FgjRSyrgwQISiZF8+GnI8ytKUXXIelEiJUtRZfRVh6nCjFFDdkUnR6iM0UdlJlNfJ42RYY4JWkYDzpF8q4yj6AFPkWYssFPOUtBRaKJnLKC7ENFulNzljD0RkX/wadY1XFKRf6TZZRhd05FAdh1KsCMUUU+lp6mADhURYPPjJspS1dFLQIQZwjWWkUcxdGd0epeRd08ek0/z2FFyiUdpZyEZEUIDlQrbKNnRUhK6x23O2tFMu+YDPdfb0XeYo5luhJyRcwU6ela0nRFAzdtJv38d0U=",
          "dtype": "f8"
         },
         "y": {
          "bdata": "RY39ocEiHDy8cE+AqGwbPFYLe+4puxo8W+SzICgOGjxHkQUMhmUZPAibc2EnwRg8++44ifAgGDy7ESaexoQXPIFOHWmP7BY89RysXDFYFjzEA8GQk8cVPCQ9fb6dOhU80GwhPDixFDxVtBT5SysUPDB+BXrCqBM8B1cj1YUpEzy1NXGugK0SPISQLzSeNBI8IqhdG8q+ETw2cVGc8EsRPHmJZW/+2xA86qu8yeBuEDwTFhpahQQQPH6wnIu0OQ88jhtwS5xvDjzx868GoKoNPPIa8Kue6gw8v7XJ/3cvDDx0AXKXDHkLPHUtdNM9xwo8EliN2u0ZCjxnz6mU/3AJPK3CAqZWzAg8jY1batcrCDwn013wZo8HPD6jE/Xq9gY8/eJ+30liBjw2P028atEFPEfupzk1RAU8u4weo5G6BDwVaKzdaDQEPB2J12OksQM8vtjoQS4yAzygvjwS8bUCPJmXq/nXPAI8ZGwJpM7GATw7UbxAwVMBPM/aaH+c4wA8Kxy0jE12ADwOnxoPwgsAPPigt0fQR/87srzyt1x9/juOBJRyB7j9O6d8Plev9/w7aB77GzQ8/DtkPc1HdoX7O1P+aS1X0/o7ZQES5rgl+juJX4xMfnz5O9YmQviK1/g7On95OMM2+DuXrK8PDJr3O9EpES9LAfc7kBEP8mZs9juSIRFaRtv1OwuXQwrRTfU7RzOAQ+/D9DssulHgiT30O7M7EVGKuvM7Z4QcmNo68zvqDyVGZb7yO8bhlnYVRfI7QqYWzNbO8TtthxZtlVvxO18hgQA+6/A7Egl6qr198Ds2VzMJAhPwO+Rgr2PyVe87dI8QWyOL7jtQrdzsdMXtOysgv+nFBO07yiIq+fVI7DtHtOiT5ZHrO5Su0/513+o71BupRYkx6jtQ7wQ2AojpO/RLelrE4ug7LYHM9bNB6Dtq9Eb+taTnO/ktMxmwC+c7F0Vsloh25jtK8A5sJuXlO6d8RTJxV+U7Y/kuH1HN5DtF6eACr0bkO6vKgkN0w+M799GC2YpD4zsbMeNL3cbiOy9Qn6xWTeI7oVgoleLW4Ts=",
          "dtype": "f8"
         }
        },
        {
         "hovertemplate": "<b>Nuclear Regression</b><br>R² = 0.669<br>Slope = -0.181<br><extra></extra>",
         "line": {
          "color": "red",
          "dash": "dash",
          "width": 2
         },
         "mode": "lines",
         "name": "Nuclear Regression (R²=0.669)",
         "showlegend": true,
         "type": "scatter",
         "x": {
          "bdata": "b3isMo+ZNETE6KdAjrs3RLArX8GEVztEpVEWIf9/P0Qwljb3LSVCRDXwTtac50RErNinrHoVSETTzBsYHr9LRGJo0cxZ909E6Py8qO5pUkQky9Y40jZVRDPbkdG7cFhEEsjQ+D8oXEQvM3RaPDhgRJ5Qs9uzr2JEk2LaujOHZUQ8K2e6Vs1oRPHz1DLwkmxEibpxRbF1cEQhZilrgfZyRLT9hc3F2HVEWKlEhVAreURNtoKrNP98RFmt0wwPtIBE0hHLQFs+g0QSqtryjCuGRApDq2OuiolEW26LXhNtjUTayeoiWfOQRD+DF1VFh5NEOALuvY1/lkRTasmadeuZRNEaTF6S3J1E6eoWB5MzoUSCcZmvQ9GjRDDkKtPM1KZEn6XFg6tNqkRXPiPUt02uRJiD+EXAdLFEdx0gZ1octEQBH5PoTiu3REs6CoxVsbpEIQzIAIrAvkRH1qJ55LbBRA8q+aGNaMREExkCxhiDx0S285E1eRbLRC3dojwPNc9EkejOSQP60UR1UiuW4bXURDFxcEUv3NdEWg82Fxx920Rm9ib4TavfRL05D2wgPuJE9fuxiVoE5US6oThTlzboRDNQ/dxD5etE5M8WXqYR8EQbPQSkP4PyRJurudL8U/VE3Kdc7lWS+ESLO2xI9k78RHtMKRWJTgBFx5mRw2TJAkXOX93XzKQFRdKwzChw7whF/ofWMDm6DEXm86h+UowQRco1FKuTEBNFgNNkEM/2FUXX1K4n600ZRR3BsYMSJx1FyoazBAbLIEULDZlJ0FgjRSyrgwQISiZF8+GnI8ytKUXXIelEiJUtRZfRVh6nCjFFDdkUnR6iM0UdlJlNfJ42RYY4JWkYDzpF8q4yj6AFPkWYssFPOUtBRaKJnLKC7ENFulNzljD0RkX/wadY1XFKRf6TZZRhd05FAdh1KsCMUUU+lp6mADhURYPPjJspS1dFLQIQZwjWWkUcxdGd0epeRd08ek0/z2FFyiUdpZyEZEUIDlQrbKNnRUhK6x23O2tFMu+YDPdfb0XeYo5luhJyRcwU6ela0nRFAzdtJv38d0U=",
          "dtype": "f8"
         },
         "y": {
          "bdata": "8T491hmnHzzXXlmQPdoePMRsSiyPEh486WDKJO1PHTxzQ4bNNpIcPGwOok1M2Rs83gxgmg4lGzz10+pxX3UaPFP4QFYhyhk8lqBBiDcjGTw/JNkChoAYPMvkTHbx4Rc8bJqlQ19HFzziSjd4tbAWPPktRsnaHRY86sHHj7aOFTxtXD/EMAMVPJeCtfoxexQ8KF3JXqP2Ezxen9uvbnUTPKo6Uj1+9xI8aUH04rx8EjzXWF0FFgUSPEgjiI51kBE8gQ9v6sceETw6+cID+q8QPCoPt0D5QxA8euzC/2a1DzymQWAqLugOPCaz4o0lIA48FwPflStdDTxWCT+HH58MPAUbw3rh5Qs8Qf+mV1IxCzyOjWnOU4EKPKgXtlPI1Qk8X79uG5MuCTwg59YTmIsIPBPs3OC77Ac8VF6C1+NRBzwa9WH59boGPEJ6UvDYJwY82PMlCnSYBTx3VoQ0rwwFPI4K4fhyhAQ885mKeKj/Azxk29NoOX4DPCv2VQ8QAAM8sp9KPheFAjzy8v1QOg0CPI1KVyhlmAE8Jop4J4QmATySQnMwhLcAPCAmE6FSSwA8OIJ6n7rD/zsT5cYQJfb+OyE+FxPCLf47lEHUAnBq/Tt86x0WDqz8O7NrSld88vs7JK+In5s9+zssoqWRTY36Ow1P85R04fk7xPNQ0PM5+TvGRVMlr5b4O+8JjCuL9/c7sjnwK21c9ztz8VscO8X2OyxjM5vbMfY79hQg6zWi9TvqsenuMRb1OwG+aSW4jfQ7DHuZpbEI9DtcWLkaCIfzO4xFkcClCPM7NkrJX3WN8jsfwllKYhXyO4KmElhYoPE7s1A540Mu8Tt/ITzFEb/wOxqCe1OvUvA7J2dPuBTS7zvTymVGIgTvO2kkrr5kO+47UT9ebrp37Ts8jcV8ArnsO3WVyeUc/+s7VRGGdOpJ6zv60g++TJnqO7uTWRwm7ek7vM05qVlF6TtWzpA5y6HoOz8sjlhfAug7ktgUQ/tm5ztwBj3jhM/mOwIk88viO+Y7OCyzNPyr5TtAl1/1uB/lOzc6M4IBl+Q7t2PN574R5Ds=",
          "dtype": "f8"
         }
        },
        {
         "hovertemplate": "<b>CSP Regression</b><br>R² = 0.669<br>Slope = -0.181<br><extra></extra>",
         "line": {
          "color": "green",
          "dash": "dash",
          "width": 2
         },
         "mode": "lines",
         "name": "CSP Regression (R²=0.669)",
         "showlegend": true,
         "type": "scatter",
         "x": {
          "bdata": "b3isMo+ZNETE6KdAjrs3RLArX8GEVztEpVEWIf9/P0Qwljb3LSVCRDXwTtac50RErNinrHoVSETTzBsYHr9LRGJo0cxZ909E6Py8qO5pUkQky9Y40jZVRDPbkdG7cFhEEsjQ+D8oXEQvM3RaPDhgRJ5Qs9uzr2JEk2LaujOHZUQ8K2e6Vs1oRPHz1DLwkmxEibpxRbF1cEQhZilrgfZyRLT9hc3F2HVEWKlEhVAreURNtoKrNP98RFmt0wwPtIBE0hHLQFs+g0QSqtryjCuGRApDq2OuiolEW26LXhNtjUTayeoiWfOQRD+DF1VFh5NEOALuvY1/lkRTasmadeuZRNEaTF6S3J1E6eoWB5MzoUSCcZmvQ9GjRDDkKtPM1KZEn6XFg6tNqkRXPiPUt02uRJiD+EXAdLFEdx0gZ1octEQBH5PoTiu3REs6CoxVsbpEIQzIAIrAvkRH1qJ55LbBRA8q+aGNaMREExkCxhiDx0S285E1eRbLRC3dojwPNc9EkejOSQP60UR1UiuW4bXURDFxcEUv3NdEWg82Fxx920Rm9ib4TavfRL05D2wgPuJE9fuxiVoE5US6oThTlzboRDNQ/dxD5etE5M8WXqYR8EQbPQSkP4PyRJurudL8U/VE3Kdc7lWS+ESLO2xI9k78RHtMKRWJTgBFx5mRw2TJAkXOX93XzKQFRdKwzChw7whF/ofWMDm6DEXm86h+UowQRco1FKuTEBNFgNNkEM/2FUXX1K4n600ZRR3BsYMSJx1FyoazBAbLIEULDZlJ0FgjRSyrgwQISiZF8+GnI8ytKUXXIelEiJUtRZfRVh6nCjFFDdkUnR6iM0UdlJlNfJ42RYY4JWkYDzpF8q4yj6AFPkWYssFPOUtBRaKJnLKC7ENFulNzljD0RkX/wadY1XFKRf6TZZRhd05FAdh1KsCMUUU+lp6mADhURYPPjJspS1dFLQIQZwjWWkUcxdGd0epeRd08ek0/z2FFyiUdpZyEZEUIDlQrbKNnRUhK6x23O2tFMu+YDPdfb0XeYo5luhJyRcwU6ela0nRFAzdtJv38d0U=",
          "dtype": "f8"
         },
         "y": {
          "bdata": "hY39ocEiDDz7cE+AqGwLPNALe+4puwo8luSzICgOCjyBkQUMhmUJPHmbc2EnwQg8Mu84ifAgCDzwESaexoQHPLROHWmP7AY8Wx2sXDFYBjz1A8GQk8cFPFQ9fb6dOgU8/mwhPDixBDyxtBT5SysEPF1+BXrCqAM8Mlcj1YUpAzzfNXGugK0CPNeQLzSeNAI8c6hdG8q+ATxdcVGc8EsBPJ+JZW/+2wA8Nay8yeBuADw3FhpahQQAPMSwnIu0Of87GRxwS5xv/js19K8GoKr9OzQb8Kue6vw7/7XJ/3cv/DuyAXKXDHn7O+8tdNM9x/o7TViN2u0Z+jugz6mU/3D5Ox7DAqZWzPg7w41batcr+Dtc013wZo/3O3KjE/Xq9vY7MON+30li9juaP028atH1O3jupzk1RPU76Yweo5G69DtxaKzdaDT0O0mJ12OksfM76tjoQS4y8zvLvjwS8bXyO+yXq/nXPPI7tmwJpM7G8TtiUbxAwVPxO/XaaH+c4/A7dhy0jE128DsynxoPwgvwOz+ht0fQR+87Pb3yt1x97jsWBZRyB7jtO+l8Plev9+w7qB77GzQ87DuiPc1HdoXrO87+aS1X0+o7oAES5rgl6jvCX4xMfnzpO0cnQviK1+g7cX95OMM26DsCra8PDJrnOwUqES9LAec7whEP8mZs5jv2IRFaRtvlOzyXQwrRTeU7djOAQ+/D5DuIulHgiT3kOw48EVGKuuM7koQcmNo64ztAECVGZb7iO+/hlnYVReI7k6YWzNbO4TuUhxZtlVvhO4UhgQA+6+A7XQl6qr194DtaVzMJAhPgOythr2PyVd87uY8QWyOL3jvYrdzsdMXdO7Agv+nFBN07CiMq+fVI3DuFtOiT5ZHbOw+v0/5139o7DxypRYkx2juJ7wQ2AojZO2ZMelrE4tg7nIHM9bNB2DvW9Eb+taTXOy0uMxmwC9c7SkVsloh21juu8A5sJuXVO9h8RTJxV9U7kvkuH1HN1Duh6eACr0bUOwXLgkN0w9M7ItKC2YpD0ztFMeNL3cbSO1lQn6xWTdI781goleLW0Ts=",
          "dtype": "f8"
         }
        },
        {
         "hoverinfo": "skip",
         "legendgroup": "cooling_Dry Cooler with Adiabatic Assist (Air-Cooled Chiller)",
         "marker": {
          "color": "rgba(0,0,0,0.7)",
          "line": {
           "color": "white",
           "width": 1
          },
          "size": 8,
          "symbol": "circle"
         },
         "mode": "markers",
         "name": "Dry Cooler with Adiabatic Assist (Air-Cooled Chiller)",
         "showlegend": true,
         "type": "scatter",
         "x": [
          null
         ],
         "y": [
          null
         ]
        },
        {
         "hoverinfo": "skip",
         "legendgroup": "cooling_Airside Economizer & Adiabatic Cooling (Air-Cooled Chiller)",
         "marker": {
          "color": "rgba(0,0,0,0.7)",
          "line": {
           "color": "white",
           "width": 1
          },
          "size": 8,
          "symbol": "x"
         },
         "mode": "markers",
         "name": "Airside Economizer & Adiabatic Cooling (Air-Cooled Chiller)",
         "showlegend": true,
         "type": "scatter",
         "x": [
          null
         ],
         "y": [
          null
         ]
        },
        {
         "hoverinfo": "skip",
         "legendgroup": "cooling_Airside Economizer & Adiabatic Cooling (Water-Cooled Chiller)",
         "marker": {
          "color": "rgba(0,0,0,0.7)",
          "line": {
           "color": "white",
           "width": 1
          },
          "size": 8,
          "symbol": "square"
         },
         "mode": "markers",
         "name": "Airside Economizer & Adiabatic Cooling (Water-Cooled Chiller)",
         "showlegend": true,
         "type": "scatter",
         "x": [
          null
         ],
         "y": [
          null
         ]
        },
        {
         "hoverinfo": "skip",
         "legendgroup": "cooling_Waterside Economizer & Adiabatic Cooling (Water-Cooled Chiller)",
         "marker": {
          "color": "rgba(0,0,0,0.7)",
          "line": {
           "color": "white",
           "width": 1
          },
          "size": 8,
          "symbol": "diamond"
         },
         "mode": "markers",
         "name": "Waterside Economizer & Adiabatic Cooling (Water-Cooled Chiller)",
         "showlegend": true,
         "type": "scatter",
         "x": [
          null
         ],
         "y": [
          null
         ]
        },
        {
         "hoverinfo": "skip",
         "legendgroup": "cooling_IT Liquid Cooling: Waterside Economizer (Water-Cooled Chiller)",
         "marker": {
          "color": "rgba(0,0,0,0.7)",
          "line": {
           "color": "white",
           "width": 1
          },
          "size": 8,
          "symbol": "cross"
         },
         "mode": "markers",
         "name": "IT Liquid Cooling: Waterside Economizer (Water-Cooled Chiller)",
         "showlegend": true,
         "type": "scatter",
         "x": [
          null
         ],
         "y": [
          null
         ]
        },
        {
         "hoverinfo": "skip",
         "legendgroup": "cooling_IT Liquid Cooling: Dry Cooler & Adiabitic Assist (Air-Cooled Chiller)",
         "marker": {
          "color": "rgba(0,0,0,0.7)",
          "line": {
           "color": "white",
           "width": 1
          },
          "size": 8,
          "symbol": "triangle-up"
         },
         "mode": "markers",
         "name": "IT Liquid Cooling: Dry Cooler & Adiabitic Assist (Air-Cooled Chiller)",
         "showlegend": true,
         "type": "scatter",
         "x": [
          null
         ],
         "y": [
          null
         ]
        },
        {
         "hoverinfo": "skip",
         "legendgroup": "cooling_IT Liquid Cooling: Dry Cooler (Air-Cooled Chiller)",
         "marker": {
          "color": "rgba(0,0,0,0.7)",
          "line": {
           "color": "white",
           "width": 1
          },
          "size": 8,
          "symbol": "star"
         },
         "mode": "markers",
         "name": "IT Liquid Cooling: Dry Cooler (Air-Cooled Chiller)",
         "showlegend": true,
         "type": "scatter",
         "x": [
          null
         ],
         "y": [
          null
         ]
        }
       ],
       "layout": {
        "height": 600,
        "legend": {
         "bgcolor": "rgba(255,255,255,0.8)",
         "bordercolor": "black",
         "borderwidth": 1,
         "font": {
          "size": 10
         },
         "itemsizing": "constant",
         "orientation": "v",
         "tracegroupgap": 0,
         "x": 1.02,
         "xanchor": "left",
         "y": 1,
         "yanchor": "top"
        },
        "margin": {
         "r": 300
        },
        "template": {
         "data": {
          "bar": [
           {
            "error_x": {
             "color": "#2a3f5f"
            },
            "error_y": {
             "color": "#2a3f5f"
            },
            "marker": {
             "line": {
              "color": "#E5ECF6",
              "width": 0.5
             },
             "pattern": {
              "fillmode": "overlay",
              "size": 10,
              "solidity": 0.2
             }
            },
            "type": "bar"
           }
          ],
          "barpolar": [
           {
            "marker": {
             "line": {
              "color": "#E5ECF6",
              "width": 0.5
             },
             "pattern": {
              "fillmode": "overlay",
              "size": 10,
              "solidity": 0.2
             }
            },
            "type": "barpolar"
           }
          ],
          "carpet": [
           {
            "aaxis": {
             "endlinecolor": "#2a3f5f",
             "gridcolor": "white",
             "linecolor": "white",
             "minorgridcolor": "white",
             "startlinecolor": "#2a3f5f"
            },
            "baxis": {
             "endlinecolor": "#2a3f5f",
             "gridcolor": "white",
             "linecolor": "white",
             "minorgridcolor": "white",
             "startlinecolor": "#2a3f5f"
            },
            "type": "carpet"
           }
          ],
          "choropleth": [
           {
            "colorbar": {
             "outlinewidth": 0,
             "ticks": ""
            },
            "type": "choropleth"
           }
          ],
          "contour": [
           {
            "colorbar": {
             "outlinewidth": 0,
             "ticks": ""
            },
            "colorscale": [
             [
              0,
              "#0d0887"
             ],
             [
              0.1111111111111111,
              "#46039f"
             ],
             [
              0.2222222222222222,
              "#7201a8"
             ],
             [
              0.3333333333333333,
              "#9c179e"
             ],
             [
              0.4444444444444444,
              "#bd3786"
             ],
             [
              0.5555555555555556,
              "#d8576b"
             ],
             [
              0.6666666666666666,
              "#ed7953"
             ],
             [
              0.7777777777777778,
              "#fb9f3a"
             ],
             [
              0.8888888888888888,
              "#fdca26"
             ],
             [
              1,
              "#f0f921"
             ]
            ],
            "type": "contour"
           }
          ],
          "contourcarpet": [
           {
            "colorbar": {
             "outlinewidth": 0,
             "ticks": ""
            },
            "type": "contourcarpet"
           }
          ],
          "heatmap": [
           {
            "colorbar": {
             "outlinewidth": 0,
             "ticks": ""
            },
            "colorscale": [
             [
              0,
              "#0d0887"
             ],
             [
              0.1111111111111111,
              "#46039f"
             ],
             [
              0.2222222222222222,
              "#7201a8"
             ],
             [
              0.3333333333333333,
              "#9c179e"
             ],
             [
              0.4444444444444444,
              "#bd3786"
             ],
             [
              0.5555555555555556,
              "#d8576b"
             ],
             [
              0.6666666666666666,
              "#ed7953"
             ],
             [
              0.7777777777777778,
              "#fb9f3a"
             ],
             [
              0.8888888888888888,
              "#fdca26"
             ],
             [
              1,
              "#f0f921"
             ]
            ],
            "type": "heatmap"
           }
          ],
          "histogram": [
           {
            "marker": {
             "pattern": {
              "fillmode": "overlay",
              "size": 10,
              "solidity": 0.2
             }
            },
            "type": "histogram"
           }
          ],
          "histogram2d": [
           {
            "colorbar": {
             "outlinewidth": 0,
             "ticks": ""
            },
            "colorscale": [
             [
              0,
              "#0d0887"
             ],
             [
              0.1111111111111111,
              "#46039f"
             ],
             [
              0.2222222222222222,
              "#7201a8"
             ],
             [
              0.3333333333333333,
              "#9c179e"
             ],
             [
              0.4444444444444444,
              "#bd3786"
             ],
             [
              0.5555555555555556,
              "#d8576b"
             ],
             [
              0.6666666666666666,
              "#ed7953"
             ],
             [
              0.7777777777777778,
              "#fb9f3a"
             ],
             [
              0.8888888888888888,
              "#fdca26"
             ],
             [
              1,
              "#f0f921"
             ]
            ],
            "type": "histogram2d"
           }
          ],
          "histogram2dcontour": [
           {
            "colorbar": {
             "outlinewidth": 0,
             "ticks": ""
            },
            "colorscale": [
             [
              0,
              "#0d0887"
             ],
             [
              0.1111111111111111,
              "#46039f"
             ],
             [
              0.2222222222222222,
              "#7201a8"
             ],
             [
              0.3333333333333333,
              "#9c179e"
             ],
             [
              0.4444444444444444,
              "#bd3786"
             ],
             [
              0.5555555555555556,
              "#d8576b"
             ],
             [
              0.6666666666666666,
              "#ed7953"
             ],
             [
              0.7777777777777778,
              "#fb9f3a"
             ],
             [
              0.8888888888888888,
              "#fdca26"
             ],
             [
              1,
              "#f0f921"
             ]
            ],
            "type": "histogram2dcontour"
           }
          ],
          "mesh3d": [
           {
            "colorbar": {
             "outlinewidth": 0,
             "ticks": ""
            },
            "type": "mesh3d"
           }
          ],
          "parcoords": [
           {
            "line": {
             "colorbar": {
              "outlinewidth": 0,
              "ticks": ""
             }
            },
            "type": "parcoords"
           }
          ],
          "pie": [
           {
            "automargin": true,
            "type": "pie"
           }
          ],
          "scatter": [
           {
            "fillpattern": {
             "fillmode": "overlay",
             "size": 10,
             "solidity": 0.2
            },
            "type": "scatter"
           }
          ],
          "scatter3d": [
           {
            "line": {
             "colorbar": {
              "outlinewidth": 0,
              "ticks": ""
             }
            },
            "marker": {
             "colorbar": {
              "outlinewidth": 0,
              "ticks": ""
             }
            },
            "type": "scatter3d"
           }
          ],
          "scattercarpet": [
           {
            "marker": {
             "colorbar": {
              "outlinewidth": 0,
              "ticks": ""
             }
            },
            "type": "scattercarpet"
           }
          ],
          "scattergeo": [
           {
            "marker": {
             "colorbar": {
              "outlinewidth": 0,
              "ticks": ""
             }
            },
            "type": "scattergeo"
           }
          ],
          "scattergl": [
           {
            "marker": {
             "colorbar": {
              "outlinewidth": 0,
              "ticks": ""
             }
            },
            "type": "scattergl"
           }
          ],
          "scattermap": [
           {
            "marker": {
             "colorbar": {
              "outlinewidth": 0,
              "ticks": ""
             }
            },
            "type": "scattermap"
           }
          ],
          "scattermapbox": [
           {
            "marker": {
             "colorbar": {
              "outlinewidth": 0,
              "ticks": ""
             }
            },
            "type": "scattermapbox"
           }
          ],
          "scatterpolar": [
           {
            "marker": {
             "colorbar": {
              "outlinewidth": 0,
              "ticks": ""
             }
            },
            "type": "scatterpolar"
           }
          ],
          "scatterpolargl": [
           {
            "marker": {
             "colorbar": {
              "outlinewidth": 0,
              "ticks": ""
             }
            },
            "type": "scatterpolargl"
           }
          ],
          "scatterternary": [
           {
            "marker": {
             "colorbar": {
              "outlinewidth": 0,
              "ticks": ""
             }
            },
            "type": "scatterternary"
           }
          ],
          "surface": [
           {
            "colorbar": {
             "outlinewidth": 0,
             "ticks": ""
            },
            "colorscale": [
             [
              0,
              "#0d0887"
             ],
             [
              0.1111111111111111,
              "#46039f"
             ],
             [
              0.2222222222222222,
              "#7201a8"
             ],
             [
              0.3333333333333333,
              "#9c179e"
             ],
             [
              0.4444444444444444,
              "#bd3786"
             ],
             [
              0.5555555555555556,
              "#d8576b"
             ],
             [
              0.6666666666666666,
              "#ed7953"
             ],
             [
              0.7777777777777778,
              "#fb9f3a"
             ],
             [
              0.8888888888888888,
              "#fdca26"
             ],
             [
              1,
              "#f0f921"
             ]
            ],
            "type": "surface"
           }
          ],
          "table": [
           {
            "cells": {
             "fill": {
              "color": "#EBF0F8"
             },
             "line": {
              "color": "white"
             }
            },
            "header": {
             "fill": {
              "color": "#C8D4E3"
             },
             "line": {
              "color": "white"
             }
            },
            "type": "table"
           }
          ]
         },
         "layout": {
          "annotationdefaults": {
           "arrowcolor": "#2a3f5f",
           "arrowhead": 0,
           "arrowwidth": 1
          },
          "autotypenumbers": "strict",
          "coloraxis": {
           "colorbar": {
            "outlinewidth": 0,
            "ticks": ""
           }
          },
          "colorscale": {
           "diverging": [
            [
             0,
             "#8e0152"
            ],
            [
             0.1,
             "#c51b7d"
            ],
            [
             0.2,
             "#de77ae"
            ],
            [
             0.3,
             "#f1b6da"
            ],
            [
             0.4,
             "#fde0ef"
            ],
            [
             0.5,
             "#f7f7f7"
            ],
            [
             0.6,
             "#e6f5d0"
            ],
            [
             0.7,
             "#b8e186"
            ],
            [
             0.8,
             "#7fbc41"
            ],
            [
             0.9,
             "#4d9221"
            ],
            [
             1,
             "#276419"
            ]
           ],
           "sequential": [
            [
             0,
             "#0d0887"
            ],
            [
             0.1111111111111111,
             "#46039f"
            ],
            [
             0.2222222222222222,
             "#7201a8"
            ],
            [
             0.3333333333333333,
             "#9c179e"
            ],
            [
             0.4444444444444444,
             "#bd3786"
            ],
            [
             0.5555555555555556,
             "#d8576b"
            ],
            [
             0.6666666666666666,
             "#ed7953"
            ],
            [
             0.7777777777777778,
             "#fb9f3a"
            ],
            [
             0.8888888888888888,
             "#fdca26"
            ],
            [
             1,
             "#f0f921"
            ]
           ],
           "sequentialminus": [
            [
             0,
             "#0d0887"
            ],
            [
             0.1111111111111111,
             "#46039f"
            ],
            [
             0.2222222222222222,
             "#7201a8"
            ],
            [
             0.3333333333333333,
             "#9c179e"
            ],
            [
             0.4444444444444444,
             "#bd3786"
            ],
            [
             0.5555555555555556,
             "#d8576b"
            ],
            [
             0.6666666666666666,
             "#ed7953"
            ],
            [
             0.7777777777777778,
             "#fb9f3a"
            ],
            [
             0.8888888888888888,
             "#fdca26"
            ],
            [
             1,
             "#f0f921"
            ]
           ]
          },
          "colorway": [
           "#636efa",
           "#EF553B",
           "#00cc96",
           "#ab63fa",
           "#FFA15A",
           "#19d3f3",
           "#FF6692",
           "#B6E880",
           "#FF97FF",
           "#FECB52"
          ],
          "font": {
           "color": "#2a3f5f"
          },
          "geo": {
           "bgcolor": "white",
           "lakecolor": "white",
           "landcolor": "#E5ECF6",
           "showlakes": true,
           "showland": true,
           "subunitcolor": "white"
          },
          "hoverlabel": {
           "align": "left"
          },
          "hovermode": "closest",
          "mapbox": {
           "style": "light"
          },
          "paper_bgcolor": "white",
          "plot_bgcolor": "#E5ECF6",
          "polar": {
           "angularaxis": {
            "gridcolor": "white",
            "linecolor": "white",
            "ticks": ""
           },
           "bgcolor": "#E5ECF6",
           "radialaxis": {
            "gridcolor": "white",
            "linecolor": "white",
            "ticks": ""
           }
          },
          "scene": {
           "xaxis": {
            "backgroundcolor": "#E5ECF6",
            "gridcolor": "white",
            "gridwidth": 2,
            "linecolor": "white",
            "showbackground": true,
            "ticks": "",
            "zerolinecolor": "white"
           },
           "yaxis": {
            "backgroundcolor": "#E5ECF6",
            "gridcolor": "white",
            "gridwidth": 2,
            "linecolor": "white",
            "showbackground": true,
            "ticks": "",
            "zerolinecolor": "white"
           },
           "zaxis": {
            "backgroundcolor": "#E5ECF6",
            "gridcolor": "white",
            "gridwidth": 2,
            "linecolor": "white",
            "showbackground": true,
            "ticks": "",
            "zerolinecolor": "white"
           }
          },
          "shapedefaults": {
           "line": {
            "color": "#2a3f5f"
           }
          },
          "ternary": {
           "aaxis": {
            "gridcolor": "white",
            "linecolor": "white",
            "ticks": ""
           },
           "baxis": {
            "gridcolor": "white",
            "linecolor": "white",
            "ticks": ""
           },
           "bgcolor": "#E5ECF6",
           "caxis": {
            "gridcolor": "white",
            "linecolor": "white",
            "ticks": ""
           }
          },
          "title": {
           "x": 0.05
          },
          "xaxis": {
           "automargin": true,
           "gridcolor": "white",
           "linecolor": "white",
           "ticks": "",
           "title": {
            "standoff": 15
           },
           "zerolinecolor": "white",
           "zerolinewidth": 2
          },
          "yaxis": {
           "automargin": true,
           "gridcolor": "white",
           "linecolor": "white",
           "ticks": "",
           "title": {
            "standoff": 15
           },
           "zerolinecolor": "white",
           "zerolinewidth": 2
          }
         }
        },
        "title": {
         "text": "Carbon Impact (kg CO2) Per FLOP vs FLOP by Energy Source, Cooling System and Model"
        },
        "width": 1000,
        "xaxis": {
         "gridcolor": "lightgray",
         "gridwidth": 1,
         "linecolor": "black",
         "linewidth": 1,
         "mirror": true,
         "showgrid": true,
         "showline": true,
         "title": {
          "text": "Training Compute (FLOP) [log scale]"
         },
         "type": "log"
        },
        "yaxis": {
         "gridcolor": "lightgray",
         "gridwidth": 1,
         "linecolor": "black",
         "linewidth": 1,
         "mirror": true,
         "showgrid": true,
         "showline": true,
         "title": {
          "text": "Carbon Impact Per FLOP (Hydro, Nuclear, CSP) (kg CO2) [log scale]"
         },
         "type": "log"
        }
       }
      }
     },
     "metadata": {},
     "output_type": "display_data"
    }
   ],
   "source": [
    "fig = create_multi_scatter_plot(\n",
    "    data=combined_notable,\n",
    "    y_column=['Carbon Impact (kg CO2) Per FLOP - US Grid', 'Carbon Impact (kg CO2) Per FLOP - Hydropower', 'Carbon Impact (kg CO2) Per FLOP - CSP', 'Carbon Impact (kg CO2) Per FLOP - Nuclear'],\n",
    "    y_label=['US Grid', 'Hydropower', 'Nuclear', 'CSP'],\n",
    "    y_units='kg CO2',\n",
    "    y_title='Carbon Impact Per FLOP (Hydro, Nuclear, CSP)',\n",
    "    plot_title='Carbon Impact (kg CO2) Per FLOP vs FLOP by Energy Source, Cooling System and Model'\n",
    ")\n",
    "fig.show()"
   ]
  },
  {
   "cell_type": "code",
   "execution_count": 115,
   "id": "14234ded",
   "metadata": {},
   "outputs": [
    {
     "data": {
      "application/vnd.plotly.v1+json": {
       "config": {
        "plotlyServerURL": "https://plot.ly"
       },
       "data": [
        {
         "hovertemplate": "%{hovertext}<extra></extra>",
         "hovertext": [
          "<b>Grok-3 (2025)</b><br>Series: US Grid<br>Cooling: Dry Cooler with Adiabatic Assist (Air-Cooled Chiller)<br>Training Compute: 4.64e+26 FLOP<br>US Grid: 1.22e-18 kg CO2",
          "<b>Grok-3 (2025)</b><br>Series: US Grid<br>Cooling: Airside Economizer & Adiabatic Cooling (Air-Cooled Chiller)<br>Training Compute: 4.64e+26 FLOP<br>US Grid: 1.19e-18 kg CO2",
          "<b>Grok-3 (2025)</b><br>Series: US Grid<br>Cooling: Airside Economizer & Adiabatic Cooling (Water-Cooled Chiller)<br>Training Compute: 4.64e+26 FLOP<br>US Grid: 1.17e-18 kg CO2",
          "<b>Grok-3 (2025)</b><br>Series: US Grid<br>Cooling: Waterside Economizer & Adiabatic Cooling (Water-Cooled Chiller)<br>Training Compute: 4.64e+26 FLOP<br>US Grid: 1.14e-18 kg CO2",
          "<b>Grok-3 (2025)</b><br>Series: US Grid<br>Cooling: IT Liquid Cooling: Waterside Economizer (Water-Cooled Chiller)<br>Training Compute: 4.64e+26 FLOP<br>US Grid: 1.16e-18 kg CO2",
          "<b>Grok-3 (2025)</b><br>Series: US Grid<br>Cooling: IT Liquid Cooling: Dry Cooler & Adiabitic Assist (Air-Cooled Chiller)<br>Training Compute: 4.64e+26 FLOP<br>US Grid: 1.12e-18 kg CO2",
          "<b>Grok-3 (2025)</b><br>Series: US Grid<br>Cooling: IT Liquid Cooling: Dry Cooler (Air-Cooled Chiller)<br>Training Compute: 4.64e+26 FLOP<br>US Grid: 1.12e-18 kg CO2"
         ],
         "legendgroup": "model_Grok-3 (2025)",
         "marker": {
          "color": "hsl(0.0,70%,50%)",
          "line": {
           "color": "white",
           "width": 0.5
          },
          "size": 8,
          "symbol": [
           "circle",
           "x",
           "square",
           "diamond",
           "cross",
           "triangle-up",
           "star"
          ]
         },
         "mode": "markers",
         "name": "Grok-3 (2025)",
         "showlegend": true,
         "type": "scatter",
         "x": {
          "bdata": "6zZtJv38d0XrNm0m/fx3Res2bSb9/HdF6zZtJv38d0XrNm0m/fx3Res2bSb9/HdF6zZtJv38d0U=",
          "dtype": "f8"
         },
         "y": {
          "bdata": "1ohtJTiQNjxZzSnVo/01PB9Or2gEhzU8xDBQimoCNTwKNutOM081PGPQ4P+7kjQ8Y9Dg/7uSNDw=",
          "dtype": "f8"
         }
        },
        {
         "hovertemplate": "%{hovertext}<extra></extra>",
         "hovertext": [
          "<b>Gemini 1.0 Ultra (2023)</b><br>Series: US Grid<br>Cooling: Dry Cooler with Adiabatic Assist (Air-Cooled Chiller)<br>Training Compute: 5.00e+25 FLOP<br>US Grid: 4.03e-19 kg CO2",
          "<b>Gemini 1.0 Ultra (2023)</b><br>Series: US Grid<br>Cooling: Airside Economizer & Adiabatic Cooling (Air-Cooled Chiller)<br>Training Compute: 5.00e+25 FLOP<br>US Grid: 3.93e-19 kg CO2",
          "<b>Gemini 1.0 Ultra (2023)</b><br>Series: US Grid<br>Cooling: Airside Economizer & Adiabatic Cooling (Water-Cooled Chiller)<br>Training Compute: 5.00e+25 FLOP<br>US Grid: 3.84e-19 kg CO2",
          "<b>Gemini 1.0 Ultra (2023)</b><br>Series: US Grid<br>Cooling: Waterside Economizer & Adiabatic Cooling (Water-Cooled Chiller)<br>Training Compute: 5.00e+25 FLOP<br>US Grid: 3.75e-19 kg CO2",
          "<b>Gemini 1.0 Ultra (2023)</b><br>Series: US Grid<br>Cooling: IT Liquid Cooling: Waterside Economizer (Water-Cooled Chiller)<br>Training Compute: 5.00e+25 FLOP<br>US Grid: 3.80e-19 kg CO2",
          "<b>Gemini 1.0 Ultra (2023)</b><br>Series: US Grid<br>Cooling: IT Liquid Cooling: Dry Cooler & Adiabitic Assist (Air-Cooled Chiller)<br>Training Compute: 5.00e+25 FLOP<br>US Grid: 3.67e-19 kg CO2",
          "<b>Gemini 1.0 Ultra (2023)</b><br>Series: US Grid<br>Cooling: IT Liquid Cooling: Dry Cooler (Air-Cooled Chiller)<br>Training Compute: 5.00e+25 FLOP<br>US Grid: 3.67e-19 kg CO2"
         ],
         "legendgroup": "model_Gemini 1.0 Ultra (2023)",
         "marker": {
          "color": "hsl(32.72727272727273,70%,50%)",
          "line": {
           "color": "white",
           "width": 0.5
          },
          "size": 8,
          "symbol": [
           "circle",
           "x",
           "square",
           "diamond",
           "cross",
           "triangle-up",
           "star"
          ]
         },
         "mode": "markers",
         "name": "Gemini 1.0 Ultra (2023)",
         "showlegend": true,
         "type": "scatter",
         "x": {
          "bdata": "9Mkzt/StREX0yTO39K1ERfTJM7f0rURF9Mkzt/StREX0yTO39K1ERfTJM7f0rURF9Mkzt/StREU=",
          "dtype": "f8"
         },
         "y": {
          "bdata": "AwhU4+q3HTzXgh872/YcPPwvk/ydWhw8+MMyiferGzzZDIKqGREcPPHccKTeGBs88dxwpN4YGzw=",
          "dtype": "f8"
         }
        },
        {
         "hovertemplate": "%{hovertext}<extra></extra>",
         "hovertext": [
          "<b>GPT-4o (2024)</b><br>Series: US Grid<br>Cooling: Dry Cooler with Adiabatic Assist (Air-Cooled Chiller)<br>Training Compute: 3.81e+25 FLOP<br>US Grid: 1.10e-18 kg CO2",
          "<b>GPT-4o (2024)</b><br>Series: US Grid<br>Cooling: Airside Economizer & Adiabatic Cooling (Air-Cooled Chiller)<br>Training Compute: 3.81e+25 FLOP<br>US Grid: 1.07e-18 kg CO2",
          "<b>GPT-4o (2024)</b><br>Series: US Grid<br>Cooling: Airside Economizer & Adiabatic Cooling (Water-Cooled Chiller)<br>Training Compute: 3.81e+25 FLOP<br>US Grid: 1.05e-18 kg CO2",
          "<b>GPT-4o (2024)</b><br>Series: US Grid<br>Cooling: Waterside Economizer & Adiabatic Cooling (Water-Cooled Chiller)<br>Training Compute: 3.81e+25 FLOP<br>US Grid: 1.02e-18 kg CO2",
          "<b>GPT-4o (2024)</b><br>Series: US Grid<br>Cooling: IT Liquid Cooling: Waterside Economizer (Water-Cooled Chiller)<br>Training Compute: 3.81e+25 FLOP<br>US Grid: 1.04e-18 kg CO2",
          "<b>GPT-4o (2024)</b><br>Series: US Grid<br>Cooling: IT Liquid Cooling: Dry Cooler & Adiabitic Assist (Air-Cooled Chiller)<br>Training Compute: 3.81e+25 FLOP<br>US Grid: 1.00e-18 kg CO2",
          "<b>GPT-4o (2024)</b><br>Series: US Grid<br>Cooling: IT Liquid Cooling: Dry Cooler (Air-Cooled Chiller)<br>Training Compute: 3.81e+25 FLOP<br>US Grid: 1.00e-18 kg CO2"
         ],
         "legendgroup": "model_GPT-4o (2024)",
         "marker": {
          "color": "hsl(65.45454545454545,70%,50%)",
          "line": {
           "color": "white",
           "width": 0.5
          },
          "size": 8,
          "symbol": [
           "circle",
           "x",
           "square",
           "diamond",
           "cross",
           "triangle-up",
           "star"
          ]
         },
         "mode": "markers",
         "name": "GPT-4o (2024)",
         "showlegend": true,
         "type": "scatter",
         "x": {
          "bdata": "lW9Brv2DP0WVb0Gu/YM/RZVvQa79gz9FlW9Brv2DP0WVb0Gu/YM/RZVvQa79gz9FlW9Brv2DP0U=",
          "dtype": "f8"
         },
         "y": {
          "bdata": "DiFjfSVNNDzpJ5AIQ8kzPPaQ6/qHXjM86sivOTnnMjzDEf9gTywzPOqnnuu8gjI86qee67yCMjw=",
          "dtype": "f8"
         }
        },
        {
         "hovertemplate": "%{hovertext}<extra></extra>",
         "hovertext": [
          "<b>Minerva (540B) (2022)</b><br>Series: US Grid<br>Cooling: Dry Cooler with Adiabatic Assist (Air-Cooled Chiller)<br>Training Compute: 2.74e+24 FLOP<br>US Grid: 1.34e-18 kg CO2",
          "<b>Minerva (540B) (2022)</b><br>Series: US Grid<br>Cooling: Airside Economizer & Adiabatic Cooling (Air-Cooled Chiller)<br>Training Compute: 2.74e+24 FLOP<br>US Grid: 1.31e-18 kg CO2",
          "<b>Minerva (540B) (2022)</b><br>Series: US Grid<br>Cooling: Airside Economizer & Adiabatic Cooling (Water-Cooled Chiller)<br>Training Compute: 2.74e+24 FLOP<br>US Grid: 1.28e-18 kg CO2",
          "<b>Minerva (540B) (2022)</b><br>Series: US Grid<br>Cooling: Waterside Economizer & Adiabatic Cooling (Water-Cooled Chiller)<br>Training Compute: 2.74e+24 FLOP<br>US Grid: 1.25e-18 kg CO2",
          "<b>Minerva (540B) (2022)</b><br>Series: US Grid<br>Cooling: IT Liquid Cooling: Waterside Economizer (Water-Cooled Chiller)<br>Training Compute: 2.74e+24 FLOP<br>US Grid: 1.27e-18 kg CO2",
          "<b>Minerva (540B) (2022)</b><br>Series: US Grid<br>Cooling: IT Liquid Cooling: Dry Cooler & Adiabitic Assist (Air-Cooled Chiller)<br>Training Compute: 2.74e+24 FLOP<br>US Grid: 1.22e-18 kg CO2",
          "<b>Minerva (540B) (2022)</b><br>Series: US Grid<br>Cooling: IT Liquid Cooling: Dry Cooler (Air-Cooled Chiller)<br>Training Compute: 2.74e+24 FLOP<br>US Grid: 1.22e-18 kg CO2"
         ],
         "legendgroup": "model_Minerva (540B) (2022)",
         "marker": {
          "color": "hsl(98.18181818181819,70%,50%)",
          "line": {
           "color": "white",
           "width": 0.5
          },
          "size": 8,
          "symbol": [
           "circle",
           "x",
           "square",
           "diamond",
           "cross",
           "triangle-up",
           "star"
          ]
         },
         "mode": "markers",
         "name": "Minerva (540B) (2022)",
         "showlegend": true,
         "type": "scatter",
         "x": {
          "bdata": "3XMzGkgkAkXdczMaSCQCRd1zMxpIJAJF3XMzGkgkAkXdczMaSCQCRd1zMxpIJAJF3XMzGkgkAkU=",
          "dtype": "f8"
         },
         "y": {
          "bdata": "0uYMonbBODwICMRIpCA4PPiDvjh+njc8jFIXBAINNzxILeS5QGE3PMh1jHx5kjY8yHWMfHmSNjw=",
          "dtype": "f8"
         }
        },
        {
         "hovertemplate": "%{hovertext}<extra></extra>",
         "hovertext": [
          "<b>FLAN 137B (2021)</b><br>Series: US Grid<br>Cooling: Dry Cooler with Adiabatic Assist (Air-Cooled Chiller)<br>Training Compute: 2.05e+24 FLOP<br>US Grid: 1.03e-18 kg CO2",
          "<b>FLAN 137B (2021)</b><br>Series: US Grid<br>Cooling: Airside Economizer & Adiabatic Cooling (Air-Cooled Chiller)<br>Training Compute: 2.05e+24 FLOP<br>US Grid: 1.00e-18 kg CO2",
          "<b>FLAN 137B (2021)</b><br>Series: US Grid<br>Cooling: Airside Economizer & Adiabatic Cooling (Water-Cooled Chiller)<br>Training Compute: 2.05e+24 FLOP<br>US Grid: 9.81e-19 kg CO2",
          "<b>FLAN 137B (2021)</b><br>Series: US Grid<br>Cooling: Waterside Economizer & Adiabatic Cooling (Water-Cooled Chiller)<br>Training Compute: 2.05e+24 FLOP<br>US Grid: 9.57e-19 kg CO2",
          "<b>FLAN 137B (2021)</b><br>Series: US Grid<br>Cooling: IT Liquid Cooling: Waterside Economizer (Water-Cooled Chiller)<br>Training Compute: 2.05e+24 FLOP<br>US Grid: 9.71e-19 kg CO2",
          "<b>FLAN 137B (2021)</b><br>Series: US Grid<br>Cooling: IT Liquid Cooling: Dry Cooler & Adiabitic Assist (Air-Cooled Chiller)<br>Training Compute: 2.05e+24 FLOP<br>US Grid: 9.37e-19 kg CO2",
          "<b>FLAN 137B (2021)</b><br>Series: US Grid<br>Cooling: IT Liquid Cooling: Dry Cooler (Air-Cooled Chiller)<br>Training Compute: 2.05e+24 FLOP<br>US Grid: 9.37e-19 kg CO2"
         ],
         "legendgroup": "model_FLAN 137B (2021)",
         "marker": {
          "color": "hsl(130.9090909090909,70%,50%)",
          "line": {
           "color": "white",
           "width": 0.5
          },
          "size": 8,
          "symbol": [
           "circle",
           "x",
           "square",
           "diamond",
           "cross",
           "triangle-up",
           "star"
          ]
         },
         "mode": "markers",
         "name": "FLAN 137B (2021)",
         "showlegend": true,
         "type": "scatter",
         "x": {
          "bdata": "8hJIeoEX+0TyEkh6gRf7RPISSHqBF/tE8hJIeoEX+0TyEkh6gRf7RPISSHqBF/tE8hJIeoEX+0Q=",
          "dtype": "f8"
         },
         "y": {
          "bdata": "eaiM5S73Mjyn4pzz+XsyPIHyP7VEGDI8hpcZnc+oMTwk1YMMWukxPM6VbOzvSjE8zpVs7O9KMTw=",
          "dtype": "f8"
         }
        },
        {
         "hovertemplate": "%{hovertext}<extra></extra>",
         "hovertext": [
          "<b>AlphaGo Zero (2017)</b><br>Series: US Grid<br>Cooling: Dry Cooler with Adiabatic Assist (Air-Cooled Chiller)<br>Training Compute: 3.41e+23 FLOP<br>US Grid: 2.91e-18 kg CO2",
          "<b>AlphaGo Zero (2017)</b><br>Series: US Grid<br>Cooling: Airside Economizer & Adiabatic Cooling (Air-Cooled Chiller)<br>Training Compute: 3.41e+23 FLOP<br>US Grid: 2.83e-18 kg CO2",
          "<b>AlphaGo Zero (2017)</b><br>Series: US Grid<br>Cooling: Airside Economizer & Adiabatic Cooling (Water-Cooled Chiller)<br>Training Compute: 3.41e+23 FLOP<br>US Grid: 2.77e-18 kg CO2",
          "<b>AlphaGo Zero (2017)</b><br>Series: US Grid<br>Cooling: Waterside Economizer & Adiabatic Cooling (Water-Cooled Chiller)<br>Training Compute: 3.41e+23 FLOP<br>US Grid: 2.71e-18 kg CO2",
          "<b>AlphaGo Zero (2017)</b><br>Series: US Grid<br>Cooling: IT Liquid Cooling: Waterside Economizer (Water-Cooled Chiller)<br>Training Compute: 3.41e+23 FLOP<br>US Grid: 2.74e-18 kg CO2",
          "<b>AlphaGo Zero (2017)</b><br>Series: US Grid<br>Cooling: IT Liquid Cooling: Dry Cooler & Adiabitic Assist (Air-Cooled Chiller)<br>Training Compute: 3.41e+23 FLOP<br>US Grid: 2.65e-18 kg CO2",
          "<b>AlphaGo Zero (2017)</b><br>Series: US Grid<br>Cooling: IT Liquid Cooling: Dry Cooler (Air-Cooled Chiller)<br>Training Compute: 3.41e+23 FLOP<br>US Grid: 2.65e-18 kg CO2"
         ],
         "legendgroup": "model_AlphaGo Zero (2017)",
         "marker": {
          "color": "hsl(163.63636363636363,70%,50%)",
          "line": {
           "color": "white",
           "width": 0.5
          },
          "size": 8,
          "symbol": [
           "circle",
           "x",
           "square",
           "diamond",
           "cross",
           "triangle-up",
           "star"
          ]
         },
         "mode": "markers",
         "name": "AlphaGo Zero (2017)",
         "showlegend": true,
         "type": "scatter",
         "x": {
          "bdata": "YyQeaWkN0kRjJB5paQ3SRGMkHmlpDdJEYyQeaWkN0kRjJB5paQ3SRGMkHmlpDdJEYyQeaWkN0kQ=",
          "dtype": "f8"
         },
         "y": {
          "bdata": "Ox/yQ8/NSjwKjiuVrh9KPEQWeN3Dkkk8yhE7Kj71SDyPvYBAdVBJPE7ztEeScEg8TvO0R5JwSDw=",
          "dtype": "f8"
         }
        },
        {
         "hovertemplate": "%{hovertext}<extra></extra>",
         "hovertext": [
          "<b>GPT-3 175B (davinci) (2020)</b><br>Series: US Grid<br>Cooling: Dry Cooler with Adiabatic Assist (Air-Cooled Chiller)<br>Training Compute: 3.14e+23 FLOP<br>US Grid: 2.06e-18 kg CO2",
          "<b>GPT-3 175B (davinci) (2020)</b><br>Series: US Grid<br>Cooling: Airside Economizer & Adiabatic Cooling (Air-Cooled Chiller)<br>Training Compute: 3.14e+23 FLOP<br>US Grid: 2.00e-18 kg CO2",
          "<b>GPT-3 175B (davinci) (2020)</b><br>Series: US Grid<br>Cooling: Airside Economizer & Adiabatic Cooling (Water-Cooled Chiller)<br>Training Compute: 3.14e+23 FLOP<br>US Grid: 1.96e-18 kg CO2",
          "<b>GPT-3 175B (davinci) (2020)</b><br>Series: US Grid<br>Cooling: Waterside Economizer & Adiabatic Cooling (Water-Cooled Chiller)<br>Training Compute: 3.14e+23 FLOP<br>US Grid: 1.91e-18 kg CO2",
          "<b>GPT-3 175B (davinci) (2020)</b><br>Series: US Grid<br>Cooling: IT Liquid Cooling: Waterside Economizer (Water-Cooled Chiller)<br>Training Compute: 3.14e+23 FLOP<br>US Grid: 1.94e-18 kg CO2",
          "<b>GPT-3 175B (davinci) (2020)</b><br>Series: US Grid<br>Cooling: IT Liquid Cooling: Dry Cooler & Adiabitic Assist (Air-Cooled Chiller)<br>Training Compute: 3.14e+23 FLOP<br>US Grid: 1.87e-18 kg CO2",
          "<b>GPT-3 175B (davinci) (2020)</b><br>Series: US Grid<br>Cooling: IT Liquid Cooling: Dry Cooler (Air-Cooled Chiller)<br>Training Compute: 3.14e+23 FLOP<br>US Grid: 1.87e-18 kg CO2"
         ],
         "legendgroup": "model_GPT-3 175B (davinci) (2020)",
         "marker": {
          "color": "hsl(196.36363636363637,70%,50%)",
          "line": {
           "color": "white",
           "width": 0.5
          },
          "size": 8,
          "symbol": [
           "circle",
           "x",
           "square",
           "diamond",
           "cross",
           "triangle-up",
           "star"
          ]
         },
         "mode": "markers",
         "name": "GPT-3 175B (davinci) (2020)",
         "showlegend": true,
         "type": "scatter",
         "x": {
          "bdata": "xCzJV36f0ETELMlXfp/QRMQsyVd+n9BExCzJV36f0ETELMlXfp/QRMQsyVd+n9BExCzJV36f0EQ=",
          "dtype": "f8"
         },
         "y": {
          "bdata": "ZWCjJFv3Qjxr7UITJXxCPMXgR+xuGEI89SAa0PioQTw8BxfWg+lBPFV0a0QYS0E8VXRrRBhLQTw=",
          "dtype": "f8"
         }
        },
        {
         "hovertemplate": "%{hovertext}<extra></extra>",
         "hovertext": [
          "<b>OpenAI Five (2019)</b><br>Series: US Grid<br>Cooling: Dry Cooler with Adiabatic Assist (Air-Cooled Chiller)<br>Training Compute: 6.70e+22 FLOP<br>US Grid: 2.06e-18 kg CO2",
          "<b>OpenAI Five (2019)</b><br>Series: US Grid<br>Cooling: Airside Economizer & Adiabatic Cooling (Air-Cooled Chiller)<br>Training Compute: 6.70e+22 FLOP<br>US Grid: 2.01e-18 kg CO2",
          "<b>OpenAI Five (2019)</b><br>Series: US Grid<br>Cooling: Airside Economizer & Adiabatic Cooling (Water-Cooled Chiller)<br>Training Compute: 6.70e+22 FLOP<br>US Grid: 1.97e-18 kg CO2",
          "<b>OpenAI Five (2019)</b><br>Series: US Grid<br>Cooling: Waterside Economizer & Adiabatic Cooling (Water-Cooled Chiller)<br>Training Compute: 6.70e+22 FLOP<br>US Grid: 1.92e-18 kg CO2",
          "<b>OpenAI Five (2019)</b><br>Series: US Grid<br>Cooling: IT Liquid Cooling: Waterside Economizer (Water-Cooled Chiller)<br>Training Compute: 6.70e+22 FLOP<br>US Grid: 1.95e-18 kg CO2",
          "<b>OpenAI Five (2019)</b><br>Series: US Grid<br>Cooling: IT Liquid Cooling: Dry Cooler & Adiabitic Assist (Air-Cooled Chiller)<br>Training Compute: 6.70e+22 FLOP<br>US Grid: 1.88e-18 kg CO2",
          "<b>OpenAI Five (2019)</b><br>Series: US Grid<br>Cooling: IT Liquid Cooling: Dry Cooler (Air-Cooled Chiller)<br>Training Compute: 6.70e+22 FLOP<br>US Grid: 1.88e-18 kg CO2"
         ],
         "legendgroup": "model_OpenAI Five (2019)",
         "marker": {
          "color": "hsl(229.0909090909091,70%,50%)",
          "line": {
           "color": "white",
           "width": 0.5
          },
          "size": 8,
          "symbol": [
           "circle",
           "x",
           "square",
           "diamond",
           "cross",
           "triangle-up",
           "star"
          ]
         },
         "mode": "markers",
         "name": "OpenAI Five (2019)",
         "showlegend": true,
         "type": "scatter",
         "x": {
          "bdata": "iJL1kCdgrESIkvWQJ2CsRIiS9ZAnYKxEiJL1kCdgrESIkvWQJ2CsRIiS9ZAnYKxEiJL1kCdgrEQ=",
          "dtype": "f8"
         },
         "y": {
          "bdata": "i4XjaMMJQzyVnADDFY5CPDfYItb+KUI8joHCjBy6QTydmtQ25vpBPIoAyOTgW0E8igDI5OBbQTw=",
          "dtype": "f8"
         }
        },
        {
         "hovertemplate": "%{hovertext}<extra></extra>",
         "hovertext": [
          "<b>ResNeXt-101 32x48d (2018)</b><br>Series: US Grid<br>Cooling: Dry Cooler with Adiabatic Assist (Air-Cooled Chiller)<br>Training Compute: 8.74e+21 FLOP<br>US Grid: 2.31e-18 kg CO2",
          "<b>ResNeXt-101 32x48d (2018)</b><br>Series: US Grid<br>Cooling: Airside Economizer & Adiabatic Cooling (Air-Cooled Chiller)<br>Training Compute: 8.74e+21 FLOP<br>US Grid: 2.25e-18 kg CO2",
          "<b>ResNeXt-101 32x48d (2018)</b><br>Series: US Grid<br>Cooling: Airside Economizer & Adiabatic Cooling (Water-Cooled Chiller)<br>Training Compute: 8.74e+21 FLOP<br>US Grid: 2.20e-18 kg CO2",
          "<b>ResNeXt-101 32x48d (2018)</b><br>Series: US Grid<br>Cooling: Waterside Economizer & Adiabatic Cooling (Water-Cooled Chiller)<br>Training Compute: 8.74e+21 FLOP<br>US Grid: 2.15e-18 kg CO2",
          "<b>ResNeXt-101 32x48d (2018)</b><br>Series: US Grid<br>Cooling: IT Liquid Cooling: Waterside Economizer (Water-Cooled Chiller)<br>Training Compute: 8.74e+21 FLOP<br>US Grid: 2.18e-18 kg CO2",
          "<b>ResNeXt-101 32x48d (2018)</b><br>Series: US Grid<br>Cooling: IT Liquid Cooling: Dry Cooler & Adiabitic Assist (Air-Cooled Chiller)<br>Training Compute: 8.74e+21 FLOP<br>US Grid: 2.11e-18 kg CO2",
          "<b>ResNeXt-101 32x48d (2018)</b><br>Series: US Grid<br>Cooling: IT Liquid Cooling: Dry Cooler (Air-Cooled Chiller)<br>Training Compute: 8.74e+21 FLOP<br>US Grid: 2.11e-18 kg CO2"
         ],
         "legendgroup": "model_ResNeXt-101 32x48d (2018)",
         "marker": {
          "color": "hsl(261.8181818181818,70%,50%)",
          "line": {
           "color": "white",
           "width": 0.5
          },
          "size": 8,
          "symbol": [
           "circle",
           "x",
           "square",
           "diamond",
           "cross",
           "triangle-up",
           "star"
          ]
         },
         "mode": "markers",
         "name": "ResNeXt-101 32x48d (2018)",
         "showlegend": true,
         "type": "scatter",
         "x": {
          "bdata": "DhRZ7CqgfUQOFFnsKqB9RA4UWewqoH1EDhRZ7CqgfUQOFFnsKqB9RA4UWewqoH1EDhRZ7CqgfUQ=",
          "dtype": "f8"
         },
         "y": {
          "bdata": "92u7ZtNORTzrm5b4ZsREPPI7JjdhVEQ876NbHyjXQzz4mQQsqx9EPObA9GGwbUM85sD0YbBtQzw=",
          "dtype": "f8"
         }
        },
        {
         "hovertemplate": "%{hovertext}<extra></extra>",
         "hovertext": [
          "<b>GNMT (2016)</b><br>Series: US Grid<br>Cooling: Dry Cooler with Adiabatic Assist (Air-Cooled Chiller)<br>Training Compute: 6.62e+21 FLOP<br>US Grid: 1.10e-17 kg CO2",
          "<b>GNMT (2016)</b><br>Series: US Grid<br>Cooling: Airside Economizer & Adiabatic Cooling (Air-Cooled Chiller)<br>Training Compute: 6.62e+21 FLOP<br>US Grid: 1.08e-17 kg CO2",
          "<b>GNMT (2016)</b><br>Series: US Grid<br>Cooling: Airside Economizer & Adiabatic Cooling (Water-Cooled Chiller)<br>Training Compute: 6.62e+21 FLOP<br>US Grid: 1.05e-17 kg CO2",
          "<b>GNMT (2016)</b><br>Series: US Grid<br>Cooling: Waterside Economizer & Adiabatic Cooling (Water-Cooled Chiller)<br>Training Compute: 6.62e+21 FLOP<br>US Grid: 1.03e-17 kg CO2",
          "<b>GNMT (2016)</b><br>Series: US Grid<br>Cooling: IT Liquid Cooling: Waterside Economizer (Water-Cooled Chiller)<br>Training Compute: 6.62e+21 FLOP<br>US Grid: 1.04e-17 kg CO2",
          "<b>GNMT (2016)</b><br>Series: US Grid<br>Cooling: IT Liquid Cooling: Dry Cooler & Adiabitic Assist (Air-Cooled Chiller)<br>Training Compute: 6.62e+21 FLOP<br>US Grid: 1.01e-17 kg CO2",
          "<b>GNMT (2016)</b><br>Series: US Grid<br>Cooling: IT Liquid Cooling: Dry Cooler (Air-Cooled Chiller)<br>Training Compute: 6.62e+21 FLOP<br>US Grid: 1.01e-17 kg CO2"
         ],
         "legendgroup": "model_GNMT (2016)",
         "marker": {
          "color": "hsl(294.54545454545456,70%,50%)",
          "line": {
           "color": "white",
           "width": 0.5
          },
          "size": 8,
          "symbol": [
           "circle",
           "x",
           "square",
           "diamond",
           "cross",
           "triangle-up",
           "star"
          ]
         },
         "mode": "markers",
         "name": "GNMT (2016)",
         "showlegend": true,
         "type": "scatter",
         "x": {
          "bdata": "mc3bSO9tdkSZzdtI7212RJnN20jvbXZEmc3bSO9tdkSZzdtI7212RJnN20jvbXZEmc3bSO9tdkQ=",
          "dtype": "f8"
         },
         "y": {
          "bdata": "et6C6f1xaTwKBhbGsMxoPCHCH6XqRmg89jPuAmGxZzy+cvN0+AdoPFcoNbhuM2c8Vyg1uG4zZzw=",
          "dtype": "f8"
         }
        },
        {
         "hovertemplate": "%{hovertext}<extra></extra>",
         "hovertext": [
          "<b>AlphaGo Fan (2015)</b><br>Series: US Grid<br>Cooling: Dry Cooler with Adiabatic Assist (Air-Cooled Chiller)<br>Training Compute: 3.80e+20 FLOP<br>US Grid: 1.38e-17 kg CO2",
          "<b>AlphaGo Fan (2015)</b><br>Series: US Grid<br>Cooling: Airside Economizer & Adiabatic Cooling (Air-Cooled Chiller)<br>Training Compute: 3.80e+20 FLOP<br>US Grid: 1.34e-17 kg CO2",
          "<b>AlphaGo Fan (2015)</b><br>Series: US Grid<br>Cooling: Airside Economizer & Adiabatic Cooling (Water-Cooled Chiller)<br>Training Compute: 3.80e+20 FLOP<br>US Grid: 1.31e-17 kg CO2",
          "<b>AlphaGo Fan (2015)</b><br>Series: US Grid<br>Cooling: Waterside Economizer & Adiabatic Cooling (Water-Cooled Chiller)<br>Training Compute: 3.80e+20 FLOP<br>US Grid: 1.28e-17 kg CO2",
          "<b>AlphaGo Fan (2015)</b><br>Series: US Grid<br>Cooling: IT Liquid Cooling: Waterside Economizer (Water-Cooled Chiller)<br>Training Compute: 3.80e+20 FLOP<br>US Grid: 1.30e-17 kg CO2",
          "<b>AlphaGo Fan (2015)</b><br>Series: US Grid<br>Cooling: IT Liquid Cooling: Dry Cooler & Adiabitic Assist (Air-Cooled Chiller)<br>Training Compute: 3.80e+20 FLOP<br>US Grid: 1.26e-17 kg CO2",
          "<b>AlphaGo Fan (2015)</b><br>Series: US Grid<br>Cooling: IT Liquid Cooling: Dry Cooler (Air-Cooled Chiller)<br>Training Compute: 3.80e+20 FLOP<br>US Grid: 1.26e-17 kg CO2"
         ],
         "legendgroup": "model_AlphaGo Fan (2015)",
         "marker": {
          "color": "hsl(327.27272727272725,70%,50%)",
          "line": {
           "color": "white",
           "width": 0.5
          },
          "size": 8,
          "symbol": [
           "circle",
           "x",
           "square",
           "diamond",
           "cross",
           "triangle-up",
           "star"
          ]
         },
         "mode": "markers",
         "name": "AlphaGo Fan (2015)",
         "showlegend": true,
         "type": "scatter",
         "x": {
          "bdata": "cHisMo+ZNERweKwyj5k0RHB4rDKPmTREcHisMo+ZNERweKwyj5k0RHB4rDKPmTREcHisMo+ZNEQ=",
          "dtype": "f8"
         },
         "y": {
          "bdata": "19TTWLXHbzy7S3v6QPluPOQANvgsUm487Rbnx2iXbTxCw5UCjwNuPDN8Y3sb+mw8M3xjexv6bDw=",
          "dtype": "f8"
         }
        },
        {
         "hovertemplate": "%{hovertext}<extra></extra>",
         "hovertext": [
          "<b>Grok-3 (2025)</b><br>Series: Hydropower<br>Cooling: Dry Cooler with Adiabatic Assist (Air-Cooled Chiller)<br>Training Compute: 4.64e+26 FLOP<br>Hydropower: 8.36e-20 kg CO2",
          "<b>Grok-3 (2025)</b><br>Series: Hydropower<br>Cooling: Airside Economizer & Adiabatic Cooling (Air-Cooled Chiller)<br>Training Compute: 4.64e+26 FLOP<br>Hydropower: 8.15e-20 kg CO2",
          "<b>Grok-3 (2025)</b><br>Series: Hydropower<br>Cooling: Airside Economizer & Adiabatic Cooling (Water-Cooled Chiller)<br>Training Compute: 4.64e+26 FLOP<br>Hydropower: 7.97e-20 kg CO2",
          "<b>Grok-3 (2025)</b><br>Series: Hydropower<br>Cooling: Waterside Economizer & Adiabatic Cooling (Water-Cooled Chiller)<br>Training Compute: 4.64e+26 FLOP<br>Hydropower: 7.78e-20 kg CO2",
          "<b>Grok-3 (2025)</b><br>Series: Hydropower<br>Cooling: IT Liquid Cooling: Waterside Economizer (Water-Cooled Chiller)<br>Training Compute: 4.64e+26 FLOP<br>Hydropower: 7.89e-20 kg CO2",
          "<b>Grok-3 (2025)</b><br>Series: Hydropower<br>Cooling: IT Liquid Cooling: Dry Cooler & Adiabitic Assist (Air-Cooled Chiller)<br>Training Compute: 4.64e+26 FLOP<br>Hydropower: 7.62e-20 kg CO2",
          "<b>Grok-3 (2025)</b><br>Series: Hydropower<br>Cooling: IT Liquid Cooling: Dry Cooler (Air-Cooled Chiller)<br>Training Compute: 4.64e+26 FLOP<br>Hydropower: 7.62e-20 kg CO2"
         ],
         "legendgroup": "model_Grok-3 (2025)",
         "marker": {
          "color": "hsl(0.0,70%,50%)",
          "line": {
           "color": "white",
           "width": 0.5
          },
          "size": 8,
          "symbol": [
           "circle",
           "x",
           "square",
           "diamond",
           "cross",
           "triangle-up",
           "star"
          ]
         },
         "mode": "markers",
         "name": "Grok-3 (2025) - Hydropower",
         "showlegend": false,
         "type": "scatter",
         "x": {
          "bdata": "6zZtJv38d0XrNm0m/fx3Res2bSb9/HdF6zZtJv38d0XrNm0m/fx3Res2bSb9/HdF6zZtJv38d0U=",
          "dtype": "f8"
         },
         "y": {
          "bdata": "VXYf4iKr+DvbA1KU4Qr4O0SK0OUwifc7OhSp5zf49juSTHmiKkz3O9I+WuMdfvY70j5a4x1+9js=",
          "dtype": "f8"
         }
        },
        {
         "hovertemplate": "%{hovertext}<extra></extra>",
         "hovertext": [
          "<b>Gemini 1.0 Ultra (2023)</b><br>Series: Hydropower<br>Cooling: Dry Cooler with Adiabatic Assist (Air-Cooled Chiller)<br>Training Compute: 5.00e+25 FLOP<br>Hydropower: 2.62e-20 kg CO2",
          "<b>Gemini 1.0 Ultra (2023)</b><br>Series: Hydropower<br>Cooling: Airside Economizer & Adiabatic Cooling (Air-Cooled Chiller)<br>Training Compute: 5.00e+25 FLOP<br>Hydropower: 2.55e-20 kg CO2",
          "<b>Gemini 1.0 Ultra (2023)</b><br>Series: Hydropower<br>Cooling: Airside Economizer & Adiabatic Cooling (Water-Cooled Chiller)<br>Training Compute: 5.00e+25 FLOP<br>Hydropower: 2.50e-20 kg CO2",
          "<b>Gemini 1.0 Ultra (2023)</b><br>Series: Hydropower<br>Cooling: Waterside Economizer & Adiabatic Cooling (Water-Cooled Chiller)<br>Training Compute: 5.00e+25 FLOP<br>Hydropower: 2.44e-20 kg CO2",
          "<b>Gemini 1.0 Ultra (2023)</b><br>Series: Hydropower<br>Cooling: IT Liquid Cooling: Waterside Economizer (Water-Cooled Chiller)<br>Training Compute: 5.00e+25 FLOP<br>Hydropower: 2.47e-20 kg CO2",
          "<b>Gemini 1.0 Ultra (2023)</b><br>Series: Hydropower<br>Cooling: IT Liquid Cooling: Dry Cooler & Adiabitic Assist (Air-Cooled Chiller)<br>Training Compute: 5.00e+25 FLOP<br>Hydropower: 2.39e-20 kg CO2",
          "<b>Gemini 1.0 Ultra (2023)</b><br>Series: Hydropower<br>Cooling: IT Liquid Cooling: Dry Cooler (Air-Cooled Chiller)<br>Training Compute: 5.00e+25 FLOP<br>Hydropower: 2.39e-20 kg CO2"
         ],
         "legendgroup": "model_Gemini 1.0 Ultra (2023)",
         "marker": {
          "color": "hsl(32.72727272727273,70%,50%)",
          "line": {
           "color": "white",
           "width": 0.5
          },
          "size": 8,
          "symbol": [
           "circle",
           "x",
           "square",
           "diamond",
           "cross",
           "triangle-up",
           "star"
          ]
         },
         "mode": "markers",
         "name": "Gemini 1.0 Ultra (2023) - Hydropower",
         "showlegend": false,
         "type": "scatter",
         "x": {
          "bdata": "9Mkzt/StREX0yTO39K1ERfTJM7f0rURF9Mkzt/StREX0yTO39K1ERfTJM7f0rURF9Mkzt/StREU=",
          "dtype": "f8"
         },
         "y": {
          "bdata": "KVzX5wrj3jv/DmgHZBreO29ZWzACeN07EVid1H3C3DuZUQHmmSvdO7a0s1ucKdw7trSzW5wp3Ds=",
          "dtype": "f8"
         }
        },
        {
         "hovertemplate": "%{hovertext}<extra></extra>",
         "hovertext": [
          "<b>GPT-4o (2024)</b><br>Series: Hydropower<br>Cooling: Dry Cooler with Adiabatic Assist (Air-Cooled Chiller)<br>Training Compute: 3.81e+25 FLOP<br>Hydropower: 7.33e-20 kg CO2",
          "<b>GPT-4o (2024)</b><br>Series: Hydropower<br>Cooling: Airside Economizer & Adiabatic Cooling (Air-Cooled Chiller)<br>Training Compute: 3.81e+25 FLOP<br>Hydropower: 7.15e-20 kg CO2",
          "<b>GPT-4o (2024)</b><br>Series: Hydropower<br>Cooling: Airside Economizer & Adiabatic Cooling (Water-Cooled Chiller)<br>Training Compute: 3.81e+25 FLOP<br>Hydropower: 7.00e-20 kg CO2",
          "<b>GPT-4o (2024)</b><br>Series: Hydropower<br>Cooling: Waterside Economizer & Adiabatic Cooling (Water-Cooled Chiller)<br>Training Compute: 3.81e+25 FLOP<br>Hydropower: 6.83e-20 kg CO2",
          "<b>GPT-4o (2024)</b><br>Series: Hydropower<br>Cooling: IT Liquid Cooling: Waterside Economizer (Water-Cooled Chiller)<br>Training Compute: 3.81e+25 FLOP<br>Hydropower: 6.92e-20 kg CO2",
          "<b>GPT-4o (2024)</b><br>Series: Hydropower<br>Cooling: IT Liquid Cooling: Dry Cooler & Adiabitic Assist (Air-Cooled Chiller)<br>Training Compute: 3.81e+25 FLOP<br>Hydropower: 6.69e-20 kg CO2",
          "<b>GPT-4o (2024)</b><br>Series: Hydropower<br>Cooling: IT Liquid Cooling: Dry Cooler (Air-Cooled Chiller)<br>Training Compute: 3.81e+25 FLOP<br>Hydropower: 6.69e-20 kg CO2"
         ],
         "legendgroup": "model_GPT-4o (2024)",
         "marker": {
          "color": "hsl(65.45454545454545,70%,50%)",
          "line": {
           "color": "white",
           "width": 0.5
          },
          "size": 8,
          "symbol": [
           "circle",
           "x",
           "square",
           "diamond",
           "cross",
           "triangle-up",
           "star"
          ]
         },
         "mode": "markers",
         "name": "GPT-4o (2024) - Hydropower",
         "showlegend": false,
         "type": "scatter",
         "x": {
          "bdata": "lW9Brv2DP0WVb0Gu/YM/RZVvQa79gz9FlW9Brv2DP0WVb0Gu/YM/RZVvQa79gz9FlW9Brv2DP0U=",
          "dtype": "f8"
         },
         "y": {
          "bdata": "vdr2Q/yj9Ttpo+KbZhf1O+ICXSShpfQ79BaQlHMm9Dt4BaxuGHD0OwcEeFNWu/M7BwR4U1a78zs=",
          "dtype": "f8"
         }
        },
        {
         "hovertemplate": "%{hovertext}<extra></extra>",
         "hovertext": [
          "<b>Minerva (540B) (2022)</b><br>Series: Hydropower<br>Cooling: Dry Cooler with Adiabatic Assist (Air-Cooled Chiller)<br>Training Compute: 2.74e+24 FLOP<br>Hydropower: 8.34e-20 kg CO2",
          "<b>Minerva (540B) (2022)</b><br>Series: Hydropower<br>Cooling: Airside Economizer & Adiabatic Cooling (Air-Cooled Chiller)<br>Training Compute: 2.74e+24 FLOP<br>Hydropower: 8.13e-20 kg CO2",
          "<b>Minerva (540B) (2022)</b><br>Series: Hydropower<br>Cooling: Airside Economizer & Adiabatic Cooling (Water-Cooled Chiller)<br>Training Compute: 2.74e+24 FLOP<br>Hydropower: 7.96e-20 kg CO2",
          "<b>Minerva (540B) (2022)</b><br>Series: Hydropower<br>Cooling: Waterside Economizer & Adiabatic Cooling (Water-Cooled Chiller)<br>Training Compute: 2.74e+24 FLOP<br>Hydropower: 7.77e-20 kg CO2",
          "<b>Minerva (540B) (2022)</b><br>Series: Hydropower<br>Cooling: IT Liquid Cooling: Waterside Economizer (Water-Cooled Chiller)<br>Training Compute: 2.74e+24 FLOP<br>Hydropower: 7.88e-20 kg CO2",
          "<b>Minerva (540B) (2022)</b><br>Series: Hydropower<br>Cooling: IT Liquid Cooling: Dry Cooler & Adiabitic Assist (Air-Cooled Chiller)<br>Training Compute: 2.74e+24 FLOP<br>Hydropower: 7.61e-20 kg CO2",
          "<b>Minerva (540B) (2022)</b><br>Series: Hydropower<br>Cooling: IT Liquid Cooling: Dry Cooler (Air-Cooled Chiller)<br>Training Compute: 2.74e+24 FLOP<br>Hydropower: 7.61e-20 kg CO2"
         ],
         "legendgroup": "model_Minerva (540B) (2022)",
         "marker": {
          "color": "hsl(98.18181818181819,70%,50%)",
          "line": {
           "color": "white",
           "width": 0.5
          },
          "size": 8,
          "symbol": [
           "circle",
           "x",
           "square",
           "diamond",
           "cross",
           "triangle-up",
           "star"
          ]
         },
         "mode": "markers",
         "name": "Minerva (540B) (2022) - Hydropower",
         "showlegend": false,
         "type": "scatter",
         "x": {
          "bdata": "3XMzGkgkAkXdczMaSCQCRd1zMxpIJAJF3XMzGkgkAkXdczMaSCQCRd1zMxpIJAJF3XMzGkgkAkU=",
          "dtype": "f8"
         },
         "y": {
          "bdata": "MiqOmfWg+DvOspJo9gD4O4Av3zp7f/c7KbKHC77u9jtdbG4kjkL3O1yZlmbWdPY7XJmWZtZ09js=",
          "dtype": "f8"
         }
        },
        {
         "hovertemplate": "%{hovertext}<extra></extra>",
         "hovertext": [
          "<b>FLAN 137B (2021)</b><br>Series: Hydropower<br>Cooling: Dry Cooler with Adiabatic Assist (Air-Cooled Chiller)<br>Training Compute: 2.05e+24 FLOP<br>Hydropower: 6.19e-20 kg CO2",
          "<b>FLAN 137B (2021)</b><br>Series: Hydropower<br>Cooling: Airside Economizer & Adiabatic Cooling (Air-Cooled Chiller)<br>Training Compute: 2.05e+24 FLOP<br>Hydropower: 6.03e-20 kg CO2",
          "<b>FLAN 137B (2021)</b><br>Series: Hydropower<br>Cooling: Airside Economizer & Adiabatic Cooling (Water-Cooled Chiller)<br>Training Compute: 2.05e+24 FLOP<br>Hydropower: 5.91e-20 kg CO2",
          "<b>FLAN 137B (2021)</b><br>Series: Hydropower<br>Cooling: Waterside Economizer & Adiabatic Cooling (Water-Cooled Chiller)<br>Training Compute: 2.05e+24 FLOP<br>Hydropower: 5.77e-20 kg CO2",
          "<b>FLAN 137B (2021)</b><br>Series: Hydropower<br>Cooling: IT Liquid Cooling: Waterside Economizer (Water-Cooled Chiller)<br>Training Compute: 2.05e+24 FLOP<br>Hydropower: 5.85e-20 kg CO2",
          "<b>FLAN 137B (2021)</b><br>Series: Hydropower<br>Cooling: IT Liquid Cooling: Dry Cooler & Adiabitic Assist (Air-Cooled Chiller)<br>Training Compute: 2.05e+24 FLOP<br>Hydropower: 5.65e-20 kg CO2",
          "<b>FLAN 137B (2021)</b><br>Series: Hydropower<br>Cooling: IT Liquid Cooling: Dry Cooler (Air-Cooled Chiller)<br>Training Compute: 2.05e+24 FLOP<br>Hydropower: 5.65e-20 kg CO2"
         ],
         "legendgroup": "model_FLAN 137B (2021)",
         "marker": {
          "color": "hsl(130.9090909090909,70%,50%)",
          "line": {
           "color": "white",
           "width": 0.5
          },
          "size": 8,
          "symbol": [
           "circle",
           "x",
           "square",
           "diamond",
           "cross",
           "triangle-up",
           "star"
          ]
         },
         "mode": "markers",
         "name": "FLAN 137B (2021) - Hydropower",
         "showlegend": false,
         "type": "scatter",
         "x": {
          "bdata": "8hJIeoEX+0TyEkh6gRf7RPISSHqBF/tE8hJIeoEX+0TyEkh6gRf7RPISSHqBF/tE8hJIeoEX+0Q=",
          "dtype": "f8"
         },
         "y": {
          "bdata": "jAi1cyVG8jsa7IKZbs/xO8cZaRhcb/E7ZSLDavcD8TvhOf9iJ0LxO24IjAGEqfA7bgiMAYSp8Ds=",
          "dtype": "f8"
         }
        },
        {
         "hovertemplate": "%{hovertext}<extra></extra>",
         "hovertext": [
          "<b>AlphaGo Zero (2017)</b><br>Series: Hydropower<br>Cooling: Dry Cooler with Adiabatic Assist (Air-Cooled Chiller)<br>Training Compute: 3.41e+23 FLOP<br>Hydropower: 1.58e-19 kg CO2",
          "<b>AlphaGo Zero (2017)</b><br>Series: Hydropower<br>Cooling: Airside Economizer & Adiabatic Cooling (Air-Cooled Chiller)<br>Training Compute: 3.41e+23 FLOP<br>Hydropower: 1.54e-19 kg CO2",
          "<b>AlphaGo Zero (2017)</b><br>Series: Hydropower<br>Cooling: Airside Economizer & Adiabatic Cooling (Water-Cooled Chiller)<br>Training Compute: 3.41e+23 FLOP<br>Hydropower: 1.51e-19 kg CO2",
          "<b>AlphaGo Zero (2017)</b><br>Series: Hydropower<br>Cooling: Waterside Economizer & Adiabatic Cooling (Water-Cooled Chiller)<br>Training Compute: 3.41e+23 FLOP<br>Hydropower: 1.47e-19 kg CO2",
          "<b>AlphaGo Zero (2017)</b><br>Series: Hydropower<br>Cooling: IT Liquid Cooling: Waterside Economizer (Water-Cooled Chiller)<br>Training Compute: 3.41e+23 FLOP<br>Hydropower: 1.49e-19 kg CO2",
          "<b>AlphaGo Zero (2017)</b><br>Series: Hydropower<br>Cooling: IT Liquid Cooling: Dry Cooler & Adiabitic Assist (Air-Cooled Chiller)<br>Training Compute: 3.41e+23 FLOP<br>Hydropower: 1.44e-19 kg CO2",
          "<b>AlphaGo Zero (2017)</b><br>Series: Hydropower<br>Cooling: IT Liquid Cooling: Dry Cooler (Air-Cooled Chiller)<br>Training Compute: 3.41e+23 FLOP<br>Hydropower: 1.44e-19 kg CO2"
         ],
         "legendgroup": "model_AlphaGo Zero (2017)",
         "marker": {
          "color": "hsl(163.63636363636363,70%,50%)",
          "line": {
           "color": "white",
           "width": 0.5
          },
          "size": 8,
          "symbol": [
           "circle",
           "x",
           "square",
           "diamond",
           "cross",
           "triangle-up",
           "star"
          ]
         },
         "mode": "markers",
         "name": "AlphaGo Zero (2017) - Hydropower",
         "showlegend": false,
         "type": "scatter",
         "x": {
          "bdata": "YyQeaWkN0kRjJB5paQ3SRGMkHmlpDdJEYyQeaWkN0kRjJB5paQ3SRGMkHmlpDdJEYyQeaWkN0kQ=",
          "dtype": "f8"
         },
         "y": {
          "bdata": "KbXGbTxWBzxAZ/S6ob4GPNVmAkXxQwY8qz+gsMu6BTxQcKVRNgoGPGWAtAZJRwU8ZYC0BklHBTw=",
          "dtype": "f8"
         }
        },
        {
         "hovertemplate": "%{hovertext}<extra></extra>",
         "hovertext": [
          "<b>GPT-3 175B (davinci) (2020)</b><br>Series: Hydropower<br>Cooling: Dry Cooler with Adiabatic Assist (Air-Cooled Chiller)<br>Training Compute: 3.14e+23 FLOP<br>Hydropower: 1.27e-19 kg CO2",
          "<b>GPT-3 175B (davinci) (2020)</b><br>Series: Hydropower<br>Cooling: Airside Economizer & Adiabatic Cooling (Air-Cooled Chiller)<br>Training Compute: 3.14e+23 FLOP<br>Hydropower: 1.24e-19 kg CO2",
          "<b>GPT-3 175B (davinci) (2020)</b><br>Series: Hydropower<br>Cooling: Airside Economizer & Adiabatic Cooling (Water-Cooled Chiller)<br>Training Compute: 3.14e+23 FLOP<br>Hydropower: 1.22e-19 kg CO2",
          "<b>GPT-3 175B (davinci) (2020)</b><br>Series: Hydropower<br>Cooling: Waterside Economizer & Adiabatic Cooling (Water-Cooled Chiller)<br>Training Compute: 3.14e+23 FLOP<br>Hydropower: 1.19e-19 kg CO2",
          "<b>GPT-3 175B (davinci) (2020)</b><br>Series: Hydropower<br>Cooling: IT Liquid Cooling: Waterside Economizer (Water-Cooled Chiller)<br>Training Compute: 3.14e+23 FLOP<br>Hydropower: 1.20e-19 kg CO2",
          "<b>GPT-3 175B (davinci) (2020)</b><br>Series: Hydropower<br>Cooling: IT Liquid Cooling: Dry Cooler & Adiabitic Assist (Air-Cooled Chiller)<br>Training Compute: 3.14e+23 FLOP<br>Hydropower: 1.16e-19 kg CO2",
          "<b>GPT-3 175B (davinci) (2020)</b><br>Series: Hydropower<br>Cooling: IT Liquid Cooling: Dry Cooler (Air-Cooled Chiller)<br>Training Compute: 3.14e+23 FLOP<br>Hydropower: 1.16e-19 kg CO2"
         ],
         "legendgroup": "model_GPT-3 175B (davinci) (2020)",
         "marker": {
          "color": "hsl(196.36363636363637,70%,50%)",
          "line": {
           "color": "white",
           "width": 0.5
          },
          "size": 8,
          "symbol": [
           "circle",
           "x",
           "square",
           "diamond",
           "cross",
           "triangle-up",
           "star"
          ]
         },
         "mode": "markers",
         "name": "GPT-3 175B (davinci) (2020) - Hydropower",
         "showlegend": false,
         "type": "scatter",
         "x": {
          "bdata": "xCzJV36f0ETELMlXfp/QRMQsyVd+n9BExCzJV36f0ETELMlXfp/QRMQsyVd+n9BExCzJV36f0EQ=",
          "dtype": "f8"
         },
         "y": {
          "bdata": "S++BBDrPAjxI/eWkCFUCPDJDAncl8gE8Jm1CMJuDATwlbUemncMBPCT0cUWBJgE8JPRxRYEmATw=",
          "dtype": "f8"
         }
        },
        {
         "hovertemplate": "%{hovertext}<extra></extra>",
         "hovertext": [
          "<b>OpenAI Five (2019)</b><br>Series: Hydropower<br>Cooling: Dry Cooler with Adiabatic Assist (Air-Cooled Chiller)<br>Training Compute: 6.70e+22 FLOP<br>Hydropower: 1.20e-19 kg CO2",
          "<b>OpenAI Five (2019)</b><br>Series: Hydropower<br>Cooling: Airside Economizer & Adiabatic Cooling (Air-Cooled Chiller)<br>Training Compute: 6.70e+22 FLOP<br>Hydropower: 1.17e-19 kg CO2",
          "<b>OpenAI Five (2019)</b><br>Series: Hydropower<br>Cooling: Airside Economizer & Adiabatic Cooling (Water-Cooled Chiller)<br>Training Compute: 6.70e+22 FLOP<br>Hydropower: 1.14e-19 kg CO2",
          "<b>OpenAI Five (2019)</b><br>Series: Hydropower<br>Cooling: Waterside Economizer & Adiabatic Cooling (Water-Cooled Chiller)<br>Training Compute: 6.70e+22 FLOP<br>Hydropower: 1.12e-19 kg CO2",
          "<b>OpenAI Five (2019)</b><br>Series: Hydropower<br>Cooling: IT Liquid Cooling: Waterside Economizer (Water-Cooled Chiller)<br>Training Compute: 6.70e+22 FLOP<br>Hydropower: 1.13e-19 kg CO2",
          "<b>OpenAI Five (2019)</b><br>Series: Hydropower<br>Cooling: IT Liquid Cooling: Dry Cooler & Adiabitic Assist (Air-Cooled Chiller)<br>Training Compute: 6.70e+22 FLOP<br>Hydropower: 1.09e-19 kg CO2",
          "<b>OpenAI Five (2019)</b><br>Series: Hydropower<br>Cooling: IT Liquid Cooling: Dry Cooler (Air-Cooled Chiller)<br>Training Compute: 6.70e+22 FLOP<br>Hydropower: 1.09e-19 kg CO2"
         ],
         "legendgroup": "model_OpenAI Five (2019)",
         "marker": {
          "color": "hsl(229.0909090909091,70%,50%)",
          "line": {
           "color": "white",
           "width": 0.5
          },
          "size": 8,
          "symbol": [
           "circle",
           "x",
           "square",
           "diamond",
           "cross",
           "triangle-up",
           "star"
          ]
         },
         "mode": "markers",
         "name": "OpenAI Five (2019) - Hydropower",
         "showlegend": false,
         "type": "scatter",
         "x": {
          "bdata": "iJL1kCdgrESIkvWQJ2CsRIiS9ZAnYKxEiJL1kCdgrESIkvWQJ2CsRIiS9ZAnYKxEiJL1kCdgrEQ=",
          "dtype": "f8"
         },
         "y": {
          "bdata": "O55pdBaxATzLWzrwJz4BPDV6HxUl4QA8M2h6ZSx5ADyGlbQcYbUAPFCwxceaIQA8ULDFx5ohADw=",
          "dtype": "f8"
         }
        },
        {
         "hovertemplate": "%{hovertext}<extra></extra>",
         "hovertext": [
          "<b>ResNeXt-101 32x48d (2018)</b><br>Series: Hydropower<br>Cooling: Dry Cooler with Adiabatic Assist (Air-Cooled Chiller)<br>Training Compute: 8.74e+21 FLOP<br>Hydropower: 1.27e-19 kg CO2",
          "<b>ResNeXt-101 32x48d (2018)</b><br>Series: Hydropower<br>Cooling: Airside Economizer & Adiabatic Cooling (Air-Cooled Chiller)<br>Training Compute: 8.74e+21 FLOP<br>Hydropower: 1.24e-19 kg CO2",
          "<b>ResNeXt-101 32x48d (2018)</b><br>Series: Hydropower<br>Cooling: Airside Economizer & Adiabatic Cooling (Water-Cooled Chiller)<br>Training Compute: 8.74e+21 FLOP<br>Hydropower: 1.22e-19 kg CO2",
          "<b>ResNeXt-101 32x48d (2018)</b><br>Series: Hydropower<br>Cooling: Waterside Economizer & Adiabatic Cooling (Water-Cooled Chiller)<br>Training Compute: 8.74e+21 FLOP<br>Hydropower: 1.19e-19 kg CO2",
          "<b>ResNeXt-101 32x48d (2018)</b><br>Series: Hydropower<br>Cooling: IT Liquid Cooling: Waterside Economizer (Water-Cooled Chiller)<br>Training Compute: 8.74e+21 FLOP<br>Hydropower: 1.20e-19 kg CO2",
          "<b>ResNeXt-101 32x48d (2018)</b><br>Series: Hydropower<br>Cooling: IT Liquid Cooling: Dry Cooler & Adiabitic Assist (Air-Cooled Chiller)<br>Training Compute: 8.74e+21 FLOP<br>Hydropower: 1.16e-19 kg CO2",
          "<b>ResNeXt-101 32x48d (2018)</b><br>Series: Hydropower<br>Cooling: IT Liquid Cooling: Dry Cooler (Air-Cooled Chiller)<br>Training Compute: 8.74e+21 FLOP<br>Hydropower: 1.16e-19 kg CO2"
         ],
         "legendgroup": "model_ResNeXt-101 32x48d (2018)",
         "marker": {
          "color": "hsl(261.8181818181818,70%,50%)",
          "line": {
           "color": "white",
           "width": 0.5
          },
          "size": 8,
          "symbol": [
           "circle",
           "x",
           "square",
           "diamond",
           "cross",
           "triangle-up",
           "star"
          ]
         },
         "mode": "markers",
         "name": "ResNeXt-101 32x48d (2018) - Hydropower",
         "showlegend": false,
         "type": "scatter",
         "x": {
          "bdata": "DhRZ7CqgfUQOFFnsKqB9RA4UWewqoH1EDhRZ7CqgfUQOFFnsKqB9RA4UWewqoH1EDhRZ7CqgfUQ=",
          "dtype": "f8"
         },
         "y": {
          "bdata": "TO+BBDrPAjxI/eWkCFUCPDJDAncl8gE8JW1CMJuDATwkbUemncMBPCT0cUWBJgE8JPRxRYEmATw=",
          "dtype": "f8"
         }
        },
        {
         "hovertemplate": "%{hovertext}<extra></extra>",
         "hovertext": [
          "<b>GNMT (2016)</b><br>Series: Hydropower<br>Cooling: Dry Cooler with Adiabatic Assist (Air-Cooled Chiller)<br>Training Compute: 6.62e+21 FLOP<br>Hydropower: 5.83e-19 kg CO2",
          "<b>GNMT (2016)</b><br>Series: Hydropower<br>Cooling: Airside Economizer & Adiabatic Cooling (Air-Cooled Chiller)<br>Training Compute: 6.62e+21 FLOP<br>Hydropower: 5.68e-19 kg CO2",
          "<b>GNMT (2016)</b><br>Series: Hydropower<br>Cooling: Airside Economizer & Adiabatic Cooling (Water-Cooled Chiller)<br>Training Compute: 6.62e+21 FLOP<br>Hydropower: 5.56e-19 kg CO2",
          "<b>GNMT (2016)</b><br>Series: Hydropower<br>Cooling: Waterside Economizer & Adiabatic Cooling (Water-Cooled Chiller)<br>Training Compute: 6.62e+21 FLOP<br>Hydropower: 5.43e-19 kg CO2",
          "<b>GNMT (2016)</b><br>Series: Hydropower<br>Cooling: IT Liquid Cooling: Waterside Economizer (Water-Cooled Chiller)<br>Training Compute: 6.62e+21 FLOP<br>Hydropower: 5.50e-19 kg CO2",
          "<b>GNMT (2016)</b><br>Series: Hydropower<br>Cooling: IT Liquid Cooling: Dry Cooler & Adiabitic Assist (Air-Cooled Chiller)<br>Training Compute: 6.62e+21 FLOP<br>Hydropower: 5.31e-19 kg CO2",
          "<b>GNMT (2016)</b><br>Series: Hydropower<br>Cooling: IT Liquid Cooling: Dry Cooler (Air-Cooled Chiller)<br>Training Compute: 6.62e+21 FLOP<br>Hydropower: 5.31e-19 kg CO2"
         ],
         "legendgroup": "model_GNMT (2016)",
         "marker": {
          "color": "hsl(294.54545454545456,70%,50%)",
          "line": {
           "color": "white",
           "width": 0.5
          },
          "size": 8,
          "symbol": [
           "circle",
           "x",
           "square",
           "diamond",
           "cross",
           "triangle-up",
           "star"
          ]
         },
         "mode": "markers",
         "name": "GNMT (2016) - Hydropower",
         "showlegend": false,
         "type": "scatter",
         "x": {
          "bdata": "mc3bSO9tdkSZzdtI7212RJnN20jvbXZEmc3bSO9tdkSZzdtI7212RJnN20jvbXZEmc3bSO9tdkQ=",
          "dtype": "f8"
         },
         "y": {
          "bdata": "f0E7Lp5/JTzkDa3H9PMkPBjpO4LugiQ85Tw8rJYEJDyM+KbDv00kPEPFP20tmiM8Q8U/bS2aIzw=",
          "dtype": "f8"
         }
        },
        {
         "hovertemplate": "%{hovertext}<extra></extra>",
         "hovertext": [
          "<b>AlphaGo Fan (2015)</b><br>Series: Hydropower<br>Cooling: Dry Cooler with Adiabatic Assist (Air-Cooled Chiller)<br>Training Compute: 3.80e+20 FLOP<br>Hydropower: 6.97e-19 kg CO2",
          "<b>AlphaGo Fan (2015)</b><br>Series: Hydropower<br>Cooling: Airside Economizer & Adiabatic Cooling (Air-Cooled Chiller)<br>Training Compute: 3.80e+20 FLOP<br>Hydropower: 6.79e-19 kg CO2",
          "<b>AlphaGo Fan (2015)</b><br>Series: Hydropower<br>Cooling: Airside Economizer & Adiabatic Cooling (Water-Cooled Chiller)<br>Training Compute: 3.80e+20 FLOP<br>Hydropower: 6.65e-19 kg CO2",
          "<b>AlphaGo Fan (2015)</b><br>Series: Hydropower<br>Cooling: Waterside Economizer & Adiabatic Cooling (Water-Cooled Chiller)<br>Training Compute: 3.80e+20 FLOP<br>Hydropower: 6.49e-19 kg CO2",
          "<b>AlphaGo Fan (2015)</b><br>Series: Hydropower<br>Cooling: IT Liquid Cooling: Waterside Economizer (Water-Cooled Chiller)<br>Training Compute: 3.80e+20 FLOP<br>Hydropower: 6.58e-19 kg CO2",
          "<b>AlphaGo Fan (2015)</b><br>Series: Hydropower<br>Cooling: IT Liquid Cooling: Dry Cooler & Adiabitic Assist (Air-Cooled Chiller)<br>Training Compute: 3.80e+20 FLOP<br>Hydropower: 6.35e-19 kg CO2",
          "<b>AlphaGo Fan (2015)</b><br>Series: Hydropower<br>Cooling: IT Liquid Cooling: Dry Cooler (Air-Cooled Chiller)<br>Training Compute: 3.80e+20 FLOP<br>Hydropower: 6.35e-19 kg CO2"
         ],
         "legendgroup": "model_AlphaGo Fan (2015)",
         "marker": {
          "color": "hsl(327.27272727272725,70%,50%)",
          "line": {
           "color": "white",
           "width": 0.5
          },
          "size": 8,
          "symbol": [
           "circle",
           "x",
           "square",
           "diamond",
           "cross",
           "triangle-up",
           "star"
          ]
         },
         "mode": "markers",
         "name": "AlphaGo Fan (2015) - Hydropower",
         "showlegend": false,
         "type": "scatter",
         "x": {
          "bdata": "cHisMo+ZNERweKwyj5k0RHB4rDKPmTREcHisMo+ZNERweKwyj5k0RHB4rDKPmTREcHisMo+ZNEQ=",
          "dtype": "f8"
         },
         "y": {
          "bdata": "Noz3ybm0KTykwsgfuw0pPMCQcSeWhig8CJMuVoTvJzzF6oDh/kYoPGACbrtHcCc8YAJuu0dwJzw=",
          "dtype": "f8"
         }
        },
        {
         "hovertemplate": "%{hovertext}<extra></extra>",
         "hovertext": [
          "<b>Grok-3 (2025)</b><br>Series: Nuclear<br>Cooling: Dry Cooler with Adiabatic Assist (Air-Cooled Chiller)<br>Training Compute: 4.64e+26 FLOP<br>Nuclear: 9.40e-20 kg CO2",
          "<b>Grok-3 (2025)</b><br>Series: Nuclear<br>Cooling: Airside Economizer & Adiabatic Cooling (Air-Cooled Chiller)<br>Training Compute: 4.64e+26 FLOP<br>Nuclear: 9.16e-20 kg CO2",
          "<b>Grok-3 (2025)</b><br>Series: Nuclear<br>Cooling: Airside Economizer & Adiabatic Cooling (Water-Cooled Chiller)<br>Training Compute: 4.64e+26 FLOP<br>Nuclear: 8.97e-20 kg CO2",
          "<b>Grok-3 (2025)</b><br>Series: Nuclear<br>Cooling: Waterside Economizer & Adiabatic Cooling (Water-Cooled Chiller)<br>Training Compute: 4.64e+26 FLOP<br>Nuclear: 8.76e-20 kg CO2",
          "<b>Grok-3 (2025)</b><br>Series: Nuclear<br>Cooling: IT Liquid Cooling: Waterside Economizer (Water-Cooled Chiller)<br>Training Compute: 4.64e+26 FLOP<br>Nuclear: 8.88e-20 kg CO2",
          "<b>Grok-3 (2025)</b><br>Series: Nuclear<br>Cooling: IT Liquid Cooling: Dry Cooler & Adiabitic Assist (Air-Cooled Chiller)<br>Training Compute: 4.64e+26 FLOP<br>Nuclear: 8.57e-20 kg CO2",
          "<b>Grok-3 (2025)</b><br>Series: Nuclear<br>Cooling: IT Liquid Cooling: Dry Cooler (Air-Cooled Chiller)<br>Training Compute: 4.64e+26 FLOP<br>Nuclear: 8.57e-20 kg CO2"
         ],
         "legendgroup": "model_Grok-3 (2025)",
         "marker": {
          "color": "hsl(0.0,70%,50%)",
          "line": {
           "color": "white",
           "width": 0.5
          },
          "size": 8,
          "symbol": [
           "circle",
           "x",
           "square",
           "diamond",
           "cross",
           "triangle-up",
           "star"
          ]
         },
         "mode": "markers",
         "name": "Grok-3 (2025) - Nuclear",
         "showlegend": false,
         "type": "scatter",
         "x": {
          "bdata": "6zZtJv38d0XrNm0m/fx3Res2bSb9/HdF6zZtJv38d0XrNm0m/fx3Res2bSb9/HdF6zZtJv38d0U=",
          "dtype": "f8"
         },
         "y": {
          "bdata": "H2VjPofA+ztXRNzGPQz7O4ubigJXevo7wjae5D7X+Tskdsj2rzX6O6yGxZ/hTfk7rIbFn+FN+Ts=",
          "dtype": "f8"
         }
        },
        {
         "hovertemplate": "%{hovertext}<extra></extra>",
         "hovertext": [
          "<b>Gemini 1.0 Ultra (2023)</b><br>Series: Nuclear<br>Cooling: Dry Cooler with Adiabatic Assist (Air-Cooled Chiller)<br>Training Compute: 5.00e+25 FLOP<br>Nuclear: 2.94e-20 kg CO2",
          "<b>Gemini 1.0 Ultra (2023)</b><br>Series: Nuclear<br>Cooling: Airside Economizer & Adiabatic Cooling (Air-Cooled Chiller)<br>Training Compute: 5.00e+25 FLOP<br>Nuclear: 2.87e-20 kg CO2",
          "<b>Gemini 1.0 Ultra (2023)</b><br>Series: Nuclear<br>Cooling: Airside Economizer & Adiabatic Cooling (Water-Cooled Chiller)<br>Training Compute: 5.00e+25 FLOP<br>Nuclear: 2.81e-20 kg CO2",
          "<b>Gemini 1.0 Ultra (2023)</b><br>Series: Nuclear<br>Cooling: Waterside Economizer & Adiabatic Cooling (Water-Cooled Chiller)<br>Training Compute: 5.00e+25 FLOP<br>Nuclear: 2.74e-20 kg CO2",
          "<b>Gemini 1.0 Ultra (2023)</b><br>Series: Nuclear<br>Cooling: IT Liquid Cooling: Waterside Economizer (Water-Cooled Chiller)<br>Training Compute: 5.00e+25 FLOP<br>Nuclear: 2.78e-20 kg CO2",
          "<b>Gemini 1.0 Ultra (2023)</b><br>Series: Nuclear<br>Cooling: IT Liquid Cooling: Dry Cooler & Adiabitic Assist (Air-Cooled Chiller)<br>Training Compute: 5.00e+25 FLOP<br>Nuclear: 2.68e-20 kg CO2",
          "<b>Gemini 1.0 Ultra (2023)</b><br>Series: Nuclear<br>Cooling: IT Liquid Cooling: Dry Cooler (Air-Cooled Chiller)<br>Training Compute: 5.00e+25 FLOP<br>Nuclear: 2.68e-20 kg CO2"
         ],
         "legendgroup": "model_Gemini 1.0 Ultra (2023)",
         "marker": {
          "color": "hsl(32.72727272727273,70%,50%)",
          "line": {
           "color": "white",
           "width": 0.5
          },
          "size": 8,
          "symbol": [
           "circle",
           "x",
           "square",
           "diamond",
           "cross",
           "triangle-up",
           "star"
          ]
         },
         "mode": "markers",
         "name": "Gemini 1.0 Ultra (2023) - Nuclear",
         "showlegend": false,
         "type": "scatter",
         "x": {
          "bdata": "9Mkzt/StREX0yTO39K1ERfTJM7f0rURF9Mkzt/StREX0yTO39K1ERfTJM7f0rURF9Mkzt/StREU=",
          "dtype": "f8"
         },
         "y": {
          "bdata": "1yNpIrZf4TtwiCpE2O7gO05iMzuBk+A7ioGYx2Yt4DvmvWCRhmjgO00rKufPrt87TSsq58+u3zs=",
          "dtype": "f8"
         }
        },
        {
         "hovertemplate": "%{hovertext}<extra></extra>",
         "hovertext": [
          "<b>GPT-4o (2024)</b><br>Series: Nuclear<br>Cooling: Dry Cooler with Adiabatic Assist (Air-Cooled Chiller)<br>Training Compute: 3.81e+25 FLOP<br>Nuclear: 8.25e-20 kg CO2",
          "<b>GPT-4o (2024)</b><br>Series: Nuclear<br>Cooling: Airside Economizer & Adiabatic Cooling (Air-Cooled Chiller)<br>Training Compute: 3.81e+25 FLOP<br>Nuclear: 8.04e-20 kg CO2",
          "<b>GPT-4o (2024)</b><br>Series: Nuclear<br>Cooling: Airside Economizer & Adiabatic Cooling (Water-Cooled Chiller)<br>Training Compute: 3.81e+25 FLOP<br>Nuclear: 7.87e-20 kg CO2",
          "<b>GPT-4o (2024)</b><br>Series: Nuclear<br>Cooling: Waterside Economizer & Adiabatic Cooling (Water-Cooled Chiller)<br>Training Compute: 3.81e+25 FLOP<br>Nuclear: 7.68e-20 kg CO2",
          "<b>GPT-4o (2024)</b><br>Series: Nuclear<br>Cooling: IT Liquid Cooling: Waterside Economizer (Water-Cooled Chiller)<br>Training Compute: 3.81e+25 FLOP<br>Nuclear: 7.79e-20 kg CO2",
          "<b>GPT-4o (2024)</b><br>Series: Nuclear<br>Cooling: IT Liquid Cooling: Dry Cooler & Adiabitic Assist (Air-Cooled Chiller)<br>Training Compute: 3.81e+25 FLOP<br>Nuclear: 7.52e-20 kg CO2",
          "<b>GPT-4o (2024)</b><br>Series: Nuclear<br>Cooling: IT Liquid Cooling: Dry Cooler (Air-Cooled Chiller)<br>Training Compute: 3.81e+25 FLOP<br>Nuclear: 7.52e-20 kg CO2"
         ],
         "legendgroup": "model_GPT-4o (2024)",
         "marker": {
          "color": "hsl(65.45454545454545,70%,50%)",
          "line": {
           "color": "white",
           "width": 0.5
          },
          "size": 8,
          "symbol": [
           "circle",
           "x",
           "square",
           "diamond",
           "cross",
           "triangle-up",
           "star"
          ]
         },
         "mode": "markers",
         "name": "GPT-4o (2024) - Nuclear",
         "showlegend": false,
         "type": "scatter",
         "x": {
          "bdata": "lW9Brv2DP0WVb0Gu/YM/RZVvQa79gz9FlW9Brv2DP0WVb0Gu/YM/RZVvQa79gz9FlW9Brv2DP0U=",
          "dtype": "f8"
         },
         "y": {
          "bdata": "FbZ1zHtY+DvV915vU7r3Oz6j6EhVOvc70hkiB0Kr9jsnhoF8G/72O4cE5x3BMvY7hwTnHcEy9js=",
          "dtype": "f8"
         }
        },
        {
         "hovertemplate": "%{hovertext}<extra></extra>",
         "hovertext": [
          "<b>Minerva (540B) (2022)</b><br>Series: Nuclear<br>Cooling: Dry Cooler with Adiabatic Assist (Air-Cooled Chiller)<br>Training Compute: 2.74e+24 FLOP<br>Nuclear: 9.39e-20 kg CO2",
          "<b>Minerva (540B) (2022)</b><br>Series: Nuclear<br>Cooling: Airside Economizer & Adiabatic Cooling (Air-Cooled Chiller)<br>Training Compute: 2.74e+24 FLOP<br>Nuclear: 9.15e-20 kg CO2",
          "<b>Minerva (540B) (2022)</b><br>Series: Nuclear<br>Cooling: Airside Economizer & Adiabatic Cooling (Water-Cooled Chiller)<br>Training Compute: 2.74e+24 FLOP<br>Nuclear: 8.96e-20 kg CO2",
          "<b>Minerva (540B) (2022)</b><br>Series: Nuclear<br>Cooling: Waterside Economizer & Adiabatic Cooling (Water-Cooled Chiller)<br>Training Compute: 2.74e+24 FLOP<br>Nuclear: 8.74e-20 kg CO2",
          "<b>Minerva (540B) (2022)</b><br>Series: Nuclear<br>Cooling: IT Liquid Cooling: Waterside Economizer (Water-Cooled Chiller)<br>Training Compute: 2.74e+24 FLOP<br>Nuclear: 8.87e-20 kg CO2",
          "<b>Minerva (540B) (2022)</b><br>Series: Nuclear<br>Cooling: IT Liquid Cooling: Dry Cooler & Adiabitic Assist (Air-Cooled Chiller)<br>Training Compute: 2.74e+24 FLOP<br>Nuclear: 8.56e-20 kg CO2",
          "<b>Minerva (540B) (2022)</b><br>Series: Nuclear<br>Cooling: IT Liquid Cooling: Dry Cooler (Air-Cooled Chiller)<br>Training Compute: 2.74e+24 FLOP<br>Nuclear: 8.56e-20 kg CO2"
         ],
         "legendgroup": "model_Minerva (540B) (2022)",
         "marker": {
          "color": "hsl(98.18181818181819,70%,50%)",
          "line": {
           "color": "white",
           "width": 0.5
          },
          "size": 8,
          "symbol": [
           "circle",
           "x",
           "square",
           "diamond",
           "cross",
           "triangle-up",
           "star"
          ]
         },
         "mode": "markers",
         "name": "Minerva (540B) (2022) - Nuclear",
         "showlegend": false,
         "type": "scatter",
         "x": {
          "bdata": "3XMzGkgkAkXdczMaSCQCRd1zMxpIJAJF3XMzGkgkAkXdczMaSCQCRd1zMxpIJAJF3XMzGkgkAkU=",
          "dtype": "f8"
         },
         "y": {
          "bdata": "eO+/TBS1+zsoCaU1FQH7O3AVO6Jqb/o7bqj4zJXM+TvpOfzo3yr6O4dsaTNxQ/k7h2xpM3FD+Ts=",
          "dtype": "f8"
         }
        },
        {
         "hovertemplate": "%{hovertext}<extra></extra>",
         "hovertext": [
          "<b>FLAN 137B (2021)</b><br>Series: Nuclear<br>Cooling: Dry Cooler with Adiabatic Assist (Air-Cooled Chiller)<br>Training Compute: 2.05e+24 FLOP<br>Nuclear: 6.97e-20 kg CO2",
          "<b>FLAN 137B (2021)</b><br>Series: Nuclear<br>Cooling: Airside Economizer & Adiabatic Cooling (Air-Cooled Chiller)<br>Training Compute: 2.05e+24 FLOP<br>Nuclear: 6.79e-20 kg CO2",
          "<b>FLAN 137B (2021)</b><br>Series: Nuclear<br>Cooling: Airside Economizer & Adiabatic Cooling (Water-Cooled Chiller)<br>Training Compute: 2.05e+24 FLOP<br>Nuclear: 6.65e-20 kg CO2",
          "<b>FLAN 137B (2021)</b><br>Series: Nuclear<br>Cooling: Waterside Economizer & Adiabatic Cooling (Water-Cooled Chiller)<br>Training Compute: 2.05e+24 FLOP<br>Nuclear: 6.49e-20 kg CO2",
          "<b>FLAN 137B (2021)</b><br>Series: Nuclear<br>Cooling: IT Liquid Cooling: Waterside Economizer (Water-Cooled Chiller)<br>Training Compute: 2.05e+24 FLOP<br>Nuclear: 6.58e-20 kg CO2",
          "<b>FLAN 137B (2021)</b><br>Series: Nuclear<br>Cooling: IT Liquid Cooling: Dry Cooler & Adiabitic Assist (Air-Cooled Chiller)<br>Training Compute: 2.05e+24 FLOP<br>Nuclear: 6.35e-20 kg CO2",
          "<b>FLAN 137B (2021)</b><br>Series: Nuclear<br>Cooling: IT Liquid Cooling: Dry Cooler (Air-Cooled Chiller)<br>Training Compute: 2.05e+24 FLOP<br>Nuclear: 6.35e-20 kg CO2"
         ],
         "legendgroup": "model_FLAN 137B (2021)",
         "marker": {
          "color": "hsl(130.9090909090909,70%,50%)",
          "line": {
           "color": "white",
           "width": 0.5
          },
          "size": 8,
          "symbol": [
           "circle",
           "x",
           "square",
           "diamond",
           "cross",
           "triangle-up",
           "star"
          ]
         },
         "mode": "markers",
         "name": "FLAN 137B (2021) - Nuclear",
         "showlegend": false,
         "type": "scatter",
         "x": {
          "bdata": "8hJIeoEX+0TyEkh6gRf7RPISSHqBF/tE8hJIeoEX+0TyEkh6gRf7RPISSHqBF/tE8hJIeoEX+0Q=",
          "dtype": "f8"
         },
         "y": {
          "bdata": "nakrIuqO9DueSbNsXAn0OwA9dptHnfM7sYYbWHYk8zsdIV9PbGrzO3uJvYG0vvI7e4m9gbS+8js=",
          "dtype": "f8"
         }
        },
        {
         "hovertemplate": "%{hovertext}<extra></extra>",
         "hovertext": [
          "<b>AlphaGo Zero (2017)</b><br>Series: Nuclear<br>Cooling: Dry Cooler with Adiabatic Assist (Air-Cooled Chiller)<br>Training Compute: 3.41e+23 FLOP<br>Nuclear: 1.78e-19 kg CO2",
          "<b>AlphaGo Zero (2017)</b><br>Series: Nuclear<br>Cooling: Airside Economizer & Adiabatic Cooling (Air-Cooled Chiller)<br>Training Compute: 3.41e+23 FLOP<br>Nuclear: 1.73e-19 kg CO2",
          "<b>AlphaGo Zero (2017)</b><br>Series: Nuclear<br>Cooling: Airside Economizer & Adiabatic Cooling (Water-Cooled Chiller)<br>Training Compute: 3.41e+23 FLOP<br>Nuclear: 1.70e-19 kg CO2",
          "<b>AlphaGo Zero (2017)</b><br>Series: Nuclear<br>Cooling: Waterside Economizer & Adiabatic Cooling (Water-Cooled Chiller)<br>Training Compute: 3.41e+23 FLOP<br>Nuclear: 1.66e-19 kg CO2",
          "<b>AlphaGo Zero (2017)</b><br>Series: Nuclear<br>Cooling: IT Liquid Cooling: Waterside Economizer (Water-Cooled Chiller)<br>Training Compute: 3.41e+23 FLOP<br>Nuclear: 1.68e-19 kg CO2",
          "<b>AlphaGo Zero (2017)</b><br>Series: Nuclear<br>Cooling: IT Liquid Cooling: Dry Cooler & Adiabitic Assist (Air-Cooled Chiller)<br>Training Compute: 3.41e+23 FLOP<br>Nuclear: 1.62e-19 kg CO2",
          "<b>AlphaGo Zero (2017)</b><br>Series: Nuclear<br>Cooling: IT Liquid Cooling: Dry Cooler (Air-Cooled Chiller)<br>Training Compute: 3.41e+23 FLOP<br>Nuclear: 1.62e-19 kg CO2"
         ],
         "legendgroup": "model_AlphaGo Zero (2017)",
         "marker": {
          "color": "hsl(163.63636363636363,70%,50%)",
          "line": {
           "color": "white",
           "width": 0.5
          },
          "size": 8,
          "symbol": [
           "circle",
           "x",
           "square",
           "diamond",
           "cross",
           "triangle-up",
           "star"
          ]
         },
         "mode": "markers",
         "name": "AlphaGo Zero (2017) - Nuclear",
         "showlegend": false,
         "type": "scatter",
         "x": {
          "bdata": "YyQeaWkN0kRjJB5paQ3SRGMkHmlpDdJEYyQeaWkN0kRjJB5paQ3SRGMkHmlpDdJEYyQeaWkN0kQ=",
          "dtype": "f8"
         },
         "y": {
          "bdata": "zot/+wNBCjwo9FLydZYJPK+zom1vDAk8oUe0JiVyCDxaHtobfcsIPHEQiycy8Ac8cRCLJzLwBzw=",
          "dtype": "f8"
         }
        },
        {
         "hovertemplate": "%{hovertext}<extra></extra>",
         "hovertext": [
          "<b>GPT-3 175B (davinci) (2020)</b><br>Series: Nuclear<br>Cooling: Dry Cooler with Adiabatic Assist (Air-Cooled Chiller)<br>Training Compute: 3.14e+23 FLOP<br>Nuclear: 1.43e-19 kg CO2",
          "<b>GPT-3 175B (davinci) (2020)</b><br>Series: Nuclear<br>Cooling: Airside Economizer & Adiabatic Cooling (Air-Cooled Chiller)<br>Training Compute: 3.14e+23 FLOP<br>Nuclear: 1.40e-19 kg CO2",
          "<b>GPT-3 175B (davinci) (2020)</b><br>Series: Nuclear<br>Cooling: Airside Economizer & Adiabatic Cooling (Water-Cooled Chiller)<br>Training Compute: 3.14e+23 FLOP<br>Nuclear: 1.37e-19 kg CO2",
          "<b>GPT-3 175B (davinci) (2020)</b><br>Series: Nuclear<br>Cooling: Waterside Economizer & Adiabatic Cooling (Water-Cooled Chiller)<br>Training Compute: 3.14e+23 FLOP<br>Nuclear: 1.34e-19 kg CO2",
          "<b>GPT-3 175B (davinci) (2020)</b><br>Series: Nuclear<br>Cooling: IT Liquid Cooling: Waterside Economizer (Water-Cooled Chiller)<br>Training Compute: 3.14e+23 FLOP<br>Nuclear: 1.35e-19 kg CO2",
          "<b>GPT-3 175B (davinci) (2020)</b><br>Series: Nuclear<br>Cooling: IT Liquid Cooling: Dry Cooler & Adiabitic Assist (Air-Cooled Chiller)<br>Training Compute: 3.14e+23 FLOP<br>Nuclear: 1.31e-19 kg CO2",
          "<b>GPT-3 175B (davinci) (2020)</b><br>Series: Nuclear<br>Cooling: IT Liquid Cooling: Dry Cooler (Air-Cooled Chiller)<br>Training Compute: 3.14e+23 FLOP<br>Nuclear: 1.31e-19 kg CO2"
         ],
         "legendgroup": "model_GPT-3 175B (davinci) (2020)",
         "marker": {
          "color": "hsl(196.36363636363637,70%,50%)",
          "line": {
           "color": "white",
           "width": 0.5
          },
          "size": 8,
          "symbol": [
           "circle",
           "x",
           "square",
           "diamond",
           "cross",
           "triangle-up",
           "star"
          ]
         },
         "mode": "markers",
         "name": "GPT-3 175B (davinci) (2020) - Nuclear",
         "showlegend": false,
         "type": "scatter",
         "x": {
          "bdata": "xCzJV36f0ETELMlXfp/QRMQsyVd+n9BExCzJV36f0ETELMlXfp/QRMQsyVd+n9BExCzJV36f0EQ=",
          "dtype": "f8"
         },
         "y": {
          "bdata": "NS0SRSEpBTzxvIK5qZ8EPJmL4iVqMAQ8yrpKlg60AzzJWhBbEfwDPKkyIG5RSwM8qTIgblFLAzw=",
          "dtype": "f8"
         }
        },
        {
         "hovertemplate": "%{hovertext}<extra></extra>",
         "hovertext": [
          "<b>OpenAI Five (2019)</b><br>Series: Nuclear<br>Cooling: Dry Cooler with Adiabatic Assist (Air-Cooled Chiller)<br>Training Compute: 6.70e+22 FLOP<br>Nuclear: 1.35e-19 kg CO2",
          "<b>OpenAI Five (2019)</b><br>Series: Nuclear<br>Cooling: Airside Economizer & Adiabatic Cooling (Air-Cooled Chiller)<br>Training Compute: 6.70e+22 FLOP<br>Nuclear: 1.31e-19 kg CO2",
          "<b>OpenAI Five (2019)</b><br>Series: Nuclear<br>Cooling: Airside Economizer & Adiabatic Cooling (Water-Cooled Chiller)<br>Training Compute: 6.70e+22 FLOP<br>Nuclear: 1.29e-19 kg CO2",
          "<b>OpenAI Five (2019)</b><br>Series: Nuclear<br>Cooling: Waterside Economizer & Adiabatic Cooling (Water-Cooled Chiller)<br>Training Compute: 6.70e+22 FLOP<br>Nuclear: 1.26e-19 kg CO2",
          "<b>OpenAI Five (2019)</b><br>Series: Nuclear<br>Cooling: IT Liquid Cooling: Waterside Economizer (Water-Cooled Chiller)<br>Training Compute: 6.70e+22 FLOP<br>Nuclear: 1.27e-19 kg CO2",
          "<b>OpenAI Five (2019)</b><br>Series: Nuclear<br>Cooling: IT Liquid Cooling: Dry Cooler & Adiabitic Assist (Air-Cooled Chiller)<br>Training Compute: 6.70e+22 FLOP<br>Nuclear: 1.23e-19 kg CO2",
          "<b>OpenAI Five (2019)</b><br>Series: Nuclear<br>Cooling: IT Liquid Cooling: Dry Cooler (Air-Cooled Chiller)<br>Training Compute: 6.70e+22 FLOP<br>Nuclear: 1.23e-19 kg CO2"
         ],
         "legendgroup": "model_OpenAI Five (2019)",
         "marker": {
          "color": "hsl(229.0909090909091,70%,50%)",
          "line": {
           "color": "white",
           "width": 0.5
          },
          "size": 8,
          "symbol": [
           "circle",
           "x",
           "square",
           "diamond",
           "cross",
           "triangle-up",
           "star"
          ]
         },
         "mode": "markers",
         "name": "OpenAI Five (2019) - Nuclear",
         "showlegend": false,
         "type": "scatter",
         "x": {
          "bdata": "iJL1kCdgrESIkvWQJ2CsRIiS9ZAnYKxEiJL1kCdgrESIkvWQJ2CsRIiS9ZAnYKxEiJL1kCdgrEQ=",
          "dtype": "f8"
         },
         "y": {
          "bdata": "AtL2QjnnAzxEp0Hu7GUDPHtpw7dJ/QI8ObUp8lGIAjw3KEtADcwCPFpmviDOJQI8Wma+IM4lAjw=",
          "dtype": "f8"
         }
        },
        {
         "hovertemplate": "%{hovertext}<extra></extra>",
         "hovertext": [
          "<b>ResNeXt-101 32x48d (2018)</b><br>Series: Nuclear<br>Cooling: Dry Cooler with Adiabatic Assist (Air-Cooled Chiller)<br>Training Compute: 8.74e+21 FLOP<br>Nuclear: 1.43e-19 kg CO2",
          "<b>ResNeXt-101 32x48d (2018)</b><br>Series: Nuclear<br>Cooling: Airside Economizer & Adiabatic Cooling (Air-Cooled Chiller)<br>Training Compute: 8.74e+21 FLOP<br>Nuclear: 1.40e-19 kg CO2",
          "<b>ResNeXt-101 32x48d (2018)</b><br>Series: Nuclear<br>Cooling: Airside Economizer & Adiabatic Cooling (Water-Cooled Chiller)<br>Training Compute: 8.74e+21 FLOP<br>Nuclear: 1.37e-19 kg CO2",
          "<b>ResNeXt-101 32x48d (2018)</b><br>Series: Nuclear<br>Cooling: Waterside Economizer & Adiabatic Cooling (Water-Cooled Chiller)<br>Training Compute: 8.74e+21 FLOP<br>Nuclear: 1.34e-19 kg CO2",
          "<b>ResNeXt-101 32x48d (2018)</b><br>Series: Nuclear<br>Cooling: IT Liquid Cooling: Waterside Economizer (Water-Cooled Chiller)<br>Training Compute: 8.74e+21 FLOP<br>Nuclear: 1.35e-19 kg CO2",
          "<b>ResNeXt-101 32x48d (2018)</b><br>Series: Nuclear<br>Cooling: IT Liquid Cooling: Dry Cooler & Adiabitic Assist (Air-Cooled Chiller)<br>Training Compute: 8.74e+21 FLOP<br>Nuclear: 1.31e-19 kg CO2",
          "<b>ResNeXt-101 32x48d (2018)</b><br>Series: Nuclear<br>Cooling: IT Liquid Cooling: Dry Cooler (Air-Cooled Chiller)<br>Training Compute: 8.74e+21 FLOP<br>Nuclear: 1.31e-19 kg CO2"
         ],
         "legendgroup": "model_ResNeXt-101 32x48d (2018)",
         "marker": {
          "color": "hsl(261.8181818181818,70%,50%)",
          "line": {
           "color": "white",
           "width": 0.5
          },
          "size": 8,
          "symbol": [
           "circle",
           "x",
           "square",
           "diamond",
           "cross",
           "triangle-up",
           "star"
          ]
         },
         "mode": "markers",
         "name": "ResNeXt-101 32x48d (2018) - Nuclear",
         "showlegend": false,
         "type": "scatter",
         "x": {
          "bdata": "DhRZ7CqgfUQOFFnsKqB9RA4UWewqoH1EDhRZ7CqgfUQOFFnsKqB9RA4UWewqoH1EDhRZ7CqgfUQ=",
          "dtype": "f8"
         },
         "y": {
          "bdata": "NC0SRSEpBTzxvIK5qZ8EPJiL4iVqMAQ8yrpKlg60AzzIWhBbEfwDPKkyIG5RSwM8qTIgblFLAzw=",
          "dtype": "f8"
         }
        },
        {
         "hovertemplate": "%{hovertext}<extra></extra>",
         "hovertext": [
          "<b>GNMT (2016)</b><br>Series: Nuclear<br>Cooling: Dry Cooler with Adiabatic Assist (Air-Cooled Chiller)<br>Training Compute: 6.62e+21 FLOP<br>Nuclear: 6.56e-19 kg CO2",
          "<b>GNMT (2016)</b><br>Series: Nuclear<br>Cooling: Airside Economizer & Adiabatic Cooling (Air-Cooled Chiller)<br>Training Compute: 6.62e+21 FLOP<br>Nuclear: 6.39e-19 kg CO2",
          "<b>GNMT (2016)</b><br>Series: Nuclear<br>Cooling: Airside Economizer & Adiabatic Cooling (Water-Cooled Chiller)<br>Training Compute: 6.62e+21 FLOP<br>Nuclear: 6.25e-19 kg CO2",
          "<b>GNMT (2016)</b><br>Series: Nuclear<br>Cooling: Waterside Economizer & Adiabatic Cooling (Water-Cooled Chiller)<br>Training Compute: 6.62e+21 FLOP<br>Nuclear: 6.10e-19 kg CO2",
          "<b>GNMT (2016)</b><br>Series: Nuclear<br>Cooling: IT Liquid Cooling: Waterside Economizer (Water-Cooled Chiller)<br>Training Compute: 6.62e+21 FLOP<br>Nuclear: 6.19e-19 kg CO2",
          "<b>GNMT (2016)</b><br>Series: Nuclear<br>Cooling: IT Liquid Cooling: Dry Cooler & Adiabitic Assist (Air-Cooled Chiller)<br>Training Compute: 6.62e+21 FLOP<br>Nuclear: 5.98e-19 kg CO2",
          "<b>GNMT (2016)</b><br>Series: Nuclear<br>Cooling: IT Liquid Cooling: Dry Cooler (Air-Cooled Chiller)<br>Training Compute: 6.62e+21 FLOP<br>Nuclear: 5.98e-19 kg CO2"
         ],
         "legendgroup": "model_GNMT (2016)",
         "marker": {
          "color": "hsl(294.54545454545456,70%,50%)",
          "line": {
           "color": "white",
           "width": 0.5
          },
          "size": 8,
          "symbol": [
           "circle",
           "x",
           "square",
           "diamond",
           "cross",
           "triangle-up",
           "star"
          ]
         },
         "mode": "markers",
         "name": "GNMT (2016) - Nuclear",
         "showlegend": false,
         "type": "scatter",
         "x": {
          "bdata": "mc3bSO9tdkSZzdtI7212RJnN20jvbXZEmc3bSO9tdkSZzdtI7212RJnN20jvbXZEmc3bSO9tdkQ=",
          "dtype": "f8"
         },
         "y": {
          "bdata": "rqkC9JEvKDygr6Jgc5InPDtmg1JMEyc8gsTDgSmFJjye1xu8d9cmPOu95xpzDSY8673nGnMNJjw=",
          "dtype": "f8"
         }
        },
        {
         "hovertemplate": "%{hovertext}<extra></extra>",
         "hovertext": [
          "<b>AlphaGo Fan (2015)</b><br>Series: Nuclear<br>Cooling: Dry Cooler with Adiabatic Assist (Air-Cooled Chiller)<br>Training Compute: 3.80e+20 FLOP<br>Nuclear: 7.84e-19 kg CO2",
          "<b>AlphaGo Fan (2015)</b><br>Series: Nuclear<br>Cooling: Airside Economizer & Adiabatic Cooling (Air-Cooled Chiller)<br>Training Compute: 3.80e+20 FLOP<br>Nuclear: 7.64e-19 kg CO2",
          "<b>AlphaGo Fan (2015)</b><br>Series: Nuclear<br>Cooling: Airside Economizer & Adiabatic Cooling (Water-Cooled Chiller)<br>Training Compute: 3.80e+20 FLOP<br>Nuclear: 7.48e-19 kg CO2",
          "<b>AlphaGo Fan (2015)</b><br>Series: Nuclear<br>Cooling: Waterside Economizer & Adiabatic Cooling (Water-Cooled Chiller)<br>Training Compute: 3.80e+20 FLOP<br>Nuclear: 7.30e-19 kg CO2",
          "<b>AlphaGo Fan (2015)</b><br>Series: Nuclear<br>Cooling: IT Liquid Cooling: Waterside Economizer (Water-Cooled Chiller)<br>Training Compute: 3.80e+20 FLOP<br>Nuclear: 7.40e-19 kg CO2",
          "<b>AlphaGo Fan (2015)</b><br>Series: Nuclear<br>Cooling: IT Liquid Cooling: Dry Cooler & Adiabitic Assist (Air-Cooled Chiller)<br>Training Compute: 3.80e+20 FLOP<br>Nuclear: 7.15e-19 kg CO2",
          "<b>AlphaGo Fan (2015)</b><br>Series: Nuclear<br>Cooling: IT Liquid Cooling: Dry Cooler (Air-Cooled Chiller)<br>Training Compute: 3.80e+20 FLOP<br>Nuclear: 7.15e-19 kg CO2"
         ],
         "legendgroup": "model_AlphaGo Fan (2015)",
         "marker": {
          "color": "hsl(327.27272727272725,70%,50%)",
          "line": {
           "color": "white",
           "width": 0.5
          },
          "size": 8,
          "symbol": [
           "circle",
           "x",
           "square",
           "diamond",
           "cross",
           "triangle-up",
           "star"
          ]
         },
         "mode": "markers",
         "name": "AlphaGo Fan (2015) - Nuclear",
         "showlegend": false,
         "type": "scatter",
         "x": {
          "bdata": "cHisMo+ZNERweKwyj5k0RHB4rDKPmTREcHisMo+ZNERweKwyj5k0RHB4rDKPmTREcHisMo+ZNEQ=",
          "dtype": "f8"
         },
         "y": {
          "bdata": "vH02A1HrLDz52sGDci8sPNjCX+xolys8aWX04HTtKjwdCLG93k8rPKvC27JQXio8q8LbslBeKjw=",
          "dtype": "f8"
         }
        },
        {
         "hovertemplate": "%{hovertext}<extra></extra>",
         "hovertext": [
          "<b>Grok-3 (2025)</b><br>Series: CSP<br>Cooling: Dry Cooler with Adiabatic Assist (Air-Cooled Chiller)<br>Training Compute: 4.64e+26 FLOP<br>CSP: 4.18e-20 kg CO2",
          "<b>Grok-3 (2025)</b><br>Series: CSP<br>Cooling: Airside Economizer & Adiabatic Cooling (Air-Cooled Chiller)<br>Training Compute: 4.64e+26 FLOP<br>CSP: 4.07e-20 kg CO2",
          "<b>Grok-3 (2025)</b><br>Series: CSP<br>Cooling: Airside Economizer & Adiabatic Cooling (Water-Cooled Chiller)<br>Training Compute: 4.64e+26 FLOP<br>CSP: 3.99e-20 kg CO2",
          "<b>Grok-3 (2025)</b><br>Series: CSP<br>Cooling: Waterside Economizer & Adiabatic Cooling (Water-Cooled Chiller)<br>Training Compute: 4.64e+26 FLOP<br>CSP: 3.89e-20 kg CO2",
          "<b>Grok-3 (2025)</b><br>Series: CSP<br>Cooling: IT Liquid Cooling: Waterside Economizer (Water-Cooled Chiller)<br>Training Compute: 4.64e+26 FLOP<br>CSP: 3.95e-20 kg CO2",
          "<b>Grok-3 (2025)</b><br>Series: CSP<br>Cooling: IT Liquid Cooling: Dry Cooler & Adiabitic Assist (Air-Cooled Chiller)<br>Training Compute: 4.64e+26 FLOP<br>CSP: 3.81e-20 kg CO2",
          "<b>Grok-3 (2025)</b><br>Series: CSP<br>Cooling: IT Liquid Cooling: Dry Cooler (Air-Cooled Chiller)<br>Training Compute: 4.64e+26 FLOP<br>CSP: 3.81e-20 kg CO2"
         ],
         "legendgroup": "model_Grok-3 (2025)",
         "marker": {
          "color": "hsl(0.0,70%,50%)",
          "line": {
           "color": "white",
           "width": 0.5
          },
          "size": 8,
          "symbol": [
           "circle",
           "x",
           "square",
           "diamond",
           "cross",
           "triangle-up",
           "star"
          ]
         },
         "mode": "markers",
         "name": "Grok-3 (2025) - CSP",
         "showlegend": false,
         "type": "scatter",
         "x": {
          "bdata": "6zZtJv38d0XrNm0m/fx3Res2bSb9/HdF6zZtJv38d0XrNm0m/fx3Res2bSb9/HdF6zZtJv38d0U=",
          "dtype": "f8"
         },
         "y": {
          "bdata": "VXYf4iKr6DvbA1KU4QroO0SK0OUwiec7OhSp5zf45juSTHmiKkznO9I+WuMdfuY70j5a4x1+5js=",
          "dtype": "f8"
         }
        },
        {
         "hovertemplate": "%{hovertext}<extra></extra>",
         "hovertext": [
          "<b>Gemini 1.0 Ultra (2023)</b><br>Series: CSP<br>Cooling: Dry Cooler with Adiabatic Assist (Air-Cooled Chiller)<br>Training Compute: 5.00e+25 FLOP<br>CSP: 1.31e-20 kg CO2",
          "<b>Gemini 1.0 Ultra (2023)</b><br>Series: CSP<br>Cooling: Airside Economizer & Adiabatic Cooling (Air-Cooled Chiller)<br>Training Compute: 5.00e+25 FLOP<br>CSP: 1.27e-20 kg CO2",
          "<b>Gemini 1.0 Ultra (2023)</b><br>Series: CSP<br>Cooling: Airside Economizer & Adiabatic Cooling (Water-Cooled Chiller)<br>Training Compute: 5.00e+25 FLOP<br>CSP: 1.25e-20 kg CO2",
          "<b>Gemini 1.0 Ultra (2023)</b><br>Series: CSP<br>Cooling: Waterside Economizer & Adiabatic Cooling (Water-Cooled Chiller)<br>Training Compute: 5.00e+25 FLOP<br>CSP: 1.22e-20 kg CO2",
          "<b>Gemini 1.0 Ultra (2023)</b><br>Series: CSP<br>Cooling: IT Liquid Cooling: Waterside Economizer (Water-Cooled Chiller)<br>Training Compute: 5.00e+25 FLOP<br>CSP: 1.24e-20 kg CO2",
          "<b>Gemini 1.0 Ultra (2023)</b><br>Series: CSP<br>Cooling: IT Liquid Cooling: Dry Cooler & Adiabitic Assist (Air-Cooled Chiller)<br>Training Compute: 5.00e+25 FLOP<br>CSP: 1.19e-20 kg CO2",
          "<b>Gemini 1.0 Ultra (2023)</b><br>Series: CSP<br>Cooling: IT Liquid Cooling: Dry Cooler (Air-Cooled Chiller)<br>Training Compute: 5.00e+25 FLOP<br>CSP: 1.19e-20 kg CO2"
         ],
         "legendgroup": "model_Gemini 1.0 Ultra (2023)",
         "marker": {
          "color": "hsl(32.72727272727273,70%,50%)",
          "line": {
           "color": "white",
           "width": 0.5
          },
          "size": 8,
          "symbol": [
           "circle",
           "x",
           "square",
           "diamond",
           "cross",
           "triangle-up",
           "star"
          ]
         },
         "mode": "markers",
         "name": "Gemini 1.0 Ultra (2023) - CSP",
         "showlegend": false,
         "type": "scatter",
         "x": {
          "bdata": "9Mkzt/StREX0yTO39K1ERfTJM7f0rURF9Mkzt/StREX0yTO39K1ERfTJM7f0rURF9Mkzt/StREU=",
          "dtype": "f8"
         },
         "y": {
          "bdata": "KVzX5wrjzjv/DmgHZBrOO29ZWzACeM07EVid1H3CzDuZUQHmmSvNO7a0s1ucKcw7trSzW5wpzDs=",
          "dtype": "f8"
         }
        },
        {
         "hovertemplate": "%{hovertext}<extra></extra>",
         "hovertext": [
          "<b>GPT-4o (2024)</b><br>Series: CSP<br>Cooling: Dry Cooler with Adiabatic Assist (Air-Cooled Chiller)<br>Training Compute: 3.81e+25 FLOP<br>CSP: 3.67e-20 kg CO2",
          "<b>GPT-4o (2024)</b><br>Series: CSP<br>Cooling: Airside Economizer & Adiabatic Cooling (Air-Cooled Chiller)<br>Training Compute: 3.81e+25 FLOP<br>CSP: 3.57e-20 kg CO2",
          "<b>GPT-4o (2024)</b><br>Series: CSP<br>Cooling: Airside Economizer & Adiabatic Cooling (Water-Cooled Chiller)<br>Training Compute: 3.81e+25 FLOP<br>CSP: 3.50e-20 kg CO2",
          "<b>GPT-4o (2024)</b><br>Series: CSP<br>Cooling: Waterside Economizer & Adiabatic Cooling (Water-Cooled Chiller)<br>Training Compute: 3.81e+25 FLOP<br>CSP: 3.41e-20 kg CO2",
          "<b>GPT-4o (2024)</b><br>Series: CSP<br>Cooling: IT Liquid Cooling: Waterside Economizer (Water-Cooled Chiller)<br>Training Compute: 3.81e+25 FLOP<br>CSP: 3.46e-20 kg CO2",
          "<b>GPT-4o (2024)</b><br>Series: CSP<br>Cooling: IT Liquid Cooling: Dry Cooler & Adiabitic Assist (Air-Cooled Chiller)<br>Training Compute: 3.81e+25 FLOP<br>CSP: 3.34e-20 kg CO2",
          "<b>GPT-4o (2024)</b><br>Series: CSP<br>Cooling: IT Liquid Cooling: Dry Cooler (Air-Cooled Chiller)<br>Training Compute: 3.81e+25 FLOP<br>CSP: 3.34e-20 kg CO2"
         ],
         "legendgroup": "model_GPT-4o (2024)",
         "marker": {
          "color": "hsl(65.45454545454545,70%,50%)",
          "line": {
           "color": "white",
           "width": 0.5
          },
          "size": 8,
          "symbol": [
           "circle",
           "x",
           "square",
           "diamond",
           "cross",
           "triangle-up",
           "star"
          ]
         },
         "mode": "markers",
         "name": "GPT-4o (2024) - CSP",
         "showlegend": false,
         "type": "scatter",
         "x": {
          "bdata": "lW9Brv2DP0WVb0Gu/YM/RZVvQa79gz9FlW9Brv2DP0WVb0Gu/YM/RZVvQa79gz9FlW9Brv2DP0U=",
          "dtype": "f8"
         },
         "y": {
          "bdata": "vdr2Q/yj5Ttpo+KbZhflO+ICXSShpeQ79BaQlHMm5Dt4BaxuGHDkOwcEeFNWu+M7BwR4U1a74zs=",
          "dtype": "f8"
         }
        },
        {
         "hovertemplate": "%{hovertext}<extra></extra>",
         "hovertext": [
          "<b>Minerva (540B) (2022)</b><br>Series: CSP<br>Cooling: Dry Cooler with Adiabatic Assist (Air-Cooled Chiller)<br>Training Compute: 2.74e+24 FLOP<br>CSP: 4.17e-20 kg CO2",
          "<b>Minerva (540B) (2022)</b><br>Series: CSP<br>Cooling: Airside Economizer & Adiabatic Cooling (Air-Cooled Chiller)<br>Training Compute: 2.74e+24 FLOP<br>CSP: 4.07e-20 kg CO2",
          "<b>Minerva (540B) (2022)</b><br>Series: CSP<br>Cooling: Airside Economizer & Adiabatic Cooling (Water-Cooled Chiller)<br>Training Compute: 2.74e+24 FLOP<br>CSP: 3.98e-20 kg CO2",
          "<b>Minerva (540B) (2022)</b><br>Series: CSP<br>Cooling: Waterside Economizer & Adiabatic Cooling (Water-Cooled Chiller)<br>Training Compute: 2.74e+24 FLOP<br>CSP: 3.88e-20 kg CO2",
          "<b>Minerva (540B) (2022)</b><br>Series: CSP<br>Cooling: IT Liquid Cooling: Waterside Economizer (Water-Cooled Chiller)<br>Training Compute: 2.74e+24 FLOP<br>CSP: 3.94e-20 kg CO2",
          "<b>Minerva (540B) (2022)</b><br>Series: CSP<br>Cooling: IT Liquid Cooling: Dry Cooler & Adiabitic Assist (Air-Cooled Chiller)<br>Training Compute: 2.74e+24 FLOP<br>CSP: 3.80e-20 kg CO2",
          "<b>Minerva (540B) (2022)</b><br>Series: CSP<br>Cooling: IT Liquid Cooling: Dry Cooler (Air-Cooled Chiller)<br>Training Compute: 2.74e+24 FLOP<br>CSP: 3.80e-20 kg CO2"
         ],
         "legendgroup": "model_Minerva (540B) (2022)",
         "marker": {
          "color": "hsl(98.18181818181819,70%,50%)",
          "line": {
           "color": "white",
           "width": 0.5
          },
          "size": 8,
          "symbol": [
           "circle",
           "x",
           "square",
           "diamond",
           "cross",
           "triangle-up",
           "star"
          ]
         },
         "mode": "markers",
         "name": "Minerva (540B) (2022) - CSP",
         "showlegend": false,
         "type": "scatter",
         "x": {
          "bdata": "3XMzGkgkAkXdczMaSCQCRd1zMxpIJAJF3XMzGkgkAkXdczMaSCQCRd1zMxpIJAJF3XMzGkgkAkU=",
          "dtype": "f8"
         },
         "y": {
          "bdata": "MiqOmfWg6DvOspJo9gDoO4Av3zp7f+c7KbKHC77u5jtdbG4kjkLnO1yZlmbWdOY7XJmWZtZ05js=",
          "dtype": "f8"
         }
        },
        {
         "hovertemplate": "%{hovertext}<extra></extra>",
         "hovertext": [
          "<b>FLAN 137B (2021)</b><br>Series: CSP<br>Cooling: Dry Cooler with Adiabatic Assist (Air-Cooled Chiller)<br>Training Compute: 2.05e+24 FLOP<br>CSP: 3.10e-20 kg CO2",
          "<b>FLAN 137B (2021)</b><br>Series: CSP<br>Cooling: Airside Economizer & Adiabatic Cooling (Air-Cooled Chiller)<br>Training Compute: 2.05e+24 FLOP<br>CSP: 3.02e-20 kg CO2",
          "<b>FLAN 137B (2021)</b><br>Series: CSP<br>Cooling: Airside Economizer & Adiabatic Cooling (Water-Cooled Chiller)<br>Training Compute: 2.05e+24 FLOP<br>CSP: 2.95e-20 kg CO2",
          "<b>FLAN 137B (2021)</b><br>Series: CSP<br>Cooling: Waterside Economizer & Adiabatic Cooling (Water-Cooled Chiller)<br>Training Compute: 2.05e+24 FLOP<br>CSP: 2.88e-20 kg CO2",
          "<b>FLAN 137B (2021)</b><br>Series: CSP<br>Cooling: IT Liquid Cooling: Waterside Economizer (Water-Cooled Chiller)<br>Training Compute: 2.05e+24 FLOP<br>CSP: 2.92e-20 kg CO2",
          "<b>FLAN 137B (2021)</b><br>Series: CSP<br>Cooling: IT Liquid Cooling: Dry Cooler & Adiabitic Assist (Air-Cooled Chiller)<br>Training Compute: 2.05e+24 FLOP<br>CSP: 2.82e-20 kg CO2",
          "<b>FLAN 137B (2021)</b><br>Series: CSP<br>Cooling: IT Liquid Cooling: Dry Cooler (Air-Cooled Chiller)<br>Training Compute: 2.05e+24 FLOP<br>CSP: 2.82e-20 kg CO2"
         ],
         "legendgroup": "model_FLAN 137B (2021)",
         "marker": {
          "color": "hsl(130.9090909090909,70%,50%)",
          "line": {
           "color": "white",
           "width": 0.5
          },
          "size": 8,
          "symbol": [
           "circle",
           "x",
           "square",
           "diamond",
           "cross",
           "triangle-up",
           "star"
          ]
         },
         "mode": "markers",
         "name": "FLAN 137B (2021) - CSP",
         "showlegend": false,
         "type": "scatter",
         "x": {
          "bdata": "8hJIeoEX+0TyEkh6gRf7RPISSHqBF/tE8hJIeoEX+0TyEkh6gRf7RPISSHqBF/tE8hJIeoEX+0Q=",
          "dtype": "f8"
         },
         "y": {
          "bdata": "jAi1cyVG4jsa7IKZbs/hO8cZaRhcb+E7ZSLDavcD4TvhOf9iJ0LhO24IjAGEqeA7bgiMAYSp4Ds=",
          "dtype": "f8"
         }
        },
        {
         "hovertemplate": "%{hovertext}<extra></extra>",
         "hovertext": [
          "<b>AlphaGo Zero (2017)</b><br>Series: CSP<br>Cooling: Dry Cooler with Adiabatic Assist (Air-Cooled Chiller)<br>Training Compute: 3.41e+23 FLOP<br>CSP: 7.91e-20 kg CO2",
          "<b>AlphaGo Zero (2017)</b><br>Series: CSP<br>Cooling: Airside Economizer & Adiabatic Cooling (Air-Cooled Chiller)<br>Training Compute: 3.41e+23 FLOP<br>CSP: 7.71e-20 kg CO2",
          "<b>AlphaGo Zero (2017)</b><br>Series: CSP<br>Cooling: Airside Economizer & Adiabatic Cooling (Water-Cooled Chiller)<br>Training Compute: 3.41e+23 FLOP<br>CSP: 7.54e-20 kg CO2",
          "<b>AlphaGo Zero (2017)</b><br>Series: CSP<br>Cooling: Waterside Economizer & Adiabatic Cooling (Water-Cooled Chiller)<br>Training Compute: 3.41e+23 FLOP<br>CSP: 7.36e-20 kg CO2",
          "<b>AlphaGo Zero (2017)</b><br>Series: CSP<br>Cooling: IT Liquid Cooling: Waterside Economizer (Water-Cooled Chiller)<br>Training Compute: 3.41e+23 FLOP<br>CSP: 7.47e-20 kg CO2",
          "<b>AlphaGo Zero (2017)</b><br>Series: CSP<br>Cooling: IT Liquid Cooling: Dry Cooler & Adiabitic Assist (Air-Cooled Chiller)<br>Training Compute: 3.41e+23 FLOP<br>CSP: 7.21e-20 kg CO2",
          "<b>AlphaGo Zero (2017)</b><br>Series: CSP<br>Cooling: IT Liquid Cooling: Dry Cooler (Air-Cooled Chiller)<br>Training Compute: 3.41e+23 FLOP<br>CSP: 7.21e-20 kg CO2"
         ],
         "legendgroup": "model_AlphaGo Zero (2017)",
         "marker": {
          "color": "hsl(163.63636363636363,70%,50%)",
          "line": {
           "color": "white",
           "width": 0.5
          },
          "size": 8,
          "symbol": [
           "circle",
           "x",
           "square",
           "diamond",
           "cross",
           "triangle-up",
           "star"
          ]
         },
         "mode": "markers",
         "name": "AlphaGo Zero (2017) - CSP",
         "showlegend": false,
         "type": "scatter",
         "x": {
          "bdata": "YyQeaWkN0kRjJB5paQ3SRGMkHmlpDdJEYyQeaWkN0kRjJB5paQ3SRGMkHmlpDdJEYyQeaWkN0kQ=",
          "dtype": "f8"
         },
         "y": {
          "bdata": "KbXGbTxW9ztAZ/S6ob72O9VmAkXxQ/Y7qz+gsMu69TtQcKVRNgr2O2WAtAZJR/U7ZYC0BklH9Ts=",
          "dtype": "f8"
         }
        },
        {
         "hovertemplate": "%{hovertext}<extra></extra>",
         "hovertext": [
          "<b>GPT-3 175B (davinci) (2020)</b><br>Series: CSP<br>Cooling: Dry Cooler with Adiabatic Assist (Air-Cooled Chiller)<br>Training Compute: 3.14e+23 FLOP<br>CSP: 6.37e-20 kg CO2",
          "<b>GPT-3 175B (davinci) (2020)</b><br>Series: CSP<br>Cooling: Airside Economizer & Adiabatic Cooling (Air-Cooled Chiller)<br>Training Compute: 3.14e+23 FLOP<br>CSP: 6.21e-20 kg CO2",
          "<b>GPT-3 175B (davinci) (2020)</b><br>Series: CSP<br>Cooling: Airside Economizer & Adiabatic Cooling (Water-Cooled Chiller)<br>Training Compute: 3.14e+23 FLOP<br>CSP: 6.08e-20 kg CO2",
          "<b>GPT-3 175B (davinci) (2020)</b><br>Series: CSP<br>Cooling: Waterside Economizer & Adiabatic Cooling (Water-Cooled Chiller)<br>Training Compute: 3.14e+23 FLOP<br>CSP: 5.93e-20 kg CO2",
          "<b>GPT-3 175B (davinci) (2020)</b><br>Series: CSP<br>Cooling: IT Liquid Cooling: Waterside Economizer (Water-Cooled Chiller)<br>Training Compute: 3.14e+23 FLOP<br>CSP: 6.02e-20 kg CO2",
          "<b>GPT-3 175B (davinci) (2020)</b><br>Series: CSP<br>Cooling: IT Liquid Cooling: Dry Cooler & Adiabitic Assist (Air-Cooled Chiller)<br>Training Compute: 3.14e+23 FLOP<br>CSP: 5.81e-20 kg CO2",
          "<b>GPT-3 175B (davinci) (2020)</b><br>Series: CSP<br>Cooling: IT Liquid Cooling: Dry Cooler (Air-Cooled Chiller)<br>Training Compute: 3.14e+23 FLOP<br>CSP: 5.81e-20 kg CO2"
         ],
         "legendgroup": "model_GPT-3 175B (davinci) (2020)",
         "marker": {
          "color": "hsl(196.36363636363637,70%,50%)",
          "line": {
           "color": "white",
           "width": 0.5
          },
          "size": 8,
          "symbol": [
           "circle",
           "x",
           "square",
           "diamond",
           "cross",
           "triangle-up",
           "star"
          ]
         },
         "mode": "markers",
         "name": "GPT-3 175B (davinci) (2020) - CSP",
         "showlegend": false,
         "type": "scatter",
         "x": {
          "bdata": "xCzJV36f0ETELMlXfp/QRMQsyVd+n9BExCzJV36f0ETELMlXfp/QRMQsyVd+n9BExCzJV36f0EQ=",
          "dtype": "f8"
         },
         "y": {
          "bdata": "S++BBDrP8jtI/eWkCFXyOzJDAncl8vE7Jm1CMJuD8TslbUemncPxOyT0cUWBJvE7JPRxRYEm8Ts=",
          "dtype": "f8"
         }
        },
        {
         "hovertemplate": "%{hovertext}<extra></extra>",
         "hovertext": [
          "<b>OpenAI Five (2019)</b><br>Series: CSP<br>Cooling: Dry Cooler with Adiabatic Assist (Air-Cooled Chiller)<br>Training Compute: 6.70e+22 FLOP<br>CSP: 5.99e-20 kg CO2",
          "<b>OpenAI Five (2019)</b><br>Series: CSP<br>Cooling: Airside Economizer & Adiabatic Cooling (Air-Cooled Chiller)<br>Training Compute: 6.70e+22 FLOP<br>CSP: 5.84e-20 kg CO2",
          "<b>OpenAI Five (2019)</b><br>Series: CSP<br>Cooling: Airside Economizer & Adiabatic Cooling (Water-Cooled Chiller)<br>Training Compute: 6.70e+22 FLOP<br>CSP: 5.72e-20 kg CO2",
          "<b>OpenAI Five (2019)</b><br>Series: CSP<br>Cooling: Waterside Economizer & Adiabatic Cooling (Water-Cooled Chiller)<br>Training Compute: 6.70e+22 FLOP<br>CSP: 5.58e-20 kg CO2",
          "<b>OpenAI Five (2019)</b><br>Series: CSP<br>Cooling: IT Liquid Cooling: Waterside Economizer (Water-Cooled Chiller)<br>Training Compute: 6.70e+22 FLOP<br>CSP: 5.66e-20 kg CO2",
          "<b>OpenAI Five (2019)</b><br>Series: CSP<br>Cooling: IT Liquid Cooling: Dry Cooler & Adiabitic Assist (Air-Cooled Chiller)<br>Training Compute: 6.70e+22 FLOP<br>CSP: 5.47e-20 kg CO2",
          "<b>OpenAI Five (2019)</b><br>Series: CSP<br>Cooling: IT Liquid Cooling: Dry Cooler (Air-Cooled Chiller)<br>Training Compute: 6.70e+22 FLOP<br>CSP: 5.47e-20 kg CO2"
         ],
         "legendgroup": "model_OpenAI Five (2019)",
         "marker": {
          "color": "hsl(229.0909090909091,70%,50%)",
          "line": {
           "color": "white",
           "width": 0.5
          },
          "size": 8,
          "symbol": [
           "circle",
           "x",
           "square",
           "diamond",
           "cross",
           "triangle-up",
           "star"
          ]
         },
         "mode": "markers",
         "name": "OpenAI Five (2019) - CSP",
         "showlegend": false,
         "type": "scatter",
         "x": {
          "bdata": "iJL1kCdgrESIkvWQJ2CsRIiS9ZAnYKxEiJL1kCdgrESIkvWQJ2CsRIiS9ZAnYKxEiJL1kCdgrEQ=",
          "dtype": "f8"
         },
         "y": {
          "bdata": "O55pdBax8TvLWzrwJz7xOzV6HxUl4fA7M2h6ZSx58DuGlbQcYbXwO1CwxceaIfA7ULDFx5oh8Ds=",
          "dtype": "f8"
         }
        },
        {
         "hovertemplate": "%{hovertext}<extra></extra>",
         "hovertext": [
          "<b>ResNeXt-101 32x48d (2018)</b><br>Series: CSP<br>Cooling: Dry Cooler with Adiabatic Assist (Air-Cooled Chiller)<br>Training Compute: 8.74e+21 FLOP<br>CSP: 6.37e-20 kg CO2",
          "<b>ResNeXt-101 32x48d (2018)</b><br>Series: CSP<br>Cooling: Airside Economizer & Adiabatic Cooling (Air-Cooled Chiller)<br>Training Compute: 8.74e+21 FLOP<br>CSP: 6.21e-20 kg CO2",
          "<b>ResNeXt-101 32x48d (2018)</b><br>Series: CSP<br>Cooling: Airside Economizer & Adiabatic Cooling (Water-Cooled Chiller)<br>Training Compute: 8.74e+21 FLOP<br>CSP: 6.08e-20 kg CO2",
          "<b>ResNeXt-101 32x48d (2018)</b><br>Series: CSP<br>Cooling: Waterside Economizer & Adiabatic Cooling (Water-Cooled Chiller)<br>Training Compute: 8.74e+21 FLOP<br>CSP: 5.93e-20 kg CO2",
          "<b>ResNeXt-101 32x48d (2018)</b><br>Series: CSP<br>Cooling: IT Liquid Cooling: Waterside Economizer (Water-Cooled Chiller)<br>Training Compute: 8.74e+21 FLOP<br>CSP: 6.02e-20 kg CO2",
          "<b>ResNeXt-101 32x48d (2018)</b><br>Series: CSP<br>Cooling: IT Liquid Cooling: Dry Cooler & Adiabitic Assist (Air-Cooled Chiller)<br>Training Compute: 8.74e+21 FLOP<br>CSP: 5.81e-20 kg CO2",
          "<b>ResNeXt-101 32x48d (2018)</b><br>Series: CSP<br>Cooling: IT Liquid Cooling: Dry Cooler (Air-Cooled Chiller)<br>Training Compute: 8.74e+21 FLOP<br>CSP: 5.81e-20 kg CO2"
         ],
         "legendgroup": "model_ResNeXt-101 32x48d (2018)",
         "marker": {
          "color": "hsl(261.8181818181818,70%,50%)",
          "line": {
           "color": "white",
           "width": 0.5
          },
          "size": 8,
          "symbol": [
           "circle",
           "x",
           "square",
           "diamond",
           "cross",
           "triangle-up",
           "star"
          ]
         },
         "mode": "markers",
         "name": "ResNeXt-101 32x48d (2018) - CSP",
         "showlegend": false,
         "type": "scatter",
         "x": {
          "bdata": "DhRZ7CqgfUQOFFnsKqB9RA4UWewqoH1EDhRZ7CqgfUQOFFnsKqB9RA4UWewqoH1EDhRZ7CqgfUQ=",
          "dtype": "f8"
         },
         "y": {
          "bdata": "TO+BBDrP8jtI/eWkCFXyOzJDAncl8vE7JW1CMJuD8TskbUemncPxOyT0cUWBJvE7JPRxRYEm8Ts=",
          "dtype": "f8"
         }
        },
        {
         "hovertemplate": "%{hovertext}<extra></extra>",
         "hovertext": [
          "<b>GNMT (2016)</b><br>Series: CSP<br>Cooling: Dry Cooler with Adiabatic Assist (Air-Cooled Chiller)<br>Training Compute: 6.62e+21 FLOP<br>CSP: 2.91e-19 kg CO2",
          "<b>GNMT (2016)</b><br>Series: CSP<br>Cooling: Airside Economizer & Adiabatic Cooling (Air-Cooled Chiller)<br>Training Compute: 6.62e+21 FLOP<br>CSP: 2.84e-19 kg CO2",
          "<b>GNMT (2016)</b><br>Series: CSP<br>Cooling: Airside Economizer & Adiabatic Cooling (Water-Cooled Chiller)<br>Training Compute: 6.62e+21 FLOP<br>CSP: 2.78e-19 kg CO2",
          "<b>GNMT (2016)</b><br>Series: CSP<br>Cooling: Waterside Economizer & Adiabatic Cooling (Water-Cooled Chiller)<br>Training Compute: 6.62e+21 FLOP<br>CSP: 2.71e-19 kg CO2",
          "<b>GNMT (2016)</b><br>Series: CSP<br>Cooling: IT Liquid Cooling: Waterside Economizer (Water-Cooled Chiller)<br>Training Compute: 6.62e+21 FLOP<br>CSP: 2.75e-19 kg CO2",
          "<b>GNMT (2016)</b><br>Series: CSP<br>Cooling: IT Liquid Cooling: Dry Cooler & Adiabitic Assist (Air-Cooled Chiller)<br>Training Compute: 6.62e+21 FLOP<br>CSP: 2.66e-19 kg CO2",
          "<b>GNMT (2016)</b><br>Series: CSP<br>Cooling: IT Liquid Cooling: Dry Cooler (Air-Cooled Chiller)<br>Training Compute: 6.62e+21 FLOP<br>CSP: 2.66e-19 kg CO2"
         ],
         "legendgroup": "model_GNMT (2016)",
         "marker": {
          "color": "hsl(294.54545454545456,70%,50%)",
          "line": {
           "color": "white",
           "width": 0.5
          },
          "size": 8,
          "symbol": [
           "circle",
           "x",
           "square",
           "diamond",
           "cross",
           "triangle-up",
           "star"
          ]
         },
         "mode": "markers",
         "name": "GNMT (2016) - CSP",
         "showlegend": false,
         "type": "scatter",
         "x": {
          "bdata": "mc3bSO9tdkSZzdtI7212RJnN20jvbXZEmc3bSO9tdkSZzdtI7212RJnN20jvbXZEmc3bSO9tdkQ=",
          "dtype": "f8"
         },
         "y": {
          "bdata": "f0E7Lp5/FTzkDa3H9PMUPBjpO4LughQ85Tw8rJYEFDyM+KbDv00UPEPFP20tmhM8Q8U/bS2aEzw=",
          "dtype": "f8"
         }
        },
        {
         "hovertemplate": "%{hovertext}<extra></extra>",
         "hovertext": [
          "<b>AlphaGo Fan (2015)</b><br>Series: CSP<br>Cooling: Dry Cooler with Adiabatic Assist (Air-Cooled Chiller)<br>Training Compute: 3.80e+20 FLOP<br>CSP: 3.48e-19 kg CO2",
          "<b>AlphaGo Fan (2015)</b><br>Series: CSP<br>Cooling: Airside Economizer & Adiabatic Cooling (Air-Cooled Chiller)<br>Training Compute: 3.80e+20 FLOP<br>CSP: 3.40e-19 kg CO2",
          "<b>AlphaGo Fan (2015)</b><br>Series: CSP<br>Cooling: Airside Economizer & Adiabatic Cooling (Water-Cooled Chiller)<br>Training Compute: 3.80e+20 FLOP<br>CSP: 3.32e-19 kg CO2",
          "<b>AlphaGo Fan (2015)</b><br>Series: CSP<br>Cooling: Waterside Economizer & Adiabatic Cooling (Water-Cooled Chiller)<br>Training Compute: 3.80e+20 FLOP<br>CSP: 3.24e-19 kg CO2",
          "<b>AlphaGo Fan (2015)</b><br>Series: CSP<br>Cooling: IT Liquid Cooling: Waterside Economizer (Water-Cooled Chiller)<br>Training Compute: 3.80e+20 FLOP<br>CSP: 3.29e-19 kg CO2",
          "<b>AlphaGo Fan (2015)</b><br>Series: CSP<br>Cooling: IT Liquid Cooling: Dry Cooler & Adiabitic Assist (Air-Cooled Chiller)<br>Training Compute: 3.80e+20 FLOP<br>CSP: 3.18e-19 kg CO2",
          "<b>AlphaGo Fan (2015)</b><br>Series: CSP<br>Cooling: IT Liquid Cooling: Dry Cooler (Air-Cooled Chiller)<br>Training Compute: 3.80e+20 FLOP<br>CSP: 3.18e-19 kg CO2"
         ],
         "legendgroup": "model_AlphaGo Fan (2015)",
         "marker": {
          "color": "hsl(327.27272727272725,70%,50%)",
          "line": {
           "color": "white",
           "width": 0.5
          },
          "size": 8,
          "symbol": [
           "circle",
           "x",
           "square",
           "diamond",
           "cross",
           "triangle-up",
           "star"
          ]
         },
         "mode": "markers",
         "name": "AlphaGo Fan (2015) - CSP",
         "showlegend": false,
         "type": "scatter",
         "x": {
          "bdata": "cHisMo+ZNERweKwyj5k0RHB4rDKPmTREcHisMo+ZNERweKwyj5k0RHB4rDKPmTREcHisMo+ZNEQ=",
          "dtype": "f8"
         },
         "y": {
          "bdata": "Noz3ybm0GTykwsgfuw0ZPMCQcSeWhhg8CJMuVoTvFzzF6oDh/kYYPGACbrtHcBc8YAJuu0dwFzw=",
          "dtype": "f8"
         }
        },
        {
         "hovertemplate": "<b>US Grid Regression</b><br>R² = 0.710<br>Slope = -0.203<br><extra></extra>",
         "line": {
          "color": "black",
          "dash": "dash",
          "width": 2
         },
         "mode": "lines",
         "name": "US Grid Regression (R²=0.710)",
         "showlegend": true,
         "type": "scatter",
         "x": {
          "bdata": "b3isMo+ZNETE6KdAjrs3RLArX8GEVztEpVEWIf9/P0Qwljb3LSVCRDXwTtac50RErNinrHoVSETTzBsYHr9LRGJo0cxZ909E6Py8qO5pUkQky9Y40jZVRDPbkdG7cFhEEsjQ+D8oXEQvM3RaPDhgRJ5Qs9uzr2JEk2LaujOHZUQ8K2e6Vs1oRPHz1DLwkmxEibpxRbF1cEQhZilrgfZyRLT9hc3F2HVEWKlEhVAreURNtoKrNP98RFmt0wwPtIBE0hHLQFs+g0QSqtryjCuGRApDq2OuiolEW26LXhNtjUTayeoiWfOQRD+DF1VFh5NEOALuvY1/lkRTasmadeuZRNEaTF6S3J1E6eoWB5MzoUSCcZmvQ9GjRDDkKtPM1KZEn6XFg6tNqkRXPiPUt02uRJiD+EXAdLFEdx0gZ1octEQBH5PoTiu3REs6CoxVsbpEIQzIAIrAvkRH1qJ55LbBRA8q+aGNaMREExkCxhiDx0S285E1eRbLRC3dojwPNc9EkejOSQP60UR1UiuW4bXURDFxcEUv3NdEWg82Fxx920Rm9ib4TavfRL05D2wgPuJE9fuxiVoE5US6oThTlzboRDNQ/dxD5etE5M8WXqYR8EQbPQSkP4PyRJurudL8U/VE3Kdc7lWS+ESLO2xI9k78RHtMKRWJTgBFx5mRw2TJAkXOX93XzKQFRdKwzChw7whF/ofWMDm6DEXm86h+UowQRco1FKuTEBNFgNNkEM/2FUXX1K4n600ZRR3BsYMSJx1FyoazBAbLIEULDZlJ0FgjRSyrgwQISiZF8+GnI8ytKUXXIelEiJUtRZfRVh6nCjFFDdkUnR6iM0UdlJlNfJ42RYY4JWkYDzpF8q4yj6AFPkWYssFPOUtBRaKJnLKC7ENFulNzljD0RkX/wadY1XFKRf6TZZRhd05FAdh1KsCMUUU+lp6mADhURYPPjJspS1dFLQIQZwjWWkUcxdGd0epeRd08ek0/z2FFyiUdpZyEZEUIDlQrbKNnRUhK6x23O2tFMu+YDPdfb0XeYo5luhJyRcwU6ela0nRFAzdtJv38d0U=",
          "dtype": "f8"
         },
         "y": {
          "bdata": "p9dAjLivYzwnZi7ZIyFjPAfKMs6XlmI8Rb0uNPcPYjyhSpunJY1hPEtOjZIHDmE8LlHkJoKSYDyZhaNYexpgPDBp57CzS1885eWZHAppXjwe+o0oyoxdPPtEHmPFtlw8ImMFq87mWzw+tNkluhxbPCAMzjZdWFo8Yl21dY6ZWTxxeUemJeBYPL8Npa/7K1g8yBEZlOp8Vzxh7hVpzdJWPBqnbE+ALVY8Q2i8a+CMVTyi2hjfy/BUPIS25b8hWVQ8RQ7mEsLFUzzi333EjTZTPHJ7JKJmq1I8qmIGVC8kUjz5Q9VWy6BRPJ3IxPUeIVE8x+yyRA+lUDx0qHoagixQPKxt3xa8bk88oqMEyBSLTjx/fxNH3q1NPKQ1ae7p1kw80II7agoGTDx0ygmvEztLPNZtU/DadUo8tGeRlza2STwcRnE7/vtIPAyoT5cKR0g88HHwgjWXRzwH+3LqWexGPCWCgMZTRkY8wUKzFAClRTx8jzTQPAhFPHtkkOrob0Q8Cu+8ROTbQzxokVSoD0xDPGr0AMFMwEI8dsQVFn44Qjw0wVkEh7RBPOfP/LdLNEE8v8i5JrG3QDxUxiIKnT5APEt9LbTrkT881n6+jkWtPjyHTOpsF889PB5+1nQy9zw882L7H2klPDyYbooxj1k7PCcqGq15kzo8lbWVzf7SOTxz8G389Rc5PI1tCsk3Yjg8d2J44J2xNzwt01UFAwY3PEFG9wdDXzY8xFjGvjq9NTw3ldf+xx81PC7+tZTJhjQ8ZMhiPR/yMzx+yYefqWEzPIUr20RK1TI8JAGzk+NMMjxoYMfIWMgxPG+yIfGNRzE85O835GfKMDz5jDI+zFAwPEnAt7RCtS88Ya1vm5zPLjwkpYXDdfAtPCgtrR6fFy08Y1to8+pELDxkgmPTLHgrPKmxFpI5sSo8ZBGrO+fvKTwaLyIMDTQpPJVcvWaDfSg8KVCjzSPMJzxsRMLZyB8nPBPi7DJOeCY8I0kwiJDVJTwXm2GIbTclPMh04drDnSQ8ONKTGHMIJDzK3wrFW3cjPGJH40df6iI80ZNQ5l9hIjw=",
          "dtype": "f8"
         }
        },
        {
         "hovertemplate": "<b>Hydropower Regression</b><br>R² = 0.668<br>Slope = -0.181<br><extra></extra>",
         "line": {
          "color": "blue",
          "dash": "dash",
          "width": 2
         },
         "mode": "lines",
         "name": "Hydropower Regression (R²=0.668)",
         "showlegend": true,
         "type": "scatter",
         "x": {
          "bdata": "b3isMo+ZNETE6KdAjrs3RLArX8GEVztEpVEWIf9/P0Qwljb3LSVCRDXwTtac50RErNinrHoVSETTzBsYHr9LRGJo0cxZ909E6Py8qO5pUkQky9Y40jZVRDPbkdG7cFhEEsjQ+D8oXEQvM3RaPDhgRJ5Qs9uzr2JEk2LaujOHZUQ8K2e6Vs1oRPHz1DLwkmxEibpxRbF1cEQhZilrgfZyRLT9hc3F2HVEWKlEhVAreURNtoKrNP98RFmt0wwPtIBE0hHLQFs+g0QSqtryjCuGRApDq2OuiolEW26LXhNtjUTayeoiWfOQRD+DF1VFh5NEOALuvY1/lkRTasmadeuZRNEaTF6S3J1E6eoWB5MzoUSCcZmvQ9GjRDDkKtPM1KZEn6XFg6tNqkRXPiPUt02uRJiD+EXAdLFEdx0gZ1octEQBH5PoTiu3REs6CoxVsbpEIQzIAIrAvkRH1qJ55LbBRA8q+aGNaMREExkCxhiDx0S285E1eRbLRC3dojwPNc9EkejOSQP60UR1UiuW4bXURDFxcEUv3NdEWg82Fxx920Rm9ib4TavfRL05D2wgPuJE9fuxiVoE5US6oThTlzboRDNQ/dxD5etE5M8WXqYR8EQbPQSkP4PyRJurudL8U/VE3Kdc7lWS+ESLO2xI9k78RHtMKRWJTgBFx5mRw2TJAkXOX93XzKQFRdKwzChw7whF/ofWMDm6DEXm86h+UowQRco1FKuTEBNFgNNkEM/2FUXX1K4n600ZRR3BsYMSJx1FyoazBAbLIEULDZlJ0FgjRSyrgwQISiZF8+GnI8ytKUXXIelEiJUtRZfRVh6nCjFFDdkUnR6iM0UdlJlNfJ42RYY4JWkYDzpF8q4yj6AFPkWYssFPOUtBRaKJnLKC7ENFulNzljD0RkX/wadY1XFKRf6TZZRhd05FAdh1KsCMUUU+lp6mADhURYPPjJspS1dFLQIQZwjWWkUcxdGd0epeRd08ek0/z2FFyiUdpZyEZEUIDlQrbKNnRUhK6x23O2tFMu+YDPdfb0XeYo5luhJyRcwU6ela0nRFAzdtJv38d0U=",
          "dtype": "f8"
         },
         "y": {
          "bdata": "HT6u9YLoHzwk/kdX/xkfPIjdqE60UB48SY9FEYCMHTwRK0avQc0cPB63/g3ZEhw8gH2L4iZdGzwjQJCsDKwaPBBuGbFs/xk83Xqe9SlXGTydhSQ7KLMYPIN5gPlLExg8QeC3Wnp3FzzHnH82md8WPDbQ1w2PSxY8HCjEBkO7FTwm4R/onC4VPAfKjBWFpRQ8zJZ8i+QfFDwo3VPbpJ0TPBoQpiewHhM84dqJIPGiEjz0PgUAUyoSPPjXkIbBtBE8e7Kx9yhCETxrIqkWdtIQPEAKOiOWZRA8hhQGre32DzymG9q/DCgPPHxoW8RmXg48piu64NmZDTyHyjwWRdoMPLDqtTuIHww8blYe+INpCzxE0VG9GbgKPPX97cIrCwo80HRSAZ1iCTzgNcEsUb4IPHannrAsHgg8hlDQqhSCBzyliznn7ukGPPxtVduhVQY8hijtoRTFBTw6J+r2LjgFPMA9QzPZrgQ8WzAESfwoBDxY8W6/gaYDPB/pNa9TJwM8dajOvlyrAjxyadweiDICPHi+sYbBvAE8aOHoMPVJATwUChLYD9oAPARAd7P+bAA8rR31c68CADyk9c+BIDb/O+H2WWofbP47XQdtuDmn/TsnIWdeTuf8O9P6kiQ9LPw7kHu/o+Z1+zv0Lvo/LMT6O7rZayPwFvo7jU1WORVu+TurqDIpf8n4O70s71ESKfg79+NLxbOM9zu8SFVDSfT2Owcx/DW5X/Y7sT3KrOrO9Ts8GLJYxUH1O17H+ocxuPQ7p2xFIhgy9Ds5w6ykYq/zO4Ox/R37L/M73lQIK8yz8jtj4QjzwDryO6m+JyTFxPE7T0wQ8MRR8TuvuJ0IreHwO3FcnZxqdPA7DBGmVOsJ8Dv+7gegOkTvO49acEPeee47qtsXm5+07TsqRG2KXfTsOyzLLMv3OOw7fQ71506C6zvyJP82RNDqO8fg+NS5Iuo7G2AAoJJ56Tu2F8AystToO5SEqt/8M+g7U7ZUrFeX5zsl7u5MqP7mO3GL2h/VaeY7eopcKcXY5Tv03WsPYEvlO1vrmhWOweQ7cX0bGTg75Ds=",
          "dtype": "f8"
         }
        },
        {
         "hovertemplate": "<b>Nuclear Regression</b><br>R² = 0.668<br>Slope = -0.181<br><extra></extra>",
         "line": {
          "color": "red",
          "dash": "dash",
          "width": 2
         },
         "mode": "lines",
         "name": "Nuclear Regression (R²=0.668)",
         "showlegend": true,
         "type": "scatter",
         "x": {
          "bdata": "b3isMo+ZNETE6KdAjrs3RLArX8GEVztEpVEWIf9/P0Qwljb3LSVCRDXwTtac50RErNinrHoVSETTzBsYHr9LRGJo0cxZ909E6Py8qO5pUkQky9Y40jZVRDPbkdG7cFhEEsjQ+D8oXEQvM3RaPDhgRJ5Qs9uzr2JEk2LaujOHZUQ8K2e6Vs1oRPHz1DLwkmxEibpxRbF1cEQhZilrgfZyRLT9hc3F2HVEWKlEhVAreURNtoKrNP98RFmt0wwPtIBE0hHLQFs+g0QSqtryjCuGRApDq2OuiolEW26LXhNtjUTayeoiWfOQRD+DF1VFh5NEOALuvY1/lkRTasmadeuZRNEaTF6S3J1E6eoWB5MzoUSCcZmvQ9GjRDDkKtPM1KZEn6XFg6tNqkRXPiPUt02uRJiD+EXAdLFEdx0gZ1octEQBH5PoTiu3REs6CoxVsbpEIQzIAIrAvkRH1qJ55LbBRA8q+aGNaMREExkCxhiDx0S285E1eRbLRC3dojwPNc9EkejOSQP60UR1UiuW4bXURDFxcEUv3NdEWg82Fxx920Rm9ib4TavfRL05D2wgPuJE9fuxiVoE5US6oThTlzboRDNQ/dxD5etE5M8WXqYR8EQbPQSkP4PyRJurudL8U/VE3Kdc7lWS+ESLO2xI9k78RHtMKRWJTgBFx5mRw2TJAkXOX93XzKQFRdKwzChw7whF/ofWMDm6DEXm86h+UowQRco1FKuTEBNFgNNkEM/2FUXX1K4n600ZRR3BsYMSJx1FyoazBAbLIEULDZlJ0FgjRSyrgwQISiZF8+GnI8ytKUXXIelEiJUtRZfRVh6nCjFFDdkUnR6iM0UdlJlNfJ42RYY4JWkYDzpF8q4yj6AFPkWYssFPOUtBRaKJnLKC7ENFulNzljD0RkX/wadY1XFKRf6TZZRhd05FAdh1KsCMUUU+lp6mADhURYPPjJspS1dFLQIQZwjWWkUcxdGd0epeRd08ek0/z2FFyiUdpZyEZEUIDlQrbKNnRUhK6x23O2tFMu+YDPdfb0XeYo5luhJyRcwU6ela0nRFAzdtJv38d0U=",
          "dtype": "f8"
         },
         "y": {
          "bdata": "GwMyqsnyITz2fhihn34hPMX8PmxlDSE8wSC3CQifIDw7eJfydDMgPASOvi80lR88eu3cvsvIHjxvSCJCjgEePNWbPEdaPx08PEpSNA+CHDyTFolCjckbPPSIsHi1FRs8TNwOpmlmGjxikE9djLsZPHnKku8AFRk8Wq2cZ6tyGDyE3SOFcNQXPEtjPrg1Ohc83CnsHOGjFjwCWb52WREWPCDSmiyGghU8QBabRE/3FDzV5gVgnW8UPCfzYrdZ6xM8+einFm5qEzy6Rn7ZxOwSPLRLoedIchI8tmtTseX6ETyPr+orh4YRPMhqc84ZFRE8tbhojoqmEDwTMoLcxjoQPFKoLEN5ow88PiEid7TWDjy1C/z0HA8OPPq9SzuRTA08bcN8ofCODDyfXFlSG9YLPKZ8skbyIQs81loqQFdyCjwdvSDELMcJPL4bwBZWIAk80s0qNrd9CDxbbMfVNN8HPHulq1m0RAc8nbYk0huuBjyFz1z3URsGPEWmHCU+jAU8tn2oVsgABTyj9rci2XgEPHf2h7dZ9AM8w/0F1zNzAzxYSxTTUfUCPDEo5omeegI8jsFzYgUDAjwu+gRJco4BPOCa0qvRHAE8JlS9dxCuADzNAhoVHEIAPHpaJcnEsf87BWs3eKPk/jsbdfnHsRz+OzhV2SfOWf07gxeB4Neb/DvE/VgOr+L7O1cSLZw0Lvs7tmD1PUp++jsS8r9r0tL5Oyu3u1ywK/k7ooVjAsiI+Dt8W8gD/un3O0wg+rg3T/c7cxqOJlu49jujW0L5TiX2O+dnvYH6lfU7rF9psEUK9TuR/WkRGYL0O662rMhd/fM7CFYSjv178zvGb7Gp4v3yOwEIMfD3gvI7MNM6vygL8juZdgT6YJbxOxoz7wWNJPE7kms9x5m18Dt/dt2ddEnwO95kksQWwO87ULDzxJjy7juUCd+9TCruO+L8lw8RZ+07Y2wA9MSo7DvwGhh5SO/rOynVn3t8Ous7XU3foUKK6jsozIxWfd7pO+Hc1cMPN+k7BByIzt2T6Du1WVkRzPTnO/5ITti/Wec7Vu0+HJ/C5js=",
          "dtype": "f8"
         }
        },
        {
         "hovertemplate": "<b>CSP Regression</b><br>R² = 0.668<br>Slope = -0.181<br><extra></extra>",
         "line": {
          "color": "green",
          "dash": "dash",
          "width": 2
         },
         "mode": "lines",
         "name": "CSP Regression (R²=0.668)",
         "showlegend": true,
         "type": "scatter",
         "x": {
          "bdata": "b3isMo+ZNETE6KdAjrs3RLArX8GEVztEpVEWIf9/P0Qwljb3LSVCRDXwTtac50RErNinrHoVSETTzBsYHr9LRGJo0cxZ909E6Py8qO5pUkQky9Y40jZVRDPbkdG7cFhEEsjQ+D8oXEQvM3RaPDhgRJ5Qs9uzr2JEk2LaujOHZUQ8K2e6Vs1oRPHz1DLwkmxEibpxRbF1cEQhZilrgfZyRLT9hc3F2HVEWKlEhVAreURNtoKrNP98RFmt0wwPtIBE0hHLQFs+g0QSqtryjCuGRApDq2OuiolEW26LXhNtjUTayeoiWfOQRD+DF1VFh5NEOALuvY1/lkRTasmadeuZRNEaTF6S3J1E6eoWB5MzoUSCcZmvQ9GjRDDkKtPM1KZEn6XFg6tNqkRXPiPUt02uRJiD+EXAdLFEdx0gZ1octEQBH5PoTiu3REs6CoxVsbpEIQzIAIrAvkRH1qJ55LbBRA8q+aGNaMREExkCxhiDx0S285E1eRbLRC3dojwPNc9EkejOSQP60UR1UiuW4bXURDFxcEUv3NdEWg82Fxx920Rm9ib4TavfRL05D2wgPuJE9fuxiVoE5US6oThTlzboRDNQ/dxD5etE5M8WXqYR8EQbPQSkP4PyRJurudL8U/VE3Kdc7lWS+ESLO2xI9k78RHtMKRWJTgBFx5mRw2TJAkXOX93XzKQFRdKwzChw7whF/ofWMDm6DEXm86h+UowQRco1FKuTEBNFgNNkEM/2FUXX1K4n600ZRR3BsYMSJx1FyoazBAbLIEULDZlJ0FgjRSyrgwQISiZF8+GnI8ytKUXXIelEiJUtRZfRVh6nCjFFDdkUnR6iM0UdlJlNfJ42RYY4JWkYDzpF8q4yj6AFPkWYssFPOUtBRaKJnLKC7ENFulNzljD0RkX/wadY1XFKRf6TZZRhd05FAdh1KsCMUUU+lp6mADhURYPPjJspS1dFLQIQZwjWWkUcxdGd0epeRd08ek0/z2FFyiUdpZyEZEUIDlQrbKNnRUhK6x23O2tFMu+YDPdfb0XeYo5luhJyRcwU6ela0nRFAzdtJv38d0U=",
          "dtype": "f8"
         },
         "y": {
          "bdata": "Gz6u9YLoDzwi/kdX/xkPPIfdqE60UA48R49FEYCMDTwPK0avQc0MPBy3/g3ZEgw8f32L4iZdCzwiQJCsDKwKPA9uGbFs/wk83Xqe9SlXCTychSQ7KLMIPIJ5gPlLEwg8QOC3Wnp3BzzGnH82md8GPDbQ1w2PSwY8GyjEBkO7BTwl4R/onC4FPAfKjBWFpQQ8y5Z8i+QfBDwn3VPbpJ0DPBkQpiewHgM84dqJIPGiAjzzPgUAUyoCPPfXkIbBtAE8erKx9yhCATxrIqkWdtIAPEAKOiOWZQA8hBQGre32/zulG9q/DCj/O3toW8RmXv47pSu64NmZ/TuGyjwWRdr8O6/qtTuIH/w7bFYe+INp+ztD0VG9Gbj6O/T97cIrC/o7z3RSAZ1i+TvgNcEsUb74O3WnnrAsHvg7hVDQqhSC9zukiznn7un2O/ttVduhVfY7hijtoRTF9Ts5J+r2Ljj1O8A9QzPZrvQ7WzAESfwo9DtX8W6/gabzOx/pNa9TJ/M7dKjOvlyr8jtyadweiDLyO3e+sYbBvPE7Z+HoMPVJ8TsTChLYD9rwOwNAd7P+bPA7rB31c68C8Duj9c+BIDbvO+D2WWofbO47XAdtuDmn7TsmIWdeTufsO9L6kiQ9LOw7j3u/o+Z16zvzLvo/LMTqO7nZayPwFuo7jE1WORVu6TuqqDIpf8noO7ws71ESKeg79uNLxbOM5zu7SFVDSfTmOwcx/DW5X+Y7sD3KrOrO5Ts7GLJYxUHlO13H+ocxuOQ7p2xFIhgy5Ds4w6ykYq/jO4Kx/R37L+M73VQIK8yz4jti4QjzwDriO6i+JyTFxOE7TkwQ8MRR4TuuuJ0IreHgO3BcnZxqdOA7DBGmVOsJ4Dv97gegOkTfO45acEPeed47qdsXm5+03TspRG2KXfTcOyvLLMv3ONw7fA71506C2zvxJP82RNDaO8bg+NS5Ito7GmAAoJJ52Tu1F8AystTYO5OEqt/8M9g7UrZUrFeX1zsk7u5MqP7WO3CL2h/VadY7eYpcKcXY1Tvz3WsPYEvVO1rrmhWOwdQ7cX0bGTg71Ds=",
          "dtype": "f8"
         }
        },
        {
         "hoverinfo": "skip",
         "legendgroup": "cooling_Dry Cooler with Adiabatic Assist (Air-Cooled Chiller)",
         "marker": {
          "color": "rgba(0,0,0,0.7)",
          "line": {
           "color": "white",
           "width": 1
          },
          "size": 8,
          "symbol": "circle"
         },
         "mode": "markers",
         "name": "Dry Cooler with Adiabatic Assist (Air-Cooled Chiller)",
         "showlegend": true,
         "type": "scatter",
         "x": [
          null
         ],
         "y": [
          null
         ]
        },
        {
         "hoverinfo": "skip",
         "legendgroup": "cooling_Airside Economizer & Adiabatic Cooling (Air-Cooled Chiller)",
         "marker": {
          "color": "rgba(0,0,0,0.7)",
          "line": {
           "color": "white",
           "width": 1
          },
          "size": 8,
          "symbol": "x"
         },
         "mode": "markers",
         "name": "Airside Economizer & Adiabatic Cooling (Air-Cooled Chiller)",
         "showlegend": true,
         "type": "scatter",
         "x": [
          null
         ],
         "y": [
          null
         ]
        },
        {
         "hoverinfo": "skip",
         "legendgroup": "cooling_Airside Economizer & Adiabatic Cooling (Water-Cooled Chiller)",
         "marker": {
          "color": "rgba(0,0,0,0.7)",
          "line": {
           "color": "white",
           "width": 1
          },
          "size": 8,
          "symbol": "square"
         },
         "mode": "markers",
         "name": "Airside Economizer & Adiabatic Cooling (Water-Cooled Chiller)",
         "showlegend": true,
         "type": "scatter",
         "x": [
          null
         ],
         "y": [
          null
         ]
        },
        {
         "hoverinfo": "skip",
         "legendgroup": "cooling_Waterside Economizer & Adiabatic Cooling (Water-Cooled Chiller)",
         "marker": {
          "color": "rgba(0,0,0,0.7)",
          "line": {
           "color": "white",
           "width": 1
          },
          "size": 8,
          "symbol": "diamond"
         },
         "mode": "markers",
         "name": "Waterside Economizer & Adiabatic Cooling (Water-Cooled Chiller)",
         "showlegend": true,
         "type": "scatter",
         "x": [
          null
         ],
         "y": [
          null
         ]
        },
        {
         "hoverinfo": "skip",
         "legendgroup": "cooling_IT Liquid Cooling: Waterside Economizer (Water-Cooled Chiller)",
         "marker": {
          "color": "rgba(0,0,0,0.7)",
          "line": {
           "color": "white",
           "width": 1
          },
          "size": 8,
          "symbol": "cross"
         },
         "mode": "markers",
         "name": "IT Liquid Cooling: Waterside Economizer (Water-Cooled Chiller)",
         "showlegend": true,
         "type": "scatter",
         "x": [
          null
         ],
         "y": [
          null
         ]
        },
        {
         "hoverinfo": "skip",
         "legendgroup": "cooling_IT Liquid Cooling: Dry Cooler & Adiabitic Assist (Air-Cooled Chiller)",
         "marker": {
          "color": "rgba(0,0,0,0.7)",
          "line": {
           "color": "white",
           "width": 1
          },
          "size": 8,
          "symbol": "triangle-up"
         },
         "mode": "markers",
         "name": "IT Liquid Cooling: Dry Cooler & Adiabitic Assist (Air-Cooled Chiller)",
         "showlegend": true,
         "type": "scatter",
         "x": [
          null
         ],
         "y": [
          null
         ]
        },
        {
         "hoverinfo": "skip",
         "legendgroup": "cooling_IT Liquid Cooling: Dry Cooler (Air-Cooled Chiller)",
         "marker": {
          "color": "rgba(0,0,0,0.7)",
          "line": {
           "color": "white",
           "width": 1
          },
          "size": 8,
          "symbol": "star"
         },
         "mode": "markers",
         "name": "IT Liquid Cooling: Dry Cooler (Air-Cooled Chiller)",
         "showlegend": true,
         "type": "scatter",
         "x": [
          null
         ],
         "y": [
          null
         ]
        }
       ],
       "layout": {
        "height": 600,
        "legend": {
         "bgcolor": "rgba(255,255,255,0.8)",
         "bordercolor": "black",
         "borderwidth": 1,
         "font": {
          "size": 10
         },
         "itemsizing": "constant",
         "orientation": "v",
         "tracegroupgap": 0,
         "x": 1.02,
         "xanchor": "left",
         "y": 1,
         "yanchor": "top"
        },
        "margin": {
         "r": 300
        },
        "template": {
         "data": {
          "bar": [
           {
            "error_x": {
             "color": "#2a3f5f"
            },
            "error_y": {
             "color": "#2a3f5f"
            },
            "marker": {
             "line": {
              "color": "#E5ECF6",
              "width": 0.5
             },
             "pattern": {
              "fillmode": "overlay",
              "size": 10,
              "solidity": 0.2
             }
            },
            "type": "bar"
           }
          ],
          "barpolar": [
           {
            "marker": {
             "line": {
              "color": "#E5ECF6",
              "width": 0.5
             },
             "pattern": {
              "fillmode": "overlay",
              "size": 10,
              "solidity": 0.2
             }
            },
            "type": "barpolar"
           }
          ],
          "carpet": [
           {
            "aaxis": {
             "endlinecolor": "#2a3f5f",
             "gridcolor": "white",
             "linecolor": "white",
             "minorgridcolor": "white",
             "startlinecolor": "#2a3f5f"
            },
            "baxis": {
             "endlinecolor": "#2a3f5f",
             "gridcolor": "white",
             "linecolor": "white",
             "minorgridcolor": "white",
             "startlinecolor": "#2a3f5f"
            },
            "type": "carpet"
           }
          ],
          "choropleth": [
           {
            "colorbar": {
             "outlinewidth": 0,
             "ticks": ""
            },
            "type": "choropleth"
           }
          ],
          "contour": [
           {
            "colorbar": {
             "outlinewidth": 0,
             "ticks": ""
            },
            "colorscale": [
             [
              0,
              "#0d0887"
             ],
             [
              0.1111111111111111,
              "#46039f"
             ],
             [
              0.2222222222222222,
              "#7201a8"
             ],
             [
              0.3333333333333333,
              "#9c179e"
             ],
             [
              0.4444444444444444,
              "#bd3786"
             ],
             [
              0.5555555555555556,
              "#d8576b"
             ],
             [
              0.6666666666666666,
              "#ed7953"
             ],
             [
              0.7777777777777778,
              "#fb9f3a"
             ],
             [
              0.8888888888888888,
              "#fdca26"
             ],
             [
              1,
              "#f0f921"
             ]
            ],
            "type": "contour"
           }
          ],
          "contourcarpet": [
           {
            "colorbar": {
             "outlinewidth": 0,
             "ticks": ""
            },
            "type": "contourcarpet"
           }
          ],
          "heatmap": [
           {
            "colorbar": {
             "outlinewidth": 0,
             "ticks": ""
            },
            "colorscale": [
             [
              0,
              "#0d0887"
             ],
             [
              0.1111111111111111,
              "#46039f"
             ],
             [
              0.2222222222222222,
              "#7201a8"
             ],
             [
              0.3333333333333333,
              "#9c179e"
             ],
             [
              0.4444444444444444,
              "#bd3786"
             ],
             [
              0.5555555555555556,
              "#d8576b"
             ],
             [
              0.6666666666666666,
              "#ed7953"
             ],
             [
              0.7777777777777778,
              "#fb9f3a"
             ],
             [
              0.8888888888888888,
              "#fdca26"
             ],
             [
              1,
              "#f0f921"
             ]
            ],
            "type": "heatmap"
           }
          ],
          "histogram": [
           {
            "marker": {
             "pattern": {
              "fillmode": "overlay",
              "size": 10,
              "solidity": 0.2
             }
            },
            "type": "histogram"
           }
          ],
          "histogram2d": [
           {
            "colorbar": {
             "outlinewidth": 0,
             "ticks": ""
            },
            "colorscale": [
             [
              0,
              "#0d0887"
             ],
             [
              0.1111111111111111,
              "#46039f"
             ],
             [
              0.2222222222222222,
              "#7201a8"
             ],
             [
              0.3333333333333333,
              "#9c179e"
             ],
             [
              0.4444444444444444,
              "#bd3786"
             ],
             [
              0.5555555555555556,
              "#d8576b"
             ],
             [
              0.6666666666666666,
              "#ed7953"
             ],
             [
              0.7777777777777778,
              "#fb9f3a"
             ],
             [
              0.8888888888888888,
              "#fdca26"
             ],
             [
              1,
              "#f0f921"
             ]
            ],
            "type": "histogram2d"
           }
          ],
          "histogram2dcontour": [
           {
            "colorbar": {
             "outlinewidth": 0,
             "ticks": ""
            },
            "colorscale": [
             [
              0,
              "#0d0887"
             ],
             [
              0.1111111111111111,
              "#46039f"
             ],
             [
              0.2222222222222222,
              "#7201a8"
             ],
             [
              0.3333333333333333,
              "#9c179e"
             ],
             [
              0.4444444444444444,
              "#bd3786"
             ],
             [
              0.5555555555555556,
              "#d8576b"
             ],
             [
              0.6666666666666666,
              "#ed7953"
             ],
             [
              0.7777777777777778,
              "#fb9f3a"
             ],
             [
              0.8888888888888888,
              "#fdca26"
             ],
             [
              1,
              "#f0f921"
             ]
            ],
            "type": "histogram2dcontour"
           }
          ],
          "mesh3d": [
           {
            "colorbar": {
             "outlinewidth": 0,
             "ticks": ""
            },
            "type": "mesh3d"
           }
          ],
          "parcoords": [
           {
            "line": {
             "colorbar": {
              "outlinewidth": 0,
              "ticks": ""
             }
            },
            "type": "parcoords"
           }
          ],
          "pie": [
           {
            "automargin": true,
            "type": "pie"
           }
          ],
          "scatter": [
           {
            "fillpattern": {
             "fillmode": "overlay",
             "size": 10,
             "solidity": 0.2
            },
            "type": "scatter"
           }
          ],
          "scatter3d": [
           {
            "line": {
             "colorbar": {
              "outlinewidth": 0,
              "ticks": ""
             }
            },
            "marker": {
             "colorbar": {
              "outlinewidth": 0,
              "ticks": ""
             }
            },
            "type": "scatter3d"
           }
          ],
          "scattercarpet": [
           {
            "marker": {
             "colorbar": {
              "outlinewidth": 0,
              "ticks": ""
             }
            },
            "type": "scattercarpet"
           }
          ],
          "scattergeo": [
           {
            "marker": {
             "colorbar": {
              "outlinewidth": 0,
              "ticks": ""
             }
            },
            "type": "scattergeo"
           }
          ],
          "scattergl": [
           {
            "marker": {
             "colorbar": {
              "outlinewidth": 0,
              "ticks": ""
             }
            },
            "type": "scattergl"
           }
          ],
          "scattermap": [
           {
            "marker": {
             "colorbar": {
              "outlinewidth": 0,
              "ticks": ""
             }
            },
            "type": "scattermap"
           }
          ],
          "scattermapbox": [
           {
            "marker": {
             "colorbar": {
              "outlinewidth": 0,
              "ticks": ""
             }
            },
            "type": "scattermapbox"
           }
          ],
          "scatterpolar": [
           {
            "marker": {
             "colorbar": {
              "outlinewidth": 0,
              "ticks": ""
             }
            },
            "type": "scatterpolar"
           }
          ],
          "scatterpolargl": [
           {
            "marker": {
             "colorbar": {
              "outlinewidth": 0,
              "ticks": ""
             }
            },
            "type": "scatterpolargl"
           }
          ],
          "scatterternary": [
           {
            "marker": {
             "colorbar": {
              "outlinewidth": 0,
              "ticks": ""
             }
            },
            "type": "scatterternary"
           }
          ],
          "surface": [
           {
            "colorbar": {
             "outlinewidth": 0,
             "ticks": ""
            },
            "colorscale": [
             [
              0,
              "#0d0887"
             ],
             [
              0.1111111111111111,
              "#46039f"
             ],
             [
              0.2222222222222222,
              "#7201a8"
             ],
             [
              0.3333333333333333,
              "#9c179e"
             ],
             [
              0.4444444444444444,
              "#bd3786"
             ],
             [
              0.5555555555555556,
              "#d8576b"
             ],
             [
              0.6666666666666666,
              "#ed7953"
             ],
             [
              0.7777777777777778,
              "#fb9f3a"
             ],
             [
              0.8888888888888888,
              "#fdca26"
             ],
             [
              1,
              "#f0f921"
             ]
            ],
            "type": "surface"
           }
          ],
          "table": [
           {
            "cells": {
             "fill": {
              "color": "#EBF0F8"
             },
             "line": {
              "color": "white"
             }
            },
            "header": {
             "fill": {
              "color": "#C8D4E3"
             },
             "line": {
              "color": "white"
             }
            },
            "type": "table"
           }
          ]
         },
         "layout": {
          "annotationdefaults": {
           "arrowcolor": "#2a3f5f",
           "arrowhead": 0,
           "arrowwidth": 1
          },
          "autotypenumbers": "strict",
          "coloraxis": {
           "colorbar": {
            "outlinewidth": 0,
            "ticks": ""
           }
          },
          "colorscale": {
           "diverging": [
            [
             0,
             "#8e0152"
            ],
            [
             0.1,
             "#c51b7d"
            ],
            [
             0.2,
             "#de77ae"
            ],
            [
             0.3,
             "#f1b6da"
            ],
            [
             0.4,
             "#fde0ef"
            ],
            [
             0.5,
             "#f7f7f7"
            ],
            [
             0.6,
             "#e6f5d0"
            ],
            [
             0.7,
             "#b8e186"
            ],
            [
             0.8,
             "#7fbc41"
            ],
            [
             0.9,
             "#4d9221"
            ],
            [
             1,
             "#276419"
            ]
           ],
           "sequential": [
            [
             0,
             "#0d0887"
            ],
            [
             0.1111111111111111,
             "#46039f"
            ],
            [
             0.2222222222222222,
             "#7201a8"
            ],
            [
             0.3333333333333333,
             "#9c179e"
            ],
            [
             0.4444444444444444,
             "#bd3786"
            ],
            [
             0.5555555555555556,
             "#d8576b"
            ],
            [
             0.6666666666666666,
             "#ed7953"
            ],
            [
             0.7777777777777778,
             "#fb9f3a"
            ],
            [
             0.8888888888888888,
             "#fdca26"
            ],
            [
             1,
             "#f0f921"
            ]
           ],
           "sequentialminus": [
            [
             0,
             "#0d0887"
            ],
            [
             0.1111111111111111,
             "#46039f"
            ],
            [
             0.2222222222222222,
             "#7201a8"
            ],
            [
             0.3333333333333333,
             "#9c179e"
            ],
            [
             0.4444444444444444,
             "#bd3786"
            ],
            [
             0.5555555555555556,
             "#d8576b"
            ],
            [
             0.6666666666666666,
             "#ed7953"
            ],
            [
             0.7777777777777778,
             "#fb9f3a"
            ],
            [
             0.8888888888888888,
             "#fdca26"
            ],
            [
             1,
             "#f0f921"
            ]
           ]
          },
          "colorway": [
           "#636efa",
           "#EF553B",
           "#00cc96",
           "#ab63fa",
           "#FFA15A",
           "#19d3f3",
           "#FF6692",
           "#B6E880",
           "#FF97FF",
           "#FECB52"
          ],
          "font": {
           "color": "#2a3f5f"
          },
          "geo": {
           "bgcolor": "white",
           "lakecolor": "white",
           "landcolor": "#E5ECF6",
           "showlakes": true,
           "showland": true,
           "subunitcolor": "white"
          },
          "hoverlabel": {
           "align": "left"
          },
          "hovermode": "closest",
          "mapbox": {
           "style": "light"
          },
          "paper_bgcolor": "white",
          "plot_bgcolor": "#E5ECF6",
          "polar": {
           "angularaxis": {
            "gridcolor": "white",
            "linecolor": "white",
            "ticks": ""
           },
           "bgcolor": "#E5ECF6",
           "radialaxis": {
            "gridcolor": "white",
            "linecolor": "white",
            "ticks": ""
           }
          },
          "scene": {
           "xaxis": {
            "backgroundcolor": "#E5ECF6",
            "gridcolor": "white",
            "gridwidth": 2,
            "linecolor": "white",
            "showbackground": true,
            "ticks": "",
            "zerolinecolor": "white"
           },
           "yaxis": {
            "backgroundcolor": "#E5ECF6",
            "gridcolor": "white",
            "gridwidth": 2,
            "linecolor": "white",
            "showbackground": true,
            "ticks": "",
            "zerolinecolor": "white"
           },
           "zaxis": {
            "backgroundcolor": "#E5ECF6",
            "gridcolor": "white",
            "gridwidth": 2,
            "linecolor": "white",
            "showbackground": true,
            "ticks": "",
            "zerolinecolor": "white"
           }
          },
          "shapedefaults": {
           "line": {
            "color": "#2a3f5f"
           }
          },
          "ternary": {
           "aaxis": {
            "gridcolor": "white",
            "linecolor": "white",
            "ticks": ""
           },
           "baxis": {
            "gridcolor": "white",
            "linecolor": "white",
            "ticks": ""
           },
           "bgcolor": "#E5ECF6",
           "caxis": {
            "gridcolor": "white",
            "linecolor": "white",
            "ticks": ""
           }
          },
          "title": {
           "x": 0.05
          },
          "xaxis": {
           "automargin": true,
           "gridcolor": "white",
           "linecolor": "white",
           "ticks": "",
           "title": {
            "standoff": 15
           },
           "zerolinecolor": "white",
           "zerolinewidth": 2
          },
          "yaxis": {
           "automargin": true,
           "gridcolor": "white",
           "linecolor": "white",
           "ticks": "",
           "title": {
            "standoff": 15
           },
           "zerolinecolor": "white",
           "zerolinewidth": 2
          }
         }
        },
        "title": {
         "text": "Total Carbon Impact (kg CO2) Per FLOP vs FLOP by Energy Source, Cooling System and Model"
        },
        "width": 1000,
        "xaxis": {
         "gridcolor": "lightgray",
         "gridwidth": 1,
         "linecolor": "black",
         "linewidth": 1,
         "mirror": true,
         "showgrid": true,
         "showline": true,
         "title": {
          "text": "Training Compute (FLOP) [log scale]"
         },
         "type": "log"
        },
        "yaxis": {
         "gridcolor": "lightgray",
         "gridwidth": 1,
         "linecolor": "black",
         "linewidth": 1,
         "mirror": true,
         "showgrid": true,
         "showline": true,
         "title": {
          "text": "Total Carbon Impact Per FLOP (Hydro, Nuclear, CSP) (kg CO2) [log scale]"
         },
         "type": "log"
        }
       }
      }
     },
     "metadata": {},
     "output_type": "display_data"
    }
   ],
   "source": [
    "fig = create_multi_scatter_plot(\n",
    "    data=combined_notable,\n",
    "    y_column=['Total Carbon Impact (kg CO2) Per FLOP - US Grid', 'Total Carbon Impact (kg CO2) Per FLOP - Hydropower', 'Total Carbon Impact (kg CO2) Per FLOP - CSP', 'Total Carbon Impact (kg CO2) Per FLOP - Nuclear'],\n",
    "    y_label=['US Grid', 'Hydropower', 'Nuclear', 'CSP'],\n",
    "    y_units='kg CO2',\n",
    "    y_title='Total Carbon Impact Per FLOP (Hydro, Nuclear, CSP)',\n",
    "    plot_title='Total Carbon Impact (kg CO2) Per FLOP vs FLOP by Energy Source, Cooling System and Model'\n",
    ")\n",
    "fig.show()"
   ]
  },
  {
   "cell_type": "code",
   "execution_count": null,
   "id": "b0575a53",
   "metadata": {},
   "outputs": [],
   "source": []
  }
 ],
 "metadata": {
  "kernelspec": {
   "display_name": ".venv",
   "language": "python",
   "name": "python3"
  },
  "language_info": {
   "codemirror_mode": {
    "name": "ipython",
    "version": 3
   },
   "file_extension": ".py",
   "mimetype": "text/x-python",
   "name": "python",
   "nbconvert_exporter": "python",
   "pygments_lexer": "ipython3",
   "version": "3.13.0"
  }
 },
 "nbformat": 4,
 "nbformat_minor": 5
}
